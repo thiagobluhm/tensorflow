{
 "cells": [
  {
   "cell_type": "markdown",
   "id": "99c02b79",
   "metadata": {},
   "source": [
    "# Kaggle Dataset - heart disease"
   ]
  },
  {
   "cell_type": "markdown",
   "id": "056b1a48",
   "metadata": {},
   "source": [
    "## Introdução "
   ]
  },
  {
   "cell_type": "markdown",
   "id": "f6ce911e",
   "metadata": {},
   "source": [
    "O dataset vem com variáveis que poderiam explicar se uma pessoa terá ou não doenças cardiacas."
   ]
  },
  {
   "cell_type": "markdown",
   "id": "984ea058",
   "metadata": {},
   "source": [
    "# Importação de pacotes e carga de dados"
   ]
  },
  {
   "cell_type": "markdown",
   "id": "cd8fe465",
   "metadata": {},
   "source": [
    "### Pacotes "
   ]
  },
  {
   "cell_type": "code",
   "execution_count": 6,
   "id": "2d37bb89",
   "metadata": {
    "ExecuteTime": {
     "end_time": "2022-06-03T20:30:06.989407Z",
     "start_time": "2022-06-03T20:30:06.984411Z"
    }
   },
   "outputs": [],
   "source": [
    "import numpy as np\n",
    "import pandas as pd\n",
    "import matplotlib.pyplot as plt\n",
    "import tensorflow as tf\n",
    "from tensorflow import keras\n",
    "from sklearn.model_selection import train_test_split, ShuffleSplit\n",
    "from sklearn.preprocessing import StandardScaler\n",
    "from sklearn.metrics import precision_recall_curve\n",
    "from sklearn.metrics import precision_score, recall_score,roc_auc_score, roc_curve\n",
    "from sklearn.metrics import accuracy_score\n",
    "from numpy import mean\n",
    "from sklearn.utils.class_weight import compute_class_weight\n",
    "from sklearn.metrics import classification_report, confusion_matrix\n",
    "import sys\n",
    "import os\n",
    "os.chdir(r'C:\\Users\\Thiago Bluhm\\OneDrive - Grupo Portfolio\\Documentos\\ESTUDO\\DEEP LEARNING e REDES NEURAIS\\tensorflow\\dados')\n",
    "pd.set_option('display.max_columns', 100)\n",
    "pd.set_option('display.max_rows', 200)\n",
    "\n",
    "import warnings\n",
    "warnings.filterwarnings('ignore')"
   ]
  },
  {
   "cell_type": "code",
   "execution_count": 7,
   "id": "039dc8c9",
   "metadata": {
    "ExecuteTime": {
     "end_time": "2022-06-03T20:30:08.672142Z",
     "start_time": "2022-06-03T20:30:08.661140Z"
    },
    "scrolled": true
   },
   "outputs": [
    {
     "name": "stdout",
     "output_type": "stream",
     "text": [
      "['/device:CPU:0', '/device:GPU:0']\n"
     ]
    }
   ],
   "source": [
    "from tensorflow.python.client import device_lib\n",
    "\n",
    "def get_available_devices():\n",
    "    local_device_protos = device_lib.list_local_devices()\n",
    "    return [x.name for x in local_device_protos]\n",
    "\n",
    "print(get_available_devices())"
   ]
  },
  {
   "cell_type": "markdown",
   "id": "47d7c4c3",
   "metadata": {},
   "source": [
    "### Descarregando a base "
   ]
  },
  {
   "cell_type": "code",
   "execution_count": 9,
   "id": "a2a36a81",
   "metadata": {
    "ExecuteTime": {
     "end_time": "2022-06-03T20:30:12.667558Z",
     "start_time": "2022-06-03T20:30:12.248460Z"
    }
   },
   "outputs": [],
   "source": [
    "df = pd.read_csv(\"heart_2020_cleaned.csv\", sep=\",\")"
   ]
  },
  {
   "cell_type": "code",
   "execution_count": 10,
   "id": "d8e0d447",
   "metadata": {
    "ExecuteTime": {
     "end_time": "2022-06-03T20:30:12.714559Z",
     "start_time": "2022-06-03T20:30:12.685552Z"
    }
   },
   "outputs": [
    {
     "data": {
      "text/html": [
       "<div>\n",
       "<style scoped>\n",
       "    .dataframe tbody tr th:only-of-type {\n",
       "        vertical-align: middle;\n",
       "    }\n",
       "\n",
       "    .dataframe tbody tr th {\n",
       "        vertical-align: top;\n",
       "    }\n",
       "\n",
       "    .dataframe thead th {\n",
       "        text-align: right;\n",
       "    }\n",
       "</style>\n",
       "<table border=\"1\" class=\"dataframe\">\n",
       "  <thead>\n",
       "    <tr style=\"text-align: right;\">\n",
       "      <th></th>\n",
       "      <th>HeartDisease</th>\n",
       "      <th>BMI</th>\n",
       "      <th>Smoking</th>\n",
       "      <th>AlcoholDrinking</th>\n",
       "      <th>Stroke</th>\n",
       "      <th>PhysicalHealth</th>\n",
       "      <th>MentalHealth</th>\n",
       "      <th>DiffWalking</th>\n",
       "      <th>Sex</th>\n",
       "      <th>AgeCategory</th>\n",
       "      <th>Race</th>\n",
       "      <th>Diabetic</th>\n",
       "      <th>PhysicalActivity</th>\n",
       "      <th>GenHealth</th>\n",
       "      <th>SleepTime</th>\n",
       "      <th>Asthma</th>\n",
       "      <th>KidneyDisease</th>\n",
       "      <th>SkinCancer</th>\n",
       "    </tr>\n",
       "  </thead>\n",
       "  <tbody>\n",
       "    <tr>\n",
       "      <th>0</th>\n",
       "      <td>No</td>\n",
       "      <td>16.60</td>\n",
       "      <td>Yes</td>\n",
       "      <td>No</td>\n",
       "      <td>No</td>\n",
       "      <td>3.0</td>\n",
       "      <td>30.0</td>\n",
       "      <td>No</td>\n",
       "      <td>Female</td>\n",
       "      <td>55-59</td>\n",
       "      <td>White</td>\n",
       "      <td>Yes</td>\n",
       "      <td>Yes</td>\n",
       "      <td>Very good</td>\n",
       "      <td>5.0</td>\n",
       "      <td>Yes</td>\n",
       "      <td>No</td>\n",
       "      <td>Yes</td>\n",
       "    </tr>\n",
       "    <tr>\n",
       "      <th>1</th>\n",
       "      <td>No</td>\n",
       "      <td>20.34</td>\n",
       "      <td>No</td>\n",
       "      <td>No</td>\n",
       "      <td>Yes</td>\n",
       "      <td>0.0</td>\n",
       "      <td>0.0</td>\n",
       "      <td>No</td>\n",
       "      <td>Female</td>\n",
       "      <td>80 or older</td>\n",
       "      <td>White</td>\n",
       "      <td>No</td>\n",
       "      <td>Yes</td>\n",
       "      <td>Very good</td>\n",
       "      <td>7.0</td>\n",
       "      <td>No</td>\n",
       "      <td>No</td>\n",
       "      <td>No</td>\n",
       "    </tr>\n",
       "    <tr>\n",
       "      <th>2</th>\n",
       "      <td>No</td>\n",
       "      <td>26.58</td>\n",
       "      <td>Yes</td>\n",
       "      <td>No</td>\n",
       "      <td>No</td>\n",
       "      <td>20.0</td>\n",
       "      <td>30.0</td>\n",
       "      <td>No</td>\n",
       "      <td>Male</td>\n",
       "      <td>65-69</td>\n",
       "      <td>White</td>\n",
       "      <td>Yes</td>\n",
       "      <td>Yes</td>\n",
       "      <td>Fair</td>\n",
       "      <td>8.0</td>\n",
       "      <td>Yes</td>\n",
       "      <td>No</td>\n",
       "      <td>No</td>\n",
       "    </tr>\n",
       "  </tbody>\n",
       "</table>\n",
       "</div>"
      ],
      "text/plain": [
       "  HeartDisease    BMI Smoking AlcoholDrinking Stroke  PhysicalHealth  \\\n",
       "0           No  16.60     Yes              No     No             3.0   \n",
       "1           No  20.34      No              No    Yes             0.0   \n",
       "2           No  26.58     Yes              No     No            20.0   \n",
       "\n",
       "   MentalHealth DiffWalking     Sex  AgeCategory   Race Diabetic  \\\n",
       "0          30.0          No  Female        55-59  White      Yes   \n",
       "1           0.0          No  Female  80 or older  White       No   \n",
       "2          30.0          No    Male        65-69  White      Yes   \n",
       "\n",
       "  PhysicalActivity  GenHealth  SleepTime Asthma KidneyDisease SkinCancer  \n",
       "0              Yes  Very good        5.0    Yes            No        Yes  \n",
       "1              Yes  Very good        7.0     No            No         No  \n",
       "2              Yes       Fair        8.0    Yes            No         No  "
      ]
     },
     "execution_count": 10,
     "metadata": {},
     "output_type": "execute_result"
    }
   ],
   "source": [
    "df[:3]"
   ]
  },
  {
   "cell_type": "markdown",
   "id": "40c5fc0c",
   "metadata": {},
   "source": [
    "Vamos pegar apenas a raça negra e verificar os dados"
   ]
  },
  {
   "cell_type": "code",
   "execution_count": 11,
   "id": "5048f929",
   "metadata": {
    "ExecuteTime": {
     "end_time": "2022-06-03T20:30:13.846844Z",
     "start_time": "2022-06-03T20:30:13.825839Z"
    }
   },
   "outputs": [],
   "source": [
    "def plot_est_random(x, y, z, var1, indice):\n",
    "    fig = plt.figure(figsize=(20,5))\n",
    "\n",
    "    ax1 = fig.add_subplot(1,3,1)\n",
    "    ax2 = fig.add_subplot(1,3,2)\n",
    "    ax3 = fig.add_subplot(1,3,3)\n",
    "\n",
    "    ax1.hist(x[var1[indice]], bins=25, color='#3434F6')\n",
    "    ax2.hist(y[var1[indice]], bins=25, color='#B680DA')\n",
    "    ax3.hist(z[var1[indice]], bins=25, color='#F04D5C')\n",
    "\n",
    "    plt.subplots_adjust(wspace=0.2, hspace=0.2)\n",
    "    plt.show()\n",
    "    \n",
    "def calculos_est(x,y,z, var1, indice):\n",
    "    med  = np.mean(x[var1[indice]])\n",
    "    med1 = np.mean(y[var1[indice]])\n",
    "    med2 = np.mean(z[var1[indice]])\n",
    "    \n",
    "    mediana  = np.median(x[var1[indice]])\n",
    "    mediana1 = np.median(y[var1[indice]])\n",
    "    mediana2 = np.median(z[var1[indice]])\n",
    "\n",
    "    sd  = np.std(x[var1[indice]])\n",
    "    sd1 = np.std(y[var1[indice]])\n",
    "    sd2 = np.std(z[var1[indice]])\n",
    "\n",
    "    print(f'Desvio original {sd}, desvio para amostra 1 = {sd1}, desvio para amostra 2 = {sd2}\\n')\n",
    "    print(f'Media original: {med}, media 1: {med1}, media 2: {med2}\\n')\n",
    "    print(f'Mediana original: {mediana}, mediana 1: {mediana1}, mediana 2: {mediana2}\\n')\n",
    "    print(f'Amostra original: {len(x[var1[indice]])} | Amostra 1: {len(y[var1[indice]])} | Amostra 2: {len(z[var1[indice]])}')"
   ]
  },
  {
   "cell_type": "code",
   "execution_count": 12,
   "id": "af03272d",
   "metadata": {
    "ExecuteTime": {
     "end_time": "2022-06-03T20:30:14.365992Z",
     "start_time": "2022-06-03T20:30:14.293976Z"
    }
   },
   "outputs": [],
   "source": [
    "var1 = ['BMI','PhysicalHealth', 'MentalHealth','SleepTime']\n",
    "var2 = ['White', 'Black']\n",
    "a = 0\n",
    "aa = 0\n",
    "\n",
    "df_tt = df[(df['Race'] == var2[a]) & (df['HeartDisease'] == 'Yes')]\n",
    "\n",
    "qtd1 = int(len(df_tt) * 0.025)\n",
    "\n",
    "df_1 = df_tt[df_tt['Race'] == var2[a]].sample(qtd1)\n",
    "df_2 = df_tt[df_tt['Race'] == var2[a]].sample(qtd1*5)"
   ]
  },
  {
   "cell_type": "markdown",
   "id": "f7d31a95",
   "metadata": {},
   "source": [
    "#### Extratifica sem reposicao"
   ]
  },
  {
   "cell_type": "code",
   "execution_count": 13,
   "id": "17c23bb8",
   "metadata": {
    "ExecuteTime": {
     "end_time": "2022-06-03T20:30:15.470210Z",
     "start_time": "2022-06-03T20:30:15.456211Z"
    }
   },
   "outputs": [],
   "source": [
    "qtd2 = int(len(df_2) * 0.05)\n",
    "df_12 = df_2[df_2['Race'] == var2[a]].sample(qtd2)\n",
    "df_22 = df_2[df_2['Race'] == var2[a]].sample(qtd2*5)"
   ]
  },
  {
   "cell_type": "code",
   "execution_count": 14,
   "id": "c8a23e25",
   "metadata": {
    "ExecuteTime": {
     "end_time": "2022-06-03T20:30:16.546451Z",
     "start_time": "2022-06-03T20:30:16.530449Z"
    }
   },
   "outputs": [
    {
     "name": "stdout",
     "output_type": "stream",
     "text": [
      "Desvio original 6.371647180936933, desvio para amostra 1 = 6.5207712458814235, desvio para amostra 2 = 6.253853598041511\n",
      "\n",
      "Media original: 29.20698404940685, media 1: 29.290604982206403, media 2: 29.133434163701068\n",
      "\n",
      "Mediana original: 28.25, mediana 1: 28.48, mediana 2: 28.34\n",
      "\n",
      "Amostra original: 22507 | Amostra 1: 562 | Amostra 2: 2810\n"
     ]
    }
   ],
   "source": [
    "calculos_est(df_tt,df_1, df_2, var1, aa)"
   ]
  },
  {
   "cell_type": "code",
   "execution_count": 15,
   "id": "2cf4ac23",
   "metadata": {
    "ExecuteTime": {
     "end_time": "2022-06-03T20:30:18.150830Z",
     "start_time": "2022-06-03T20:30:17.778727Z"
    }
   },
   "outputs": [
    {
     "data": {
      "image/png": "[encoded data removed]",
      "text/plain": [
       "<Figure size 1440x360 with 3 Axes>"
      ]
     },
     "metadata": {
      "needs_background": "light"
     },
     "output_type": "display_data"
    }
   ],
   "source": [
    "plot_est_random(df_tt,df_1, df_2, var1, aa)"
   ]
  },
  {
   "cell_type": "code",
   "execution_count": 16,
   "id": "8cd194cc",
   "metadata": {
    "ExecuteTime": {
     "end_time": "2022-06-03T20:30:18.262441Z",
     "start_time": "2022-06-03T20:30:18.248432Z"
    }
   },
   "outputs": [
    {
     "name": "stdout",
     "output_type": "stream",
     "text": [
      "Desvio original 6.253853598041511, desvio para amostra 1 = 6.699432371629765, desvio para amostra 2 = 6.039096633958237\n",
      "\n",
      "Media original: 29.133434163701068, media 1: 30.219571428571427, media 2: 29.043400000000002\n",
      "\n",
      "Mediana original: 28.34, mediana 1: 29.855, mediana 2: 28.240000000000002\n",
      "\n",
      "Amostra original: 2810 | Amostra 1: 140 | Amostra 2: 700\n"
     ]
    }
   ],
   "source": [
    "calculos_est(df_2,df_12, df_22, var1, aa)"
   ]
  },
  {
   "cell_type": "code",
   "execution_count": 17,
   "id": "28e823f7",
   "metadata": {
    "ExecuteTime": {
     "end_time": "2022-06-03T20:30:19.361481Z",
     "start_time": "2022-06-03T20:30:19.050421Z"
    }
   },
   "outputs": [
    {
     "data": {
      "image/png": "[encoded data removed]",
      "text/plain": [
       "<Figure size 1440x360 with 3 Axes>"
      ]
     },
     "metadata": {
      "needs_background": "light"
     },
     "output_type": "display_data"
    }
   ],
   "source": [
    "plot_est_random(df_2,df_12, df_22, var1, aa)"
   ]
  },
  {
   "cell_type": "markdown",
   "id": "a6ae696d",
   "metadata": {},
   "source": [
    "#### Modificações nas colunas "
   ]
  },
  {
   "cell_type": "code",
   "execution_count": 18,
   "id": "d92b9ea5",
   "metadata": {
    "ExecuteTime": {
     "end_time": "2022-06-03T20:30:20.573523Z",
     "start_time": "2022-06-03T20:30:20.242409Z"
    }
   },
   "outputs": [],
   "source": [
    "df.GenHealth = [x if x != 'Very good' else 'VeryGood' for x in df.GenHealth]\n",
    "df.AgeCategory = [x if x != '80 or older' else 'gt80' for x in df.AgeCategory]\n",
    "df.HeartDisease = [1 if x != 'No' else 0 for x in df.HeartDisease]\n",
    "df.Diabetic = [x if x != 'Yes (during pregnancy)' else 'ydp' for x in df.Diabetic]"
   ]
  },
  {
   "cell_type": "markdown",
   "id": "c7dbeec5",
   "metadata": {},
   "source": [
    "#### Recarregando o Dataset original"
   ]
  },
  {
   "cell_type": "code",
   "execution_count": 20,
   "id": "79f26082",
   "metadata": {
    "ExecuteTime": {
     "end_time": "2022-06-03T20:30:25.754323Z",
     "start_time": "2022-06-03T20:30:25.743309Z"
    }
   },
   "outputs": [],
   "source": [
    "df_dc = df[(df['BMI'] > 35) & (df['SleepTime'] < 5)] #hipotese obesos e com pouco sono"
   ]
  },
  {
   "cell_type": "code",
   "execution_count": 137,
   "id": "5bda383e",
   "metadata": {
    "ExecuteTime": {
     "end_time": "2022-06-03T18:02:13.778079Z",
     "start_time": "2022-06-03T18:02:13.762093Z"
    }
   },
   "outputs": [
    {
     "name": "stdout",
     "output_type": "stream",
     "text": [
      "Taxa de pessoas com doenças cardiacas: 27.0%\n"
     ]
    }
   ],
   "source": [
    "x = df_dc['HeartDisease'].value_counts()\n",
    "print(f'Taxa de pessoas com doenças cardiacas: {round(x[1]/x[0], 2) * 100}%')"
   ]
  },
  {
   "cell_type": "code",
   "execution_count": 98,
   "id": "ed719033",
   "metadata": {
    "ExecuteTime": {
     "end_time": "2022-06-03T17:49:10.076400Z",
     "start_time": "2022-06-03T17:49:09.999383Z"
    }
   },
   "outputs": [
    {
     "data": {
      "text/html": [
       "<style type=\"text/css\">\n",
       "#T_fa22d_row0_col0 {\n",
       "  width: 10em;\n",
       "  background: linear-gradient(90deg, #AABB00 0.8%, transparent 0.8%);\n",
       "}\n",
       "#T_fa22d_row1_col0 {\n",
       "  width: 10em;\n",
       "  background: linear-gradient(90deg, #AABB00 1.9%, transparent 1.9%);\n",
       "}\n",
       "#T_fa22d_row2_col0, #T_fa22d_row6_col0, #T_fa22d_row10_col0, #T_fa22d_row14_col0 {\n",
       "  width: 10em;\n",
       "  background: linear-gradient(90deg, #AABB00 0.0%, transparent 0.0%);\n",
       "}\n",
       "#T_fa22d_row3_col0, #T_fa22d_row7_col0, #T_fa22d_row11_col0, #T_fa22d_row15_col0, #T_fa22d_row22_col0, #T_fa22d_row26_col0, #T_fa22d_row34_col0, #T_fa22d_row38_col0 {\n",
       "  width: 10em;\n",
       "  background: linear-gradient(90deg, #AABB00 0.1%, transparent 0.1%);\n",
       "}\n",
       "#T_fa22d_row4_col0, #T_fa22d_row31_col0 {\n",
       "  width: 10em;\n",
       "  background: linear-gradient(90deg, #AABB00 0.6%, transparent 0.6%);\n",
       "}\n",
       "#T_fa22d_row5_col0, #T_fa22d_row46_col0 {\n",
       "  width: 10em;\n",
       "  background: linear-gradient(90deg, #AABB00 1.8%, transparent 1.8%);\n",
       "}\n",
       "#T_fa22d_row8_col0, #T_fa22d_row12_col0 {\n",
       "  width: 10em;\n",
       "  background: linear-gradient(90deg, #AABB00 0.7%, transparent 0.7%);\n",
       "}\n",
       "#T_fa22d_row9_col0 {\n",
       "  width: 10em;\n",
       "  background: linear-gradient(90deg, #AABB00 2.8%, transparent 2.8%);\n",
       "}\n",
       "#T_fa22d_row13_col0 {\n",
       "  width: 10em;\n",
       "  background: linear-gradient(90deg, #AABB00 3.6%, transparent 3.6%);\n",
       "}\n",
       "#T_fa22d_row16_col0 {\n",
       "  width: 10em;\n",
       "  background: linear-gradient(90deg, #AABB00 4.1%, transparent 4.1%);\n",
       "}\n",
       "#T_fa22d_row17_col0 {\n",
       "  width: 10em;\n",
       "  background: linear-gradient(90deg, #AABB00 9.3%, transparent 9.3%);\n",
       "}\n",
       "#T_fa22d_row18_col0, #T_fa22d_row30_col0 {\n",
       "  width: 10em;\n",
       "  background: linear-gradient(90deg, #AABB00 0.2%, transparent 0.2%);\n",
       "}\n",
       "#T_fa22d_row19_col0 {\n",
       "  width: 10em;\n",
       "  background: linear-gradient(90deg, #AABB00 0.4%, transparent 0.4%);\n",
       "}\n",
       "#T_fa22d_row20_col0 {\n",
       "  width: 10em;\n",
       "  background: linear-gradient(90deg, #AABB00 2.2%, transparent 2.2%);\n",
       "}\n",
       "#T_fa22d_row21_col0 {\n",
       "  width: 10em;\n",
       "  background: linear-gradient(90deg, #AABB00 7.1%, transparent 7.1%);\n",
       "}\n",
       "#T_fa22d_row23_col0, #T_fa22d_row35_col0, #T_fa22d_row39_col0 {\n",
       "  width: 10em;\n",
       "  background: linear-gradient(90deg, #AABB00 0.3%, transparent 0.3%);\n",
       "}\n",
       "#T_fa22d_row24_col0 {\n",
       "  width: 10em;\n",
       "  background: linear-gradient(90deg, #AABB00 4.7%, transparent 4.7%);\n",
       "}\n",
       "#T_fa22d_row25_col0 {\n",
       "  width: 10em;\n",
       "  background: linear-gradient(90deg, #AABB00 9.9%, transparent 9.9%);\n",
       "}\n",
       "#T_fa22d_row27_col0 {\n",
       "  width: 10em;\n",
       "  background: linear-gradient(90deg, #AABB00 0.5%, transparent 0.5%);\n",
       "}\n",
       "#T_fa22d_row28_col0 {\n",
       "  width: 10em;\n",
       "  background: linear-gradient(90deg, #AABB00 3.4%, transparent 3.4%);\n",
       "}\n",
       "#T_fa22d_row29_col0 {\n",
       "  width: 10em;\n",
       "  background: linear-gradient(90deg, #AABB00 9.5%, transparent 9.5%);\n",
       "}\n",
       "#T_fa22d_row32_col0 {\n",
       "  width: 10em;\n",
       "  background: linear-gradient(90deg, #AABB00 1.2%, transparent 1.2%);\n",
       "}\n",
       "#T_fa22d_row33_col0 {\n",
       "  width: 10em;\n",
       "  background: linear-gradient(90deg, #AABB00 3.9%, transparent 3.9%);\n",
       "}\n",
       "#T_fa22d_row36_col0 {\n",
       "  width: 10em;\n",
       "  background: linear-gradient(90deg, #AABB00 0.9%, transparent 0.9%);\n",
       "}\n",
       "#T_fa22d_row37_col0 {\n",
       "  width: 10em;\n",
       "  background: linear-gradient(90deg, #AABB00 4.2%, transparent 4.2%);\n",
       "}\n",
       "#T_fa22d_row40_col0 {\n",
       "  width: 10em;\n",
       "  background: linear-gradient(90deg, #AABB00 27.7%, transparent 27.7%);\n",
       "}\n",
       "#T_fa22d_row41_col0 {\n",
       "  width: 10em;\n",
       "  background: linear-gradient(90deg, #AABB00 98.3%, transparent 98.3%);\n",
       "}\n",
       "#T_fa22d_row42_col0 {\n",
       "  width: 10em;\n",
       "  background: linear-gradient(90deg, #AABB00 1.5%, transparent 1.5%);\n",
       "}\n",
       "#T_fa22d_row43_col0 {\n",
       "  width: 10em;\n",
       "  background: linear-gradient(90deg, #AABB00 8.4%, transparent 8.4%);\n",
       "}\n",
       "#T_fa22d_row44_col0 {\n",
       "  width: 10em;\n",
       "  background: linear-gradient(90deg, #AABB00 22.1%, transparent 22.1%);\n",
       "}\n",
       "#T_fa22d_row45_col0 {\n",
       "  width: 10em;\n",
       "  background: linear-gradient(90deg, #AABB00 100.0%, transparent 100.0%);\n",
       "}\n",
       "#T_fa22d_row47_col0 {\n",
       "  width: 10em;\n",
       "  background: linear-gradient(90deg, #AABB00 7.3%, transparent 7.3%);\n",
       "}\n",
       "</style>\n",
       "<table id=\"T_fa22d\">\n",
       "  <thead>\n",
       "    <tr>\n",
       "      <th class=\"blank\" >&nbsp;</th>\n",
       "      <th class=\"blank\" >&nbsp;</th>\n",
       "      <th class=\"blank\" >&nbsp;</th>\n",
       "      <th class=\"blank level0\" >&nbsp;</th>\n",
       "      <th id=\"T_fa22d_level0_col0\" class=\"col_heading level0 col0\" >HeartDisease</th>\n",
       "      <th id=\"T_fa22d_level0_col1\" class=\"col_heading level0 col1\" >BMI</th>\n",
       "      <th id=\"T_fa22d_level0_col2\" class=\"col_heading level0 col2\" >SleepTime</th>\n",
       "    </tr>\n",
       "    <tr>\n",
       "      <th class=\"index_name level0\" >Race</th>\n",
       "      <th class=\"index_name level1\" >Sex</th>\n",
       "      <th class=\"index_name level2\" >AlcoholDrinking</th>\n",
       "      <th class=\"index_name level3\" >PhysicalActivity</th>\n",
       "      <th class=\"blank col0\" >&nbsp;</th>\n",
       "      <th class=\"blank col1\" >&nbsp;</th>\n",
       "      <th class=\"blank col2\" >&nbsp;</th>\n",
       "    </tr>\n",
       "  </thead>\n",
       "  <tbody>\n",
       "    <tr>\n",
       "      <th id=\"T_fa22d_level0_row0\" class=\"row_heading level0 row0\" rowspan=\"8\">American Indian/Alaskan Native</th>\n",
       "      <th id=\"T_fa22d_level1_row0\" class=\"row_heading level1 row0\" rowspan=\"4\">Female</th>\n",
       "      <th id=\"T_fa22d_level2_row0\" class=\"row_heading level2 row0\" rowspan=\"2\">No</th>\n",
       "      <th id=\"T_fa22d_level3_row0\" class=\"row_heading level3 row0\" >No</th>\n",
       "      <td id=\"T_fa22d_row0_col0\" class=\"data row0 col0\" >639</td>\n",
       "      <td id=\"T_fa22d_row0_col1\" class=\"data row0 col1\" >31.457465</td>\n",
       "      <td id=\"T_fa22d_row0_col2\" class=\"data row0 col2\" >                7.59 h/dia</td>\n",
       "    </tr>\n",
       "    <tr>\n",
       "      <th id=\"T_fa22d_level3_row1\" class=\"row_heading level3 row1\" >Yes</th>\n",
       "      <td id=\"T_fa22d_row1_col0\" class=\"data row1 col0\" >1564</td>\n",
       "      <td id=\"T_fa22d_row1_col1\" class=\"data row1 col1\" >29.542730</td>\n",
       "      <td id=\"T_fa22d_row1_col2\" class=\"data row1 col2\" >                7.49 h/dia</td>\n",
       "    </tr>\n",
       "    <tr>\n",
       "      <th id=\"T_fa22d_level2_row2\" class=\"row_heading level2 row2\" rowspan=\"2\">Yes</th>\n",
       "      <th id=\"T_fa22d_level3_row2\" class=\"row_heading level3 row2\" >No</th>\n",
       "      <td id=\"T_fa22d_row2_col0\" class=\"data row2 col0\" >35</td>\n",
       "      <td id=\"T_fa22d_row2_col1\" class=\"data row2 col1\" >32.623429</td>\n",
       "      <td id=\"T_fa22d_row2_col2\" class=\"data row2 col2\" >                7.54 h/dia</td>\n",
       "    </tr>\n",
       "    <tr>\n",
       "      <th id=\"T_fa22d_level3_row3\" class=\"row_heading level3 row3\" >Yes</th>\n",
       "      <td id=\"T_fa22d_row3_col0\" class=\"data row3 col0\" >71</td>\n",
       "      <td id=\"T_fa22d_row3_col1\" class=\"data row3 col1\" >28.734085</td>\n",
       "      <td id=\"T_fa22d_row3_col2\" class=\"data row3 col2\" >                7.52 h/dia</td>\n",
       "    </tr>\n",
       "    <tr>\n",
       "      <th id=\"T_fa22d_level1_row4\" class=\"row_heading level1 row4\" rowspan=\"4\">Male</th>\n",
       "      <th id=\"T_fa22d_level2_row4\" class=\"row_heading level2 row4\" rowspan=\"2\">No</th>\n",
       "      <th id=\"T_fa22d_level3_row4\" class=\"row_heading level3 row4\" >No</th>\n",
       "      <td id=\"T_fa22d_row4_col0\" class=\"data row4 col0\" >445</td>\n",
       "      <td id=\"T_fa22d_row4_col1\" class=\"data row4 col1\" >31.281079</td>\n",
       "      <td id=\"T_fa22d_row4_col2\" class=\"data row4 col2\" >                7.52 h/dia</td>\n",
       "    </tr>\n",
       "    <tr>\n",
       "      <th id=\"T_fa22d_level3_row5\" class=\"row_heading level3 row5\" >Yes</th>\n",
       "      <td id=\"T_fa22d_row5_col0\" class=\"data row5 col0\" >1412</td>\n",
       "      <td id=\"T_fa22d_row5_col1\" class=\"data row5 col1\" >29.712677</td>\n",
       "      <td id=\"T_fa22d_row5_col2\" class=\"data row5 col2\" >                7.36 h/dia</td>\n",
       "    </tr>\n",
       "    <tr>\n",
       "      <th id=\"T_fa22d_level2_row6\" class=\"row_heading level2 row6\" rowspan=\"2\">Yes</th>\n",
       "      <th id=\"T_fa22d_level3_row6\" class=\"row_heading level3 row6\" >No</th>\n",
       "      <td id=\"T_fa22d_row6_col0\" class=\"data row6 col0\" >37</td>\n",
       "      <td id=\"T_fa22d_row6_col1\" class=\"data row6 col1\" >30.988919</td>\n",
       "      <td id=\"T_fa22d_row6_col2\" class=\"data row6 col2\" >                7.92 h/dia</td>\n",
       "    </tr>\n",
       "    <tr>\n",
       "      <th id=\"T_fa22d_level3_row7\" class=\"row_heading level3 row7\" >Yes</th>\n",
       "      <td id=\"T_fa22d_row7_col0\" class=\"data row7 col0\" >107</td>\n",
       "      <td id=\"T_fa22d_row7_col1\" class=\"data row7 col1\" >28.799533</td>\n",
       "      <td id=\"T_fa22d_row7_col2\" class=\"data row7 col2\" >                7.40 h/dia</td>\n",
       "    </tr>\n",
       "    <tr>\n",
       "      <th id=\"T_fa22d_level0_row8\" class=\"row_heading level0 row8\" rowspan=\"8\">Asian</th>\n",
       "      <th id=\"T_fa22d_level1_row8\" class=\"row_heading level1 row8\" rowspan=\"4\">Female</th>\n",
       "      <th id=\"T_fa22d_level2_row8\" class=\"row_heading level2 row8\" rowspan=\"2\">No</th>\n",
       "      <th id=\"T_fa22d_level3_row8\" class=\"row_heading level3 row8\" >No</th>\n",
       "      <td id=\"T_fa22d_row8_col0\" class=\"data row8 col0\" >563</td>\n",
       "      <td id=\"T_fa22d_row8_col1\" class=\"data row8 col1\" >26.016714</td>\n",
       "      <td id=\"T_fa22d_row8_col2\" class=\"data row8 col2\" >                7.20 h/dia</td>\n",
       "    </tr>\n",
       "    <tr>\n",
       "      <th id=\"T_fa22d_level3_row9\" class=\"row_heading level3 row9\" >Yes</th>\n",
       "      <td id=\"T_fa22d_row9_col0\" class=\"data row9 col0\" >2264</td>\n",
       "      <td id=\"T_fa22d_row9_col1\" class=\"data row9 col1\" >25.259876</td>\n",
       "      <td id=\"T_fa22d_row9_col2\" class=\"data row9 col2\" >                7.13 h/dia</td>\n",
       "    </tr>\n",
       "    <tr>\n",
       "      <th id=\"T_fa22d_level2_row10\" class=\"row_heading level2 row10\" rowspan=\"2\">Yes</th>\n",
       "      <th id=\"T_fa22d_level3_row10\" class=\"row_heading level3 row10\" >No</th>\n",
       "      <td id=\"T_fa22d_row10_col0\" class=\"data row10 col0\" >7</td>\n",
       "      <td id=\"T_fa22d_row10_col1\" class=\"data row10 col1\" >26.894286</td>\n",
       "      <td id=\"T_fa22d_row10_col2\" class=\"data row10 col2\" >                7.43 h/dia</td>\n",
       "    </tr>\n",
       "    <tr>\n",
       "      <th id=\"T_fa22d_level3_row11\" class=\"row_heading level3 row11\" >Yes</th>\n",
       "      <td id=\"T_fa22d_row11_col0\" class=\"data row11 col0\" >79</td>\n",
       "      <td id=\"T_fa22d_row11_col1\" class=\"data row11 col1\" >24.581899</td>\n",
       "      <td id=\"T_fa22d_row11_col2\" class=\"data row11 col2\" >                7.35 h/dia</td>\n",
       "    </tr>\n",
       "    <tr>\n",
       "      <th id=\"T_fa22d_level1_row12\" class=\"row_heading level1 row12\" rowspan=\"4\">Male</th>\n",
       "      <th id=\"T_fa22d_level2_row12\" class=\"row_heading level2 row12\" rowspan=\"2\">No</th>\n",
       "      <th id=\"T_fa22d_level3_row12\" class=\"row_heading level3 row12\" >No</th>\n",
       "      <td id=\"T_fa22d_row12_col0\" class=\"data row12 col0\" >579</td>\n",
       "      <td id=\"T_fa22d_row12_col1\" class=\"data row12 col1\" >26.741623</td>\n",
       "      <td id=\"T_fa22d_row12_col2\" class=\"data row12 col2\" >                7.27 h/dia</td>\n",
       "    </tr>\n",
       "    <tr>\n",
       "      <th id=\"T_fa22d_level3_row13\" class=\"row_heading level3 row13\" >Yes</th>\n",
       "      <td id=\"T_fa22d_row13_col0\" class=\"data row13 col0\" >2890</td>\n",
       "      <td id=\"T_fa22d_row13_col1\" class=\"data row13 col1\" >26.145474</td>\n",
       "      <td id=\"T_fa22d_row13_col2\" class=\"data row13 col2\" >                7.17 h/dia</td>\n",
       "    </tr>\n",
       "    <tr>\n",
       "      <th id=\"T_fa22d_level2_row14\" class=\"row_heading level2 row14\" rowspan=\"2\">Yes</th>\n",
       "      <th id=\"T_fa22d_level3_row14\" class=\"row_heading level3 row14\" >No</th>\n",
       "      <td id=\"T_fa22d_row14_col0\" class=\"data row14 col0\" >24</td>\n",
       "      <td id=\"T_fa22d_row14_col1\" class=\"data row14 col1\" >27.244583</td>\n",
       "      <td id=\"T_fa22d_row14_col2\" class=\"data row14 col2\" >                7.79 h/dia</td>\n",
       "    </tr>\n",
       "    <tr>\n",
       "      <th id=\"T_fa22d_level3_row15\" class=\"row_heading level3 row15\" >Yes</th>\n",
       "      <td id=\"T_fa22d_row15_col0\" class=\"data row15 col0\" >97</td>\n",
       "      <td id=\"T_fa22d_row15_col1\" class=\"data row15 col1\" >26.582371</td>\n",
       "      <td id=\"T_fa22d_row15_col2\" class=\"data row15 col2\" >                7.18 h/dia</td>\n",
       "    </tr>\n",
       "    <tr>\n",
       "      <th id=\"T_fa22d_level0_row16\" class=\"row_heading level0 row16\" rowspan=\"8\">Black</th>\n",
       "      <th id=\"T_fa22d_level1_row16\" class=\"row_heading level1 row16\" rowspan=\"4\">Female</th>\n",
       "      <th id=\"T_fa22d_level2_row16\" class=\"row_heading level2 row16\" rowspan=\"2\">No</th>\n",
       "      <th id=\"T_fa22d_level3_row16\" class=\"row_heading level3 row16\" >No</th>\n",
       "      <td id=\"T_fa22d_row16_col0\" class=\"data row16 col0\" >3263</td>\n",
       "      <td id=\"T_fa22d_row16_col1\" class=\"data row16 col1\" >32.664965</td>\n",
       "      <td id=\"T_fa22d_row16_col2\" class=\"data row16 col2\" >                7.59 h/dia</td>\n",
       "    </tr>\n",
       "    <tr>\n",
       "      <th id=\"T_fa22d_level3_row17\" class=\"row_heading level3 row17\" >Yes</th>\n",
       "      <td id=\"T_fa22d_row17_col0\" class=\"data row17 col0\" >7437</td>\n",
       "      <td id=\"T_fa22d_row17_col1\" class=\"data row17 col1\" >30.640545</td>\n",
       "      <td id=\"T_fa22d_row17_col2\" class=\"data row17 col2\" >                7.37 h/dia</td>\n",
       "    </tr>\n",
       "    <tr>\n",
       "      <th id=\"T_fa22d_level2_row18\" class=\"row_heading level2 row18\" rowspan=\"2\">Yes</th>\n",
       "      <th id=\"T_fa22d_level3_row18\" class=\"row_heading level3 row18\" >No</th>\n",
       "      <td id=\"T_fa22d_row18_col0\" class=\"data row18 col0\" >138</td>\n",
       "      <td id=\"T_fa22d_row18_col1\" class=\"data row18 col1\" >31.042101</td>\n",
       "      <td id=\"T_fa22d_row18_col2\" class=\"data row18 col2\" >                7.42 h/dia</td>\n",
       "    </tr>\n",
       "    <tr>\n",
       "      <th id=\"T_fa22d_level3_row19\" class=\"row_heading level3 row19\" >Yes</th>\n",
       "      <td id=\"T_fa22d_row19_col0\" class=\"data row19 col0\" >324</td>\n",
       "      <td id=\"T_fa22d_row19_col1\" class=\"data row19 col1\" >29.884259</td>\n",
       "      <td id=\"T_fa22d_row19_col2\" class=\"data row19 col2\" >                7.21 h/dia</td>\n",
       "    </tr>\n",
       "    <tr>\n",
       "      <th id=\"T_fa22d_level1_row20\" class=\"row_heading level1 row20\" rowspan=\"4\">Male</th>\n",
       "      <th id=\"T_fa22d_level2_row20\" class=\"row_heading level2 row20\" rowspan=\"2\">No</th>\n",
       "      <th id=\"T_fa22d_level3_row20\" class=\"row_heading level3 row20\" >No</th>\n",
       "      <td id=\"T_fa22d_row20_col0\" class=\"data row20 col0\" >1741</td>\n",
       "      <td id=\"T_fa22d_row20_col1\" class=\"data row20 col1\" >29.718064</td>\n",
       "      <td id=\"T_fa22d_row20_col2\" class=\"data row20 col2\" >                7.62 h/dia</td>\n",
       "    </tr>\n",
       "    <tr>\n",
       "      <th id=\"T_fa22d_level3_row21\" class=\"row_heading level3 row21\" >Yes</th>\n",
       "      <td id=\"T_fa22d_row21_col0\" class=\"data row21 col0\" >5666</td>\n",
       "      <td id=\"T_fa22d_row21_col1\" class=\"data row21 col1\" >29.105498</td>\n",
       "      <td id=\"T_fa22d_row21_col2\" class=\"data row21 col2\" >                7.34 h/dia</td>\n",
       "    </tr>\n",
       "    <tr>\n",
       "      <th id=\"T_fa22d_level2_row22\" class=\"row_heading level2 row22\" rowspan=\"2\">Yes</th>\n",
       "      <th id=\"T_fa22d_level3_row22\" class=\"row_heading level3 row22\" >No</th>\n",
       "      <td id=\"T_fa22d_row22_col0\" class=\"data row22 col0\" >95</td>\n",
       "      <td id=\"T_fa22d_row22_col1\" class=\"data row22 col1\" >30.641474</td>\n",
       "      <td id=\"T_fa22d_row22_col2\" class=\"data row22 col2\" >                7.66 h/dia</td>\n",
       "    </tr>\n",
       "    <tr>\n",
       "      <th id=\"T_fa22d_level3_row23\" class=\"row_heading level3 row23\" >Yes</th>\n",
       "      <td id=\"T_fa22d_row23_col0\" class=\"data row23 col0\" >243</td>\n",
       "      <td id=\"T_fa22d_row23_col1\" class=\"data row23 col1\" >27.961975</td>\n",
       "      <td id=\"T_fa22d_row23_col2\" class=\"data row23 col2\" >                7.27 h/dia</td>\n",
       "    </tr>\n",
       "    <tr>\n",
       "      <th id=\"T_fa22d_level0_row24\" class=\"row_heading level0 row24\" rowspan=\"8\">Hispanic</th>\n",
       "      <th id=\"T_fa22d_level1_row24\" class=\"row_heading level1 row24\" rowspan=\"4\">Female</th>\n",
       "      <th id=\"T_fa22d_level2_row24\" class=\"row_heading level2 row24\" rowspan=\"2\">No</th>\n",
       "      <th id=\"T_fa22d_level3_row24\" class=\"row_heading level3 row24\" >No</th>\n",
       "      <td id=\"T_fa22d_row24_col0\" class=\"data row24 col0\" >3803</td>\n",
       "      <td id=\"T_fa22d_row24_col1\" class=\"data row24 col1\" >30.461120</td>\n",
       "      <td id=\"T_fa22d_row24_col2\" class=\"data row24 col2\" >                7.40 h/dia</td>\n",
       "    </tr>\n",
       "    <tr>\n",
       "      <th id=\"T_fa22d_level3_row25\" class=\"row_heading level3 row25\" >Yes</th>\n",
       "      <td id=\"T_fa22d_row25_col0\" class=\"data row25 col0\" >7966</td>\n",
       "      <td id=\"T_fa22d_row25_col1\" class=\"data row25 col1\" >28.546521</td>\n",
       "      <td id=\"T_fa22d_row25_col2\" class=\"data row25 col2\" >                7.35 h/dia</td>\n",
       "    </tr>\n",
       "    <tr>\n",
       "      <th id=\"T_fa22d_level2_row26\" class=\"row_heading level2 row26\" rowspan=\"2\">Yes</th>\n",
       "      <th id=\"T_fa22d_level3_row26\" class=\"row_heading level3 row26\" >No</th>\n",
       "      <td id=\"T_fa22d_row26_col0\" class=\"data row26 col0\" >115</td>\n",
       "      <td id=\"T_fa22d_row26_col1\" class=\"data row26 col1\" >30.440261</td>\n",
       "      <td id=\"T_fa22d_row26_col2\" class=\"data row26 col2\" >                7.77 h/dia</td>\n",
       "    </tr>\n",
       "    <tr>\n",
       "      <th id=\"T_fa22d_level3_row27\" class=\"row_heading level3 row27\" >Yes</th>\n",
       "      <td id=\"T_fa22d_row27_col0\" class=\"data row27 col0\" >435</td>\n",
       "      <td id=\"T_fa22d_row27_col1\" class=\"data row27 col1\" >27.588828</td>\n",
       "      <td id=\"T_fa22d_row27_col2\" class=\"data row27 col2\" >                7.25 h/dia</td>\n",
       "    </tr>\n",
       "    <tr>\n",
       "      <th id=\"T_fa22d_level1_row28\" class=\"row_heading level1 row28\" rowspan=\"4\">Male</th>\n",
       "      <th id=\"T_fa22d_level2_row28\" class=\"row_heading level2 row28\" rowspan=\"2\">No</th>\n",
       "      <th id=\"T_fa22d_level3_row28\" class=\"row_heading level3 row28\" >No</th>\n",
       "      <td id=\"T_fa22d_row28_col0\" class=\"data row28 col0\" >2763</td>\n",
       "      <td id=\"T_fa22d_row28_col1\" class=\"data row28 col1\" >29.757655</td>\n",
       "      <td id=\"T_fa22d_row28_col2\" class=\"data row28 col2\" >                7.51 h/dia</td>\n",
       "    </tr>\n",
       "    <tr>\n",
       "      <th id=\"T_fa22d_level3_row29\" class=\"row_heading level3 row29\" >Yes</th>\n",
       "      <td id=\"T_fa22d_row29_col0\" class=\"data row29 col0\" >7651</td>\n",
       "      <td id=\"T_fa22d_row29_col1\" class=\"data row29 col1\" >28.731797</td>\n",
       "      <td id=\"T_fa22d_row29_col2\" class=\"data row29 col2\" >                7.31 h/dia</td>\n",
       "    </tr>\n",
       "    <tr>\n",
       "      <th id=\"T_fa22d_level2_row30\" class=\"row_heading level2 row30\" rowspan=\"2\">Yes</th>\n",
       "      <th id=\"T_fa22d_level3_row30\" class=\"row_heading level3 row30\" >No</th>\n",
       "      <td id=\"T_fa22d_row30_col0\" class=\"data row30 col0\" >162</td>\n",
       "      <td id=\"T_fa22d_row30_col1\" class=\"data row30 col1\" >29.692531</td>\n",
       "      <td id=\"T_fa22d_row30_col2\" class=\"data row30 col2\" >                7.47 h/dia</td>\n",
       "    </tr>\n",
       "    <tr>\n",
       "      <th id=\"T_fa22d_level3_row31\" class=\"row_heading level3 row31\" >Yes</th>\n",
       "      <td id=\"T_fa22d_row31_col0\" class=\"data row31 col0\" >508</td>\n",
       "      <td id=\"T_fa22d_row31_col1\" class=\"data row31 col1\" >29.278051</td>\n",
       "      <td id=\"T_fa22d_row31_col2\" class=\"data row31 col2\" >                7.35 h/dia</td>\n",
       "    </tr>\n",
       "    <tr>\n",
       "      <th id=\"T_fa22d_level0_row32\" class=\"row_heading level0 row32\" rowspan=\"8\">Other</th>\n",
       "      <th id=\"T_fa22d_level1_row32\" class=\"row_heading level1 row32\" rowspan=\"4\">Female</th>\n",
       "      <th id=\"T_fa22d_level2_row32\" class=\"row_heading level2 row32\" rowspan=\"2\">No</th>\n",
       "      <th id=\"T_fa22d_level3_row32\" class=\"row_heading level3 row32\" >No</th>\n",
       "      <td id=\"T_fa22d_row32_col0\" class=\"data row32 col0\" >940</td>\n",
       "      <td id=\"T_fa22d_row32_col1\" class=\"data row32 col1\" >31.565191</td>\n",
       "      <td id=\"T_fa22d_row32_col2\" class=\"data row32 col2\" >                7.39 h/dia</td>\n",
       "    </tr>\n",
       "    <tr>\n",
       "      <th id=\"T_fa22d_level3_row33\" class=\"row_heading level3 row33\" >Yes</th>\n",
       "      <td id=\"T_fa22d_row33_col0\" class=\"data row33 col0\" >3129</td>\n",
       "      <td id=\"T_fa22d_row33_col1\" class=\"data row33 col1\" >28.643822</td>\n",
       "      <td id=\"T_fa22d_row33_col2\" class=\"data row33 col2\" >                7.29 h/dia</td>\n",
       "    </tr>\n",
       "    <tr>\n",
       "      <th id=\"T_fa22d_level2_row34\" class=\"row_heading level2 row34\" rowspan=\"2\">Yes</th>\n",
       "      <th id=\"T_fa22d_level3_row34\" class=\"row_heading level3 row34\" >No</th>\n",
       "      <td id=\"T_fa22d_row34_col0\" class=\"data row34 col0\" >46</td>\n",
       "      <td id=\"T_fa22d_row34_col1\" class=\"data row34 col1\" >29.745000</td>\n",
       "      <td id=\"T_fa22d_row34_col2\" class=\"data row34 col2\" >                7.83 h/dia</td>\n",
       "    </tr>\n",
       "    <tr>\n",
       "      <th id=\"T_fa22d_level3_row35\" class=\"row_heading level3 row35\" >Yes</th>\n",
       "      <td id=\"T_fa22d_row35_col0\" class=\"data row35 col0\" >238</td>\n",
       "      <td id=\"T_fa22d_row35_col1\" class=\"data row35 col1\" >27.057311</td>\n",
       "      <td id=\"T_fa22d_row35_col2\" class=\"data row35 col2\" >                7.26 h/dia</td>\n",
       "    </tr>\n",
       "    <tr>\n",
       "      <th id=\"T_fa22d_level1_row36\" class=\"row_heading level1 row36\" rowspan=\"4\">Male</th>\n",
       "      <th id=\"T_fa22d_level2_row36\" class=\"row_heading level2 row36\" rowspan=\"2\">No</th>\n",
       "      <th id=\"T_fa22d_level3_row36\" class=\"row_heading level3 row36\" >No</th>\n",
       "      <td id=\"T_fa22d_row36_col0\" class=\"data row36 col0\" >730</td>\n",
       "      <td id=\"T_fa22d_row36_col1\" class=\"data row36 col1\" >30.009151</td>\n",
       "      <td id=\"T_fa22d_row36_col2\" class=\"data row36 col2\" >                7.57 h/dia</td>\n",
       "    </tr>\n",
       "    <tr>\n",
       "      <th id=\"T_fa22d_level3_row37\" class=\"row_heading level3 row37\" >Yes</th>\n",
       "      <td id=\"T_fa22d_row37_col0\" class=\"data row37 col0\" >3339</td>\n",
       "      <td id=\"T_fa22d_row37_col1\" class=\"data row37 col1\" >28.733420</td>\n",
       "      <td id=\"T_fa22d_row37_col2\" class=\"data row37 col2\" >                7.20 h/dia</td>\n",
       "    </tr>\n",
       "    <tr>\n",
       "      <th id=\"T_fa22d_level2_row38\" class=\"row_heading level2 row38\" rowspan=\"2\">Yes</th>\n",
       "      <th id=\"T_fa22d_level3_row38\" class=\"row_heading level3 row38\" >No</th>\n",
       "      <td id=\"T_fa22d_row38_col0\" class=\"data row38 col0\" >77</td>\n",
       "      <td id=\"T_fa22d_row38_col1\" class=\"data row38 col1\" >29.189870</td>\n",
       "      <td id=\"T_fa22d_row38_col2\" class=\"data row38 col2\" >                7.57 h/dia</td>\n",
       "    </tr>\n",
       "    <tr>\n",
       "      <th id=\"T_fa22d_level3_row39\" class=\"row_heading level3 row39\" >Yes</th>\n",
       "      <td id=\"T_fa22d_row39_col0\" class=\"data row39 col0\" >275</td>\n",
       "      <td id=\"T_fa22d_row39_col1\" class=\"data row39 col1\" >29.103491</td>\n",
       "      <td id=\"T_fa22d_row39_col2\" class=\"data row39 col2\" >                7.18 h/dia</td>\n",
       "    </tr>\n",
       "    <tr>\n",
       "      <th id=\"T_fa22d_level0_row40\" class=\"row_heading level0 row40\" rowspan=\"8\">White</th>\n",
       "      <th id=\"T_fa22d_level1_row40\" class=\"row_heading level1 row40\" rowspan=\"4\">Female</th>\n",
       "      <th id=\"T_fa22d_level2_row40\" class=\"row_heading level2 row40\" rowspan=\"2\">No</th>\n",
       "      <th id=\"T_fa22d_level3_row40\" class=\"row_heading level3 row40\" >No</th>\n",
       "      <td id=\"T_fa22d_row40_col0\" class=\"data row40 col0\" >22216</td>\n",
       "      <td id=\"T_fa22d_row40_col1\" class=\"data row40 col1\" >30.857450</td>\n",
       "      <td id=\"T_fa22d_row40_col2\" class=\"data row40 col2\" >                7.55 h/dia</td>\n",
       "    </tr>\n",
       "    <tr>\n",
       "      <th id=\"T_fa22d_level3_row41\" class=\"row_heading level3 row41\" >Yes</th>\n",
       "      <td id=\"T_fa22d_row41_col0\" class=\"data row41 col0\" >78910</td>\n",
       "      <td id=\"T_fa22d_row41_col1\" class=\"data row41 col1\" >27.722031</td>\n",
       "      <td id=\"T_fa22d_row41_col2\" class=\"data row41 col2\" >                7.36 h/dia</td>\n",
       "    </tr>\n",
       "    <tr>\n",
       "      <th id=\"T_fa22d_level2_row42\" class=\"row_heading level2 row42\" rowspan=\"2\">Yes</th>\n",
       "      <th id=\"T_fa22d_level3_row42\" class=\"row_heading level3 row42\" >No</th>\n",
       "      <td id=\"T_fa22d_row42_col0\" class=\"data row42 col0\" >1235</td>\n",
       "      <td id=\"T_fa22d_row42_col1\" class=\"data row42 col1\" >29.058138</td>\n",
       "      <td id=\"T_fa22d_row42_col2\" class=\"data row42 col2\" >                7.65 h/dia</td>\n",
       "    </tr>\n",
       "    <tr>\n",
       "      <th id=\"T_fa22d_level3_row43\" class=\"row_heading level3 row43\" >Yes</th>\n",
       "      <td id=\"T_fa22d_row43_col0\" class=\"data row43 col0\" >6772</td>\n",
       "      <td id=\"T_fa22d_row43_col1\" class=\"data row43 col1\" >26.557996</td>\n",
       "      <td id=\"T_fa22d_row43_col2\" class=\"data row43 col2\" >                7.40 h/dia</td>\n",
       "    </tr>\n",
       "    <tr>\n",
       "      <th id=\"T_fa22d_level1_row44\" class=\"row_heading level1 row44\" rowspan=\"4\">Male</th>\n",
       "      <th id=\"T_fa22d_level2_row44\" class=\"row_heading level2 row44\" rowspan=\"2\">No</th>\n",
       "      <th id=\"T_fa22d_level3_row44\" class=\"row_heading level3 row44\" >No</th>\n",
       "      <td id=\"T_fa22d_row44_col0\" class=\"data row44 col0\" >17748</td>\n",
       "      <td id=\"T_fa22d_row44_col1\" class=\"data row44 col1\" >30.354490</td>\n",
       "      <td id=\"T_fa22d_row44_col2\" class=\"data row44 col2\" >                7.50 h/dia</td>\n",
       "    </tr>\n",
       "    <tr>\n",
       "      <th id=\"T_fa22d_level3_row45\" class=\"row_heading level3 row45\" >Yes</th>\n",
       "      <td id=\"T_fa22d_row45_col0\" class=\"data row45 col0\" >80307</td>\n",
       "      <td id=\"T_fa22d_row45_col1\" class=\"data row45 col1\" >28.345696</td>\n",
       "      <td id=\"T_fa22d_row45_col2\" class=\"data row45 col2\" >                7.30 h/dia</td>\n",
       "    </tr>\n",
       "    <tr>\n",
       "      <th id=\"T_fa22d_level2_row46\" class=\"row_heading level2 row46\" rowspan=\"2\">Yes</th>\n",
       "      <th id=\"T_fa22d_level3_row46\" class=\"row_heading level3 row46\" >No</th>\n",
       "      <td id=\"T_fa22d_row46_col0\" class=\"data row46 col0\" >1472</td>\n",
       "      <td id=\"T_fa22d_row46_col1\" class=\"data row46 col1\" >29.159436</td>\n",
       "      <td id=\"T_fa22d_row46_col2\" class=\"data row46 col2\" >                7.41 h/dia</td>\n",
       "    </tr>\n",
       "    <tr>\n",
       "      <th id=\"T_fa22d_level3_row47\" class=\"row_heading level3 row47\" >Yes</th>\n",
       "      <td id=\"T_fa22d_row47_col0\" class=\"data row47 col0\" >5860</td>\n",
       "      <td id=\"T_fa22d_row47_col1\" class=\"data row47 col1\" >28.017816</td>\n",
       "      <td id=\"T_fa22d_row47_col2\" class=\"data row47 col2\" >                7.31 h/dia</td>\n",
       "    </tr>\n",
       "  </tbody>\n",
       "</table>\n"
      ],
      "text/plain": [
       "<pandas.io.formats.style.Styler at 0x2069624d990>"
      ]
     },
     "execution_count": 98,
     "metadata": {},
     "output_type": "execute_result"
    }
   ],
   "source": [
    "(df_dc.groupby(['Race','Sex','AlcoholDrinking','PhysicalActivity']) \\\n",
    "                             .agg({'HeartDisease':'count', 'BMI':'mean', 'SleepTime':'mean'})).style \\\n",
    "                             .format({\"HeartDisease\": \"{:20,.0f}\"}) \\\n",
    "                             .format({\"BMI\": \"{:20,.2f}\"}) \\\n",
    "                             .format({\"SleepTime\": \"{:20,.2f} h/dia\"}) \\\n",
    "                             .bar(subset=[\"HeartDisease\"], color='#AABB00')"
   ]
  },
  {
   "cell_type": "code",
   "execution_count": 99,
   "id": "9f9a84a2",
   "metadata": {
    "ExecuteTime": {
     "end_time": "2022-06-03T17:49:10.636351Z",
     "start_time": "2022-06-03T17:49:10.510510Z"
    }
   },
   "outputs": [
    {
     "data": {
      "image/png": "[encoded data removed]",
      "text/plain": [
       "<Figure size 432x288 with 1 Axes>"
      ]
     },
     "metadata": {
      "needs_background": "light"
     },
     "output_type": "display_data"
    }
   ],
   "source": [
    "plt.hist(df_dc['BMI'], bins=25)\n",
    "plt.show()"
   ]
  },
  {
   "cell_type": "code",
   "execution_count": 126,
   "id": "286d792a",
   "metadata": {
    "ExecuteTime": {
     "end_time": "2022-06-03T17:58:58.614504Z",
     "start_time": "2022-06-03T17:58:58.585516Z"
    }
   },
   "outputs": [
    {
     "data": {
      "text/html": [
       "<style type=\"text/css\">\n",
       "#T_4e8f9_row0_col0, #T_4e8f9_row1_col1, #T_4e8f9_row2_col2, #T_4e8f9_row3_col3 {\n",
       "  background-color: #08306b;\n",
       "  color: #f1f1f1;\n",
       "  color: black;\n",
       "  color: white;\n",
       "}\n",
       "#T_4e8f9_row0_col1 {\n",
       "  background-color: #dce9f6;\n",
       "  color: #000000;\n",
       "  color: black;\n",
       "  color: black;\n",
       "}\n",
       "#T_4e8f9_row0_col2 {\n",
       "  background-color: #ebf3fb;\n",
       "  color: #000000;\n",
       "  color: black;\n",
       "  color: black;\n",
       "}\n",
       "#T_4e8f9_row0_col3 {\n",
       "  background-color: #f3f8fe;\n",
       "  color: #000000;\n",
       "  color: black;\n",
       "  color: black;\n",
       "}\n",
       "#T_4e8f9_row1_col0 {\n",
       "  background-color: #dfecf7;\n",
       "  color: #000000;\n",
       "  color: black;\n",
       "  color: black;\n",
       "}\n",
       "#T_4e8f9_row1_col2 {\n",
       "  background-color: #b4d3e9;\n",
       "  color: #000000;\n",
       "  color: black;\n",
       "  color: black;\n",
       "}\n",
       "#T_4e8f9_row1_col3, #T_4e8f9_row3_col0, #T_4e8f9_row3_col1, #T_4e8f9_row3_col2 {\n",
       "  background-color: #f7fbff;\n",
       "  color: #000000;\n",
       "  color: black;\n",
       "  color: black;\n",
       "}\n",
       "#T_4e8f9_row2_col0 {\n",
       "  background-color: #e9f2fa;\n",
       "  color: #000000;\n",
       "  color: black;\n",
       "  color: black;\n",
       "}\n",
       "#T_4e8f9_row2_col1 {\n",
       "  background-color: #add0e6;\n",
       "  color: #000000;\n",
       "  color: black;\n",
       "  color: black;\n",
       "}\n",
       "#T_4e8f9_row2_col3 {\n",
       "  background-color: #f1f7fd;\n",
       "  color: #000000;\n",
       "  color: black;\n",
       "  color: black;\n",
       "}\n",
       "</style>\n",
       "<table id=\"T_4e8f9\">\n",
       "  <thead>\n",
       "    <tr>\n",
       "      <th class=\"blank level0\" >&nbsp;</th>\n",
       "      <th id=\"T_4e8f9_level0_col0\" class=\"col_heading level0 col0\" >BMI</th>\n",
       "      <th id=\"T_4e8f9_level0_col1\" class=\"col_heading level0 col1\" >PhysicalHealth</th>\n",
       "      <th id=\"T_4e8f9_level0_col2\" class=\"col_heading level0 col2\" >MentalHealth</th>\n",
       "      <th id=\"T_4e8f9_level0_col3\" class=\"col_heading level0 col3\" >SleepTime</th>\n",
       "    </tr>\n",
       "  </thead>\n",
       "  <tbody>\n",
       "    <tr>\n",
       "      <th id=\"T_4e8f9_level0_row0\" class=\"row_heading level0 row0\" >BMI</th>\n",
       "      <td id=\"T_4e8f9_row0_col0\" class=\"data row0 col0\" >1.000000</td>\n",
       "      <td id=\"T_4e8f9_row0_col1\" class=\"data row0 col1\" >0.140517</td>\n",
       "      <td id=\"T_4e8f9_row0_col2\" class=\"data row0 col2\" >0.093244</td>\n",
       "      <td id=\"T_4e8f9_row0_col3\" class=\"data row0 col3\" >0.023147</td>\n",
       "    </tr>\n",
       "    <tr>\n",
       "      <th id=\"T_4e8f9_level0_row1\" class=\"row_heading level0 row1\" >PhysicalHealth</th>\n",
       "      <td id=\"T_4e8f9_row1_col0\" class=\"data row1 col0\" >0.140517</td>\n",
       "      <td id=\"T_4e8f9_row1_col1\" class=\"data row1 col1\" >1.000000</td>\n",
       "      <td id=\"T_4e8f9_row1_col2\" class=\"data row1 col2\" >0.329561</td>\n",
       "      <td id=\"T_4e8f9_row1_col3\" class=\"data row1 col3\" >0.001753</td>\n",
       "    </tr>\n",
       "    <tr>\n",
       "      <th id=\"T_4e8f9_level0_row2\" class=\"row_heading level0 row2\" >MentalHealth</th>\n",
       "      <td id=\"T_4e8f9_row2_col0\" class=\"data row2 col0\" >0.093244</td>\n",
       "      <td id=\"T_4e8f9_row2_col1\" class=\"data row2 col1\" >0.329561</td>\n",
       "      <td id=\"T_4e8f9_row2_col2\" class=\"data row2 col2\" >1.000000</td>\n",
       "      <td id=\"T_4e8f9_row2_col3\" class=\"data row2 col3\" >0.034488</td>\n",
       "    </tr>\n",
       "    <tr>\n",
       "      <th id=\"T_4e8f9_level0_row3\" class=\"row_heading level0 row3\" >SleepTime</th>\n",
       "      <td id=\"T_4e8f9_row3_col0\" class=\"data row3 col0\" >0.023147</td>\n",
       "      <td id=\"T_4e8f9_row3_col1\" class=\"data row3 col1\" >0.001753</td>\n",
       "      <td id=\"T_4e8f9_row3_col2\" class=\"data row3 col2\" >0.034488</td>\n",
       "      <td id=\"T_4e8f9_row3_col3\" class=\"data row3 col3\" >1.000000</td>\n",
       "    </tr>\n",
       "  </tbody>\n",
       "</table>\n"
      ],
      "text/plain": [
       "<pandas.io.formats.style.Styler at 0x20696d259f0>"
      ]
     },
     "execution_count": 126,
     "metadata": {},
     "output_type": "execute_result"
    }
   ],
   "source": [
    "df_dc.drop(columns='HeartDisease').corr(method='pearson').style.background_gradient(cmap='Blues') \\\n",
    "                                  .applymap(lambda x: f\"color: {'red' if x <= 0 else 'black'}\")\\\n",
    "                                  .applymap(lambda x: f\"color: {'white' if x == 1 else 'black'}\")"
   ]
  },
  {
   "cell_type": "markdown",
   "id": "defbfe11",
   "metadata": {},
   "source": [
    "#### Describe apenas para numericas "
   ]
  },
  {
   "cell_type": "code",
   "execution_count": 101,
   "id": "8eabe216",
   "metadata": {
    "ExecuteTime": {
     "end_time": "2022-06-03T17:49:13.141554Z",
     "start_time": "2022-06-03T17:49:13.073541Z"
    }
   },
   "outputs": [
    {
     "data": {
      "text/html": [
       "<div>\n",
       "<style scoped>\n",
       "    .dataframe tbody tr th:only-of-type {\n",
       "        vertical-align: middle;\n",
       "    }\n",
       "\n",
       "    .dataframe tbody tr th {\n",
       "        vertical-align: top;\n",
       "    }\n",
       "\n",
       "    .dataframe thead th {\n",
       "        text-align: right;\n",
       "    }\n",
       "</style>\n",
       "<table border=\"1\" class=\"dataframe\">\n",
       "  <thead>\n",
       "    <tr style=\"text-align: right;\">\n",
       "      <th></th>\n",
       "      <th>HeartDisease</th>\n",
       "      <th>BMI</th>\n",
       "      <th>PhysicalHealth</th>\n",
       "      <th>MentalHealth</th>\n",
       "      <th>SleepTime</th>\n",
       "    </tr>\n",
       "  </thead>\n",
       "  <tbody>\n",
       "    <tr>\n",
       "      <th>count</th>\n",
       "      <td>276417.000000</td>\n",
       "      <td>276417.000000</td>\n",
       "      <td>276417.000000</td>\n",
       "      <td>276417.000000</td>\n",
       "      <td>276417.000000</td>\n",
       "    </tr>\n",
       "    <tr>\n",
       "      <th>mean</th>\n",
       "      <td>0.082622</td>\n",
       "      <td>28.649851</td>\n",
       "      <td>2.945680</td>\n",
       "      <td>3.391239</td>\n",
       "      <td>7.367702</td>\n",
       "    </tr>\n",
       "    <tr>\n",
       "      <th>std</th>\n",
       "      <td>0.275310</td>\n",
       "      <td>5.997439</td>\n",
       "      <td>7.388011</td>\n",
       "      <td>7.331681</td>\n",
       "      <td>1.178421</td>\n",
       "    </tr>\n",
       "    <tr>\n",
       "      <th>min</th>\n",
       "      <td>0.000000</td>\n",
       "      <td>20.010000</td>\n",
       "      <td>0.000000</td>\n",
       "      <td>0.000000</td>\n",
       "      <td>6.000000</td>\n",
       "    </tr>\n",
       "    <tr>\n",
       "      <th>25%</th>\n",
       "      <td>0.000000</td>\n",
       "      <td>24.390000</td>\n",
       "      <td>0.000000</td>\n",
       "      <td>0.000000</td>\n",
       "      <td>7.000000</td>\n",
       "    </tr>\n",
       "    <tr>\n",
       "      <th>50%</th>\n",
       "      <td>0.000000</td>\n",
       "      <td>27.440000</td>\n",
       "      <td>0.000000</td>\n",
       "      <td>0.000000</td>\n",
       "      <td>7.000000</td>\n",
       "    </tr>\n",
       "    <tr>\n",
       "      <th>75%</th>\n",
       "      <td>0.000000</td>\n",
       "      <td>31.570000</td>\n",
       "      <td>1.000000</td>\n",
       "      <td>3.000000</td>\n",
       "      <td>8.000000</td>\n",
       "    </tr>\n",
       "    <tr>\n",
       "      <th>max</th>\n",
       "      <td>1.000000</td>\n",
       "      <td>94.850000</td>\n",
       "      <td>30.000000</td>\n",
       "      <td>30.000000</td>\n",
       "      <td>24.000000</td>\n",
       "    </tr>\n",
       "  </tbody>\n",
       "</table>\n",
       "</div>"
      ],
      "text/plain": [
       "        HeartDisease            BMI  PhysicalHealth   MentalHealth  \\\n",
       "count  276417.000000  276417.000000   276417.000000  276417.000000   \n",
       "mean        0.082622      28.649851        2.945680       3.391239   \n",
       "std         0.275310       5.997439        7.388011       7.331681   \n",
       "min         0.000000      20.010000        0.000000       0.000000   \n",
       "25%         0.000000      24.390000        0.000000       0.000000   \n",
       "50%         0.000000      27.440000        0.000000       0.000000   \n",
       "75%         0.000000      31.570000        1.000000       3.000000   \n",
       "max         1.000000      94.850000       30.000000      30.000000   \n",
       "\n",
       "           SleepTime  \n",
       "count  276417.000000  \n",
       "mean        7.367702  \n",
       "std         1.178421  \n",
       "min         6.000000  \n",
       "25%         7.000000  \n",
       "50%         7.000000  \n",
       "75%         8.000000  \n",
       "max        24.000000  "
      ]
     },
     "execution_count": 101,
     "metadata": {},
     "output_type": "execute_result"
    }
   ],
   "source": [
    "df_dc.describe(include=[np.number])"
   ]
  },
  {
   "cell_type": "markdown",
   "id": "4159d4c6",
   "metadata": {},
   "source": [
    "#### Dummyzation "
   ]
  },
  {
   "cell_type": "code",
   "execution_count": 22,
   "id": "155596bd",
   "metadata": {
    "ExecuteTime": {
     "end_time": "2022-06-03T13:27:28.705113Z",
     "start_time": "2022-06-03T13:27:28.685096Z"
    }
   },
   "outputs": [],
   "source": [
    "df_1 = df.copy() #df[(df['BMI'] > 20)  & (df['SleepTime'] < 6)]"
   ]
  },
  {
   "cell_type": "code",
   "execution_count": 23,
   "id": "46ab2f7f",
   "metadata": {
    "ExecuteTime": {
     "end_time": "2022-06-03T13:27:29.700273Z",
     "start_time": "2022-06-03T13:27:29.691265Z"
    }
   },
   "outputs": [],
   "source": [
    "#df_1.groupby(['Race','Sex','AlcoholDrinking','PhysicalActivity', 'HeartDisease']).agg({'HeartDisease':'count'})"
   ]
  },
  {
   "cell_type": "code",
   "execution_count": 24,
   "id": "291e179a",
   "metadata": {
    "ExecuteTime": {
     "end_time": "2022-06-03T13:27:30.505322Z",
     "start_time": "2022-06-03T13:27:30.229360Z"
    }
   },
   "outputs": [],
   "source": [
    "df_ = pd.get_dummies(df_1, columns=['Smoking', 'AlcoholDrinking', 'Stroke',\n",
    "       'DiffWalking', 'Sex', 'AgeCategory', 'Race', 'Diabetic', 'PhysicalActivity', 'GenHealth',\n",
    "       'Asthma', 'KidneyDisease', 'SkinCancer']) "
   ]
  },
  {
   "cell_type": "code",
   "execution_count": 25,
   "id": "58f19127",
   "metadata": {
    "ExecuteTime": {
     "end_time": "2022-06-03T13:27:30.884213Z",
     "start_time": "2022-06-03T13:27:30.831201Z"
    }
   },
   "outputs": [
    {
     "name": "stdout",
     "output_type": "stream",
     "text": [
      "<class 'pandas.core.frame.DataFrame'>\n",
      "RangeIndex: 319795 entries, 0 to 319794\n",
      "Data columns (total 51 columns):\n",
      " #   Column                               Non-Null Count   Dtype  \n",
      "---  ------                               --------------   -----  \n",
      " 0   HeartDisease                         319795 non-null  int64  \n",
      " 1   BMI                                  319795 non-null  float64\n",
      " 2   PhysicalHealth                       319795 non-null  float64\n",
      " 3   MentalHealth                         319795 non-null  float64\n",
      " 4   SleepTime                            319795 non-null  float64\n",
      " 5   Smoking_No                           319795 non-null  uint8  \n",
      " 6   Smoking_Yes                          319795 non-null  uint8  \n",
      " 7   AlcoholDrinking_No                   319795 non-null  uint8  \n",
      " 8   AlcoholDrinking_Yes                  319795 non-null  uint8  \n",
      " 9   Stroke_No                            319795 non-null  uint8  \n",
      " 10  Stroke_Yes                           319795 non-null  uint8  \n",
      " 11  DiffWalking_No                       319795 non-null  uint8  \n",
      " 12  DiffWalking_Yes                      319795 non-null  uint8  \n",
      " 13  Sex_Female                           319795 non-null  uint8  \n",
      " 14  Sex_Male                             319795 non-null  uint8  \n",
      " 15  AgeCategory_18-24                    319795 non-null  uint8  \n",
      " 16  AgeCategory_25-29                    319795 non-null  uint8  \n",
      " 17  AgeCategory_30-34                    319795 non-null  uint8  \n",
      " 18  AgeCategory_35-39                    319795 non-null  uint8  \n",
      " 19  AgeCategory_40-44                    319795 non-null  uint8  \n",
      " 20  AgeCategory_45-49                    319795 non-null  uint8  \n",
      " 21  AgeCategory_50-54                    319795 non-null  uint8  \n",
      " 22  AgeCategory_55-59                    319795 non-null  uint8  \n",
      " 23  AgeCategory_60-64                    319795 non-null  uint8  \n",
      " 24  AgeCategory_65-69                    319795 non-null  uint8  \n",
      " 25  AgeCategory_70-74                    319795 non-null  uint8  \n",
      " 26  AgeCategory_75-79                    319795 non-null  uint8  \n",
      " 27  AgeCategory_gt80                     319795 non-null  uint8  \n",
      " 28  Race_American Indian/Alaskan Native  319795 non-null  uint8  \n",
      " 29  Race_Asian                           319795 non-null  uint8  \n",
      " 30  Race_Black                           319795 non-null  uint8  \n",
      " 31  Race_Hispanic                        319795 non-null  uint8  \n",
      " 32  Race_Other                           319795 non-null  uint8  \n",
      " 33  Race_White                           319795 non-null  uint8  \n",
      " 34  Diabetic_No                          319795 non-null  uint8  \n",
      " 35  Diabetic_No, borderline diabetes     319795 non-null  uint8  \n",
      " 36  Diabetic_Yes                         319795 non-null  uint8  \n",
      " 37  Diabetic_ydp                         319795 non-null  uint8  \n",
      " 38  PhysicalActivity_No                  319795 non-null  uint8  \n",
      " 39  PhysicalActivity_Yes                 319795 non-null  uint8  \n",
      " 40  GenHealth_Excellent                  319795 non-null  uint8  \n",
      " 41  GenHealth_Fair                       319795 non-null  uint8  \n",
      " 42  GenHealth_Good                       319795 non-null  uint8  \n",
      " 43  GenHealth_Poor                       319795 non-null  uint8  \n",
      " 44  GenHealth_VeryGood                   319795 non-null  uint8  \n",
      " 45  Asthma_No                            319795 non-null  uint8  \n",
      " 46  Asthma_Yes                           319795 non-null  uint8  \n",
      " 47  KidneyDisease_No                     319795 non-null  uint8  \n",
      " 48  KidneyDisease_Yes                    319795 non-null  uint8  \n",
      " 49  SkinCancer_No                        319795 non-null  uint8  \n",
      " 50  SkinCancer_Yes                       319795 non-null  uint8  \n",
      "dtypes: float64(4), int64(1), uint8(46)\n",
      "memory usage: 26.2 MB\n"
     ]
    }
   ],
   "source": [
    "df_.info(memory_usage=\"deep\")"
   ]
  },
  {
   "cell_type": "code",
   "execution_count": 26,
   "id": "ff0c37af",
   "metadata": {
    "ExecuteTime": {
     "end_time": "2022-06-03T13:27:39.001125Z",
     "start_time": "2022-06-03T13:27:38.892088Z"
    }
   },
   "outputs": [
    {
     "data": {
      "text/plain": [
       "(array([     0.,      0.,      0.,      0.,      0., 319795.,      0.,\n",
       "             0.,      0.,      0.]),\n",
       " array([0.5, 0.6, 0.7, 0.8, 0.9, 1. , 1.1, 1.2, 1.3, 1.4, 1.5]),\n",
       " <BarContainer object of 10 artists>)"
      ]
     },
     "execution_count": 26,
     "metadata": {},
     "output_type": "execute_result"
    },
    {
     "data": {
      "image/png": "[encoded data removed]",
      "text/plain": [
       "<Figure size 432x288 with 1 Axes>"
      ]
     },
     "metadata": {
      "needs_background": "light"
     },
     "output_type": "display_data"
    }
   ],
   "source": [
    "plt.hist(df_.HeartDisease)"
   ]
  },
  {
   "cell_type": "code",
   "execution_count": 27,
   "id": "7bfd0038",
   "metadata": {
    "ExecuteTime": {
     "end_time": "2022-06-03T13:27:40.654506Z",
     "start_time": "2022-06-03T13:27:40.645506Z"
    }
   },
   "outputs": [],
   "source": [
    "#df_.columns"
   ]
  },
  {
   "cell_type": "markdown",
   "id": "a529416e",
   "metadata": {},
   "source": [
    "# Análises nos dados "
   ]
  },
  {
   "cell_type": "markdown",
   "id": "11362959",
   "metadata": {},
   "source": [
    "### Stats Models para escolher variaveis"
   ]
  },
  {
   "cell_type": "code",
   "execution_count": 30,
   "id": "cc97dc10",
   "metadata": {
    "ExecuteTime": {
     "end_time": "2022-06-03T13:28:13.084755Z",
     "start_time": "2022-06-03T13:28:12.248301Z"
    }
   },
   "outputs": [],
   "source": [
    "import statsmodels.api as sm\n",
    "from patsy import dmatrices, dmatrix, demo_data"
   ]
  },
  {
   "cell_type": "markdown",
   "id": "a98940a1",
   "metadata": {},
   "source": [
    "#### Escolha de variáveis "
   ]
  },
  {
   "cell_type": "code",
   "execution_count": 31,
   "id": "6b65ee2b",
   "metadata": {
    "ExecuteTime": {
     "end_time": "2022-06-03T13:28:15.190570Z",
     "start_time": "2022-06-03T13:28:15.179568Z"
    }
   },
   "outputs": [],
   "source": [
    "variaveis = 'HeartDisease ~  BMI + PhysicalHealth + MentalHealth + SleepTime + Smoking_No + \\\n",
    " AlcoholDrinking_No +  AlcoholDrinking_Yes +  Stroke_No +  Stroke_Yes +  DiffWalking_No +  DiffWalking_Yes + \\\n",
    " Q(\"Race_American Indian/Alaskan Native\") + Race_White + Race_Asian +  Race_Black +  Race_Hispanic +  Race_Other + \\\n",
    " Sex_Female +  Sex_Male +  Q(\"AgeCategory_18-24\") +  Q(\"AgeCategory_25-29\") +  Q(\"AgeCategory_30-34\") +  Q(\"AgeCategory_35-39\") + \\\n",
    " Q(\"AgeCategory_40-44\") +  Q(\"AgeCategory_45-49\") +  Q(\"AgeCategory_50-54\") +  Q(\"AgeCategory_55-59\") +  Q(\"AgeCategory_60-64\") + \\\n",
    " Q(\"AgeCategory_65-69\") +  Q(\"AgeCategory_70-74\") +  Q(\"AgeCategory_75-79\") +  AgeCategory_gt80 + \\\n",
    " Diabetic_Yes +  PhysicalActivity_No +  PhysicalActivity_Yes +  GenHealth_Excellent +  GenHealth_Fair + \\\n",
    " GenHealth_Poor +  GenHealth_VeryGood +  Asthma_No +  Asthma_Yes +  KidneyDisease_No +  KidneyDisease_Yes + \\\n",
    " SkinCancer_No +  SkinCancer_Yes'\n",
    "\n",
    "\n",
    "# Q(\"Race_American Indian/Alaskan Native\") + \\  Race_Asian +  Race_Black +  Race_Hispanic +  Race_Other + "
   ]
  },
  {
   "cell_type": "markdown",
   "id": "75fef072",
   "metadata": {},
   "source": [
    "#### Avaliando os Betas "
   ]
  },
  {
   "cell_type": "code",
   "execution_count": 32,
   "id": "a4a68f4e",
   "metadata": {
    "ExecuteTime": {
     "end_time": "2022-06-03T13:28:16.738730Z",
     "start_time": "2022-06-03T13:28:16.324619Z"
    }
   },
   "outputs": [],
   "source": [
    "y_treino, X_treino = dmatrices(variaveis, \n",
    "                 data=df_, return_type='dataframe')"
   ]
  },
  {
   "cell_type": "code",
   "execution_count": 33,
   "id": "2014bdb8",
   "metadata": {
    "ExecuteTime": {
     "end_time": "2022-06-03T13:28:29.962306Z",
     "start_time": "2022-06-03T13:28:17.770666Z"
    }
   },
   "outputs": [
    {
     "ename": "PerfectSeparationError",
     "evalue": "Perfect separation detected, results not available",
     "output_type": "error",
     "traceback": [
      "\u001b[1;31m---------------------------------------------------------------------------\u001b[0m",
      "\u001b[1;31mPerfectSeparationError\u001b[0m                    Traceback (most recent call last)",
      "Input \u001b[1;32mIn [33]\u001b[0m, in \u001b[0;36m<cell line: 3>\u001b[1;34m()\u001b[0m\n\u001b[0;32m      1\u001b[0m X_treino\u001b[38;5;241m.\u001b[39mexog \u001b[38;5;241m=\u001b[39m sm\u001b[38;5;241m.\u001b[39madd_constant(X_treino)\n\u001b[0;32m      2\u001b[0m logit_mod \u001b[38;5;241m=\u001b[39m sm\u001b[38;5;241m.\u001b[39mGLM(y_treino, X_treino, family\u001b[38;5;241m=\u001b[39msm\u001b[38;5;241m.\u001b[39mfamilies\u001b[38;5;241m.\u001b[39mBinomial())\n\u001b[1;32m----> 3\u001b[0m logit_res \u001b[38;5;241m=\u001b[39m \u001b[43mlogit_mod\u001b[49m\u001b[38;5;241;43m.\u001b[39;49m\u001b[43mfit\u001b[49m\u001b[43m(\u001b[49m\u001b[43m)\u001b[49m\n\u001b[0;32m      4\u001b[0m \u001b[38;5;28mprint\u001b[39m(logit_res\u001b[38;5;241m.\u001b[39msummary2())\n",
      "File \u001b[1;32m~\\.conda\\envs\\tensor\\lib\\site-packages\\statsmodels\\genmod\\generalized_linear_model.py:1075\u001b[0m, in \u001b[0;36mGLM.fit\u001b[1;34m(self, start_params, maxiter, method, tol, scale, cov_type, cov_kwds, use_t, full_output, disp, max_start_irls, **kwargs)\u001b[0m\n\u001b[0;32m   1073\u001b[0m     \u001b[38;5;28;01mif\u001b[39;00m cov_type\u001b[38;5;241m.\u001b[39mlower() \u001b[38;5;241m==\u001b[39m \u001b[38;5;124m'\u001b[39m\u001b[38;5;124meim\u001b[39m\u001b[38;5;124m'\u001b[39m:\n\u001b[0;32m   1074\u001b[0m         cov_type \u001b[38;5;241m=\u001b[39m \u001b[38;5;124m'\u001b[39m\u001b[38;5;124mnonrobust\u001b[39m\u001b[38;5;124m'\u001b[39m\n\u001b[1;32m-> 1075\u001b[0m     \u001b[38;5;28;01mreturn\u001b[39;00m \u001b[38;5;28mself\u001b[39m\u001b[38;5;241m.\u001b[39m_fit_irls(start_params\u001b[38;5;241m=\u001b[39mstart_params, maxiter\u001b[38;5;241m=\u001b[39mmaxiter,\n\u001b[0;32m   1076\u001b[0m                           tol\u001b[38;5;241m=\u001b[39mtol, scale\u001b[38;5;241m=\u001b[39mscale, cov_type\u001b[38;5;241m=\u001b[39mcov_type,\n\u001b[0;32m   1077\u001b[0m                           cov_kwds\u001b[38;5;241m=\u001b[39mcov_kwds, use_t\u001b[38;5;241m=\u001b[39muse_t, \u001b[38;5;241m*\u001b[39m\u001b[38;5;241m*\u001b[39mkwargs)\n\u001b[0;32m   1078\u001b[0m \u001b[38;5;28;01melse\u001b[39;00m:\n\u001b[0;32m   1079\u001b[0m     \u001b[38;5;28mself\u001b[39m\u001b[38;5;241m.\u001b[39m_optim_hessian \u001b[38;5;241m=\u001b[39m kwargs\u001b[38;5;241m.\u001b[39mget(\u001b[38;5;124m'\u001b[39m\u001b[38;5;124moptim_hessian\u001b[39m\u001b[38;5;124m'\u001b[39m)\n",
      "File \u001b[1;32m~\\.conda\\envs\\tensor\\lib\\site-packages\\statsmodels\\genmod\\generalized_linear_model.py:1224\u001b[0m, in \u001b[0;36mGLM._fit_irls\u001b[1;34m(self, start_params, maxiter, tol, scale, cov_type, cov_kwds, use_t, **kwargs)\u001b[0m\n\u001b[0;32m   1222\u001b[0m \u001b[38;5;28;01mif\u001b[39;00m endog\u001b[38;5;241m.\u001b[39msqueeze()\u001b[38;5;241m.\u001b[39mndim \u001b[38;5;241m==\u001b[39m \u001b[38;5;241m1\u001b[39m \u001b[38;5;129;01mand\u001b[39;00m np\u001b[38;5;241m.\u001b[39mallclose(mu \u001b[38;5;241m-\u001b[39m endog, \u001b[38;5;241m0\u001b[39m):\n\u001b[0;32m   1223\u001b[0m     msg \u001b[38;5;241m=\u001b[39m \u001b[38;5;124m\"\u001b[39m\u001b[38;5;124mPerfect separation detected, results not available\u001b[39m\u001b[38;5;124m\"\u001b[39m\n\u001b[1;32m-> 1224\u001b[0m     \u001b[38;5;28;01mraise\u001b[39;00m PerfectSeparationError(msg)\n\u001b[0;32m   1225\u001b[0m converged \u001b[38;5;241m=\u001b[39m _check_convergence(criterion, iteration \u001b[38;5;241m+\u001b[39m \u001b[38;5;241m1\u001b[39m, atol,\n\u001b[0;32m   1226\u001b[0m                                rtol)\n\u001b[0;32m   1227\u001b[0m \u001b[38;5;28;01mif\u001b[39;00m converged:\n",
      "\u001b[1;31mPerfectSeparationError\u001b[0m: Perfect separation detected, results not available"
     ]
    }
   ],
   "source": [
    "X_treino.exog = sm.add_constant(X_treino)\n",
    "logit_mod = sm.GLM(y_treino, X_treino, family=sm.families.Binomial())\n",
    "logit_res = logit_mod.fit()\n",
    "print(logit_res.summary2())"
   ]
  },
  {
   "cell_type": "markdown",
   "id": "f980cfc4",
   "metadata": {},
   "source": [
    "### Definindo o dataset final"
   ]
  },
  {
   "cell_type": "code",
   "execution_count": 34,
   "id": "f5155d0e",
   "metadata": {
    "ExecuteTime": {
     "end_time": "2022-06-03T13:29:08.455463Z",
     "start_time": "2022-06-03T13:29:08.444455Z"
    }
   },
   "outputs": [],
   "source": [
    "#X_treino.columns"
   ]
  },
  {
   "cell_type": "markdown",
   "id": "540fc9d2",
   "metadata": {},
   "source": [
    "#### Definindo variáveis explicativas "
   ]
  },
  {
   "cell_type": "code",
   "execution_count": 35,
   "id": "01f2525b",
   "metadata": {
    "ExecuteTime": {
     "end_time": "2022-06-03T13:29:10.176818Z",
     "start_time": "2022-06-03T13:29:10.151812Z"
    }
   },
   "outputs": [],
   "source": [
    "data = df_.loc[:, ['BMI', 'PhysicalHealth', 'MentalHealth', 'SleepTime',\n",
    "       'Smoking_No', 'AlcoholDrinking_No', 'AlcoholDrinking_Yes', 'Stroke_No',\n",
    "       'Stroke_Yes', 'DiffWalking_No', 'DiffWalking_Yes', 'Sex_Female',\n",
    "       'Sex_Male', 'AgeCategory_18-24', 'AgeCategory_25-29',\n",
    "       'AgeCategory_30-34', 'AgeCategory_35-39', 'Race_American Indian/Alaskan Native', 'Race_Asian', 'Race_Black',\n",
    "       'Race_Hispanic', 'Race_Other', 'Race_White', \n",
    "       'AgeCategory_40-44', 'AgeCategory_45-49',\n",
    "       'AgeCategory_50-54', 'AgeCategory_55-59',\n",
    "       'AgeCategory_60-64', 'AgeCategory_65-69',\n",
    "       'AgeCategory_70-74', 'AgeCategory_75-79', 'AgeCategory_gt80',\n",
    "       'Diabetic_Yes',\n",
    "       'PhysicalActivity_No', 'PhysicalActivity_Yes', 'GenHealth_Excellent',\n",
    "       'GenHealth_Fair', 'GenHealth_Poor', 'GenHealth_VeryGood', 'Asthma_No',\n",
    "       'Asthma_Yes', 'KidneyDisease_No', 'KidneyDisease_Yes', 'SkinCancer_No',\n",
    "       'SkinCancer_Yes']]\n",
    "\n",
    "# 'Race_American Indian/Alaskan Native', 'Race_Asian', 'Race_Black',\n",
    "# 'Race_Hispanic', 'Race_Other', 'Race_White', "
   ]
  },
  {
   "cell_type": "markdown",
   "id": "a1077747",
   "metadata": {},
   "source": [
    "#### Definindo variável alvo "
   ]
  },
  {
   "cell_type": "code",
   "execution_count": 36,
   "id": "4a907354",
   "metadata": {
    "ExecuteTime": {
     "end_time": "2022-06-03T13:29:13.949873Z",
     "start_time": "2022-06-03T13:29:13.931863Z"
    }
   },
   "outputs": [],
   "source": [
    "target = df_['HeartDisease']"
   ]
  },
  {
   "cell_type": "markdown",
   "id": "435cb2fc",
   "metadata": {},
   "source": [
    "#### Transformando em arrays numpy "
   ]
  },
  {
   "cell_type": "code",
   "execution_count": 37,
   "id": "aa78ab72",
   "metadata": {
    "ExecuteTime": {
     "end_time": "2022-06-03T13:29:16.657472Z",
     "start_time": "2022-06-03T13:29:16.628479Z"
    }
   },
   "outputs": [],
   "source": [
    "data = np.asarray(data)\n",
    "target = np.asarray(target)"
   ]
  },
  {
   "cell_type": "markdown",
   "id": "2f52cc40",
   "metadata": {},
   "source": [
    "#### Split em treino, teste e validacao"
   ]
  },
  {
   "cell_type": "code",
   "execution_count": 38,
   "id": "50ee0705",
   "metadata": {
    "ExecuteTime": {
     "end_time": "2022-06-03T13:29:20.071857Z",
     "start_time": "2022-06-03T13:29:19.869695Z"
    }
   },
   "outputs": [],
   "source": [
    "X_train_full, X_test, y_train_full, y_test = train_test_split(data, target,  random_state=42)\n",
    "X_train, X_valid, y_train, y_valid = train_test_split(X_train_full, y_train_full, random_state=42)"
   ]
  },
  {
   "cell_type": "markdown",
   "id": "cb698656",
   "metadata": {},
   "source": [
    "#### Padronização de valores  "
   ]
  },
  {
   "cell_type": "code",
   "execution_count": 39,
   "id": "f38d54d8",
   "metadata": {
    "ExecuteTime": {
     "end_time": "2022-06-03T13:29:26.417093Z",
     "start_time": "2022-06-03T13:29:26.247049Z"
    }
   },
   "outputs": [],
   "source": [
    "scaler = StandardScaler()\n",
    "X_train = scaler.fit_transform(X_train)\n",
    "X_valid = scaler.transform(X_valid)\n",
    "X_test = scaler.transform(X_test)"
   ]
  },
  {
   "cell_type": "markdown",
   "id": "7c865c29",
   "metadata": {},
   "source": [
    "# O modelo e hiperparâmetros"
   ]
  },
  {
   "cell_type": "markdown",
   "id": "6e80f8d4",
   "metadata": {},
   "source": [
    "### Definindo as camadas de entrada e ocultas "
   ]
  },
  {
   "cell_type": "markdown",
   "id": "34ae1833",
   "metadata": {},
   "source": [
    "#### Definição da funcao de ativacao Sigmoid e o build com o shape na entrada"
   ]
  },
  {
   "cell_type": "code",
   "execution_count": 40,
   "id": "e8fa27e0",
   "metadata": {
    "ExecuteTime": {
     "end_time": "2022-06-03T13:29:34.107929Z",
     "start_time": "2022-06-03T13:29:33.818198Z"
    }
   },
   "outputs": [],
   "source": [
    "model = keras.models.Sequential([\n",
    "    keras.layers.Flatten(input_shape=X_train.shape[1:]),\n",
    "    keras.layers.Dense(800, activation=\"relu\"),\n",
    "    keras.layers.Dense(800, activation=\"relu\", name=\"oculta1\"),\n",
    "    keras.layers.Dense(800, activation=\"relu\", name=\"oculta2\"),\n",
    "    keras.layers.Dense(800, activation=\"relu\", name=\"oculta3\"),\n",
    "    keras.layers.Dense(1, activation=\"sigmoid\")\n",
    "])"
   ]
  },
  {
   "cell_type": "code",
   "execution_count": 97,
   "id": "becb668c",
   "metadata": {
    "ExecuteTime": {
     "end_time": "2022-05-10T21:39:43.489827Z",
     "start_time": "2022-05-10T21:39:43.476486Z"
    }
   },
   "outputs": [
    {
     "data": {
      "text/plain": [
       "'kl = keras.layers\\ninput_ = kl.Input(shape=X_train.shape[1:]) #qtd vars\\nhidden1 = kl.Dense(30, activation=\"relu\")(input_)\\nhidden2 = kl.Dense(30, activation=\"relu\")(hidden1)\\nhidden3 = kl.Dense(30, activation=\"relu\")(hidden2)\\nhidden4 = kl.Dense(30, activation=\"relu\")(hidden3)\\nconcat = kl.Concatenate()([input_, hidden4])\\noutput = kl.Dense(1)(concat)\\nmodel = keras.Model(inputs=[input_], outputs=[output])'"
      ]
     },
     "execution_count": 97,
     "metadata": {},
     "output_type": "execute_result"
    }
   ],
   "source": [
    "\"\"\"kl = keras.layers\n",
    "input_ = kl.Input(shape=X_train.shape[1:]) #qtd vars\n",
    "hidden1 = kl.Dense(30, activation=\"relu\")(input_)\n",
    "hidden2 = kl.Dense(30, activation=\"relu\")(hidden1)\n",
    "hidden3 = kl.Dense(30, activation=\"relu\")(hidden2)\n",
    "hidden4 = kl.Dense(30, activation=\"relu\")(hidden3)\n",
    "concat = kl.Concatenate()([input_, hidden4])\n",
    "output = kl.Dense(1)(concat)\n",
    "model = keras.Model(inputs=[input_], outputs=[output])\"\"\""
   ]
  },
  {
   "cell_type": "markdown",
   "id": "e43b4f12",
   "metadata": {
    "ExecuteTime": {
     "end_time": "2022-04-29T14:24:44.600398Z",
     "start_time": "2022-04-29T14:24:44.585337Z"
    }
   },
   "source": [
    "#### Criando metricas para a regressao logit e definição de Cutoff"
   ]
  },
  {
   "cell_type": "code",
   "execution_count": 41,
   "id": "7c4fbd7e",
   "metadata": {
    "ExecuteTime": {
     "end_time": "2022-06-03T13:29:45.408196Z",
     "start_time": "2022-06-03T13:29:45.387188Z"
    }
   },
   "outputs": [],
   "source": [
    "tf.keras.metrics.FalseNegatives?"
   ]
  },
  {
   "cell_type": "code",
   "execution_count": 42,
   "id": "0439a2de",
   "metadata": {
    "ExecuteTime": {
     "end_time": "2022-06-03T13:29:50.673101Z",
     "start_time": "2022-06-03T13:29:50.652096Z"
    }
   },
   "outputs": [
    {
     "data": {
      "text/plain": [
       "<keras.metrics.metrics.FalseNegatives at 0x2059753ec20>"
      ]
     },
     "execution_count": 42,
     "metadata": {},
     "output_type": "execute_result"
    }
   ],
   "source": [
    "tf.keras.metrics.BinaryAccuracy(\n",
    "    name=\"binary_accuracy\", threshold=0.2\n",
    ")\n",
    "\n",
    "tf.keras.metrics.FalseNegatives(\n",
    "    name=\"false_negatives\", thresholds=0.2    \n",
    ")"
   ]
  },
  {
   "cell_type": "markdown",
   "id": "72c4001e",
   "metadata": {},
   "source": [
    "#### Compilando o modelo "
   ]
  },
  {
   "cell_type": "code",
   "execution_count": 43,
   "id": "c7e29c61",
   "metadata": {
    "ExecuteTime": {
     "end_time": "2022-06-03T13:29:56.037511Z",
     "start_time": "2022-06-03T13:29:56.029508Z"
    }
   },
   "outputs": [],
   "source": [
    "model.compile?"
   ]
  },
  {
   "cell_type": "code",
   "execution_count": 44,
   "id": "64c59c8a",
   "metadata": {
    "ExecuteTime": {
     "end_time": "2022-06-03T13:30:02.083281Z",
     "start_time": "2022-06-03T13:30:02.063257Z"
    }
   },
   "outputs": [],
   "source": [
    "model.compile(loss=\"binary_crossentropy\", optimizer=tf.keras.optimizers.Adam(learning_rate=1e-3), \n",
    "              metrics=[tf.keras.metrics.BinaryAccuracy(), \n",
    "                       tf.keras.metrics.FalseNegatives()])"
   ]
  },
  {
   "cell_type": "markdown",
   "id": "e5d2e55f",
   "metadata": {},
   "source": [
    "#### Definição do diretorio do tensorboard"
   ]
  },
  {
   "cell_type": "code",
   "execution_count": 45,
   "id": "9c559fd0",
   "metadata": {
    "ExecuteTime": {
     "end_time": "2022-06-03T13:30:05.012236Z",
     "start_time": "2022-06-03T13:30:04.997226Z"
    }
   },
   "outputs": [],
   "source": [
    "root_logdir = os.path.join(os.curdir, \"my_logs_hd\")\n",
    "def get_run_logdir():\n",
    "    import time\n",
    "    run_id = time.strftime(\"run_%Y_%m_%d-%H_%M_%S\")\n",
    "    return os.path.join(root_logdir, run_id)\n",
    "\n",
    "root_logdir = get_run_logdir()"
   ]
  },
  {
   "cell_type": "markdown",
   "id": "17d6df2d",
   "metadata": {},
   "source": [
    "#### Funções Callback para parada acidental, parada com loss sem alteracao, gravação no tensorboard"
   ]
  },
  {
   "cell_type": "code",
   "execution_count": 46,
   "id": "e347ebc8",
   "metadata": {
    "ExecuteTime": {
     "end_time": "2022-06-03T13:30:06.711744Z",
     "start_time": "2022-06-03T13:30:06.693734Z"
    }
   },
   "outputs": [],
   "source": [
    "checkpoint_cb = keras.callbacks.ModelCheckpoint(\"modelo5_heart_disease.h5\", save_best_only=True)\n",
    "early_stopping_cb = keras.callbacks.EarlyStopping(patience=10, restore_best_weights=True)\n",
    "tensorboad_cb = keras.callbacks.TensorBoard(root_logdir)"
   ]
  },
  {
   "cell_type": "markdown",
   "id": "7ae5029a",
   "metadata": {},
   "source": [
    "#### Fitando o modelo "
   ]
  },
  {
   "cell_type": "code",
   "execution_count": 47,
   "id": "29f0d39c",
   "metadata": {
    "ExecuteTime": {
     "end_time": "2022-06-03T13:38:20.833836Z",
     "start_time": "2022-06-03T13:30:17.543187Z"
    },
    "scrolled": true
   },
   "outputs": [
    {
     "name": "stdout",
     "output_type": "stream",
     "text": [
      "Epoch 1/100\n",
      "5622/5622 - 46s - loss: 1.2664e-04 - binary_accuracy: 1.0000 - false_negatives: 0.0000e+00 - val_loss: 0.0000e+00 - val_binary_accuracy: 1.0000 - val_false_negatives: 0.0000e+00 - 46s/epoch - 8ms/step\n",
      "Epoch 2/100\n",
      "5622/5622 - 44s - loss: 0.0000e+00 - binary_accuracy: 1.0000 - false_negatives: 0.0000e+00 - val_loss: 0.0000e+00 - val_binary_accuracy: 1.0000 - val_false_negatives: 0.0000e+00 - 44s/epoch - 8ms/step\n",
      "Epoch 3/100\n",
      "5622/5622 - 44s - loss: 0.0000e+00 - binary_accuracy: 1.0000 - false_negatives: 0.0000e+00 - val_loss: 0.0000e+00 - val_binary_accuracy: 1.0000 - val_false_negatives: 0.0000e+00 - 44s/epoch - 8ms/step\n",
      "Epoch 4/100\n",
      "5622/5622 - 45s - loss: 0.0000e+00 - binary_accuracy: 1.0000 - false_negatives: 0.0000e+00 - val_loss: 0.0000e+00 - val_binary_accuracy: 1.0000 - val_false_negatives: 0.0000e+00 - 45s/epoch - 8ms/step\n",
      "Epoch 5/100\n",
      "5622/5622 - 43s - loss: 0.0000e+00 - binary_accuracy: 1.0000 - false_negatives: 0.0000e+00 - val_loss: 0.0000e+00 - val_binary_accuracy: 1.0000 - val_false_negatives: 0.0000e+00 - 43s/epoch - 8ms/step\n",
      "Epoch 6/100\n",
      "5622/5622 - 44s - loss: 0.0000e+00 - binary_accuracy: 1.0000 - false_negatives: 0.0000e+00 - val_loss: 0.0000e+00 - val_binary_accuracy: 1.0000 - val_false_negatives: 0.0000e+00 - 44s/epoch - 8ms/step\n",
      "Epoch 7/100\n",
      "5622/5622 - 42s - loss: 0.0000e+00 - binary_accuracy: 1.0000 - false_negatives: 0.0000e+00 - val_loss: 0.0000e+00 - val_binary_accuracy: 1.0000 - val_false_negatives: 0.0000e+00 - 42s/epoch - 8ms/step\n",
      "Epoch 8/100\n",
      "5622/5622 - 44s - loss: 0.0000e+00 - binary_accuracy: 1.0000 - false_negatives: 0.0000e+00 - val_loss: 0.0000e+00 - val_binary_accuracy: 1.0000 - val_false_negatives: 0.0000e+00 - 44s/epoch - 8ms/step\n",
      "Epoch 9/100\n",
      "5622/5622 - 44s - loss: 0.0000e+00 - binary_accuracy: 1.0000 - false_negatives: 0.0000e+00 - val_loss: 0.0000e+00 - val_binary_accuracy: 1.0000 - val_false_negatives: 0.0000e+00 - 44s/epoch - 8ms/step\n",
      "Epoch 10/100\n",
      "5622/5622 - 43s - loss: 0.0000e+00 - binary_accuracy: 1.0000 - false_negatives: 0.0000e+00 - val_loss: 0.0000e+00 - val_binary_accuracy: 1.0000 - val_false_negatives: 0.0000e+00 - 43s/epoch - 8ms/step\n",
      "Epoch 11/100\n",
      "5622/5622 - 45s - loss: 0.0000e+00 - binary_accuracy: 1.0000 - false_negatives: 0.0000e+00 - val_loss: 0.0000e+00 - val_binary_accuracy: 1.0000 - val_false_negatives: 0.0000e+00 - 45s/epoch - 8ms/step\n"
     ]
    }
   ],
   "source": [
    "hist = model.fit(X_train, y_train, \n",
    "                     epochs=100, batch_size = 32, verbose = 2,\n",
    "                     callbacks=[checkpoint_cb,early_stopping_cb, tensorboad_cb],\n",
    "                     validation_data=(X_valid, y_valid))"
   ]
  },
  {
   "cell_type": "markdown",
   "id": "81a284a1",
   "metadata": {},
   "source": [
    "#### Salvando o modelo "
   ]
  },
  {
   "cell_type": "code",
   "execution_count": 48,
   "id": "032f58b9",
   "metadata": {
    "ExecuteTime": {
     "end_time": "2022-06-03T14:48:48.159819Z",
     "start_time": "2022-06-03T14:48:48.063790Z"
    }
   },
   "outputs": [],
   "source": [
    "model.save(\"modelo1000n_FN_black_heart_disease_03062022.h5\")"
   ]
  },
  {
   "cell_type": "markdown",
   "id": "7bfab37d",
   "metadata": {},
   "source": [
    "#### Verificando o desempenho com a base Teste "
   ]
  },
  {
   "cell_type": "code",
   "execution_count": 49,
   "id": "3ea6ff6b",
   "metadata": {
    "ExecuteTime": {
     "end_time": "2022-06-03T14:49:06.760255Z",
     "start_time": "2022-06-03T14:48:52.113316Z"
    }
   },
   "outputs": [
    {
     "name": "stdout",
     "output_type": "stream",
     "text": [
      "2499/2499 [==============================] - 15s 6ms/step - loss: 0.0000e+00 - binary_accuracy: 1.0000 - false_negatives: 0.0000e+00\n"
     ]
    }
   ],
   "source": [
    "mse_test = model.evaluate(X_test, y_test)"
   ]
  },
  {
   "cell_type": "markdown",
   "id": "5fdaa99f",
   "metadata": {},
   "source": [
    "#### Predição "
   ]
  },
  {
   "cell_type": "code",
   "execution_count": 62,
   "id": "afb82dc8",
   "metadata": {
    "ExecuteTime": {
     "end_time": "2022-06-03T14:51:24.230672Z",
     "start_time": "2022-06-03T14:51:23.204453Z"
    }
   },
   "outputs": [
    {
     "name": "stdout",
     "output_type": "stream",
     "text": [
      "313/313 [==============================] - 1s 3ms/step\n"
     ]
    }
   ],
   "source": [
    "y_pred = model.predict(X_test[:10000])\n",
    "#y_pred_cl =np.argmax(y_pred,axis=1)\n",
    "#len(y_pred_cl)\n"
   ]
  },
  {
   "cell_type": "code",
   "execution_count": 53,
   "id": "f346f308",
   "metadata": {
    "ExecuteTime": {
     "end_time": "2022-06-03T14:49:57.474009Z",
     "start_time": "2022-06-03T14:49:57.451012Z"
    }
   },
   "outputs": [
    {
     "name": "stdout",
     "output_type": "stream",
     "text": [
      "Which predictions match with binary labels: [1. 1. 1. 1. 1. 1. 1. 1. 1. 1. 1. 1. 1. 1. 1. 1. 1. 1. 1. 1. 1. 1. 1. 1.\n",
      " 1. 1. 1. 1. 1. 1. 1. 1. 1. 1. 1. 1. 1. 1. 1. 1. 1. 1. 1. 1. 1. 1. 1. 1.\n",
      " 1. 1. 1. 1. 1. 1. 1. 1. 1. 1. 1. 1. 1. 1. 1. 1. 1. 1. 1. 1. 1. 1. 1. 1.\n",
      " 1. 1. 1. 1. 1. 1. 1. 1. 1. 1. 1. 1. 1. 1. 1. 1. 1. 1. 1. 1. 1. 1. 1. 1.\n",
      " 1. 1. 1. 1.]\n"
     ]
    }
   ],
   "source": [
    "m = tf.keras.metrics.binary_accuracy(y_test, y_pred, threshold=0.5)\n",
    "print(\"Which predictions match with binary labels:\", m.numpy())"
   ]
  },
  {
   "cell_type": "code",
   "execution_count": 55,
   "id": "45797859",
   "metadata": {
    "ExecuteTime": {
     "end_time": "2022-06-03T14:50:14.558507Z",
     "start_time": "2022-06-03T14:50:14.532499Z"
    }
   },
   "outputs": [
    {
     "data": {
      "text/plain": [
       "1.0"
      ]
     },
     "execution_count": 55,
     "metadata": {},
     "output_type": "execute_result"
    }
   ],
   "source": [
    "mm = tf.keras.metrics.BinaryAccuracy()\n",
    "mm.update_state(y_test[:100], y_pred)\n",
    "mm.result().numpy()"
   ]
  },
  {
   "cell_type": "markdown",
   "id": "74be2b91",
   "metadata": {},
   "source": [
    "##### Plotagem do que foi predito "
   ]
  },
  {
   "cell_type": "code",
   "execution_count": 56,
   "id": "a7b7a110",
   "metadata": {
    "ExecuteTime": {
     "end_time": "2022-06-03T14:50:21.389487Z",
     "start_time": "2022-06-03T14:50:21.377491Z"
    }
   },
   "outputs": [
    {
     "name": "stdout",
     "output_type": "stream",
     "text": [
      "1.0 1.0 0.0 1.0 1.0\n"
     ]
    }
   ],
   "source": [
    "media = np.mean(y_pred)\n",
    "mediana = np.median(y_pred)\n",
    "std = np.std(y_pred)\n",
    "minimo = np.amin(y_pred)\n",
    "maximo = np.amax(y_pred)\n",
    "print(media, mediana, std, minimo, maximo)"
   ]
  },
  {
   "cell_type": "markdown",
   "id": "d5c52c09",
   "metadata": {},
   "source": [
    "### Evaluation do modelo"
   ]
  },
  {
   "cell_type": "markdown",
   "id": "b1482ecc",
   "metadata": {},
   "source": [
    "#### Regulando o Cutoff manualmente "
   ]
  },
  {
   "cell_type": "code",
   "execution_count": 57,
   "id": "15b97df0",
   "metadata": {
    "ExecuteTime": {
     "end_time": "2022-06-03T14:50:30.975891Z",
     "start_time": "2022-06-03T14:50:24.712456Z"
    }
   },
   "outputs": [
    {
     "name": "stdout",
     "output_type": "stream",
     "text": [
      "2499/2499 [==============================] - 6s 2ms/step\n"
     ]
    }
   ],
   "source": [
    "ypred = model.predict(X_test, verbose=1)\n",
    "ypred = np.argmax(ypred, axis=1)"
   ]
  },
  {
   "cell_type": "code",
   "execution_count": 58,
   "id": "af6c351b",
   "metadata": {
    "ExecuteTime": {
     "end_time": "2022-06-03T14:50:35.847978Z",
     "start_time": "2022-06-03T14:50:35.835963Z"
    }
   },
   "outputs": [
    {
     "data": {
      "text/plain": [
       "array([[    0, 79949]], dtype=int64)"
      ]
     },
     "execution_count": 58,
     "metadata": {},
     "output_type": "execute_result"
    }
   ],
   "source": [
    "unique, counts = np.unique(ypred, return_counts=True)\n",
    "np.asarray((unique, counts)).T"
   ]
  },
  {
   "cell_type": "code",
   "execution_count": 59,
   "id": "bfaf0f5b",
   "metadata": {
    "ExecuteTime": {
     "end_time": "2022-06-03T14:50:40.986744Z",
     "start_time": "2022-06-03T14:50:40.977691Z"
    }
   },
   "outputs": [],
   "source": [
    "ctf = 0.2\n",
    "y_pred_clm = [1 if x > ctf else 0 for x in y_pred]"
   ]
  },
  {
   "cell_type": "markdown",
   "id": "7b07ded8",
   "metadata": {},
   "source": [
    "#### Jaccard teste para acuracia por classe "
   ]
  },
  {
   "cell_type": "code",
   "execution_count": 60,
   "id": "634e0054",
   "metadata": {
    "ExecuteTime": {
     "end_time": "2022-06-03T14:50:44.760135Z",
     "start_time": "2022-06-03T14:50:44.345032Z"
    }
   },
   "outputs": [
    {
     "ename": "ValueError",
     "evalue": "Found input variables with inconsistent numbers of samples: [79949, 100]",
     "output_type": "error",
     "traceback": [
      "\u001b[1;31m---------------------------------------------------------------------------\u001b[0m",
      "\u001b[1;31mValueError\u001b[0m                                Traceback (most recent call last)",
      "Input \u001b[1;32mIn [60]\u001b[0m, in \u001b[0;36m<cell line: 2>\u001b[1;34m()\u001b[0m\n\u001b[0;32m      1\u001b[0m \u001b[38;5;28;01mfrom\u001b[39;00m \u001b[38;5;21;01msklearn\u001b[39;00m\u001b[38;5;21;01m.\u001b[39;00m\u001b[38;5;21;01mmetrics\u001b[39;00m \u001b[38;5;28;01mimport\u001b[39;00m jaccard_score\n\u001b[1;32m----> 2\u001b[0m jac_1 \u001b[38;5;241m=\u001b[39m \u001b[43mjaccard_score\u001b[49m\u001b[43m(\u001b[49m\u001b[43my_test\u001b[49m\u001b[43m,\u001b[49m\u001b[43m \u001b[49m\u001b[43my_pred_clm\u001b[49m\u001b[43m,\u001b[49m\u001b[43m \u001b[49m\u001b[43mpos_label\u001b[49m\u001b[38;5;241;43m=\u001b[39;49m\u001b[38;5;241;43m1\u001b[39;49m\u001b[43m)\u001b[49m\n\u001b[0;32m      3\u001b[0m jac_0 \u001b[38;5;241m=\u001b[39m jaccard_score(y_test, y_pred_clm, pos_label\u001b[38;5;241m=\u001b[39m\u001b[38;5;241m0\u001b[39m)\n\u001b[0;32m      5\u001b[0m \u001b[38;5;28mprint\u001b[39m(jac_1, jac_0)\n",
      "File \u001b[1;32m~\\.conda\\envs\\tensor\\lib\\site-packages\\sklearn\\metrics\\_classification.py:795\u001b[0m, in \u001b[0;36mjaccard_score\u001b[1;34m(y_true, y_pred, labels, pos_label, average, sample_weight, zero_division)\u001b[0m\n\u001b[0;32m    667\u001b[0m \u001b[38;5;28;01mdef\u001b[39;00m \u001b[38;5;21mjaccard_score\u001b[39m(\n\u001b[0;32m    668\u001b[0m     y_true,\n\u001b[0;32m    669\u001b[0m     y_pred,\n\u001b[1;32m   (...)\u001b[0m\n\u001b[0;32m    675\u001b[0m     zero_division\u001b[38;5;241m=\u001b[39m\u001b[38;5;124m\"\u001b[39m\u001b[38;5;124mwarn\u001b[39m\u001b[38;5;124m\"\u001b[39m,\n\u001b[0;32m    676\u001b[0m ):\n\u001b[0;32m    677\u001b[0m     \u001b[38;5;124;03m\"\"\"Jaccard similarity coefficient score.\u001b[39;00m\n\u001b[0;32m    678\u001b[0m \n\u001b[0;32m    679\u001b[0m \u001b[38;5;124;03m    The Jaccard index [1], or Jaccard similarity coefficient, defined as\u001b[39;00m\n\u001b[1;32m   (...)\u001b[0m\n\u001b[0;32m    793\u001b[0m \u001b[38;5;124;03m    array([1. , 0. , 0.33...])\u001b[39;00m\n\u001b[0;32m    794\u001b[0m \u001b[38;5;124;03m    \"\"\"\u001b[39;00m\n\u001b[1;32m--> 795\u001b[0m     labels \u001b[38;5;241m=\u001b[39m \u001b[43m_check_set_wise_labels\u001b[49m\u001b[43m(\u001b[49m\u001b[43my_true\u001b[49m\u001b[43m,\u001b[49m\u001b[43m \u001b[49m\u001b[43my_pred\u001b[49m\u001b[43m,\u001b[49m\u001b[43m \u001b[49m\u001b[43maverage\u001b[49m\u001b[43m,\u001b[49m\u001b[43m \u001b[49m\u001b[43mlabels\u001b[49m\u001b[43m,\u001b[49m\u001b[43m \u001b[49m\u001b[43mpos_label\u001b[49m\u001b[43m)\u001b[49m\n\u001b[0;32m    796\u001b[0m     samplewise \u001b[38;5;241m=\u001b[39m average \u001b[38;5;241m==\u001b[39m \u001b[38;5;124m\"\u001b[39m\u001b[38;5;124msamples\u001b[39m\u001b[38;5;124m\"\u001b[39m\n\u001b[0;32m    797\u001b[0m     MCM \u001b[38;5;241m=\u001b[39m multilabel_confusion_matrix(\n\u001b[0;32m    798\u001b[0m         y_true,\n\u001b[0;32m    799\u001b[0m         y_pred,\n\u001b[1;32m   (...)\u001b[0m\n\u001b[0;32m    802\u001b[0m         samplewise\u001b[38;5;241m=\u001b[39msamplewise,\n\u001b[0;32m    803\u001b[0m     )\n",
      "File \u001b[1;32m~\\.conda\\envs\\tensor\\lib\\site-packages\\sklearn\\metrics\\_classification.py:1357\u001b[0m, in \u001b[0;36m_check_set_wise_labels\u001b[1;34m(y_true, y_pred, average, labels, pos_label)\u001b[0m\n\u001b[0;32m   1354\u001b[0m \u001b[38;5;28;01mif\u001b[39;00m average \u001b[38;5;129;01mnot\u001b[39;00m \u001b[38;5;129;01min\u001b[39;00m average_options \u001b[38;5;129;01mand\u001b[39;00m average \u001b[38;5;241m!=\u001b[39m \u001b[38;5;124m\"\u001b[39m\u001b[38;5;124mbinary\u001b[39m\u001b[38;5;124m\"\u001b[39m:\n\u001b[0;32m   1355\u001b[0m     \u001b[38;5;28;01mraise\u001b[39;00m \u001b[38;5;167;01mValueError\u001b[39;00m(\u001b[38;5;124m\"\u001b[39m\u001b[38;5;124maverage has to be one of \u001b[39m\u001b[38;5;124m\"\u001b[39m \u001b[38;5;241m+\u001b[39m \u001b[38;5;28mstr\u001b[39m(average_options))\n\u001b[1;32m-> 1357\u001b[0m y_type, y_true, y_pred \u001b[38;5;241m=\u001b[39m \u001b[43m_check_targets\u001b[49m\u001b[43m(\u001b[49m\u001b[43my_true\u001b[49m\u001b[43m,\u001b[49m\u001b[43m \u001b[49m\u001b[43my_pred\u001b[49m\u001b[43m)\u001b[49m\n\u001b[0;32m   1358\u001b[0m \u001b[38;5;66;03m# Convert to Python primitive type to avoid NumPy type / Python str\u001b[39;00m\n\u001b[0;32m   1359\u001b[0m \u001b[38;5;66;03m# comparison. See https://github.com/numpy/numpy/issues/6784\u001b[39;00m\n\u001b[0;32m   1360\u001b[0m present_labels \u001b[38;5;241m=\u001b[39m unique_labels(y_true, y_pred)\u001b[38;5;241m.\u001b[39mtolist()\n",
      "File \u001b[1;32m~\\.conda\\envs\\tensor\\lib\\site-packages\\sklearn\\metrics\\_classification.py:84\u001b[0m, in \u001b[0;36m_check_targets\u001b[1;34m(y_true, y_pred)\u001b[0m\n\u001b[0;32m     57\u001b[0m \u001b[38;5;28;01mdef\u001b[39;00m \u001b[38;5;21m_check_targets\u001b[39m(y_true, y_pred):\n\u001b[0;32m     58\u001b[0m     \u001b[38;5;124;03m\"\"\"Check that y_true and y_pred belong to the same classification task.\u001b[39;00m\n\u001b[0;32m     59\u001b[0m \n\u001b[0;32m     60\u001b[0m \u001b[38;5;124;03m    This converts multiclass or binary types to a common shape, and raises a\u001b[39;00m\n\u001b[1;32m   (...)\u001b[0m\n\u001b[0;32m     82\u001b[0m \u001b[38;5;124;03m    y_pred : array or indicator matrix\u001b[39;00m\n\u001b[0;32m     83\u001b[0m \u001b[38;5;124;03m    \"\"\"\u001b[39;00m\n\u001b[1;32m---> 84\u001b[0m     \u001b[43mcheck_consistent_length\u001b[49m\u001b[43m(\u001b[49m\u001b[43my_true\u001b[49m\u001b[43m,\u001b[49m\u001b[43m \u001b[49m\u001b[43my_pred\u001b[49m\u001b[43m)\u001b[49m\n\u001b[0;32m     85\u001b[0m     type_true \u001b[38;5;241m=\u001b[39m type_of_target(y_true, input_name\u001b[38;5;241m=\u001b[39m\u001b[38;5;124m\"\u001b[39m\u001b[38;5;124my_true\u001b[39m\u001b[38;5;124m\"\u001b[39m)\n\u001b[0;32m     86\u001b[0m     type_pred \u001b[38;5;241m=\u001b[39m type_of_target(y_pred, input_name\u001b[38;5;241m=\u001b[39m\u001b[38;5;124m\"\u001b[39m\u001b[38;5;124my_pred\u001b[39m\u001b[38;5;124m\"\u001b[39m)\n",
      "File \u001b[1;32m~\\.conda\\envs\\tensor\\lib\\site-packages\\sklearn\\utils\\validation.py:387\u001b[0m, in \u001b[0;36mcheck_consistent_length\u001b[1;34m(*arrays)\u001b[0m\n\u001b[0;32m    385\u001b[0m uniques \u001b[38;5;241m=\u001b[39m np\u001b[38;5;241m.\u001b[39munique(lengths)\n\u001b[0;32m    386\u001b[0m \u001b[38;5;28;01mif\u001b[39;00m \u001b[38;5;28mlen\u001b[39m(uniques) \u001b[38;5;241m>\u001b[39m \u001b[38;5;241m1\u001b[39m:\n\u001b[1;32m--> 387\u001b[0m     \u001b[38;5;28;01mraise\u001b[39;00m \u001b[38;5;167;01mValueError\u001b[39;00m(\n\u001b[0;32m    388\u001b[0m         \u001b[38;5;124m\"\u001b[39m\u001b[38;5;124mFound input variables with inconsistent numbers of samples: \u001b[39m\u001b[38;5;132;01m%r\u001b[39;00m\u001b[38;5;124m\"\u001b[39m\n\u001b[0;32m    389\u001b[0m         \u001b[38;5;241m%\u001b[39m [\u001b[38;5;28mint\u001b[39m(l) \u001b[38;5;28;01mfor\u001b[39;00m l \u001b[38;5;129;01min\u001b[39;00m lengths]\n\u001b[0;32m    390\u001b[0m     )\n",
      "\u001b[1;31mValueError\u001b[0m: Found input variables with inconsistent numbers of samples: [79949, 100]"
     ]
    }
   ],
   "source": [
    "from sklearn.metrics import jaccard_score\n",
    "jac_1 = jaccard_score(y_test, y_pred_clm, pos_label=1)\n",
    "jac_0 = jaccard_score(y_test, y_pred_clm, pos_label=0)\n",
    "\n",
    "print(jac_1, jac_0)"
   ]
  },
  {
   "cell_type": "markdown",
   "id": "2899acaa",
   "metadata": {},
   "source": [
    "#### Matriz de confusão "
   ]
  },
  {
   "cell_type": "code",
   "execution_count": 63,
   "id": "bf3b4151",
   "metadata": {
    "ExecuteTime": {
     "end_time": "2022-06-03T14:51:28.649818Z",
     "start_time": "2022-06-03T14:51:28.628814Z"
    }
   },
   "outputs": [],
   "source": [
    "CM = confusion_matrix(y_test[:10000], y_pred, labels=[0,1]) # 1,0 falso neg em cima / 0,1 falso neg embaixo"
   ]
  },
  {
   "cell_type": "code",
   "execution_count": 65,
   "id": "8269261d",
   "metadata": {
    "ExecuteTime": {
     "end_time": "2022-06-03T14:51:38.757894Z",
     "start_time": "2022-06-03T14:51:38.613864Z"
    }
   },
   "outputs": [
    {
     "name": "stdout",
     "output_type": "stream",
     "text": [
      "Matriz de Confusão, sem normalização\n",
      "[[    0     0]\n",
      " [    0 10000]]\n"
     ]
    },
    {
     "data": {
      "image/png": "[encoded data removed]",
      "text/plain": [
       "<Figure size 432x288 with 2 Axes>"
      ]
     },
     "metadata": {
      "needs_background": "light"
     },
     "output_type": "display_data"
    }
   ],
   "source": [
    "plot_confusion_matrix(CM, classes=['sem dc = 0','com dc = 1'], normalize= False,  title='Matriz de Confusão - cutoff %s' %ctf)"
   ]
  },
  {
   "cell_type": "markdown",
   "id": "5260cea1",
   "metadata": {},
   "source": [
    "#### Sensitividade e Especificidade"
   ]
  },
  {
   "cell_type": "code",
   "execution_count": null,
   "id": "d1c898be",
   "metadata": {
    "ExecuteTime": {
     "end_time": "2022-05-10T17:35:08.582066Z",
     "start_time": "2022-05-10T17:35:08.570065Z"
    }
   },
   "outputs": [],
   "source": [
    "tp,fn,fp,tn= CM[0][0],CM[0][1],CM[1][0],CM[1][1]\n",
    "sensitividade = (tp / (fp + tp)) * 100\n",
    "print(f'Nossa sensitividade é de {round(sensitividade,5)} %') # balanco de positivo\n",
    "especificidade = (tn / (fp + tn)) * 100\n",
    "print(f'Nossa especificidade é de {round(especificidade,6)} %') # balanco de negativo"
   ]
  },
  {
   "cell_type": "markdown",
   "id": "aa9c45a9",
   "metadata": {},
   "source": [
    "#### Sumário de classificação "
   ]
  },
  {
   "cell_type": "code",
   "execution_count": null,
   "id": "4434a559",
   "metadata": {
    "ExecuteTime": {
     "end_time": "2022-05-10T17:35:23.460438Z",
     "start_time": "2022-05-10T17:35:23.317703Z"
    }
   },
   "outputs": [],
   "source": [
    "print (classification_report(y_test, y_pred_clm))"
   ]
  },
  {
   "cell_type": "markdown",
   "id": "182552bd",
   "metadata": {},
   "source": [
    "#### Curva ROC"
   ]
  },
  {
   "cell_type": "code",
   "execution_count": null,
   "id": "03aa418e",
   "metadata": {
    "ExecuteTime": {
     "end_time": "2022-05-10T17:35:31.622035Z",
     "start_time": "2022-05-10T17:35:31.362540Z"
    }
   },
   "outputs": [],
   "source": [
    "fpr, tpr, _ = roc_curve(y_test,  y_pred, pos_label=1)\n",
    "auc = roc_auc_score(y_test, y_pred)\n",
    "plt.plot(fpr,tpr,label=\"data 1, auc=\"+str(auc))\n",
    "plt.plot([1,0], [1,0], color='navy', lw=1, linestyle='--')\n",
    "plt.xlabel('Falsos Positivo')\n",
    "plt.ylabel('Verdadeiros Positivo')\n",
    "plt.title('ROC')\n",
    "plt.legend(loc=\"best\")\n",
    "plt.show()"
   ]
  },
  {
   "cell_type": "code",
   "execution_count": null,
   "id": "ac9d3843",
   "metadata": {
    "ExecuteTime": {
     "end_time": "2022-05-10T17:35:32.480855Z",
     "start_time": "2022-05-10T17:35:32.254363Z"
    }
   },
   "outputs": [],
   "source": [
    "pd.DataFrame(hist.history).plot(figsize=(15,5))\n",
    "plt.grid(True)\n",
    "plt.gca().set_ylim(0,2)\n",
    "plt.show()"
   ]
  },
  {
   "cell_type": "markdown",
   "id": "8fcb82f9",
   "metadata": {},
   "source": [
    "# Considerações finais"
   ]
  },
  {
   "cell_type": "markdown",
   "id": "2877c0ed",
   "metadata": {},
   "source": [
    "### Carregando o melhor modelo  "
   ]
  },
  {
   "cell_type": "code",
   "execution_count": null,
   "id": "21f0fc5e",
   "metadata": {
    "ExecuteTime": {
     "end_time": "2022-04-29T14:46:56.584572Z",
     "start_time": "2022-04-29T14:46:56.565572Z"
    }
   },
   "outputs": [],
   "source": [
    "#model_bes = keras.models.load_model(\"modelo1_heart_disease.h5\") "
   ]
  },
  {
   "cell_type": "code",
   "execution_count": null,
   "id": "5c0d1df3",
   "metadata": {},
   "outputs": [],
   "source": []
  },
  {
   "cell_type": "markdown",
   "id": "944d5116",
   "metadata": {},
   "source": [
    "# Funções auxiliares"
   ]
  },
  {
   "cell_type": "markdown",
   "id": "faae9694",
   "metadata": {},
   "source": [
    "## Matriz de confusão "
   ]
  },
  {
   "cell_type": "code",
   "execution_count": 64,
   "id": "7dd709f5",
   "metadata": {
    "ExecuteTime": {
     "end_time": "2022-06-03T14:51:34.596255Z",
     "start_time": "2022-06-03T14:51:34.588253Z"
    }
   },
   "outputs": [],
   "source": [
    "from sklearn.metrics import classification_report, confusion_matrix\n",
    "import itertools\n",
    "def plot_confusion_matrix(cm, classes,\n",
    "                          normalize=False,\n",
    "                          title='Matriz de Confusão',\n",
    "                          cmap=plt.cm.Blues):\n",
    "    \"\"\"\n",
    "    This function prints and plots the confusion matrix.\n",
    "    Normalization can be applied by setting `normalize=True`.\n",
    "    \"\"\"\n",
    "    if normalize:\n",
    "        cm = cm.astype('float') / cm.sum(axis=1)[:, np.newaxis]\n",
    "        print(\"Normalizada Matriz de Confusão\")\n",
    "    else:\n",
    "        print('Matriz de Confusão, sem normalização')\n",
    "\n",
    "    print(cm)\n",
    "\n",
    "    plt.imshow(cm, interpolation='nearest', cmap=cmap)\n",
    "    plt.title(title)\n",
    "    plt.colorbar()\n",
    "    tick_marks = np.arange(len(classes))\n",
    "    plt.xticks(tick_marks, classes, rotation=45)\n",
    "    plt.yticks(tick_marks, classes)\n",
    "\n",
    "    fmt = '.2f' if normalize else 'd'\n",
    "    thresh = cm.max() / 2.\n",
    "    for i, j in itertools.product(range(cm.shape[0]), range(cm.shape[1])):\n",
    "        plt.text(j, i, format(cm[i, j], fmt),\n",
    "                 horizontalalignment=\"center\",\n",
    "                 color=\"white\" if cm[i, j] > thresh else \"black\")\n",
    "    \n",
    "    \n",
    "    plt.tight_layout()\n",
    "    plt.ylabel('Real label')\n",
    "    plt.xlabel('Predição label')"
   ]
  }
 ],
 "metadata": {
  "hide_input": false,
  "kernelspec": {
   "display_name": "Python [conda env:.conda-tensor]",
   "language": "python",
   "name": "conda-env-.conda-tensor-py"
  },
  "language_info": {
   "codemirror_mode": {
    "name": "ipython",
    "version": 3
   },
   "file_extension": ".py",
   "mimetype": "text/x-python",
   "name": "python",
   "nbconvert_exporter": "python",
   "pygments_lexer": "ipython3",
   "version": "3.10.4"
  },
  "toc": {
   "base_numbering": 1,
   "nav_menu": {},
   "number_sections": true,
   "sideBar": true,
   "skip_h1_title": false,
   "title_cell": "Table of Contents",
   "title_sidebar": "Pipeline",
   "toc_cell": false,
   "toc_position": {
    "height": "calc(100% - 180px)",
    "left": "10px",
    "top": "150px",
    "width": "328px"
   },
   "toc_section_display": true,
   "toc_window_display": true
  },
  "varInspector": {
   "cols": {
    "lenName": 16,
    "lenType": 16,
    "lenVar": 40
   },
   "kernels_config": {
    "python": {
     "delete_cmd_postfix": "",
     "delete_cmd_prefix": "del ",
     "library": "var_list.py",
     "varRefreshCmd": "print(var_dic_list())"
    },
    "r": {
     "delete_cmd_postfix": ") ",
     "delete_cmd_prefix": "rm(",
     "library": "var_list.r",
     "varRefreshCmd": "cat(var_dic_list()) "
    }
   },
   "types_to_exclude": [
    "module",
    "function",
    "builtin_function_or_method",
    "instance",
    "_Feature"
   ],
   "window_display": false
  }
 },
 "nbformat": 4,
 "nbformat_minor": 5
}
