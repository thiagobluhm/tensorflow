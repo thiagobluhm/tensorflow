{
 "cells": [
  {
   "cell_type": "markdown",
   "id": "99c02b79",
   "metadata": {},
   "source": [
    "# Kaggle Dataset - heart disease"
   ]
  },
  {
   "cell_type": "markdown",
   "id": "056b1a48",
   "metadata": {},
   "source": [
    "## Introdução "
   ]
  },
  {
   "cell_type": "markdown",
   "id": "f6ce911e",
   "metadata": {},
   "source": [
    "O dataset vem com variáveis que poderiam explicar se uma pessoa terá ou não doenças cardiacas."
   ]
  },
  {
   "cell_type": "markdown",
   "id": "984ea058",
   "metadata": {},
   "source": [
    "# Importação de pacotes e carga de dados"
   ]
  },
  {
   "cell_type": "markdown",
   "id": "cd8fe465",
   "metadata": {},
   "source": [
    "### Pacotes "
   ]
  },
  {
   "cell_type": "code",
   "execution_count": 6,
   "id": "2d37bb89",
   "metadata": {
    "ExecuteTime": {
     "end_time": "2022-06-03T20:30:06.989407Z",
     "start_time": "2022-06-03T20:30:06.984411Z"
    }
   },
   "outputs": [],
   "source": [
    "import numpy as np\n",
    "import pandas as pd\n",
    "import matplotlib.pyplot as plt\n",
    "import tensorflow as tf\n",
    "from tensorflow import keras\n",
    "from sklearn.model_selection import train_test_split, ShuffleSplit\n",
    "from sklearn.preprocessing import StandardScaler\n",
    "from sklearn.metrics import precision_recall_curve\n",
    "from sklearn.metrics import precision_score, recall_score,roc_auc_score, roc_curve\n",
    "from sklearn.metrics import accuracy_score\n",
    "from numpy import mean\n",
    "from sklearn.utils.class_weight import compute_class_weight\n",
    "from sklearn.metrics import classification_report, confusion_matrix\n",
    "import sys\n",
    "import os\n",
    "os.chdir(r'C:\\Users\\Thiago Bluhm\\OneDrive - Grupo Portfolio\\Documentos\\ESTUDO\\DEEP LEARNING e REDES NEURAIS\\tensorflow\\dados')\n",
    "pd.set_option('display.max_columns', 100)\n",
    "pd.set_option('display.max_rows', 200)\n",
    "\n",
    "import warnings\n",
    "warnings.filterwarnings('ignore')"
   ]
  },
  {
   "cell_type": "code",
   "execution_count": 7,
   "id": "039dc8c9",
   "metadata": {
    "ExecuteTime": {
     "end_time": "2022-06-03T20:30:08.672142Z",
     "start_time": "2022-06-03T20:30:08.661140Z"
    },
    "scrolled": true
   },
   "outputs": [
    {
     "name": "stdout",
     "output_type": "stream",
     "text": [
      "['/device:CPU:0', '/device:GPU:0']\n"
     ]
    }
   ],
   "source": [
    "from tensorflow.python.client import device_lib\n",
    "\n",
    "def get_available_devices():\n",
    "    local_device_protos = device_lib.list_local_devices()\n",
    "    return [x.name for x in local_device_protos]\n",
    "\n",
    "print(get_available_devices())"
   ]
  },
  {
   "cell_type": "markdown",
   "id": "47d7c4c3",
   "metadata": {},
   "source": [
    "### Descarregando a base "
   ]
  },
  {
   "cell_type": "code",
   "execution_count": 9,
   "id": "a2a36a81",
   "metadata": {
    "ExecuteTime": {
     "end_time": "2022-06-03T20:30:12.667558Z",
     "start_time": "2022-06-03T20:30:12.248460Z"
    }
   },
   "outputs": [],
   "source": [
    "df = pd.read_csv(\"heart_2020_cleaned.csv\", sep=\",\")"
   ]
  },
  {
   "cell_type": "code",
   "execution_count": 10,
   "id": "d8e0d447",
   "metadata": {
    "ExecuteTime": {
     "end_time": "2022-06-03T20:30:12.714559Z",
     "start_time": "2022-06-03T20:30:12.685552Z"
    }
   },
   "outputs": [
    {
     "data": {
      "text/html": [
       "<div>\n",
       "<style scoped>\n",
       "    .dataframe tbody tr th:only-of-type {\n",
       "        vertical-align: middle;\n",
       "    }\n",
       "\n",
       "    .dataframe tbody tr th {\n",
       "        vertical-align: top;\n",
       "    }\n",
       "\n",
       "    .dataframe thead th {\n",
       "        text-align: right;\n",
       "    }\n",
       "</style>\n",
       "<table border=\"1\" class=\"dataframe\">\n",
       "  <thead>\n",
       "    <tr style=\"text-align: right;\">\n",
       "      <th></th>\n",
       "      <th>HeartDisease</th>\n",
       "      <th>BMI</th>\n",
       "      <th>Smoking</th>\n",
       "      <th>AlcoholDrinking</th>\n",
       "      <th>Stroke</th>\n",
       "      <th>PhysicalHealth</th>\n",
       "      <th>MentalHealth</th>\n",
       "      <th>DiffWalking</th>\n",
       "      <th>Sex</th>\n",
       "      <th>AgeCategory</th>\n",
       "      <th>Race</th>\n",
       "      <th>Diabetic</th>\n",
       "      <th>PhysicalActivity</th>\n",
       "      <th>GenHealth</th>\n",
       "      <th>SleepTime</th>\n",
       "      <th>Asthma</th>\n",
       "      <th>KidneyDisease</th>\n",
       "      <th>SkinCancer</th>\n",
       "    </tr>\n",
       "  </thead>\n",
       "  <tbody>\n",
       "    <tr>\n",
       "      <th>0</th>\n",
       "      <td>No</td>\n",
       "      <td>16.60</td>\n",
       "      <td>Yes</td>\n",
       "      <td>No</td>\n",
       "      <td>No</td>\n",
       "      <td>3.0</td>\n",
       "      <td>30.0</td>\n",
       "      <td>No</td>\n",
       "      <td>Female</td>\n",
       "      <td>55-59</td>\n",
       "      <td>White</td>\n",
       "      <td>Yes</td>\n",
       "      <td>Yes</td>\n",
       "      <td>Very good</td>\n",
       "      <td>5.0</td>\n",
       "      <td>Yes</td>\n",
       "      <td>No</td>\n",
       "      <td>Yes</td>\n",
       "    </tr>\n",
       "    <tr>\n",
       "      <th>1</th>\n",
       "      <td>No</td>\n",
       "      <td>20.34</td>\n",
       "      <td>No</td>\n",
       "      <td>No</td>\n",
       "      <td>Yes</td>\n",
       "      <td>0.0</td>\n",
       "      <td>0.0</td>\n",
       "      <td>No</td>\n",
       "      <td>Female</td>\n",
       "      <td>80 or older</td>\n",
       "      <td>White</td>\n",
       "      <td>No</td>\n",
       "      <td>Yes</td>\n",
       "      <td>Very good</td>\n",
       "      <td>7.0</td>\n",
       "      <td>No</td>\n",
       "      <td>No</td>\n",
       "      <td>No</td>\n",
       "    </tr>\n",
       "    <tr>\n",
       "      <th>2</th>\n",
       "      <td>No</td>\n",
       "      <td>26.58</td>\n",
       "      <td>Yes</td>\n",
       "      <td>No</td>\n",
       "      <td>No</td>\n",
       "      <td>20.0</td>\n",
       "      <td>30.0</td>\n",
       "      <td>No</td>\n",
       "      <td>Male</td>\n",
       "      <td>65-69</td>\n",
       "      <td>White</td>\n",
       "      <td>Yes</td>\n",
       "      <td>Yes</td>\n",
       "      <td>Fair</td>\n",
       "      <td>8.0</td>\n",
       "      <td>Yes</td>\n",
       "      <td>No</td>\n",
       "      <td>No</td>\n",
       "    </tr>\n",
       "  </tbody>\n",
       "</table>\n",
       "</div>"
      ],
      "text/plain": [
       "  HeartDisease    BMI Smoking AlcoholDrinking Stroke  PhysicalHealth  \\\n",
       "0           No  16.60     Yes              No     No             3.0   \n",
       "1           No  20.34      No              No    Yes             0.0   \n",
       "2           No  26.58     Yes              No     No            20.0   \n",
       "\n",
       "   MentalHealth DiffWalking     Sex  AgeCategory   Race Diabetic  \\\n",
       "0          30.0          No  Female        55-59  White      Yes   \n",
       "1           0.0          No  Female  80 or older  White       No   \n",
       "2          30.0          No    Male        65-69  White      Yes   \n",
       "\n",
       "  PhysicalActivity  GenHealth  SleepTime Asthma KidneyDisease SkinCancer  \n",
       "0              Yes  Very good        5.0    Yes            No        Yes  \n",
       "1              Yes  Very good        7.0     No            No         No  \n",
       "2              Yes       Fair        8.0    Yes            No         No  "
      ]
     },
     "execution_count": 10,
     "metadata": {},
     "output_type": "execute_result"
    }
   ],
   "source": [
    "df[:3]"
   ]
  },
  {
   "cell_type": "markdown",
   "id": "40c5fc0c",
   "metadata": {},
   "source": [
    "Vamos pegar apenas a raça negra e verificar os dados"
   ]
  },
  {
   "cell_type": "code",
   "execution_count": 11,
   "id": "5048f929",
   "metadata": {
    "ExecuteTime": {
     "end_time": "2022-06-03T20:30:13.846844Z",
     "start_time": "2022-06-03T20:30:13.825839Z"
    }
   },
   "outputs": [],
   "source": [
    "def plot_est_random(x, y, z, var1, indice):\n",
    "    fig = plt.figure(figsize=(20,5))\n",
    "\n",
    "    ax1 = fig.add_subplot(1,3,1)\n",
    "    ax2 = fig.add_subplot(1,3,2)\n",
    "    ax3 = fig.add_subplot(1,3,3)\n",
    "\n",
    "    ax1.hist(x[var1[indice]], bins=25, color='#3434F6')\n",
    "    ax2.hist(y[var1[indice]], bins=25, color='#B680DA')\n",
    "    ax3.hist(z[var1[indice]], bins=25, color='#F04D5C')\n",
    "\n",
    "    plt.subplots_adjust(wspace=0.2, hspace=0.2)\n",
    "    plt.show()\n",
    "    \n",
    "def calculos_est(x,y,z, var1, indice):\n",
    "    med  = np.mean(x[var1[indice]])\n",
    "    med1 = np.mean(y[var1[indice]])\n",
    "    med2 = np.mean(z[var1[indice]])\n",
    "    \n",
    "    mediana  = np.median(x[var1[indice]])\n",
    "    mediana1 = np.median(y[var1[indice]])\n",
    "    mediana2 = np.median(z[var1[indice]])\n",
    "\n",
    "    sd  = np.std(x[var1[indice]])\n",
    "    sd1 = np.std(y[var1[indice]])\n",
    "    sd2 = np.std(z[var1[indice]])\n",
    "\n",
    "    print(f'Desvio original {sd}, desvio para amostra 1 = {sd1}, desvio para amostra 2 = {sd2}\\n')\n",
    "    print(f'Media original: {med}, media 1: {med1}, media 2: {med2}\\n')\n",
    "    print(f'Mediana original: {mediana}, mediana 1: {mediana1}, mediana 2: {mediana2}\\n')\n",
    "    print(f'Amostra original: {len(x[var1[indice]])} | Amostra 1: {len(y[var1[indice]])} | Amostra 2: {len(z[var1[indice]])}')"
   ]
  },
  {
   "cell_type": "code",
   "execution_count": 12,
   "id": "af03272d",
   "metadata": {
    "ExecuteTime": {
     "end_time": "2022-06-03T20:30:14.365992Z",
     "start_time": "2022-06-03T20:30:14.293976Z"
    }
   },
   "outputs": [],
   "source": [
    "var1 = ['BMI','PhysicalHealth', 'MentalHealth','SleepTime']\n",
    "var2 = ['White', 'Black']\n",
    "a = 0\n",
    "aa = 0\n",
    "\n",
    "df_tt = df[(df['Race'] == var2[a]) & (df['HeartDisease'] == 'Yes')]\n",
    "\n",
    "qtd1 = int(len(df_tt) * 0.025)\n",
    "\n",
    "df_1 = df_tt[df_tt['Race'] == var2[a]].sample(qtd1)\n",
    "df_2 = df_tt[df_tt['Race'] == var2[a]].sample(qtd1*5)"
   ]
  },
  {
   "cell_type": "markdown",
   "id": "f7d31a95",
   "metadata": {},
   "source": [
    "#### Extratifica sem reposicao"
   ]
  },
  {
   "cell_type": "code",
   "execution_count": 13,
   "id": "17c23bb8",
   "metadata": {
    "ExecuteTime": {
     "end_time": "2022-06-03T20:30:15.470210Z",
     "start_time": "2022-06-03T20:30:15.456211Z"
    }
   },
   "outputs": [],
   "source": [
    "qtd2 = int(len(df_2) * 0.05)\n",
    "df_12 = df_2[df_2['Race'] == var2[a]].sample(qtd2)\n",
    "df_22 = df_2[df_2['Race'] == var2[a]].sample(qtd2*5)"
   ]
  },
  {
   "cell_type": "code",
   "execution_count": 14,
   "id": "c8a23e25",
   "metadata": {
    "ExecuteTime": {
     "end_time": "2022-06-03T20:30:16.546451Z",
     "start_time": "2022-06-03T20:30:16.530449Z"
    }
   },
   "outputs": [
    {
     "name": "stdout",
     "output_type": "stream",
     "text": [
      "Desvio original 6.371647180936933, desvio para amostra 1 = 6.5207712458814235, desvio para amostra 2 = 6.253853598041511\n",
      "\n",
      "Media original: 29.20698404940685, media 1: 29.290604982206403, media 2: 29.133434163701068\n",
      "\n",
      "Mediana original: 28.25, mediana 1: 28.48, mediana 2: 28.34\n",
      "\n",
      "Amostra original: 22507 | Amostra 1: 562 | Amostra 2: 2810\n"
     ]
    }
   ],
   "source": [
    "calculos_est(df_tt,df_1, df_2, var1, aa)"
   ]
  },
  {
   "cell_type": "code",
   "execution_count": 15,
   "id": "2cf4ac23",
   "metadata": {
    "ExecuteTime": {
     "end_time": "2022-06-03T20:30:18.150830Z",
     "start_time": "2022-06-03T20:30:17.778727Z"
    }
   },
   "outputs": [
    {
     "data": {
      "image/png": "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\n",
      "text/plain": [
       "<Figure size 1440x360 with 3 Axes>"
      ]
     },
     "metadata": {
      "needs_background": "light"
     },
     "output_type": "display_data"
    }
   ],
   "source": [
    "plot_est_random(df_tt,df_1, df_2, var1, aa)"
   ]
  },
  {
   "cell_type": "code",
   "execution_count": 16,
   "id": "8cd194cc",
   "metadata": {
    "ExecuteTime": {
     "end_time": "2022-06-03T20:30:18.262441Z",
     "start_time": "2022-06-03T20:30:18.248432Z"
    }
   },
   "outputs": [
    {
     "name": "stdout",
     "output_type": "stream",
     "text": [
      "Desvio original 6.253853598041511, desvio para amostra 1 = 6.699432371629765, desvio para amostra 2 = 6.039096633958237\n",
      "\n",
      "Media original: 29.133434163701068, media 1: 30.219571428571427, media 2: 29.043400000000002\n",
      "\n",
      "Mediana original: 28.34, mediana 1: 29.855, mediana 2: 28.240000000000002\n",
      "\n",
      "Amostra original: 2810 | Amostra 1: 140 | Amostra 2: 700\n"
     ]
    }
   ],
   "source": [
    "calculos_est(df_2,df_12, df_22, var1, aa)"
   ]
  },
  {
   "cell_type": "code",
   "execution_count": 17,
   "id": "28e823f7",
   "metadata": {
    "ExecuteTime": {
     "end_time": "2022-06-03T20:30:19.361481Z",
     "start_time": "2022-06-03T20:30:19.050421Z"
    }
   },
   "outputs": [
    {
     "data": {
      "image/png": "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\n",
      "text/plain": [
       "<Figure size 1440x360 with 3 Axes>"
      ]
     },
     "metadata": {
      "needs_background": "light"
     },
     "output_type": "display_data"
    }
   ],
   "source": [
    "plot_est_random(df_2,df_12, df_22, var1, aa)"
   ]
  },
  {
   "cell_type": "markdown",
   "id": "a6ae696d",
   "metadata": {},
   "source": [
    "#### Modificações nas colunas "
   ]
  },
  {
   "cell_type": "code",
   "execution_count": 18,
   "id": "d92b9ea5",
   "metadata": {
    "ExecuteTime": {
     "end_time": "2022-06-03T20:30:20.573523Z",
     "start_time": "2022-06-03T20:30:20.242409Z"
    }
   },
   "outputs": [],
   "source": [
    "df.GenHealth = [x if x != 'Very good' else 'VeryGood' for x in df.GenHealth]\n",
    "df.AgeCategory = [x if x != '80 or older' else 'gt80' for x in df.AgeCategory]\n",
    "df.HeartDisease = [1 if x != 'No' else 0 for x in df.HeartDisease]\n",
    "df.Diabetic = [x if x != 'Yes (during pregnancy)' else 'ydp' for x in df.Diabetic]"
   ]
  },
  {
   "cell_type": "markdown",
   "id": "c7dbeec5",
   "metadata": {},
   "source": [
    "#### Recarregando o Dataset original"
   ]
  },
  {
   "cell_type": "code",
<<<<<<< Updated upstream
   "execution_count": 20,
   "id": "79f26082",
   "metadata": {
    "ExecuteTime": {
     "end_time": "2022-06-03T20:30:25.754323Z",
     "start_time": "2022-06-03T20:30:25.743309Z"
=======
   "execution_count": 21,
   "id": "79f26082",
   "metadata": {
    "ExecuteTime": {
     "end_time": "2022-06-03T20:45:04.727781Z",
     "start_time": "2022-06-03T20:45:04.708789Z"
>>>>>>> Stashed changes
    }
   },
   "outputs": [],
   "source": [
    "df_dc = df[(df['BMI'] > 35) & (df['SleepTime'] < 5)] #hipotese obesos e com pouco sono"
   ]
  },
  {
   "cell_type": "code",
<<<<<<< Updated upstream
   "execution_count": 137,
   "id": "5bda383e",
   "metadata": {
    "ExecuteTime": {
     "end_time": "2022-06-03T18:02:13.778079Z",
     "start_time": "2022-06-03T18:02:13.762093Z"
=======
   "execution_count": 22,
   "id": "5bda383e",
   "metadata": {
    "ExecuteTime": {
     "end_time": "2022-06-03T20:45:05.300646Z",
     "start_time": "2022-06-03T20:45:05.295644Z"
>>>>>>> Stashed changes
    }
   },
   "outputs": [
    {
     "name": "stdout",
     "output_type": "stream",
     "text": [
<<<<<<< Updated upstream
      "Taxa de pessoas com doenças cardiacas: 27.0%\n"
=======
      "Taxa de pessoas com doenças cardiacas: 23.0%\n"
>>>>>>> Stashed changes
     ]
    }
   ],
   "source": [
    "x = df_dc['HeartDisease'].value_counts()\n",
    "print(f'Taxa de pessoas com doenças cardiacas: {round(x[1]/x[0], 2) * 100}%')"
   ]
  },
  {
   "cell_type": "code",
<<<<<<< Updated upstream
   "execution_count": 98,
   "id": "ed719033",
   "metadata": {
    "ExecuteTime": {
     "end_time": "2022-06-03T17:49:10.076400Z",
     "start_time": "2022-06-03T17:49:09.999383Z"
=======
   "execution_count": 23,
   "id": "ed719033",
   "metadata": {
    "ExecuteTime": {
     "end_time": "2022-06-03T20:45:06.849972Z",
     "start_time": "2022-06-03T20:45:06.748942Z"
>>>>>>> Stashed changes
    }
   },
   "outputs": [
    {
     "data": {
      "text/html": [
       "<style type=\"text/css\">\n",
<<<<<<< Updated upstream
       "#T_fa22d_row0_col0 {\n",
       "  width: 10em;\n",
       "  background: linear-gradient(90deg, #AABB00 0.8%, transparent 0.8%);\n",
       "}\n",
       "#T_fa22d_row1_col0 {\n",
       "  width: 10em;\n",
       "  background: linear-gradient(90deg, #AABB00 1.9%, transparent 1.9%);\n",
       "}\n",
       "#T_fa22d_row2_col0, #T_fa22d_row6_col0, #T_fa22d_row10_col0, #T_fa22d_row14_col0 {\n",
       "  width: 10em;\n",
       "  background: linear-gradient(90deg, #AABB00 0.0%, transparent 0.0%);\n",
       "}\n",
       "#T_fa22d_row3_col0, #T_fa22d_row7_col0, #T_fa22d_row11_col0, #T_fa22d_row15_col0, #T_fa22d_row22_col0, #T_fa22d_row26_col0, #T_fa22d_row34_col0, #T_fa22d_row38_col0 {\n",
       "  width: 10em;\n",
       "  background: linear-gradient(90deg, #AABB00 0.1%, transparent 0.1%);\n",
       "}\n",
       "#T_fa22d_row4_col0, #T_fa22d_row31_col0 {\n",
       "  width: 10em;\n",
       "  background: linear-gradient(90deg, #AABB00 0.6%, transparent 0.6%);\n",
       "}\n",
       "#T_fa22d_row5_col0, #T_fa22d_row46_col0 {\n",
       "  width: 10em;\n",
       "  background: linear-gradient(90deg, #AABB00 1.8%, transparent 1.8%);\n",
       "}\n",
       "#T_fa22d_row8_col0, #T_fa22d_row12_col0 {\n",
       "  width: 10em;\n",
       "  background: linear-gradient(90deg, #AABB00 0.7%, transparent 0.7%);\n",
       "}\n",
       "#T_fa22d_row9_col0 {\n",
       "  width: 10em;\n",
       "  background: linear-gradient(90deg, #AABB00 2.8%, transparent 2.8%);\n",
       "}\n",
       "#T_fa22d_row13_col0 {\n",
       "  width: 10em;\n",
       "  background: linear-gradient(90deg, #AABB00 3.6%, transparent 3.6%);\n",
       "}\n",
       "#T_fa22d_row16_col0 {\n",
       "  width: 10em;\n",
       "  background: linear-gradient(90deg, #AABB00 4.1%, transparent 4.1%);\n",
       "}\n",
       "#T_fa22d_row17_col0 {\n",
       "  width: 10em;\n",
       "  background: linear-gradient(90deg, #AABB00 9.3%, transparent 9.3%);\n",
       "}\n",
       "#T_fa22d_row18_col0, #T_fa22d_row30_col0 {\n",
       "  width: 10em;\n",
       "  background: linear-gradient(90deg, #AABB00 0.2%, transparent 0.2%);\n",
       "}\n",
       "#T_fa22d_row19_col0 {\n",
       "  width: 10em;\n",
       "  background: linear-gradient(90deg, #AABB00 0.4%, transparent 0.4%);\n",
       "}\n",
       "#T_fa22d_row20_col0 {\n",
       "  width: 10em;\n",
       "  background: linear-gradient(90deg, #AABB00 2.2%, transparent 2.2%);\n",
       "}\n",
       "#T_fa22d_row21_col0 {\n",
       "  width: 10em;\n",
       "  background: linear-gradient(90deg, #AABB00 7.1%, transparent 7.1%);\n",
       "}\n",
       "#T_fa22d_row23_col0, #T_fa22d_row35_col0, #T_fa22d_row39_col0 {\n",
       "  width: 10em;\n",
       "  background: linear-gradient(90deg, #AABB00 0.3%, transparent 0.3%);\n",
       "}\n",
       "#T_fa22d_row24_col0 {\n",
       "  width: 10em;\n",
       "  background: linear-gradient(90deg, #AABB00 4.7%, transparent 4.7%);\n",
       "}\n",
       "#T_fa22d_row25_col0 {\n",
       "  width: 10em;\n",
       "  background: linear-gradient(90deg, #AABB00 9.9%, transparent 9.9%);\n",
       "}\n",
       "#T_fa22d_row27_col0 {\n",
       "  width: 10em;\n",
       "  background: linear-gradient(90deg, #AABB00 0.5%, transparent 0.5%);\n",
       "}\n",
       "#T_fa22d_row28_col0 {\n",
       "  width: 10em;\n",
       "  background: linear-gradient(90deg, #AABB00 3.4%, transparent 3.4%);\n",
       "}\n",
       "#T_fa22d_row29_col0 {\n",
       "  width: 10em;\n",
       "  background: linear-gradient(90deg, #AABB00 9.5%, transparent 9.5%);\n",
       "}\n",
       "#T_fa22d_row32_col0 {\n",
       "  width: 10em;\n",
       "  background: linear-gradient(90deg, #AABB00 1.2%, transparent 1.2%);\n",
       "}\n",
       "#T_fa22d_row33_col0 {\n",
       "  width: 10em;\n",
       "  background: linear-gradient(90deg, #AABB00 3.9%, transparent 3.9%);\n",
       "}\n",
       "#T_fa22d_row36_col0 {\n",
       "  width: 10em;\n",
       "  background: linear-gradient(90deg, #AABB00 0.9%, transparent 0.9%);\n",
       "}\n",
       "#T_fa22d_row37_col0 {\n",
       "  width: 10em;\n",
       "  background: linear-gradient(90deg, #AABB00 4.2%, transparent 4.2%);\n",
       "}\n",
       "#T_fa22d_row40_col0 {\n",
       "  width: 10em;\n",
       "  background: linear-gradient(90deg, #AABB00 27.7%, transparent 27.7%);\n",
       "}\n",
       "#T_fa22d_row41_col0 {\n",
       "  width: 10em;\n",
       "  background: linear-gradient(90deg, #AABB00 98.3%, transparent 98.3%);\n",
       "}\n",
       "#T_fa22d_row42_col0 {\n",
       "  width: 10em;\n",
       "  background: linear-gradient(90deg, #AABB00 1.5%, transparent 1.5%);\n",
       "}\n",
       "#T_fa22d_row43_col0 {\n",
       "  width: 10em;\n",
       "  background: linear-gradient(90deg, #AABB00 8.4%, transparent 8.4%);\n",
       "}\n",
       "#T_fa22d_row44_col0 {\n",
       "  width: 10em;\n",
       "  background: linear-gradient(90deg, #AABB00 22.1%, transparent 22.1%);\n",
       "}\n",
       "#T_fa22d_row45_col0 {\n",
       "  width: 10em;\n",
       "  background: linear-gradient(90deg, #AABB00 100.0%, transparent 100.0%);\n",
       "}\n",
       "#T_fa22d_row47_col0 {\n",
       "  width: 10em;\n",
       "  background: linear-gradient(90deg, #AABB00 7.3%, transparent 7.3%);\n",
       "}\n",
       "</style>\n",
       "<table id=\"T_fa22d\">\n",
=======
       "#T_bba97_row0_col0 {\n",
       "  width: 10em;\n",
       "  background: linear-gradient(90deg, #AABB00 3.7%, transparent 3.7%);\n",
       "}\n",
       "#T_bba97_row1_col0 {\n",
       "  width: 10em;\n",
       "  background: linear-gradient(90deg, #AABB00 4.2%, transparent 4.2%);\n",
       "}\n",
       "#T_bba97_row2_col0, #T_bba97_row6_col0, #T_bba97_row33_col0 {\n",
       "  width: 10em;\n",
       "  background: linear-gradient(90deg, #AABB00 0.2%, transparent 0.2%);\n",
       "}\n",
       "#T_bba97_row3_col0, #T_bba97_row18_col0, #T_bba97_row29_col0, #T_bba97_row30_col0, #T_bba97_row34_col0 {\n",
       "  width: 10em;\n",
       "  background: linear-gradient(90deg, #AABB00 0.5%, transparent 0.5%);\n",
       "}\n",
       "#T_bba97_row4_col0, #T_bba97_row15_col0 {\n",
       "  width: 10em;\n",
       "  background: linear-gradient(90deg, #AABB00 1.4%, transparent 1.4%);\n",
       "}\n",
       "#T_bba97_row5_col0, #T_bba97_row26_col0 {\n",
       "  width: 10em;\n",
       "  background: linear-gradient(90deg, #AABB00 2.3%, transparent 2.3%);\n",
       "}\n",
       "#T_bba97_row7_col0, #T_bba97_row14_col0, #T_bba97_row22_col0, #T_bba97_row25_col0 {\n",
       "  width: 10em;\n",
       "  background: linear-gradient(90deg, #AABB00 0.7%, transparent 0.7%);\n",
       "}\n",
       "#T_bba97_row8_col0 {\n",
       "  width: 10em;\n",
       "  background: linear-gradient(90deg, #AABB00 1.6%, transparent 1.6%);\n",
       "}\n",
       "#T_bba97_row9_col0 {\n",
       "  width: 10em;\n",
       "  background: linear-gradient(90deg, #AABB00 1.9%, transparent 1.9%);\n",
       "}\n",
       "#T_bba97_row10_col0, #T_bba97_row21_col0 {\n",
       "  width: 10em;\n",
       "  background: linear-gradient(90deg, #AABB00 0.9%, transparent 0.9%);\n",
       "}\n",
       "#T_bba97_row11_col0 {\n",
       "  width: 10em;\n",
       "  background: linear-gradient(90deg, #AABB00 1.2%, transparent 1.2%);\n",
       "}\n",
       "#T_bba97_row12_col0 {\n",
       "  width: 10em;\n",
       "  background: linear-gradient(90deg, #AABB00 25.5%, transparent 25.5%);\n",
       "}\n",
       "#T_bba97_row13_col0 {\n",
       "  width: 10em;\n",
       "  background: linear-gradient(90deg, #AABB00 23.7%, transparent 23.7%);\n",
       "}\n",
       "#T_bba97_row16_col0 {\n",
       "  width: 10em;\n",
       "  background: linear-gradient(90deg, #AABB00 10.0%, transparent 10.0%);\n",
       "}\n",
       "#T_bba97_row17_col0 {\n",
       "  width: 10em;\n",
       "  background: linear-gradient(90deg, #AABB00 10.2%, transparent 10.2%);\n",
       "}\n",
       "#T_bba97_row19_col0 {\n",
       "  width: 10em;\n",
       "  background: linear-gradient(90deg, #AABB00 15.1%, transparent 15.1%);\n",
       "}\n",
       "#T_bba97_row20_col0 {\n",
       "  width: 10em;\n",
       "  background: linear-gradient(90deg, #AABB00 13.5%, transparent 13.5%);\n",
       "}\n",
       "#T_bba97_row23_col0 {\n",
       "  width: 10em;\n",
       "  background: linear-gradient(90deg, #AABB00 6.5%, transparent 6.5%);\n",
       "}\n",
       "#T_bba97_row24_col0 {\n",
       "  width: 10em;\n",
       "  background: linear-gradient(90deg, #AABB00 10.7%, transparent 10.7%);\n",
       "}\n",
       "#T_bba97_row27_col0, #T_bba97_row42_col0 {\n",
       "  width: 10em;\n",
       "  background: linear-gradient(90deg, #AABB00 7.4%, transparent 7.4%);\n",
       "}\n",
       "#T_bba97_row28_col0 {\n",
       "  width: 10em;\n",
       "  background: linear-gradient(90deg, #AABB00 11.4%, transparent 11.4%);\n",
       "}\n",
       "#T_bba97_row31_col0 {\n",
       "  width: 10em;\n",
       "  background: linear-gradient(90deg, #AABB00 5.1%, transparent 5.1%);\n",
       "}\n",
       "#T_bba97_row32_col0 {\n",
       "  width: 10em;\n",
       "  background: linear-gradient(90deg, #AABB00 7.7%, transparent 7.7%);\n",
       "}\n",
       "#T_bba97_row35_col0 {\n",
       "  width: 10em;\n",
       "  background: linear-gradient(90deg, #AABB00 100.0%, transparent 100.0%);\n",
       "}\n",
       "#T_bba97_row36_col0 {\n",
       "  width: 10em;\n",
       "  background: linear-gradient(90deg, #AABB00 81.2%, transparent 81.2%);\n",
       "}\n",
       "#T_bba97_row37_col0 {\n",
       "  width: 10em;\n",
       "  background: linear-gradient(90deg, #AABB00 3.0%, transparent 3.0%);\n",
       "}\n",
       "#T_bba97_row38_col0 {\n",
       "  width: 10em;\n",
       "  background: linear-gradient(90deg, #AABB00 4.6%, transparent 4.6%);\n",
       "}\n",
       "#T_bba97_row39_col0 {\n",
       "  width: 10em;\n",
       "  background: linear-gradient(90deg, #AABB00 61.7%, transparent 61.7%);\n",
       "}\n",
       "#T_bba97_row40_col0 {\n",
       "  width: 10em;\n",
       "  background: linear-gradient(90deg, #AABB00 70.3%, transparent 70.3%);\n",
       "}\n",
       "#T_bba97_row41_col0 {\n",
       "  width: 10em;\n",
       "  background: linear-gradient(90deg, #AABB00 3.5%, transparent 3.5%);\n",
       "}\n",
       "</style>\n",
       "<table id=\"T_bba97\">\n",
>>>>>>> Stashed changes
       "  <thead>\n",
       "    <tr>\n",
       "      <th class=\"blank\" >&nbsp;</th>\n",
       "      <th class=\"blank\" >&nbsp;</th>\n",
       "      <th class=\"blank\" >&nbsp;</th>\n",
       "      <th class=\"blank level0\" >&nbsp;</th>\n",
<<<<<<< Updated upstream
       "      <th id=\"T_fa22d_level0_col0\" class=\"col_heading level0 col0\" >HeartDisease</th>\n",
       "      <th id=\"T_fa22d_level0_col1\" class=\"col_heading level0 col1\" >BMI</th>\n",
       "      <th id=\"T_fa22d_level0_col2\" class=\"col_heading level0 col2\" >SleepTime</th>\n",
=======
       "      <th id=\"T_bba97_level0_col0\" class=\"col_heading level0 col0\" >HeartDisease</th>\n",
       "      <th id=\"T_bba97_level0_col1\" class=\"col_heading level0 col1\" >BMI</th>\n",
       "      <th id=\"T_bba97_level0_col2\" class=\"col_heading level0 col2\" >SleepTime</th>\n",
>>>>>>> Stashed changes
       "    </tr>\n",
       "    <tr>\n",
       "      <th class=\"index_name level0\" >Race</th>\n",
       "      <th class=\"index_name level1\" >Sex</th>\n",
       "      <th class=\"index_name level2\" >AlcoholDrinking</th>\n",
       "      <th class=\"index_name level3\" >PhysicalActivity</th>\n",
       "      <th class=\"blank col0\" >&nbsp;</th>\n",
       "      <th class=\"blank col1\" >&nbsp;</th>\n",
       "      <th class=\"blank col2\" >&nbsp;</th>\n",
       "    </tr>\n",
       "  </thead>\n",
       "  <tbody>\n",
       "    <tr>\n",
<<<<<<< Updated upstream
       "      <th id=\"T_fa22d_level0_row0\" class=\"row_heading level0 row0\" rowspan=\"8\">American Indian/Alaskan Native</th>\n",
       "      <th id=\"T_fa22d_level1_row0\" class=\"row_heading level1 row0\" rowspan=\"4\">Female</th>\n",
       "      <th id=\"T_fa22d_level2_row0\" class=\"row_heading level2 row0\" rowspan=\"2\">No</th>\n",
       "      <th id=\"T_fa22d_level3_row0\" class=\"row_heading level3 row0\" >No</th>\n",
       "      <td id=\"T_fa22d_row0_col0\" class=\"data row0 col0\" >639</td>\n",
       "      <td id=\"T_fa22d_row0_col1\" class=\"data row0 col1\" >31.457465</td>\n",
       "      <td id=\"T_fa22d_row0_col2\" class=\"data row0 col2\" >                7.59 h/dia</td>\n",
       "    </tr>\n",
       "    <tr>\n",
       "      <th id=\"T_fa22d_level3_row1\" class=\"row_heading level3 row1\" >Yes</th>\n",
       "      <td id=\"T_fa22d_row1_col0\" class=\"data row1 col0\" >1564</td>\n",
       "      <td id=\"T_fa22d_row1_col1\" class=\"data row1 col1\" >29.542730</td>\n",
       "      <td id=\"T_fa22d_row1_col2\" class=\"data row1 col2\" >                7.49 h/dia</td>\n",
       "    </tr>\n",
       "    <tr>\n",
       "      <th id=\"T_fa22d_level2_row2\" class=\"row_heading level2 row2\" rowspan=\"2\">Yes</th>\n",
       "      <th id=\"T_fa22d_level3_row2\" class=\"row_heading level3 row2\" >No</th>\n",
       "      <td id=\"T_fa22d_row2_col0\" class=\"data row2 col0\" >35</td>\n",
       "      <td id=\"T_fa22d_row2_col1\" class=\"data row2 col1\" >32.623429</td>\n",
       "      <td id=\"T_fa22d_row2_col2\" class=\"data row2 col2\" >                7.54 h/dia</td>\n",
       "    </tr>\n",
       "    <tr>\n",
       "      <th id=\"T_fa22d_level3_row3\" class=\"row_heading level3 row3\" >Yes</th>\n",
       "      <td id=\"T_fa22d_row3_col0\" class=\"data row3 col0\" >71</td>\n",
       "      <td id=\"T_fa22d_row3_col1\" class=\"data row3 col1\" >28.734085</td>\n",
       "      <td id=\"T_fa22d_row3_col2\" class=\"data row3 col2\" >                7.52 h/dia</td>\n",
       "    </tr>\n",
       "    <tr>\n",
       "      <th id=\"T_fa22d_level1_row4\" class=\"row_heading level1 row4\" rowspan=\"4\">Male</th>\n",
       "      <th id=\"T_fa22d_level2_row4\" class=\"row_heading level2 row4\" rowspan=\"2\">No</th>\n",
       "      <th id=\"T_fa22d_level3_row4\" class=\"row_heading level3 row4\" >No</th>\n",
       "      <td id=\"T_fa22d_row4_col0\" class=\"data row4 col0\" >445</td>\n",
       "      <td id=\"T_fa22d_row4_col1\" class=\"data row4 col1\" >31.281079</td>\n",
       "      <td id=\"T_fa22d_row4_col2\" class=\"data row4 col2\" >                7.52 h/dia</td>\n",
       "    </tr>\n",
       "    <tr>\n",
       "      <th id=\"T_fa22d_level3_row5\" class=\"row_heading level3 row5\" >Yes</th>\n",
       "      <td id=\"T_fa22d_row5_col0\" class=\"data row5 col0\" >1412</td>\n",
       "      <td id=\"T_fa22d_row5_col1\" class=\"data row5 col1\" >29.712677</td>\n",
       "      <td id=\"T_fa22d_row5_col2\" class=\"data row5 col2\" >                7.36 h/dia</td>\n",
       "    </tr>\n",
       "    <tr>\n",
       "      <th id=\"T_fa22d_level2_row6\" class=\"row_heading level2 row6\" rowspan=\"2\">Yes</th>\n",
       "      <th id=\"T_fa22d_level3_row6\" class=\"row_heading level3 row6\" >No</th>\n",
       "      <td id=\"T_fa22d_row6_col0\" class=\"data row6 col0\" >37</td>\n",
       "      <td id=\"T_fa22d_row6_col1\" class=\"data row6 col1\" >30.988919</td>\n",
       "      <td id=\"T_fa22d_row6_col2\" class=\"data row6 col2\" >                7.92 h/dia</td>\n",
       "    </tr>\n",
       "    <tr>\n",
       "      <th id=\"T_fa22d_level3_row7\" class=\"row_heading level3 row7\" >Yes</th>\n",
       "      <td id=\"T_fa22d_row7_col0\" class=\"data row7 col0\" >107</td>\n",
       "      <td id=\"T_fa22d_row7_col1\" class=\"data row7 col1\" >28.799533</td>\n",
       "      <td id=\"T_fa22d_row7_col2\" class=\"data row7 col2\" >                7.40 h/dia</td>\n",
       "    </tr>\n",
       "    <tr>\n",
       "      <th id=\"T_fa22d_level0_row8\" class=\"row_heading level0 row8\" rowspan=\"8\">Asian</th>\n",
       "      <th id=\"T_fa22d_level1_row8\" class=\"row_heading level1 row8\" rowspan=\"4\">Female</th>\n",
       "      <th id=\"T_fa22d_level2_row8\" class=\"row_heading level2 row8\" rowspan=\"2\">No</th>\n",
       "      <th id=\"T_fa22d_level3_row8\" class=\"row_heading level3 row8\" >No</th>\n",
       "      <td id=\"T_fa22d_row8_col0\" class=\"data row8 col0\" >563</td>\n",
       "      <td id=\"T_fa22d_row8_col1\" class=\"data row8 col1\" >26.016714</td>\n",
       "      <td id=\"T_fa22d_row8_col2\" class=\"data row8 col2\" >                7.20 h/dia</td>\n",
       "    </tr>\n",
       "    <tr>\n",
       "      <th id=\"T_fa22d_level3_row9\" class=\"row_heading level3 row9\" >Yes</th>\n",
       "      <td id=\"T_fa22d_row9_col0\" class=\"data row9 col0\" >2264</td>\n",
       "      <td id=\"T_fa22d_row9_col1\" class=\"data row9 col1\" >25.259876</td>\n",
       "      <td id=\"T_fa22d_row9_col2\" class=\"data row9 col2\" >                7.13 h/dia</td>\n",
       "    </tr>\n",
       "    <tr>\n",
       "      <th id=\"T_fa22d_level2_row10\" class=\"row_heading level2 row10\" rowspan=\"2\">Yes</th>\n",
       "      <th id=\"T_fa22d_level3_row10\" class=\"row_heading level3 row10\" >No</th>\n",
       "      <td id=\"T_fa22d_row10_col0\" class=\"data row10 col0\" >7</td>\n",
       "      <td id=\"T_fa22d_row10_col1\" class=\"data row10 col1\" >26.894286</td>\n",
       "      <td id=\"T_fa22d_row10_col2\" class=\"data row10 col2\" >                7.43 h/dia</td>\n",
       "    </tr>\n",
       "    <tr>\n",
       "      <th id=\"T_fa22d_level3_row11\" class=\"row_heading level3 row11\" >Yes</th>\n",
       "      <td id=\"T_fa22d_row11_col0\" class=\"data row11 col0\" >79</td>\n",
       "      <td id=\"T_fa22d_row11_col1\" class=\"data row11 col1\" >24.581899</td>\n",
       "      <td id=\"T_fa22d_row11_col2\" class=\"data row11 col2\" >                7.35 h/dia</td>\n",
       "    </tr>\n",
       "    <tr>\n",
       "      <th id=\"T_fa22d_level1_row12\" class=\"row_heading level1 row12\" rowspan=\"4\">Male</th>\n",
       "      <th id=\"T_fa22d_level2_row12\" class=\"row_heading level2 row12\" rowspan=\"2\">No</th>\n",
       "      <th id=\"T_fa22d_level3_row12\" class=\"row_heading level3 row12\" >No</th>\n",
       "      <td id=\"T_fa22d_row12_col0\" class=\"data row12 col0\" >579</td>\n",
       "      <td id=\"T_fa22d_row12_col1\" class=\"data row12 col1\" >26.741623</td>\n",
       "      <td id=\"T_fa22d_row12_col2\" class=\"data row12 col2\" >                7.27 h/dia</td>\n",
       "    </tr>\n",
       "    <tr>\n",
       "      <th id=\"T_fa22d_level3_row13\" class=\"row_heading level3 row13\" >Yes</th>\n",
       "      <td id=\"T_fa22d_row13_col0\" class=\"data row13 col0\" >2890</td>\n",
       "      <td id=\"T_fa22d_row13_col1\" class=\"data row13 col1\" >26.145474</td>\n",
       "      <td id=\"T_fa22d_row13_col2\" class=\"data row13 col2\" >                7.17 h/dia</td>\n",
       "    </tr>\n",
       "    <tr>\n",
       "      <th id=\"T_fa22d_level2_row14\" class=\"row_heading level2 row14\" rowspan=\"2\">Yes</th>\n",
       "      <th id=\"T_fa22d_level3_row14\" class=\"row_heading level3 row14\" >No</th>\n",
       "      <td id=\"T_fa22d_row14_col0\" class=\"data row14 col0\" >24</td>\n",
       "      <td id=\"T_fa22d_row14_col1\" class=\"data row14 col1\" >27.244583</td>\n",
       "      <td id=\"T_fa22d_row14_col2\" class=\"data row14 col2\" >                7.79 h/dia</td>\n",
       "    </tr>\n",
       "    <tr>\n",
       "      <th id=\"T_fa22d_level3_row15\" class=\"row_heading level3 row15\" >Yes</th>\n",
       "      <td id=\"T_fa22d_row15_col0\" class=\"data row15 col0\" >97</td>\n",
       "      <td id=\"T_fa22d_row15_col1\" class=\"data row15 col1\" >26.582371</td>\n",
       "      <td id=\"T_fa22d_row15_col2\" class=\"data row15 col2\" >                7.18 h/dia</td>\n",
       "    </tr>\n",
       "    <tr>\n",
       "      <th id=\"T_fa22d_level0_row16\" class=\"row_heading level0 row16\" rowspan=\"8\">Black</th>\n",
       "      <th id=\"T_fa22d_level1_row16\" class=\"row_heading level1 row16\" rowspan=\"4\">Female</th>\n",
       "      <th id=\"T_fa22d_level2_row16\" class=\"row_heading level2 row16\" rowspan=\"2\">No</th>\n",
       "      <th id=\"T_fa22d_level3_row16\" class=\"row_heading level3 row16\" >No</th>\n",
       "      <td id=\"T_fa22d_row16_col0\" class=\"data row16 col0\" >3263</td>\n",
       "      <td id=\"T_fa22d_row16_col1\" class=\"data row16 col1\" >32.664965</td>\n",
       "      <td id=\"T_fa22d_row16_col2\" class=\"data row16 col2\" >                7.59 h/dia</td>\n",
       "    </tr>\n",
       "    <tr>\n",
       "      <th id=\"T_fa22d_level3_row17\" class=\"row_heading level3 row17\" >Yes</th>\n",
       "      <td id=\"T_fa22d_row17_col0\" class=\"data row17 col0\" >7437</td>\n",
       "      <td id=\"T_fa22d_row17_col1\" class=\"data row17 col1\" >30.640545</td>\n",
       "      <td id=\"T_fa22d_row17_col2\" class=\"data row17 col2\" >                7.37 h/dia</td>\n",
       "    </tr>\n",
       "    <tr>\n",
       "      <th id=\"T_fa22d_level2_row18\" class=\"row_heading level2 row18\" rowspan=\"2\">Yes</th>\n",
       "      <th id=\"T_fa22d_level3_row18\" class=\"row_heading level3 row18\" >No</th>\n",
       "      <td id=\"T_fa22d_row18_col0\" class=\"data row18 col0\" >138</td>\n",
       "      <td id=\"T_fa22d_row18_col1\" class=\"data row18 col1\" >31.042101</td>\n",
       "      <td id=\"T_fa22d_row18_col2\" class=\"data row18 col2\" >                7.42 h/dia</td>\n",
       "    </tr>\n",
       "    <tr>\n",
       "      <th id=\"T_fa22d_level3_row19\" class=\"row_heading level3 row19\" >Yes</th>\n",
       "      <td id=\"T_fa22d_row19_col0\" class=\"data row19 col0\" >324</td>\n",
       "      <td id=\"T_fa22d_row19_col1\" class=\"data row19 col1\" >29.884259</td>\n",
       "      <td id=\"T_fa22d_row19_col2\" class=\"data row19 col2\" >                7.21 h/dia</td>\n",
       "    </tr>\n",
       "    <tr>\n",
       "      <th id=\"T_fa22d_level1_row20\" class=\"row_heading level1 row20\" rowspan=\"4\">Male</th>\n",
       "      <th id=\"T_fa22d_level2_row20\" class=\"row_heading level2 row20\" rowspan=\"2\">No</th>\n",
       "      <th id=\"T_fa22d_level3_row20\" class=\"row_heading level3 row20\" >No</th>\n",
       "      <td id=\"T_fa22d_row20_col0\" class=\"data row20 col0\" >1741</td>\n",
       "      <td id=\"T_fa22d_row20_col1\" class=\"data row20 col1\" >29.718064</td>\n",
       "      <td id=\"T_fa22d_row20_col2\" class=\"data row20 col2\" >                7.62 h/dia</td>\n",
       "    </tr>\n",
       "    <tr>\n",
       "      <th id=\"T_fa22d_level3_row21\" class=\"row_heading level3 row21\" >Yes</th>\n",
       "      <td id=\"T_fa22d_row21_col0\" class=\"data row21 col0\" >5666</td>\n",
       "      <td id=\"T_fa22d_row21_col1\" class=\"data row21 col1\" >29.105498</td>\n",
       "      <td id=\"T_fa22d_row21_col2\" class=\"data row21 col2\" >                7.34 h/dia</td>\n",
       "    </tr>\n",
       "    <tr>\n",
       "      <th id=\"T_fa22d_level2_row22\" class=\"row_heading level2 row22\" rowspan=\"2\">Yes</th>\n",
       "      <th id=\"T_fa22d_level3_row22\" class=\"row_heading level3 row22\" >No</th>\n",
       "      <td id=\"T_fa22d_row22_col0\" class=\"data row22 col0\" >95</td>\n",
       "      <td id=\"T_fa22d_row22_col1\" class=\"data row22 col1\" >30.641474</td>\n",
       "      <td id=\"T_fa22d_row22_col2\" class=\"data row22 col2\" >                7.66 h/dia</td>\n",
       "    </tr>\n",
       "    <tr>\n",
       "      <th id=\"T_fa22d_level3_row23\" class=\"row_heading level3 row23\" >Yes</th>\n",
       "      <td id=\"T_fa22d_row23_col0\" class=\"data row23 col0\" >243</td>\n",
       "      <td id=\"T_fa22d_row23_col1\" class=\"data row23 col1\" >27.961975</td>\n",
       "      <td id=\"T_fa22d_row23_col2\" class=\"data row23 col2\" >                7.27 h/dia</td>\n",
       "    </tr>\n",
       "    <tr>\n",
       "      <th id=\"T_fa22d_level0_row24\" class=\"row_heading level0 row24\" rowspan=\"8\">Hispanic</th>\n",
       "      <th id=\"T_fa22d_level1_row24\" class=\"row_heading level1 row24\" rowspan=\"4\">Female</th>\n",
       "      <th id=\"T_fa22d_level2_row24\" class=\"row_heading level2 row24\" rowspan=\"2\">No</th>\n",
       "      <th id=\"T_fa22d_level3_row24\" class=\"row_heading level3 row24\" >No</th>\n",
       "      <td id=\"T_fa22d_row24_col0\" class=\"data row24 col0\" >3803</td>\n",
       "      <td id=\"T_fa22d_row24_col1\" class=\"data row24 col1\" >30.461120</td>\n",
       "      <td id=\"T_fa22d_row24_col2\" class=\"data row24 col2\" >                7.40 h/dia</td>\n",
       "    </tr>\n",
       "    <tr>\n",
       "      <th id=\"T_fa22d_level3_row25\" class=\"row_heading level3 row25\" >Yes</th>\n",
       "      <td id=\"T_fa22d_row25_col0\" class=\"data row25 col0\" >7966</td>\n",
       "      <td id=\"T_fa22d_row25_col1\" class=\"data row25 col1\" >28.546521</td>\n",
       "      <td id=\"T_fa22d_row25_col2\" class=\"data row25 col2\" >                7.35 h/dia</td>\n",
       "    </tr>\n",
       "    <tr>\n",
       "      <th id=\"T_fa22d_level2_row26\" class=\"row_heading level2 row26\" rowspan=\"2\">Yes</th>\n",
       "      <th id=\"T_fa22d_level3_row26\" class=\"row_heading level3 row26\" >No</th>\n",
       "      <td id=\"T_fa22d_row26_col0\" class=\"data row26 col0\" >115</td>\n",
       "      <td id=\"T_fa22d_row26_col1\" class=\"data row26 col1\" >30.440261</td>\n",
       "      <td id=\"T_fa22d_row26_col2\" class=\"data row26 col2\" >                7.77 h/dia</td>\n",
       "    </tr>\n",
       "    <tr>\n",
       "      <th id=\"T_fa22d_level3_row27\" class=\"row_heading level3 row27\" >Yes</th>\n",
       "      <td id=\"T_fa22d_row27_col0\" class=\"data row27 col0\" >435</td>\n",
       "      <td id=\"T_fa22d_row27_col1\" class=\"data row27 col1\" >27.588828</td>\n",
       "      <td id=\"T_fa22d_row27_col2\" class=\"data row27 col2\" >                7.25 h/dia</td>\n",
       "    </tr>\n",
       "    <tr>\n",
       "      <th id=\"T_fa22d_level1_row28\" class=\"row_heading level1 row28\" rowspan=\"4\">Male</th>\n",
       "      <th id=\"T_fa22d_level2_row28\" class=\"row_heading level2 row28\" rowspan=\"2\">No</th>\n",
       "      <th id=\"T_fa22d_level3_row28\" class=\"row_heading level3 row28\" >No</th>\n",
       "      <td id=\"T_fa22d_row28_col0\" class=\"data row28 col0\" >2763</td>\n",
       "      <td id=\"T_fa22d_row28_col1\" class=\"data row28 col1\" >29.757655</td>\n",
       "      <td id=\"T_fa22d_row28_col2\" class=\"data row28 col2\" >                7.51 h/dia</td>\n",
       "    </tr>\n",
       "    <tr>\n",
       "      <th id=\"T_fa22d_level3_row29\" class=\"row_heading level3 row29\" >Yes</th>\n",
       "      <td id=\"T_fa22d_row29_col0\" class=\"data row29 col0\" >7651</td>\n",
       "      <td id=\"T_fa22d_row29_col1\" class=\"data row29 col1\" >28.731797</td>\n",
       "      <td id=\"T_fa22d_row29_col2\" class=\"data row29 col2\" >                7.31 h/dia</td>\n",
       "    </tr>\n",
       "    <tr>\n",
       "      <th id=\"T_fa22d_level2_row30\" class=\"row_heading level2 row30\" rowspan=\"2\">Yes</th>\n",
       "      <th id=\"T_fa22d_level3_row30\" class=\"row_heading level3 row30\" >No</th>\n",
       "      <td id=\"T_fa22d_row30_col0\" class=\"data row30 col0\" >162</td>\n",
       "      <td id=\"T_fa22d_row30_col1\" class=\"data row30 col1\" >29.692531</td>\n",
       "      <td id=\"T_fa22d_row30_col2\" class=\"data row30 col2\" >                7.47 h/dia</td>\n",
       "    </tr>\n",
       "    <tr>\n",
       "      <th id=\"T_fa22d_level3_row31\" class=\"row_heading level3 row31\" >Yes</th>\n",
       "      <td id=\"T_fa22d_row31_col0\" class=\"data row31 col0\" >508</td>\n",
       "      <td id=\"T_fa22d_row31_col1\" class=\"data row31 col1\" >29.278051</td>\n",
       "      <td id=\"T_fa22d_row31_col2\" class=\"data row31 col2\" >                7.35 h/dia</td>\n",
       "    </tr>\n",
       "    <tr>\n",
       "      <th id=\"T_fa22d_level0_row32\" class=\"row_heading level0 row32\" rowspan=\"8\">Other</th>\n",
       "      <th id=\"T_fa22d_level1_row32\" class=\"row_heading level1 row32\" rowspan=\"4\">Female</th>\n",
       "      <th id=\"T_fa22d_level2_row32\" class=\"row_heading level2 row32\" rowspan=\"2\">No</th>\n",
       "      <th id=\"T_fa22d_level3_row32\" class=\"row_heading level3 row32\" >No</th>\n",
       "      <td id=\"T_fa22d_row32_col0\" class=\"data row32 col0\" >940</td>\n",
       "      <td id=\"T_fa22d_row32_col1\" class=\"data row32 col1\" >31.565191</td>\n",
       "      <td id=\"T_fa22d_row32_col2\" class=\"data row32 col2\" >                7.39 h/dia</td>\n",
       "    </tr>\n",
       "    <tr>\n",
       "      <th id=\"T_fa22d_level3_row33\" class=\"row_heading level3 row33\" >Yes</th>\n",
       "      <td id=\"T_fa22d_row33_col0\" class=\"data row33 col0\" >3129</td>\n",
       "      <td id=\"T_fa22d_row33_col1\" class=\"data row33 col1\" >28.643822</td>\n",
       "      <td id=\"T_fa22d_row33_col2\" class=\"data row33 col2\" >                7.29 h/dia</td>\n",
       "    </tr>\n",
       "    <tr>\n",
       "      <th id=\"T_fa22d_level2_row34\" class=\"row_heading level2 row34\" rowspan=\"2\">Yes</th>\n",
       "      <th id=\"T_fa22d_level3_row34\" class=\"row_heading level3 row34\" >No</th>\n",
       "      <td id=\"T_fa22d_row34_col0\" class=\"data row34 col0\" >46</td>\n",
       "      <td id=\"T_fa22d_row34_col1\" class=\"data row34 col1\" >29.745000</td>\n",
       "      <td id=\"T_fa22d_row34_col2\" class=\"data row34 col2\" >                7.83 h/dia</td>\n",
       "    </tr>\n",
       "    <tr>\n",
       "      <th id=\"T_fa22d_level3_row35\" class=\"row_heading level3 row35\" >Yes</th>\n",
       "      <td id=\"T_fa22d_row35_col0\" class=\"data row35 col0\" >238</td>\n",
       "      <td id=\"T_fa22d_row35_col1\" class=\"data row35 col1\" >27.057311</td>\n",
       "      <td id=\"T_fa22d_row35_col2\" class=\"data row35 col2\" >                7.26 h/dia</td>\n",
       "    </tr>\n",
       "    <tr>\n",
       "      <th id=\"T_fa22d_level1_row36\" class=\"row_heading level1 row36\" rowspan=\"4\">Male</th>\n",
       "      <th id=\"T_fa22d_level2_row36\" class=\"row_heading level2 row36\" rowspan=\"2\">No</th>\n",
       "      <th id=\"T_fa22d_level3_row36\" class=\"row_heading level3 row36\" >No</th>\n",
       "      <td id=\"T_fa22d_row36_col0\" class=\"data row36 col0\" >730</td>\n",
       "      <td id=\"T_fa22d_row36_col1\" class=\"data row36 col1\" >30.009151</td>\n",
       "      <td id=\"T_fa22d_row36_col2\" class=\"data row36 col2\" >                7.57 h/dia</td>\n",
       "    </tr>\n",
       "    <tr>\n",
       "      <th id=\"T_fa22d_level3_row37\" class=\"row_heading level3 row37\" >Yes</th>\n",
       "      <td id=\"T_fa22d_row37_col0\" class=\"data row37 col0\" >3339</td>\n",
       "      <td id=\"T_fa22d_row37_col1\" class=\"data row37 col1\" >28.733420</td>\n",
       "      <td id=\"T_fa22d_row37_col2\" class=\"data row37 col2\" >                7.20 h/dia</td>\n",
       "    </tr>\n",
       "    <tr>\n",
       "      <th id=\"T_fa22d_level2_row38\" class=\"row_heading level2 row38\" rowspan=\"2\">Yes</th>\n",
       "      <th id=\"T_fa22d_level3_row38\" class=\"row_heading level3 row38\" >No</th>\n",
       "      <td id=\"T_fa22d_row38_col0\" class=\"data row38 col0\" >77</td>\n",
       "      <td id=\"T_fa22d_row38_col1\" class=\"data row38 col1\" >29.189870</td>\n",
       "      <td id=\"T_fa22d_row38_col2\" class=\"data row38 col2\" >                7.57 h/dia</td>\n",
       "    </tr>\n",
       "    <tr>\n",
       "      <th id=\"T_fa22d_level3_row39\" class=\"row_heading level3 row39\" >Yes</th>\n",
       "      <td id=\"T_fa22d_row39_col0\" class=\"data row39 col0\" >275</td>\n",
       "      <td id=\"T_fa22d_row39_col1\" class=\"data row39 col1\" >29.103491</td>\n",
       "      <td id=\"T_fa22d_row39_col2\" class=\"data row39 col2\" >                7.18 h/dia</td>\n",
       "    </tr>\n",
       "    <tr>\n",
       "      <th id=\"T_fa22d_level0_row40\" class=\"row_heading level0 row40\" rowspan=\"8\">White</th>\n",
       "      <th id=\"T_fa22d_level1_row40\" class=\"row_heading level1 row40\" rowspan=\"4\">Female</th>\n",
       "      <th id=\"T_fa22d_level2_row40\" class=\"row_heading level2 row40\" rowspan=\"2\">No</th>\n",
       "      <th id=\"T_fa22d_level3_row40\" class=\"row_heading level3 row40\" >No</th>\n",
       "      <td id=\"T_fa22d_row40_col0\" class=\"data row40 col0\" >22216</td>\n",
       "      <td id=\"T_fa22d_row40_col1\" class=\"data row40 col1\" >30.857450</td>\n",
       "      <td id=\"T_fa22d_row40_col2\" class=\"data row40 col2\" >                7.55 h/dia</td>\n",
       "    </tr>\n",
       "    <tr>\n",
       "      <th id=\"T_fa22d_level3_row41\" class=\"row_heading level3 row41\" >Yes</th>\n",
       "      <td id=\"T_fa22d_row41_col0\" class=\"data row41 col0\" >78910</td>\n",
       "      <td id=\"T_fa22d_row41_col1\" class=\"data row41 col1\" >27.722031</td>\n",
       "      <td id=\"T_fa22d_row41_col2\" class=\"data row41 col2\" >                7.36 h/dia</td>\n",
       "    </tr>\n",
       "    <tr>\n",
       "      <th id=\"T_fa22d_level2_row42\" class=\"row_heading level2 row42\" rowspan=\"2\">Yes</th>\n",
       "      <th id=\"T_fa22d_level3_row42\" class=\"row_heading level3 row42\" >No</th>\n",
       "      <td id=\"T_fa22d_row42_col0\" class=\"data row42 col0\" >1235</td>\n",
       "      <td id=\"T_fa22d_row42_col1\" class=\"data row42 col1\" >29.058138</td>\n",
       "      <td id=\"T_fa22d_row42_col2\" class=\"data row42 col2\" >                7.65 h/dia</td>\n",
       "    </tr>\n",
       "    <tr>\n",
       "      <th id=\"T_fa22d_level3_row43\" class=\"row_heading level3 row43\" >Yes</th>\n",
       "      <td id=\"T_fa22d_row43_col0\" class=\"data row43 col0\" >6772</td>\n",
       "      <td id=\"T_fa22d_row43_col1\" class=\"data row43 col1\" >26.557996</td>\n",
       "      <td id=\"T_fa22d_row43_col2\" class=\"data row43 col2\" >                7.40 h/dia</td>\n",
       "    </tr>\n",
       "    <tr>\n",
       "      <th id=\"T_fa22d_level1_row44\" class=\"row_heading level1 row44\" rowspan=\"4\">Male</th>\n",
       "      <th id=\"T_fa22d_level2_row44\" class=\"row_heading level2 row44\" rowspan=\"2\">No</th>\n",
       "      <th id=\"T_fa22d_level3_row44\" class=\"row_heading level3 row44\" >No</th>\n",
       "      <td id=\"T_fa22d_row44_col0\" class=\"data row44 col0\" >17748</td>\n",
       "      <td id=\"T_fa22d_row44_col1\" class=\"data row44 col1\" >30.354490</td>\n",
       "      <td id=\"T_fa22d_row44_col2\" class=\"data row44 col2\" >                7.50 h/dia</td>\n",
       "    </tr>\n",
       "    <tr>\n",
       "      <th id=\"T_fa22d_level3_row45\" class=\"row_heading level3 row45\" >Yes</th>\n",
       "      <td id=\"T_fa22d_row45_col0\" class=\"data row45 col0\" >80307</td>\n",
       "      <td id=\"T_fa22d_row45_col1\" class=\"data row45 col1\" >28.345696</td>\n",
       "      <td id=\"T_fa22d_row45_col2\" class=\"data row45 col2\" >                7.30 h/dia</td>\n",
       "    </tr>\n",
       "    <tr>\n",
       "      <th id=\"T_fa22d_level2_row46\" class=\"row_heading level2 row46\" rowspan=\"2\">Yes</th>\n",
       "      <th id=\"T_fa22d_level3_row46\" class=\"row_heading level3 row46\" >No</th>\n",
       "      <td id=\"T_fa22d_row46_col0\" class=\"data row46 col0\" >1472</td>\n",
       "      <td id=\"T_fa22d_row46_col1\" class=\"data row46 col1\" >29.159436</td>\n",
       "      <td id=\"T_fa22d_row46_col2\" class=\"data row46 col2\" >                7.41 h/dia</td>\n",
       "    </tr>\n",
       "    <tr>\n",
       "      <th id=\"T_fa22d_level3_row47\" class=\"row_heading level3 row47\" >Yes</th>\n",
       "      <td id=\"T_fa22d_row47_col0\" class=\"data row47 col0\" >5860</td>\n",
       "      <td id=\"T_fa22d_row47_col1\" class=\"data row47 col1\" >28.017816</td>\n",
       "      <td id=\"T_fa22d_row47_col2\" class=\"data row47 col2\" >                7.31 h/dia</td>\n",
=======
       "      <th id=\"T_bba97_level0_row0\" class=\"row_heading level0 row0\" rowspan=\"8\">American Indian/Alaskan Native</th>\n",
       "      <th id=\"T_bba97_level1_row0\" class=\"row_heading level1 row0\" rowspan=\"4\">Female</th>\n",
       "      <th id=\"T_bba97_level2_row0\" class=\"row_heading level2 row0\" rowspan=\"2\">No</th>\n",
       "      <th id=\"T_bba97_level3_row0\" class=\"row_heading level3 row0\" >No</th>\n",
       "      <td id=\"T_bba97_row0_col0\" class=\"data row0 col0\" >16</td>\n",
       "      <td id=\"T_bba97_row0_col1\" class=\"data row0 col1\" >41.213125</td>\n",
       "      <td id=\"T_bba97_row0_col2\" class=\"data row0 col2\" >                3.56 h/dia</td>\n",
       "    </tr>\n",
       "    <tr>\n",
       "      <th id=\"T_bba97_level3_row1\" class=\"row_heading level3 row1\" >Yes</th>\n",
       "      <td id=\"T_bba97_row1_col0\" class=\"data row1 col0\" >18</td>\n",
       "      <td id=\"T_bba97_row1_col1\" class=\"data row1 col1\" >40.054444</td>\n",
       "      <td id=\"T_bba97_row1_col2\" class=\"data row1 col2\" >                3.67 h/dia</td>\n",
       "    </tr>\n",
       "    <tr>\n",
       "      <th id=\"T_bba97_level2_row2\" class=\"row_heading level2 row2\" rowspan=\"2\">Yes</th>\n",
       "      <th id=\"T_bba97_level3_row2\" class=\"row_heading level3 row2\" >No</th>\n",
       "      <td id=\"T_bba97_row2_col0\" class=\"data row2 col0\" >1</td>\n",
       "      <td id=\"T_bba97_row2_col1\" class=\"data row2 col1\" >45.760000</td>\n",
       "      <td id=\"T_bba97_row2_col2\" class=\"data row2 col2\" >                4.00 h/dia</td>\n",
       "    </tr>\n",
       "    <tr>\n",
       "      <th id=\"T_bba97_level3_row3\" class=\"row_heading level3 row3\" >Yes</th>\n",
       "      <td id=\"T_bba97_row3_col0\" class=\"data row3 col0\" >2</td>\n",
       "      <td id=\"T_bba97_row3_col1\" class=\"data row3 col1\" >36.830000</td>\n",
       "      <td id=\"T_bba97_row3_col2\" class=\"data row3 col2\" >                4.00 h/dia</td>\n",
       "    </tr>\n",
       "    <tr>\n",
       "      <th id=\"T_bba97_level1_row4\" class=\"row_heading level1 row4\" rowspan=\"4\">Male</th>\n",
       "      <th id=\"T_bba97_level2_row4\" class=\"row_heading level2 row4\" rowspan=\"2\">No</th>\n",
       "      <th id=\"T_bba97_level3_row4\" class=\"row_heading level3 row4\" >No</th>\n",
       "      <td id=\"T_bba97_row4_col0\" class=\"data row4 col0\" >6</td>\n",
       "      <td id=\"T_bba97_row4_col1\" class=\"data row4 col1\" >40.455000</td>\n",
       "      <td id=\"T_bba97_row4_col2\" class=\"data row4 col2\" >                4.00 h/dia</td>\n",
       "    </tr>\n",
       "    <tr>\n",
       "      <th id=\"T_bba97_level3_row5\" class=\"row_heading level3 row5\" >Yes</th>\n",
       "      <td id=\"T_bba97_row5_col0\" class=\"data row5 col0\" >10</td>\n",
       "      <td id=\"T_bba97_row5_col1\" class=\"data row5 col1\" >43.026000</td>\n",
       "      <td id=\"T_bba97_row5_col2\" class=\"data row5 col2\" >                3.50 h/dia</td>\n",
       "    </tr>\n",
       "    <tr>\n",
       "      <th id=\"T_bba97_level2_row6\" class=\"row_heading level2 row6\" rowspan=\"2\">Yes</th>\n",
       "      <th id=\"T_bba97_level3_row6\" class=\"row_heading level3 row6\" >No</th>\n",
       "      <td id=\"T_bba97_row6_col0\" class=\"data row6 col0\" >1</td>\n",
       "      <td id=\"T_bba97_row6_col1\" class=\"data row6 col1\" >36.980000</td>\n",
       "      <td id=\"T_bba97_row6_col2\" class=\"data row6 col2\" >                4.00 h/dia</td>\n",
       "    </tr>\n",
       "    <tr>\n",
       "      <th id=\"T_bba97_level3_row7\" class=\"row_heading level3 row7\" >Yes</th>\n",
       "      <td id=\"T_bba97_row7_col0\" class=\"data row7 col0\" >3</td>\n",
       "      <td id=\"T_bba97_row7_col1\" class=\"data row7 col1\" >41.163333</td>\n",
       "      <td id=\"T_bba97_row7_col2\" class=\"data row7 col2\" >                3.67 h/dia</td>\n",
       "    </tr>\n",
       "    <tr>\n",
       "      <th id=\"T_bba97_level0_row8\" class=\"row_heading level0 row8\" rowspan=\"4\">Asian</th>\n",
       "      <th id=\"T_bba97_level1_row8\" class=\"row_heading level1 row8\" rowspan=\"2\">Female</th>\n",
       "      <th id=\"T_bba97_level2_row8\" class=\"row_heading level2 row8\" rowspan=\"2\">No</th>\n",
       "      <th id=\"T_bba97_level3_row8\" class=\"row_heading level3 row8\" >No</th>\n",
       "      <td id=\"T_bba97_row8_col0\" class=\"data row8 col0\" >7</td>\n",
       "      <td id=\"T_bba97_row8_col1\" class=\"data row8 col1\" >40.134286</td>\n",
       "      <td id=\"T_bba97_row8_col2\" class=\"data row8 col2\" >                3.86 h/dia</td>\n",
       "    </tr>\n",
       "    <tr>\n",
       "      <th id=\"T_bba97_level3_row9\" class=\"row_heading level3 row9\" >Yes</th>\n",
       "      <td id=\"T_bba97_row9_col0\" class=\"data row9 col0\" >8</td>\n",
       "      <td id=\"T_bba97_row9_col1\" class=\"data row9 col1\" >39.305000</td>\n",
       "      <td id=\"T_bba97_row9_col2\" class=\"data row9 col2\" >                3.88 h/dia</td>\n",
       "    </tr>\n",
       "    <tr>\n",
       "      <th id=\"T_bba97_level1_row10\" class=\"row_heading level1 row10\" rowspan=\"2\">Male</th>\n",
       "      <th id=\"T_bba97_level2_row10\" class=\"row_heading level2 row10\" rowspan=\"2\">No</th>\n",
       "      <th id=\"T_bba97_level3_row10\" class=\"row_heading level3 row10\" >No</th>\n",
       "      <td id=\"T_bba97_row10_col0\" class=\"data row10 col0\" >4</td>\n",
       "      <td id=\"T_bba97_row10_col1\" class=\"data row10 col1\" >44.452500</td>\n",
       "      <td id=\"T_bba97_row10_col2\" class=\"data row10 col2\" >                4.00 h/dia</td>\n",
       "    </tr>\n",
       "    <tr>\n",
       "      <th id=\"T_bba97_level3_row11\" class=\"row_heading level3 row11\" >Yes</th>\n",
       "      <td id=\"T_bba97_row11_col0\" class=\"data row11 col0\" >5</td>\n",
       "      <td id=\"T_bba97_row11_col1\" class=\"data row11 col1\" >38.912000</td>\n",
       "      <td id=\"T_bba97_row11_col2\" class=\"data row11 col2\" >                3.40 h/dia</td>\n",
       "    </tr>\n",
       "    <tr>\n",
       "      <th id=\"T_bba97_level0_row12\" class=\"row_heading level0 row12\" rowspan=\"7\">Black</th>\n",
       "      <th id=\"T_bba97_level1_row12\" class=\"row_heading level1 row12\" rowspan=\"4\">Female</th>\n",
       "      <th id=\"T_bba97_level2_row12\" class=\"row_heading level2 row12\" rowspan=\"2\">No</th>\n",
       "      <th id=\"T_bba97_level3_row12\" class=\"row_heading level3 row12\" >No</th>\n",
       "      <td id=\"T_bba97_row12_col0\" class=\"data row12 col0\" >110</td>\n",
       "      <td id=\"T_bba97_row12_col1\" class=\"data row12 col1\" >43.313273</td>\n",
       "      <td id=\"T_bba97_row12_col2\" class=\"data row12 col2\" >                3.68 h/dia</td>\n",
       "    </tr>\n",
       "    <tr>\n",
       "      <th id=\"T_bba97_level3_row13\" class=\"row_heading level3 row13\" >Yes</th>\n",
       "      <td id=\"T_bba97_row13_col0\" class=\"data row13 col0\" >102</td>\n",
       "      <td id=\"T_bba97_row13_col1\" class=\"data row13 col1\" >40.657157</td>\n",
       "      <td id=\"T_bba97_row13_col2\" class=\"data row13 col2\" >                3.63 h/dia</td>\n",
       "    </tr>\n",
       "    <tr>\n",
       "      <th id=\"T_bba97_level2_row14\" class=\"row_heading level2 row14\" rowspan=\"2\">Yes</th>\n",
       "      <th id=\"T_bba97_level3_row14\" class=\"row_heading level3 row14\" >No</th>\n",
       "      <td id=\"T_bba97_row14_col0\" class=\"data row14 col0\" >3</td>\n",
       "      <td id=\"T_bba97_row14_col1\" class=\"data row14 col1\" >37.976667</td>\n",
       "      <td id=\"T_bba97_row14_col2\" class=\"data row14 col2\" >                4.00 h/dia</td>\n",
       "    </tr>\n",
       "    <tr>\n",
       "      <th id=\"T_bba97_level3_row15\" class=\"row_heading level3 row15\" >Yes</th>\n",
       "      <td id=\"T_bba97_row15_col0\" class=\"data row15 col0\" >6</td>\n",
       "      <td id=\"T_bba97_row15_col1\" class=\"data row15 col1\" >41.928333</td>\n",
       "      <td id=\"T_bba97_row15_col2\" class=\"data row15 col2\" >                3.50 h/dia</td>\n",
       "    </tr>\n",
       "    <tr>\n",
       "      <th id=\"T_bba97_level1_row16\" class=\"row_heading level1 row16\" rowspan=\"3\">Male</th>\n",
       "      <th id=\"T_bba97_level2_row16\" class=\"row_heading level2 row16\" rowspan=\"2\">No</th>\n",
       "      <th id=\"T_bba97_level3_row16\" class=\"row_heading level3 row16\" >No</th>\n",
       "      <td id=\"T_bba97_row16_col0\" class=\"data row16 col0\" >43</td>\n",
       "      <td id=\"T_bba97_row16_col1\" class=\"data row16 col1\" >41.659767</td>\n",
       "      <td id=\"T_bba97_row16_col2\" class=\"data row16 col2\" >                3.74 h/dia</td>\n",
       "    </tr>\n",
       "    <tr>\n",
       "      <th id=\"T_bba97_level3_row17\" class=\"row_heading level3 row17\" >Yes</th>\n",
       "      <td id=\"T_bba97_row17_col0\" class=\"data row17 col0\" >44</td>\n",
       "      <td id=\"T_bba97_row17_col1\" class=\"data row17 col1\" >40.485000</td>\n",
       "      <td id=\"T_bba97_row17_col2\" class=\"data row17 col2\" >                3.50 h/dia</td>\n",
       "    </tr>\n",
       "    <tr>\n",
       "      <th id=\"T_bba97_level2_row18\" class=\"row_heading level2 row18\" >Yes</th>\n",
       "      <th id=\"T_bba97_level3_row18\" class=\"row_heading level3 row18\" >Yes</th>\n",
       "      <td id=\"T_bba97_row18_col0\" class=\"data row18 col0\" >2</td>\n",
       "      <td id=\"T_bba97_row18_col1\" class=\"data row18 col1\" >38.420000</td>\n",
       "      <td id=\"T_bba97_row18_col2\" class=\"data row18 col2\" >                3.00 h/dia</td>\n",
       "    </tr>\n",
       "    <tr>\n",
       "      <th id=\"T_bba97_level0_row19\" class=\"row_heading level0 row19\" rowspan=\"8\">Hispanic</th>\n",
       "      <th id=\"T_bba97_level1_row19\" class=\"row_heading level1 row19\" rowspan=\"4\">Female</th>\n",
       "      <th id=\"T_bba97_level2_row19\" class=\"row_heading level2 row19\" rowspan=\"2\">No</th>\n",
       "      <th id=\"T_bba97_level3_row19\" class=\"row_heading level3 row19\" >No</th>\n",
       "      <td id=\"T_bba97_row19_col0\" class=\"data row19 col0\" >65</td>\n",
       "      <td id=\"T_bba97_row19_col1\" class=\"data row19 col1\" >40.864462</td>\n",
       "      <td id=\"T_bba97_row19_col2\" class=\"data row19 col2\" >                3.55 h/dia</td>\n",
       "    </tr>\n",
       "    <tr>\n",
       "      <th id=\"T_bba97_level3_row20\" class=\"row_heading level3 row20\" >Yes</th>\n",
       "      <td id=\"T_bba97_row20_col0\" class=\"data row20 col0\" >58</td>\n",
       "      <td id=\"T_bba97_row20_col1\" class=\"data row20 col1\" >42.476379</td>\n",
       "      <td id=\"T_bba97_row20_col2\" class=\"data row20 col2\" >                3.57 h/dia</td>\n",
       "    </tr>\n",
       "    <tr>\n",
       "      <th id=\"T_bba97_level2_row21\" class=\"row_heading level2 row21\" rowspan=\"2\">Yes</th>\n",
       "      <th id=\"T_bba97_level3_row21\" class=\"row_heading level3 row21\" >No</th>\n",
       "      <td id=\"T_bba97_row21_col0\" class=\"data row21 col0\" >4</td>\n",
       "      <td id=\"T_bba97_row21_col1\" class=\"data row21 col1\" >38.805000</td>\n",
       "      <td id=\"T_bba97_row21_col2\" class=\"data row21 col2\" >                3.25 h/dia</td>\n",
       "    </tr>\n",
       "    <tr>\n",
       "      <th id=\"T_bba97_level3_row22\" class=\"row_heading level3 row22\" >Yes</th>\n",
       "      <td id=\"T_bba97_row22_col0\" class=\"data row22 col0\" >3</td>\n",
       "      <td id=\"T_bba97_row22_col1\" class=\"data row22 col1\" >38.676667</td>\n",
       "      <td id=\"T_bba97_row22_col2\" class=\"data row22 col2\" >                2.33 h/dia</td>\n",
       "    </tr>\n",
       "    <tr>\n",
       "      <th id=\"T_bba97_level1_row23\" class=\"row_heading level1 row23\" rowspan=\"4\">Male</th>\n",
       "      <th id=\"T_bba97_level2_row23\" class=\"row_heading level2 row23\" rowspan=\"2\">No</th>\n",
       "      <th id=\"T_bba97_level3_row23\" class=\"row_heading level3 row23\" >No</th>\n",
       "      <td id=\"T_bba97_row23_col0\" class=\"data row23 col0\" >28</td>\n",
       "      <td id=\"T_bba97_row23_col1\" class=\"data row23 col1\" >40.062143</td>\n",
       "      <td id=\"T_bba97_row23_col2\" class=\"data row23 col2\" >                3.61 h/dia</td>\n",
       "    </tr>\n",
       "    <tr>\n",
       "      <th id=\"T_bba97_level3_row24\" class=\"row_heading level3 row24\" >Yes</th>\n",
       "      <td id=\"T_bba97_row24_col0\" class=\"data row24 col0\" >46</td>\n",
       "      <td id=\"T_bba97_row24_col1\" class=\"data row24 col1\" >42.670217</td>\n",
       "      <td id=\"T_bba97_row24_col2\" class=\"data row24 col2\" >                3.46 h/dia</td>\n",
       "    </tr>\n",
       "    <tr>\n",
       "      <th id=\"T_bba97_level2_row25\" class=\"row_heading level2 row25\" rowspan=\"2\">Yes</th>\n",
       "      <th id=\"T_bba97_level3_row25\" class=\"row_heading level3 row25\" >No</th>\n",
       "      <td id=\"T_bba97_row25_col0\" class=\"data row25 col0\" >3</td>\n",
       "      <td id=\"T_bba97_row25_col1\" class=\"data row25 col1\" >40.870000</td>\n",
       "      <td id=\"T_bba97_row25_col2\" class=\"data row25 col2\" >                3.33 h/dia</td>\n",
       "    </tr>\n",
       "    <tr>\n",
       "      <th id=\"T_bba97_level3_row26\" class=\"row_heading level3 row26\" >Yes</th>\n",
       "      <td id=\"T_bba97_row26_col0\" class=\"data row26 col0\" >10</td>\n",
       "      <td id=\"T_bba97_row26_col1\" class=\"data row26 col1\" >43.820000</td>\n",
       "      <td id=\"T_bba97_row26_col2\" class=\"data row26 col2\" >                3.60 h/dia</td>\n",
       "    </tr>\n",
       "    <tr>\n",
       "      <th id=\"T_bba97_level0_row27\" class=\"row_heading level0 row27\" rowspan=\"8\">Other</th>\n",
       "      <th id=\"T_bba97_level1_row27\" class=\"row_heading level1 row27\" rowspan=\"4\">Female</th>\n",
       "      <th id=\"T_bba97_level2_row27\" class=\"row_heading level2 row27\" rowspan=\"2\">No</th>\n",
       "      <th id=\"T_bba97_level3_row27\" class=\"row_heading level3 row27\" >No</th>\n",
       "      <td id=\"T_bba97_row27_col0\" class=\"data row27 col0\" >32</td>\n",
       "      <td id=\"T_bba97_row27_col1\" class=\"data row27 col1\" >44.747188</td>\n",
       "      <td id=\"T_bba97_row27_col2\" class=\"data row27 col2\" >                3.41 h/dia</td>\n",
       "    </tr>\n",
       "    <tr>\n",
       "      <th id=\"T_bba97_level3_row28\" class=\"row_heading level3 row28\" >Yes</th>\n",
       "      <td id=\"T_bba97_row28_col0\" class=\"data row28 col0\" >49</td>\n",
       "      <td id=\"T_bba97_row28_col1\" class=\"data row28 col1\" >41.131429</td>\n",
       "      <td id=\"T_bba97_row28_col2\" class=\"data row28 col2\" >                3.73 h/dia</td>\n",
       "    </tr>\n",
       "    <tr>\n",
       "      <th id=\"T_bba97_level2_row29\" class=\"row_heading level2 row29\" rowspan=\"2\">Yes</th>\n",
       "      <th id=\"T_bba97_level3_row29\" class=\"row_heading level3 row29\" >No</th>\n",
       "      <td id=\"T_bba97_row29_col0\" class=\"data row29 col0\" >2</td>\n",
       "      <td id=\"T_bba97_row29_col1\" class=\"data row29 col1\" >72.250000</td>\n",
       "      <td id=\"T_bba97_row29_col2\" class=\"data row29 col2\" >                3.50 h/dia</td>\n",
       "    </tr>\n",
       "    <tr>\n",
       "      <th id=\"T_bba97_level3_row30\" class=\"row_heading level3 row30\" >Yes</th>\n",
       "      <td id=\"T_bba97_row30_col0\" class=\"data row30 col0\" >2</td>\n",
       "      <td id=\"T_bba97_row30_col1\" class=\"data row30 col1\" >35.725000</td>\n",
       "      <td id=\"T_bba97_row30_col2\" class=\"data row30 col2\" >                4.00 h/dia</td>\n",
       "    </tr>\n",
       "    <tr>\n",
       "      <th id=\"T_bba97_level1_row31\" class=\"row_heading level1 row31\" rowspan=\"4\">Male</th>\n",
       "      <th id=\"T_bba97_level2_row31\" class=\"row_heading level2 row31\" rowspan=\"2\">No</th>\n",
       "      <th id=\"T_bba97_level3_row31\" class=\"row_heading level3 row31\" >No</th>\n",
       "      <td id=\"T_bba97_row31_col0\" class=\"data row31 col0\" >22</td>\n",
       "      <td id=\"T_bba97_row31_col1\" class=\"data row31 col1\" >43.900000</td>\n",
       "      <td id=\"T_bba97_row31_col2\" class=\"data row31 col2\" >                3.68 h/dia</td>\n",
       "    </tr>\n",
       "    <tr>\n",
       "      <th id=\"T_bba97_level3_row32\" class=\"row_heading level3 row32\" >Yes</th>\n",
       "      <td id=\"T_bba97_row32_col0\" class=\"data row32 col0\" >33</td>\n",
       "      <td id=\"T_bba97_row32_col1\" class=\"data row32 col1\" >41.886667</td>\n",
       "      <td id=\"T_bba97_row32_col2\" class=\"data row32 col2\" >                3.58 h/dia</td>\n",
       "    </tr>\n",
       "    <tr>\n",
       "      <th id=\"T_bba97_level2_row33\" class=\"row_heading level2 row33\" rowspan=\"2\">Yes</th>\n",
       "      <th id=\"T_bba97_level3_row33\" class=\"row_heading level3 row33\" >No</th>\n",
       "      <td id=\"T_bba97_row33_col0\" class=\"data row33 col0\" >1</td>\n",
       "      <td id=\"T_bba97_row33_col1\" class=\"data row33 col1\" >55.380000</td>\n",
       "      <td id=\"T_bba97_row33_col2\" class=\"data row33 col2\" >                3.00 h/dia</td>\n",
       "    </tr>\n",
       "    <tr>\n",
       "      <th id=\"T_bba97_level3_row34\" class=\"row_heading level3 row34\" >Yes</th>\n",
       "      <td id=\"T_bba97_row34_col0\" class=\"data row34 col0\" >2</td>\n",
       "      <td id=\"T_bba97_row34_col1\" class=\"data row34 col1\" >44.105000</td>\n",
       "      <td id=\"T_bba97_row34_col2\" class=\"data row34 col2\" >                3.50 h/dia</td>\n",
       "    </tr>\n",
       "    <tr>\n",
       "      <th id=\"T_bba97_level0_row35\" class=\"row_heading level0 row35\" rowspan=\"8\">White</th>\n",
       "      <th id=\"T_bba97_level1_row35\" class=\"row_heading level1 row35\" rowspan=\"4\">Female</th>\n",
       "      <th id=\"T_bba97_level2_row35\" class=\"row_heading level2 row35\" rowspan=\"2\">No</th>\n",
       "      <th id=\"T_bba97_level3_row35\" class=\"row_heading level3 row35\" >No</th>\n",
       "      <td id=\"T_bba97_row35_col0\" class=\"data row35 col0\" >431</td>\n",
       "      <td id=\"T_bba97_row35_col1\" class=\"data row35 col1\" >42.577889</td>\n",
       "      <td id=\"T_bba97_row35_col2\" class=\"data row35 col2\" >                3.64 h/dia</td>\n",
       "    </tr>\n",
       "    <tr>\n",
       "      <th id=\"T_bba97_level3_row36\" class=\"row_heading level3 row36\" >Yes</th>\n",
       "      <td id=\"T_bba97_row36_col0\" class=\"data row36 col0\" >350</td>\n",
       "      <td id=\"T_bba97_row36_col1\" class=\"data row36 col1\" >41.257886</td>\n",
       "      <td id=\"T_bba97_row36_col2\" class=\"data row36 col2\" >                3.54 h/dia</td>\n",
       "    </tr>\n",
       "    <tr>\n",
       "      <th id=\"T_bba97_level2_row37\" class=\"row_heading level2 row37\" rowspan=\"2\">Yes</th>\n",
       "      <th id=\"T_bba97_level3_row37\" class=\"row_heading level3 row37\" >No</th>\n",
       "      <td id=\"T_bba97_row37_col0\" class=\"data row37 col0\" >13</td>\n",
       "      <td id=\"T_bba97_row37_col1\" class=\"data row37 col1\" >43.644615</td>\n",
       "      <td id=\"T_bba97_row37_col2\" class=\"data row37 col2\" >                3.46 h/dia</td>\n",
       "    </tr>\n",
       "    <tr>\n",
       "      <th id=\"T_bba97_level3_row38\" class=\"row_heading level3 row38\" >Yes</th>\n",
       "      <td id=\"T_bba97_row38_col0\" class=\"data row38 col0\" >20</td>\n",
       "      <td id=\"T_bba97_row38_col1\" class=\"data row38 col1\" >41.155000</td>\n",
       "      <td id=\"T_bba97_row38_col2\" class=\"data row38 col2\" >                3.45 h/dia</td>\n",
       "    </tr>\n",
       "    <tr>\n",
       "      <th id=\"T_bba97_level1_row39\" class=\"row_heading level1 row39\" rowspan=\"4\">Male</th>\n",
       "      <th id=\"T_bba97_level2_row39\" class=\"row_heading level2 row39\" rowspan=\"2\">No</th>\n",
       "      <th id=\"T_bba97_level3_row39\" class=\"row_heading level3 row39\" >No</th>\n",
       "      <td id=\"T_bba97_row39_col0\" class=\"data row39 col0\" >266</td>\n",
       "      <td id=\"T_bba97_row39_col1\" class=\"data row39 col1\" >40.756729</td>\n",
       "      <td id=\"T_bba97_row39_col2\" class=\"data row39 col2\" >                3.67 h/dia</td>\n",
       "    </tr>\n",
       "    <tr>\n",
       "      <th id=\"T_bba97_level3_row40\" class=\"row_heading level3 row40\" >Yes</th>\n",
       "      <td id=\"T_bba97_row40_col0\" class=\"data row40 col0\" >303</td>\n",
       "      <td id=\"T_bba97_row40_col1\" class=\"data row40 col1\" >40.124158</td>\n",
       "      <td id=\"T_bba97_row40_col2\" class=\"data row40 col2\" >                3.54 h/dia</td>\n",
       "    </tr>\n",
       "    <tr>\n",
       "      <th id=\"T_bba97_level2_row41\" class=\"row_heading level2 row41\" rowspan=\"2\">Yes</th>\n",
       "      <th id=\"T_bba97_level3_row41\" class=\"row_heading level3 row41\" >No</th>\n",
       "      <td id=\"T_bba97_row41_col0\" class=\"data row41 col0\" >15</td>\n",
       "      <td id=\"T_bba97_row41_col1\" class=\"data row41 col1\" >42.528000</td>\n",
       "      <td id=\"T_bba97_row41_col2\" class=\"data row41 col2\" >                3.47 h/dia</td>\n",
       "    </tr>\n",
       "    <tr>\n",
       "      <th id=\"T_bba97_level3_row42\" class=\"row_heading level3 row42\" >Yes</th>\n",
       "      <td id=\"T_bba97_row42_col0\" class=\"data row42 col0\" >32</td>\n",
       "      <td id=\"T_bba97_row42_col1\" class=\"data row42 col1\" >39.865000</td>\n",
       "      <td id=\"T_bba97_row42_col2\" class=\"data row42 col2\" >                3.50 h/dia</td>\n",
>>>>>>> Stashed changes
       "    </tr>\n",
       "  </tbody>\n",
       "</table>\n"
      ],
      "text/plain": [
<<<<<<< Updated upstream
       "<pandas.io.formats.style.Styler at 0x2069624d990>"
      ]
     },
     "execution_count": 98,
=======
       "<pandas.io.formats.style.Styler at 0x1fb048e05e0>"
      ]
     },
     "execution_count": 23,
>>>>>>> Stashed changes
     "metadata": {},
     "output_type": "execute_result"
    }
   ],
   "source": [
    "(df_dc.groupby(['Race','Sex','AlcoholDrinking','PhysicalActivity']) \\\n",
    "                             .agg({'HeartDisease':'count', 'BMI':'mean', 'SleepTime':'mean'})).style \\\n",
    "                             .format({\"HeartDisease\": \"{:20,.0f}\"}) \\\n",
    "                             .format({\"BMI\": \"{:20,.2f}\"}) \\\n",
    "                             .format({\"SleepTime\": \"{:20,.2f} h/dia\"}) \\\n",
    "                             .bar(subset=[\"HeartDisease\"], color='#AABB00')"
   ]
  },
  {
   "cell_type": "code",
<<<<<<< Updated upstream
   "execution_count": 99,
   "id": "9f9a84a2",
   "metadata": {
    "ExecuteTime": {
     "end_time": "2022-06-03T17:49:10.636351Z",
     "start_time": "2022-06-03T17:49:10.510510Z"
=======
   "execution_count": 24,
   "id": "9f9a84a2",
   "metadata": {
    "ExecuteTime": {
     "end_time": "2022-06-03T20:45:07.749049Z",
     "start_time": "2022-06-03T20:45:07.616017Z"
>>>>>>> Stashed changes
    }
   },
   "outputs": [
    {
     "data": {
<<<<<<< Updated upstream
      "image/png": "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\n",
=======
      "image/png": "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\n",
>>>>>>> Stashed changes
      "text/plain": [
       "<Figure size 432x288 with 1 Axes>"
      ]
     },
     "metadata": {
      "needs_background": "light"
     },
     "output_type": "display_data"
    }
   ],
   "source": [
    "plt.hist(df_dc['BMI'], bins=25)\n",
    "plt.show()"
   ]
  },
  {
   "cell_type": "code",
<<<<<<< Updated upstream
   "execution_count": 126,
   "id": "286d792a",
   "metadata": {
    "ExecuteTime": {
     "end_time": "2022-06-03T17:58:58.614504Z",
     "start_time": "2022-06-03T17:58:58.585516Z"
=======
   "execution_count": 28,
   "id": "286d792a",
   "metadata": {
    "ExecuteTime": {
     "end_time": "2022-06-03T20:45:30.734334Z",
     "start_time": "2022-06-03T20:45:30.717338Z"
>>>>>>> Stashed changes
    }
   },
   "outputs": [
    {
     "data": {
      "text/html": [
       "<style type=\"text/css\">\n",
<<<<<<< Updated upstream
       "#T_4e8f9_row0_col0, #T_4e8f9_row1_col1, #T_4e8f9_row2_col2, #T_4e8f9_row3_col3 {\n",
=======
       "#T_18961_row0_col0, #T_18961_row1_col1, #T_18961_row2_col2, #T_18961_row3_col3 {\n",
>>>>>>> Stashed changes
       "  background-color: #08306b;\n",
       "  color: #f1f1f1;\n",
       "  color: black;\n",
       "  color: white;\n",
       "}\n",
<<<<<<< Updated upstream
       "#T_4e8f9_row0_col1 {\n",
       "  background-color: #dce9f6;\n",
=======
       "#T_18961_row0_col1 {\n",
       "  background-color: #deebf7;\n",
>>>>>>> Stashed changes
       "  color: #000000;\n",
       "  color: black;\n",
       "  color: black;\n",
       "}\n",
<<<<<<< Updated upstream
       "#T_4e8f9_row0_col2 {\n",
       "  background-color: #ebf3fb;\n",
=======
       "#T_18961_row0_col2 {\n",
       "  background-color: #e9f2fa;\n",
>>>>>>> Stashed changes
       "  color: #000000;\n",
       "  color: black;\n",
       "  color: black;\n",
       "}\n",
<<<<<<< Updated upstream
       "#T_4e8f9_row0_col3 {\n",
       "  background-color: #f3f8fe;\n",
       "  color: #000000;\n",
       "  color: black;\n",
       "  color: black;\n",
       "}\n",
       "#T_4e8f9_row1_col0 {\n",
=======
       "#T_18961_row0_col3 {\n",
       "  background-color: #f6faff;\n",
       "  color: #000000;\n",
       "  color: red;\n",
       "  color: black;\n",
       "}\n",
       "#T_18961_row1_col0 {\n",
>>>>>>> Stashed changes
       "  background-color: #dfecf7;\n",
       "  color: #000000;\n",
       "  color: black;\n",
       "  color: black;\n",
       "}\n",
<<<<<<< Updated upstream
       "#T_4e8f9_row1_col2 {\n",
       "  background-color: #b4d3e9;\n",
=======
       "#T_18961_row1_col2 {\n",
       "  background-color: #abd0e6;\n",
>>>>>>> Stashed changes
       "  color: #000000;\n",
       "  color: black;\n",
       "  color: black;\n",
       "}\n",
<<<<<<< Updated upstream
       "#T_4e8f9_row1_col3, #T_4e8f9_row3_col0, #T_4e8f9_row3_col1, #T_4e8f9_row3_col2 {\n",
       "  background-color: #f7fbff;\n",
       "  color: #000000;\n",
       "  color: black;\n",
       "  color: black;\n",
       "}\n",
       "#T_4e8f9_row2_col0 {\n",
       "  background-color: #e9f2fa;\n",
=======
       "#T_18961_row1_col3, #T_18961_row3_col0, #T_18961_row3_col1 {\n",
       "  background-color: #f7fbff;\n",
       "  color: #000000;\n",
       "  color: red;\n",
       "  color: black;\n",
       "}\n",
       "#T_18961_row2_col0 {\n",
       "  background-color: #e7f0fa;\n",
       "  color: #000000;\n",
       "  color: black;\n",
       "  color: black;\n",
       "}\n",
       "#T_18961_row2_col1 {\n",
       "  background-color: #a8cee4;\n",
>>>>>>> Stashed changes
       "  color: #000000;\n",
       "  color: black;\n",
       "  color: black;\n",
       "}\n",
<<<<<<< Updated upstream
       "#T_4e8f9_row2_col1 {\n",
       "  background-color: #add0e6;\n",
=======
       "#T_18961_row2_col3 {\n",
       "  background-color: #f4f9fe;\n",
>>>>>>> Stashed changes
       "  color: #000000;\n",
       "  color: black;\n",
       "  color: black;\n",
       "}\n",
<<<<<<< Updated upstream
       "#T_4e8f9_row2_col3 {\n",
       "  background-color: #f1f7fd;\n",
=======
       "#T_18961_row3_col2 {\n",
       "  background-color: #f7fbff;\n",
>>>>>>> Stashed changes
       "  color: #000000;\n",
       "  color: black;\n",
       "  color: black;\n",
       "}\n",
       "</style>\n",
<<<<<<< Updated upstream
       "<table id=\"T_4e8f9\">\n",
       "  <thead>\n",
       "    <tr>\n",
       "      <th class=\"blank level0\" >&nbsp;</th>\n",
       "      <th id=\"T_4e8f9_level0_col0\" class=\"col_heading level0 col0\" >BMI</th>\n",
       "      <th id=\"T_4e8f9_level0_col1\" class=\"col_heading level0 col1\" >PhysicalHealth</th>\n",
       "      <th id=\"T_4e8f9_level0_col2\" class=\"col_heading level0 col2\" >MentalHealth</th>\n",
       "      <th id=\"T_4e8f9_level0_col3\" class=\"col_heading level0 col3\" >SleepTime</th>\n",
=======
       "<table id=\"T_18961\">\n",
       "  <thead>\n",
       "    <tr>\n",
       "      <th class=\"blank level0\" >&nbsp;</th>\n",
       "      <th id=\"T_18961_level0_col0\" class=\"col_heading level0 col0\" >BMI</th>\n",
       "      <th id=\"T_18961_level0_col1\" class=\"col_heading level0 col1\" >PhysicalHealth</th>\n",
       "      <th id=\"T_18961_level0_col2\" class=\"col_heading level0 col2\" >MentalHealth</th>\n",
       "      <th id=\"T_18961_level0_col3\" class=\"col_heading level0 col3\" >SleepTime</th>\n",
>>>>>>> Stashed changes
       "    </tr>\n",
       "  </thead>\n",
       "  <tbody>\n",
       "    <tr>\n",
<<<<<<< Updated upstream
       "      <th id=\"T_4e8f9_level0_row0\" class=\"row_heading level0 row0\" >BMI</th>\n",
       "      <td id=\"T_4e8f9_row0_col0\" class=\"data row0 col0\" >1.000000</td>\n",
       "      <td id=\"T_4e8f9_row0_col1\" class=\"data row0 col1\" >0.140517</td>\n",
       "      <td id=\"T_4e8f9_row0_col2\" class=\"data row0 col2\" >0.093244</td>\n",
       "      <td id=\"T_4e8f9_row0_col3\" class=\"data row0 col3\" >0.023147</td>\n",
       "    </tr>\n",
       "    <tr>\n",
       "      <th id=\"T_4e8f9_level0_row1\" class=\"row_heading level0 row1\" >PhysicalHealth</th>\n",
       "      <td id=\"T_4e8f9_row1_col0\" class=\"data row1 col0\" >0.140517</td>\n",
       "      <td id=\"T_4e8f9_row1_col1\" class=\"data row1 col1\" >1.000000</td>\n",
       "      <td id=\"T_4e8f9_row1_col2\" class=\"data row1 col2\" >0.329561</td>\n",
       "      <td id=\"T_4e8f9_row1_col3\" class=\"data row1 col3\" >0.001753</td>\n",
       "    </tr>\n",
       "    <tr>\n",
       "      <th id=\"T_4e8f9_level0_row2\" class=\"row_heading level0 row2\" >MentalHealth</th>\n",
       "      <td id=\"T_4e8f9_row2_col0\" class=\"data row2 col0\" >0.093244</td>\n",
       "      <td id=\"T_4e8f9_row2_col1\" class=\"data row2 col1\" >0.329561</td>\n",
       "      <td id=\"T_4e8f9_row2_col2\" class=\"data row2 col2\" >1.000000</td>\n",
       "      <td id=\"T_4e8f9_row2_col3\" class=\"data row2 col3\" >0.034488</td>\n",
       "    </tr>\n",
       "    <tr>\n",
       "      <th id=\"T_4e8f9_level0_row3\" class=\"row_heading level0 row3\" >SleepTime</th>\n",
       "      <td id=\"T_4e8f9_row3_col0\" class=\"data row3 col0\" >0.023147</td>\n",
       "      <td id=\"T_4e8f9_row3_col1\" class=\"data row3 col1\" >0.001753</td>\n",
       "      <td id=\"T_4e8f9_row3_col2\" class=\"data row3 col2\" >0.034488</td>\n",
       "      <td id=\"T_4e8f9_row3_col3\" class=\"data row3 col3\" >1.000000</td>\n",
=======
       "      <th id=\"T_18961_level0_row0\" class=\"row_heading level0 row0\" >BMI</th>\n",
       "      <td id=\"T_18961_row0_col0\" class=\"data row0 col0\" >1.000000</td>\n",
       "      <td id=\"T_18961_row0_col1\" class=\"data row0 col1\" >0.115713</td>\n",
       "      <td id=\"T_18961_row0_col2\" class=\"data row0 col2\" >0.080393</td>\n",
       "      <td id=\"T_18961_row0_col3\" class=\"data row0 col3\" >-0.003957</td>\n",
       "    </tr>\n",
       "    <tr>\n",
       "      <th id=\"T_18961_level0_row1\" class=\"row_heading level0 row1\" >PhysicalHealth</th>\n",
       "      <td id=\"T_18961_row1_col0\" class=\"data row1 col0\" >0.115713</td>\n",
       "      <td id=\"T_18961_row1_col1\" class=\"data row1 col1\" >1.000000</td>\n",
       "      <td id=\"T_18961_row1_col2\" class=\"data row1 col2\" >0.339201</td>\n",
       "      <td id=\"T_18961_row1_col3\" class=\"data row1 col3\" >-0.010976</td>\n",
       "    </tr>\n",
       "    <tr>\n",
       "      <th id=\"T_18961_level0_row2\" class=\"row_heading level0 row2\" >MentalHealth</th>\n",
       "      <td id=\"T_18961_row2_col0\" class=\"data row2 col0\" >0.080393</td>\n",
       "      <td id=\"T_18961_row2_col1\" class=\"data row2 col1\" >0.339201</td>\n",
       "      <td id=\"T_18961_row2_col2\" class=\"data row2 col2\" >1.000000</td>\n",
       "      <td id=\"T_18961_row2_col3\" class=\"data row2 col3\" >0.008648</td>\n",
       "    </tr>\n",
       "    <tr>\n",
       "      <th id=\"T_18961_level0_row3\" class=\"row_heading level0 row3\" >SleepTime</th>\n",
       "      <td id=\"T_18961_row3_col0\" class=\"data row3 col0\" >-0.003957</td>\n",
       "      <td id=\"T_18961_row3_col1\" class=\"data row3 col1\" >-0.010976</td>\n",
       "      <td id=\"T_18961_row3_col2\" class=\"data row3 col2\" >0.008648</td>\n",
       "      <td id=\"T_18961_row3_col3\" class=\"data row3 col3\" >1.000000</td>\n",
>>>>>>> Stashed changes
       "    </tr>\n",
       "  </tbody>\n",
       "</table>\n"
      ],
      "text/plain": [
<<<<<<< Updated upstream
       "<pandas.io.formats.style.Styler at 0x20696d259f0>"
      ]
     },
     "execution_count": 126,
=======
       "<pandas.io.formats.style.Styler at 0x1fb04906170>"
      ]
     },
     "execution_count": 28,
>>>>>>> Stashed changes
     "metadata": {},
     "output_type": "execute_result"
    }
   ],
   "source": [
    "df_dc.drop(columns='HeartDisease').corr(method='pearson').style.background_gradient(cmap='Blues') \\\n",
    "                                  .applymap(lambda x: f\"color: {'red' if x <= 0 else 'black'}\")\\\n",
    "                                  .applymap(lambda x: f\"color: {'white' if x == 1 else 'black'}\")"
   ]
  },
  {
   "cell_type": "markdown",
   "id": "defbfe11",
   "metadata": {},
   "source": [
    "#### Describe apenas para numericas "
   ]
  },
  {
   "cell_type": "code",
<<<<<<< Updated upstream
   "execution_count": 101,
   "id": "8eabe216",
   "metadata": {
    "ExecuteTime": {
     "end_time": "2022-06-03T17:49:13.141554Z",
     "start_time": "2022-06-03T17:49:13.073541Z"
=======
   "execution_count": 29,
   "id": "8eabe216",
   "metadata": {
    "ExecuteTime": {
     "end_time": "2022-06-03T20:45:31.913977Z",
     "start_time": "2022-06-03T20:45:31.894350Z"
>>>>>>> Stashed changes
    }
   },
   "outputs": [
    {
     "data": {
      "text/html": [
       "<div>\n",
       "<style scoped>\n",
       "    .dataframe tbody tr th:only-of-type {\n",
       "        vertical-align: middle;\n",
       "    }\n",
       "\n",
       "    .dataframe tbody tr th {\n",
       "        vertical-align: top;\n",
       "    }\n",
       "\n",
       "    .dataframe thead th {\n",
       "        text-align: right;\n",
       "    }\n",
       "</style>\n",
       "<table border=\"1\" class=\"dataframe\">\n",
       "  <thead>\n",
       "    <tr style=\"text-align: right;\">\n",
       "      <th></th>\n",
       "      <th>HeartDisease</th>\n",
       "      <th>BMI</th>\n",
       "      <th>PhysicalHealth</th>\n",
       "      <th>MentalHealth</th>\n",
       "      <th>SleepTime</th>\n",
       "    </tr>\n",
       "  </thead>\n",
       "  <tbody>\n",
       "    <tr>\n",
       "      <th>count</th>\n",
<<<<<<< Updated upstream
       "      <td>276417.000000</td>\n",
       "      <td>276417.000000</td>\n",
       "      <td>276417.000000</td>\n",
       "      <td>276417.000000</td>\n",
       "      <td>276417.000000</td>\n",
       "    </tr>\n",
       "    <tr>\n",
       "      <th>mean</th>\n",
       "      <td>0.082622</td>\n",
       "      <td>28.649851</td>\n",
       "      <td>2.945680</td>\n",
       "      <td>3.391239</td>\n",
       "      <td>7.367702</td>\n",
       "    </tr>\n",
       "    <tr>\n",
       "      <th>std</th>\n",
       "      <td>0.275310</td>\n",
       "      <td>5.997439</td>\n",
       "      <td>7.388011</td>\n",
       "      <td>7.331681</td>\n",
       "      <td>1.178421</td>\n",
=======
       "      <td>2181.000000</td>\n",
       "      <td>2181.000000</td>\n",
       "      <td>2181.000000</td>\n",
       "      <td>2181.000000</td>\n",
       "      <td>2181.000000</td>\n",
       "    </tr>\n",
       "    <tr>\n",
       "      <th>mean</th>\n",
       "      <td>0.184319</td>\n",
       "      <td>41.500816</td>\n",
       "      <td>12.364512</td>\n",
       "      <td>12.157267</td>\n",
       "      <td>3.597891</td>\n",
       "    </tr>\n",
       "    <tr>\n",
       "      <th>std</th>\n",
       "      <td>0.387833</td>\n",
       "      <td>6.641711</td>\n",
       "      <td>12.889317</td>\n",
       "      <td>12.660548</td>\n",
       "      <td>0.737075</td>\n",
>>>>>>> Stashed changes
       "    </tr>\n",
       "    <tr>\n",
       "      <th>min</th>\n",
       "      <td>0.000000</td>\n",
<<<<<<< Updated upstream
       "      <td>20.010000</td>\n",
       "      <td>0.000000</td>\n",
       "      <td>0.000000</td>\n",
       "      <td>6.000000</td>\n",
=======
       "      <td>35.010000</td>\n",
       "      <td>0.000000</td>\n",
       "      <td>0.000000</td>\n",
       "      <td>1.000000</td>\n",
>>>>>>> Stashed changes
       "    </tr>\n",
       "    <tr>\n",
       "      <th>25%</th>\n",
       "      <td>0.000000</td>\n",
<<<<<<< Updated upstream
       "      <td>24.390000</td>\n",
       "      <td>0.000000</td>\n",
       "      <td>0.000000</td>\n",
       "      <td>7.000000</td>\n",
=======
       "      <td>36.910000</td>\n",
       "      <td>0.000000</td>\n",
       "      <td>0.000000</td>\n",
       "      <td>3.000000</td>\n",
>>>>>>> Stashed changes
       "    </tr>\n",
       "    <tr>\n",
       "      <th>50%</th>\n",
       "      <td>0.000000</td>\n",
<<<<<<< Updated upstream
       "      <td>27.440000</td>\n",
       "      <td>0.000000</td>\n",
       "      <td>0.000000</td>\n",
       "      <td>7.000000</td>\n",
=======
       "      <td>39.530000</td>\n",
       "      <td>6.000000</td>\n",
       "      <td>7.000000</td>\n",
       "      <td>4.000000</td>\n",
>>>>>>> Stashed changes
       "    </tr>\n",
       "    <tr>\n",
       "      <th>75%</th>\n",
       "      <td>0.000000</td>\n",
<<<<<<< Updated upstream
       "      <td>31.570000</td>\n",
       "      <td>1.000000</td>\n",
       "      <td>3.000000</td>\n",
       "      <td>8.000000</td>\n",
=======
       "      <td>43.850000</td>\n",
       "      <td>30.000000</td>\n",
       "      <td>30.000000</td>\n",
       "      <td>4.000000</td>\n",
>>>>>>> Stashed changes
       "    </tr>\n",
       "    <tr>\n",
       "      <th>max</th>\n",
       "      <td>1.000000</td>\n",
<<<<<<< Updated upstream
       "      <td>94.850000</td>\n",
       "      <td>30.000000</td>\n",
       "      <td>30.000000</td>\n",
       "      <td>24.000000</td>\n",
=======
       "      <td>93.860000</td>\n",
       "      <td>30.000000</td>\n",
       "      <td>30.000000</td>\n",
       "      <td>4.000000</td>\n",
>>>>>>> Stashed changes
       "    </tr>\n",
       "  </tbody>\n",
       "</table>\n",
       "</div>"
      ],
      "text/plain": [
<<<<<<< Updated upstream
       "        HeartDisease            BMI  PhysicalHealth   MentalHealth  \\\n",
       "count  276417.000000  276417.000000   276417.000000  276417.000000   \n",
       "mean        0.082622      28.649851        2.945680       3.391239   \n",
       "std         0.275310       5.997439        7.388011       7.331681   \n",
       "min         0.000000      20.010000        0.000000       0.000000   \n",
       "25%         0.000000      24.390000        0.000000       0.000000   \n",
       "50%         0.000000      27.440000        0.000000       0.000000   \n",
       "75%         0.000000      31.570000        1.000000       3.000000   \n",
       "max         1.000000      94.850000       30.000000      30.000000   \n",
       "\n",
       "           SleepTime  \n",
       "count  276417.000000  \n",
       "mean        7.367702  \n",
       "std         1.178421  \n",
       "min         6.000000  \n",
       "25%         7.000000  \n",
       "50%         7.000000  \n",
       "75%         8.000000  \n",
       "max        24.000000  "
      ]
     },
     "execution_count": 101,
=======
       "       HeartDisease          BMI  PhysicalHealth  MentalHealth    SleepTime\n",
       "count   2181.000000  2181.000000     2181.000000   2181.000000  2181.000000\n",
       "mean       0.184319    41.500816       12.364512     12.157267     3.597891\n",
       "std        0.387833     6.641711       12.889317     12.660548     0.737075\n",
       "min        0.000000    35.010000        0.000000      0.000000     1.000000\n",
       "25%        0.000000    36.910000        0.000000      0.000000     3.000000\n",
       "50%        0.000000    39.530000        6.000000      7.000000     4.000000\n",
       "75%        0.000000    43.850000       30.000000     30.000000     4.000000\n",
       "max        1.000000    93.860000       30.000000     30.000000     4.000000"
      ]
     },
     "execution_count": 29,
>>>>>>> Stashed changes
     "metadata": {},
     "output_type": "execute_result"
    }
   ],
   "source": [
    "df_dc.describe(include=[np.number])"
   ]
  },
  {
   "cell_type": "markdown",
   "id": "4159d4c6",
   "metadata": {},
   "source": [
    "#### Dummyzation "
   ]
  },
  {
   "cell_type": "code",
<<<<<<< Updated upstream
   "execution_count": 22,
   "id": "155596bd",
   "metadata": {
    "ExecuteTime": {
     "end_time": "2022-06-03T13:27:28.705113Z",
     "start_time": "2022-06-03T13:27:28.685096Z"
=======
   "execution_count": 30,
   "id": "155596bd",
   "metadata": {
    "ExecuteTime": {
     "end_time": "2022-06-03T20:45:33.471344Z",
     "start_time": "2022-06-03T20:45:33.437805Z"
>>>>>>> Stashed changes
    }
   },
   "outputs": [],
   "source": [
    "df_1 = df.copy() #df[(df['BMI'] > 20)  & (df['SleepTime'] < 6)]"
   ]
  },
  {
   "cell_type": "code",
<<<<<<< Updated upstream
   "execution_count": 23,
   "id": "46ab2f7f",
   "metadata": {
    "ExecuteTime": {
     "end_time": "2022-06-03T13:27:29.700273Z",
     "start_time": "2022-06-03T13:27:29.691265Z"
=======
   "execution_count": 31,
   "id": "46ab2f7f",
   "metadata": {
    "ExecuteTime": {
     "end_time": "2022-06-03T20:45:33.985238Z",
     "start_time": "2022-06-03T20:45:33.972216Z"
>>>>>>> Stashed changes
    }
   },
   "outputs": [],
   "source": [
    "#df_1.groupby(['Race','Sex','AlcoholDrinking','PhysicalActivity', 'HeartDisease']).agg({'HeartDisease':'count'})"
   ]
  },
  {
   "cell_type": "code",
<<<<<<< Updated upstream
   "execution_count": 24,
   "id": "291e179a",
   "metadata": {
    "ExecuteTime": {
     "end_time": "2022-06-03T13:27:30.505322Z",
     "start_time": "2022-06-03T13:27:30.229360Z"
=======
   "execution_count": 32,
   "id": "291e179a",
   "metadata": {
    "ExecuteTime": {
     "end_time": "2022-06-03T20:45:35.074642Z",
     "start_time": "2022-06-03T20:45:34.794123Z"
>>>>>>> Stashed changes
    }
   },
   "outputs": [],
   "source": [
    "df_ = pd.get_dummies(df_1, columns=['Smoking', 'AlcoholDrinking', 'Stroke',\n",
    "       'DiffWalking', 'Sex', 'AgeCategory', 'Race', 'Diabetic', 'PhysicalActivity', 'GenHealth',\n",
    "       'Asthma', 'KidneyDisease', 'SkinCancer']) "
   ]
  },
  {
   "cell_type": "code",
<<<<<<< Updated upstream
   "execution_count": 25,
   "id": "58f19127",
   "metadata": {
    "ExecuteTime": {
     "end_time": "2022-06-03T13:27:30.884213Z",
     "start_time": "2022-06-03T13:27:30.831201Z"
=======
   "execution_count": 33,
   "id": "58f19127",
   "metadata": {
    "ExecuteTime": {
     "end_time": "2022-06-03T20:45:35.496604Z",
     "start_time": "2022-06-03T20:45:35.456080Z"
>>>>>>> Stashed changes
    }
   },
   "outputs": [
    {
     "name": "stdout",
     "output_type": "stream",
     "text": [
      "<class 'pandas.core.frame.DataFrame'>\n",
      "RangeIndex: 319795 entries, 0 to 319794\n",
      "Data columns (total 51 columns):\n",
      " #   Column                               Non-Null Count   Dtype  \n",
      "---  ------                               --------------   -----  \n",
      " 0   HeartDisease                         319795 non-null  int64  \n",
      " 1   BMI                                  319795 non-null  float64\n",
      " 2   PhysicalHealth                       319795 non-null  float64\n",
      " 3   MentalHealth                         319795 non-null  float64\n",
      " 4   SleepTime                            319795 non-null  float64\n",
      " 5   Smoking_No                           319795 non-null  uint8  \n",
      " 6   Smoking_Yes                          319795 non-null  uint8  \n",
      " 7   AlcoholDrinking_No                   319795 non-null  uint8  \n",
      " 8   AlcoholDrinking_Yes                  319795 non-null  uint8  \n",
      " 9   Stroke_No                            319795 non-null  uint8  \n",
      " 10  Stroke_Yes                           319795 non-null  uint8  \n",
      " 11  DiffWalking_No                       319795 non-null  uint8  \n",
      " 12  DiffWalking_Yes                      319795 non-null  uint8  \n",
      " 13  Sex_Female                           319795 non-null  uint8  \n",
      " 14  Sex_Male                             319795 non-null  uint8  \n",
      " 15  AgeCategory_18-24                    319795 non-null  uint8  \n",
      " 16  AgeCategory_25-29                    319795 non-null  uint8  \n",
      " 17  AgeCategory_30-34                    319795 non-null  uint8  \n",
      " 18  AgeCategory_35-39                    319795 non-null  uint8  \n",
      " 19  AgeCategory_40-44                    319795 non-null  uint8  \n",
      " 20  AgeCategory_45-49                    319795 non-null  uint8  \n",
      " 21  AgeCategory_50-54                    319795 non-null  uint8  \n",
      " 22  AgeCategory_55-59                    319795 non-null  uint8  \n",
      " 23  AgeCategory_60-64                    319795 non-null  uint8  \n",
      " 24  AgeCategory_65-69                    319795 non-null  uint8  \n",
      " 25  AgeCategory_70-74                    319795 non-null  uint8  \n",
      " 26  AgeCategory_75-79                    319795 non-null  uint8  \n",
      " 27  AgeCategory_gt80                     319795 non-null  uint8  \n",
      " 28  Race_American Indian/Alaskan Native  319795 non-null  uint8  \n",
      " 29  Race_Asian                           319795 non-null  uint8  \n",
      " 30  Race_Black                           319795 non-null  uint8  \n",
      " 31  Race_Hispanic                        319795 non-null  uint8  \n",
      " 32  Race_Other                           319795 non-null  uint8  \n",
      " 33  Race_White                           319795 non-null  uint8  \n",
      " 34  Diabetic_No                          319795 non-null  uint8  \n",
      " 35  Diabetic_No, borderline diabetes     319795 non-null  uint8  \n",
      " 36  Diabetic_Yes                         319795 non-null  uint8  \n",
      " 37  Diabetic_ydp                         319795 non-null  uint8  \n",
      " 38  PhysicalActivity_No                  319795 non-null  uint8  \n",
      " 39  PhysicalActivity_Yes                 319795 non-null  uint8  \n",
      " 40  GenHealth_Excellent                  319795 non-null  uint8  \n",
      " 41  GenHealth_Fair                       319795 non-null  uint8  \n",
      " 42  GenHealth_Good                       319795 non-null  uint8  \n",
      " 43  GenHealth_Poor                       319795 non-null  uint8  \n",
      " 44  GenHealth_VeryGood                   319795 non-null  uint8  \n",
      " 45  Asthma_No                            319795 non-null  uint8  \n",
      " 46  Asthma_Yes                           319795 non-null  uint8  \n",
      " 47  KidneyDisease_No                     319795 non-null  uint8  \n",
      " 48  KidneyDisease_Yes                    319795 non-null  uint8  \n",
      " 49  SkinCancer_No                        319795 non-null  uint8  \n",
      " 50  SkinCancer_Yes                       319795 non-null  uint8  \n",
      "dtypes: float64(4), int64(1), uint8(46)\n",
      "memory usage: 26.2 MB\n"
     ]
    }
   ],
   "source": [
    "df_.info(memory_usage=\"deep\")"
   ]
  },
  {
   "cell_type": "code",
<<<<<<< Updated upstream
   "execution_count": 26,
   "id": "ff0c37af",
   "metadata": {
    "ExecuteTime": {
     "end_time": "2022-06-03T13:27:39.001125Z",
     "start_time": "2022-06-03T13:27:38.892088Z"
=======
   "execution_count": 34,
   "id": "ff0c37af",
   "metadata": {
    "ExecuteTime": {
     "end_time": "2022-06-03T20:45:36.227198Z",
     "start_time": "2022-06-03T20:45:36.108732Z"
>>>>>>> Stashed changes
    }
   },
   "outputs": [
    {
     "data": {
      "text/plain": [
<<<<<<< Updated upstream
       "(array([     0.,      0.,      0.,      0.,      0., 319795.,      0.,\n",
       "             0.,      0.,      0.]),\n",
       " array([0.5, 0.6, 0.7, 0.8, 0.9, 1. , 1.1, 1.2, 1.3, 1.4, 1.5]),\n",
       " <BarContainer object of 10 artists>)"
      ]
     },
     "execution_count": 26,
=======
       "(array([292422.,      0.,      0.,      0.,      0.,      0.,      0.,\n",
       "             0.,      0.,  27373.]),\n",
       " array([0. , 0.1, 0.2, 0.3, 0.4, 0.5, 0.6, 0.7, 0.8, 0.9, 1. ]),\n",
       " <BarContainer object of 10 artists>)"
      ]
     },
     "execution_count": 34,
>>>>>>> Stashed changes
     "metadata": {},
     "output_type": "execute_result"
    },
    {
     "data": {
<<<<<<< Updated upstream
      "image/png": "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\n",
=======
      "image/png": "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\n",
>>>>>>> Stashed changes
      "text/plain": [
       "<Figure size 432x288 with 1 Axes>"
      ]
     },
     "metadata": {
      "needs_background": "light"
     },
     "output_type": "display_data"
    }
   ],
   "source": [
    "plt.hist(df_.HeartDisease)"
   ]
  },
  {
   "cell_type": "code",
<<<<<<< Updated upstream
   "execution_count": 27,
   "id": "7bfd0038",
   "metadata": {
    "ExecuteTime": {
     "end_time": "2022-06-03T13:27:40.654506Z",
     "start_time": "2022-06-03T13:27:40.645506Z"
=======
   "execution_count": 35,
   "id": "7bfd0038",
   "metadata": {
    "ExecuteTime": {
     "end_time": "2022-06-03T20:45:37.287309Z",
     "start_time": "2022-06-03T20:45:37.271105Z"
>>>>>>> Stashed changes
    }
   },
   "outputs": [],
   "source": [
    "#df_.columns"
   ]
  },
  {
   "cell_type": "markdown",
   "id": "a529416e",
   "metadata": {},
   "source": [
    "# Análises nos dados "
   ]
  },
  {
   "cell_type": "markdown",
   "id": "11362959",
   "metadata": {},
   "source": [
    "### Stats Models para escolher variaveis"
   ]
  },
  {
   "cell_type": "code",
<<<<<<< Updated upstream
   "execution_count": 30,
   "id": "cc97dc10",
   "metadata": {
    "ExecuteTime": {
     "end_time": "2022-06-03T13:28:13.084755Z",
     "start_time": "2022-06-03T13:28:12.248301Z"
=======
   "execution_count": 36,
   "id": "cc97dc10",
   "metadata": {
    "ExecuteTime": {
     "end_time": "2022-06-03T20:45:39.278591Z",
     "start_time": "2022-06-03T20:45:38.758583Z"
>>>>>>> Stashed changes
    }
   },
   "outputs": [],
   "source": [
    "import statsmodels.api as sm\n",
    "from patsy import dmatrices, dmatrix, demo_data"
   ]
  },
  {
   "cell_type": "markdown",
   "id": "a98940a1",
   "metadata": {},
   "source": [
    "#### Escolha de variáveis "
   ]
  },
  {
   "cell_type": "code",
<<<<<<< Updated upstream
   "execution_count": 31,
   "id": "6b65ee2b",
   "metadata": {
    "ExecuteTime": {
     "end_time": "2022-06-03T13:28:15.190570Z",
     "start_time": "2022-06-03T13:28:15.179568Z"
=======
   "execution_count": 37,
   "id": "6b65ee2b",
   "metadata": {
    "ExecuteTime": {
     "end_time": "2022-06-03T20:45:41.261623Z",
     "start_time": "2022-06-03T20:45:41.241078Z"
>>>>>>> Stashed changes
    }
   },
   "outputs": [],
   "source": [
    "variaveis = 'HeartDisease ~  BMI + PhysicalHealth + MentalHealth + SleepTime + Smoking_No + \\\n",
    " AlcoholDrinking_No +  AlcoholDrinking_Yes +  Stroke_No +  Stroke_Yes +  DiffWalking_No +  DiffWalking_Yes + \\\n",
    " Q(\"Race_American Indian/Alaskan Native\") + Race_White + Race_Asian +  Race_Black +  Race_Hispanic +  Race_Other + \\\n",
    " Sex_Female +  Sex_Male +  Q(\"AgeCategory_18-24\") +  Q(\"AgeCategory_25-29\") +  Q(\"AgeCategory_30-34\") +  Q(\"AgeCategory_35-39\") + \\\n",
    " Q(\"AgeCategory_40-44\") +  Q(\"AgeCategory_45-49\") +  Q(\"AgeCategory_50-54\") +  Q(\"AgeCategory_55-59\") +  Q(\"AgeCategory_60-64\") + \\\n",
    " Q(\"AgeCategory_65-69\") +  Q(\"AgeCategory_70-74\") +  Q(\"AgeCategory_75-79\") +  AgeCategory_gt80 + \\\n",
    " Diabetic_Yes +  PhysicalActivity_No +  PhysicalActivity_Yes +  GenHealth_Excellent +  GenHealth_Fair + \\\n",
    " GenHealth_Poor +  GenHealth_VeryGood +  Asthma_No +  Asthma_Yes +  KidneyDisease_No +  KidneyDisease_Yes + \\\n",
    " SkinCancer_No +  SkinCancer_Yes'\n",
    "\n",
    "\n",
    "# Q(\"Race_American Indian/Alaskan Native\") + \\  Race_Asian +  Race_Black +  Race_Hispanic +  Race_Other + "
   ]
  },
  {
   "cell_type": "markdown",
   "id": "75fef072",
   "metadata": {},
   "source": [
    "#### Avaliando os Betas "
   ]
  },
  {
   "cell_type": "code",
<<<<<<< Updated upstream
   "execution_count": 32,
   "id": "a4a68f4e",
   "metadata": {
    "ExecuteTime": {
     "end_time": "2022-06-03T13:28:16.738730Z",
     "start_time": "2022-06-03T13:28:16.324619Z"
=======
   "execution_count": 38,
   "id": "a4a68f4e",
   "metadata": {
    "ExecuteTime": {
     "end_time": "2022-06-03T20:45:45.217185Z",
     "start_time": "2022-06-03T20:45:44.791187Z"
>>>>>>> Stashed changes
    }
   },
   "outputs": [],
   "source": [
    "y_treino, X_treino = dmatrices(variaveis, \n",
    "                 data=df_, return_type='dataframe')"
   ]
  },
  {
   "cell_type": "code",
<<<<<<< Updated upstream
   "execution_count": 33,
   "id": "2014bdb8",
   "metadata": {
    "ExecuteTime": {
     "end_time": "2022-06-03T13:28:29.962306Z",
     "start_time": "2022-06-03T13:28:17.770666Z"
=======
   "execution_count": 39,
   "id": "2014bdb8",
   "metadata": {
    "ExecuteTime": {
     "end_time": "2022-06-03T20:45:55.779600Z",
     "start_time": "2022-06-03T20:45:46.852240Z"
>>>>>>> Stashed changes
    }
   },
   "outputs": [
    {
<<<<<<< Updated upstream
     "ename": "PerfectSeparationError",
     "evalue": "Perfect separation detected, results not available",
     "output_type": "error",
     "traceback": [
      "\u001b[1;31m---------------------------------------------------------------------------\u001b[0m",
      "\u001b[1;31mPerfectSeparationError\u001b[0m                    Traceback (most recent call last)",
      "Input \u001b[1;32mIn [33]\u001b[0m, in \u001b[0;36m<cell line: 3>\u001b[1;34m()\u001b[0m\n\u001b[0;32m      1\u001b[0m X_treino\u001b[38;5;241m.\u001b[39mexog \u001b[38;5;241m=\u001b[39m sm\u001b[38;5;241m.\u001b[39madd_constant(X_treino)\n\u001b[0;32m      2\u001b[0m logit_mod \u001b[38;5;241m=\u001b[39m sm\u001b[38;5;241m.\u001b[39mGLM(y_treino, X_treino, family\u001b[38;5;241m=\u001b[39msm\u001b[38;5;241m.\u001b[39mfamilies\u001b[38;5;241m.\u001b[39mBinomial())\n\u001b[1;32m----> 3\u001b[0m logit_res \u001b[38;5;241m=\u001b[39m \u001b[43mlogit_mod\u001b[49m\u001b[38;5;241;43m.\u001b[39;49m\u001b[43mfit\u001b[49m\u001b[43m(\u001b[49m\u001b[43m)\u001b[49m\n\u001b[0;32m      4\u001b[0m \u001b[38;5;28mprint\u001b[39m(logit_res\u001b[38;5;241m.\u001b[39msummary2())\n",
      "File \u001b[1;32m~\\.conda\\envs\\tensor\\lib\\site-packages\\statsmodels\\genmod\\generalized_linear_model.py:1075\u001b[0m, in \u001b[0;36mGLM.fit\u001b[1;34m(self, start_params, maxiter, method, tol, scale, cov_type, cov_kwds, use_t, full_output, disp, max_start_irls, **kwargs)\u001b[0m\n\u001b[0;32m   1073\u001b[0m     \u001b[38;5;28;01mif\u001b[39;00m cov_type\u001b[38;5;241m.\u001b[39mlower() \u001b[38;5;241m==\u001b[39m \u001b[38;5;124m'\u001b[39m\u001b[38;5;124meim\u001b[39m\u001b[38;5;124m'\u001b[39m:\n\u001b[0;32m   1074\u001b[0m         cov_type \u001b[38;5;241m=\u001b[39m \u001b[38;5;124m'\u001b[39m\u001b[38;5;124mnonrobust\u001b[39m\u001b[38;5;124m'\u001b[39m\n\u001b[1;32m-> 1075\u001b[0m     \u001b[38;5;28;01mreturn\u001b[39;00m \u001b[38;5;28mself\u001b[39m\u001b[38;5;241m.\u001b[39m_fit_irls(start_params\u001b[38;5;241m=\u001b[39mstart_params, maxiter\u001b[38;5;241m=\u001b[39mmaxiter,\n\u001b[0;32m   1076\u001b[0m                           tol\u001b[38;5;241m=\u001b[39mtol, scale\u001b[38;5;241m=\u001b[39mscale, cov_type\u001b[38;5;241m=\u001b[39mcov_type,\n\u001b[0;32m   1077\u001b[0m                           cov_kwds\u001b[38;5;241m=\u001b[39mcov_kwds, use_t\u001b[38;5;241m=\u001b[39muse_t, \u001b[38;5;241m*\u001b[39m\u001b[38;5;241m*\u001b[39mkwargs)\n\u001b[0;32m   1078\u001b[0m \u001b[38;5;28;01melse\u001b[39;00m:\n\u001b[0;32m   1079\u001b[0m     \u001b[38;5;28mself\u001b[39m\u001b[38;5;241m.\u001b[39m_optim_hessian \u001b[38;5;241m=\u001b[39m kwargs\u001b[38;5;241m.\u001b[39mget(\u001b[38;5;124m'\u001b[39m\u001b[38;5;124moptim_hessian\u001b[39m\u001b[38;5;124m'\u001b[39m)\n",
      "File \u001b[1;32m~\\.conda\\envs\\tensor\\lib\\site-packages\\statsmodels\\genmod\\generalized_linear_model.py:1224\u001b[0m, in \u001b[0;36mGLM._fit_irls\u001b[1;34m(self, start_params, maxiter, tol, scale, cov_type, cov_kwds, use_t, **kwargs)\u001b[0m\n\u001b[0;32m   1222\u001b[0m \u001b[38;5;28;01mif\u001b[39;00m endog\u001b[38;5;241m.\u001b[39msqueeze()\u001b[38;5;241m.\u001b[39mndim \u001b[38;5;241m==\u001b[39m \u001b[38;5;241m1\u001b[39m \u001b[38;5;129;01mand\u001b[39;00m np\u001b[38;5;241m.\u001b[39mallclose(mu \u001b[38;5;241m-\u001b[39m endog, \u001b[38;5;241m0\u001b[39m):\n\u001b[0;32m   1223\u001b[0m     msg \u001b[38;5;241m=\u001b[39m \u001b[38;5;124m\"\u001b[39m\u001b[38;5;124mPerfect separation detected, results not available\u001b[39m\u001b[38;5;124m\"\u001b[39m\n\u001b[1;32m-> 1224\u001b[0m     \u001b[38;5;28;01mraise\u001b[39;00m PerfectSeparationError(msg)\n\u001b[0;32m   1225\u001b[0m converged \u001b[38;5;241m=\u001b[39m _check_convergence(criterion, iteration \u001b[38;5;241m+\u001b[39m \u001b[38;5;241m1\u001b[39m, atol,\n\u001b[0;32m   1226\u001b[0m                                rtol)\n\u001b[0;32m   1227\u001b[0m \u001b[38;5;28;01mif\u001b[39;00m converged:\n",
      "\u001b[1;31mPerfectSeparationError\u001b[0m: Perfect separation detected, results not available"
=======
     "name": "stdout",
     "output_type": "stream",
     "text": [
      "                            Results: Generalized linear model\n",
      "=========================================================================================\n",
      "Model:                       GLM                     AIC:                   145232.2431  \n",
      "Link Function:               Logit                   BIC:                   -3907924.3192\n",
      "Dependent Variable:          HeartDisease            Log-Likelihood:        -72580.      \n",
      "Date:                        2022-06-03 17:45        LL-Null:               -93453.      \n",
      "No. Observations:            319795                  Deviance:              1.4516e+05   \n",
      "Df Model:                    35                      Pearson chi2:          3.04e+05     \n",
      "Df Residuals:                319759                  Scale:                 1.0000       \n",
      "Method:                      IRLS                                                        \n",
      "-----------------------------------------------------------------------------------------\n",
      "                                          Coef.  Std.Err.    z     P>|z|   [0.025  0.975]\n",
      "-----------------------------------------------------------------------------------------\n",
      "Intercept                                -0.4092   0.0107 -38.1251 0.0000 -0.4302 -0.3881\n",
      "BMI                                       0.0087   0.0011   7.6120 0.0000  0.0065  0.0109\n",
      "PhysicalHealth                            0.0032   0.0009   3.6618 0.0003  0.0015  0.0049\n",
      "MentalHealth                              0.0048   0.0009   5.3841 0.0000  0.0030  0.0065\n",
      "SleepTime                                -0.0252   0.0043  -5.8065 0.0000 -0.0337 -0.0167\n",
      "Smoking_No                               -0.3563   0.0144 -24.7912 0.0000 -0.3845 -0.3281\n",
      "AlcoholDrinking_No                       -0.0840   0.0163  -5.1563 0.0000 -0.1159 -0.0521\n",
      "AlcoholDrinking_Yes                      -0.3252   0.0188 -17.2766 0.0000 -0.3620 -0.2883\n",
      "Stroke_No                                -0.7282   0.0118 -61.6808 0.0000 -0.7513 -0.7050\n",
      "Stroke_Yes                                0.3190   0.0132  24.1593 0.0000  0.2931  0.3449\n",
      "DiffWalking_No                           -0.3111   0.0098 -31.7377 0.0000 -0.3303 -0.2919\n",
      "DiffWalking_Yes                          -0.0981   0.0112  -8.7292 0.0000 -0.1201 -0.0760\n",
      "Q(\"Race_American Indian/Alaskan Native\")  0.1439   0.0450   3.2006 0.0014  0.0558  0.2321\n",
      "Race_White                                0.0639   0.0180   3.5389 0.0004  0.0285  0.0993\n",
      "Race_Asian                               -0.3882   0.0574  -6.7575 0.0000 -0.5008 -0.2756\n",
      "Race_Black                               -0.2026   0.0281  -7.2200 0.0000 -0.2576 -0.1476\n",
      "Race_Hispanic                            -0.1102   0.0294  -3.7444 0.0002 -0.1679 -0.0525\n",
      "Race_Other                                0.0840   0.0360   2.3322 0.0197  0.0134  0.1546\n",
      "Sex_Female                               -0.5582   0.0091 -61.4009 0.0000 -0.5760 -0.5404\n",
      "Sex_Male                                  0.1490   0.0090  16.6179 0.0000  0.1315  0.1666\n",
      "Q(\"AgeCategory_18-24\")                   -1.6369   0.0827 -19.8048 0.0000 -1.7989 -1.4749\n",
      "Q(\"AgeCategory_25-29\")                   -1.5102   0.0817 -18.4744 0.0000 -1.6704 -1.3500\n",
      "Q(\"AgeCategory_30-34\")                   -1.1496   0.0636 -18.0762 0.0000 -1.2742 -1.0249\n",
      "Q(\"AgeCategory_35-39\")                   -1.0400   0.0562 -18.5178 0.0000 -1.1500 -0.9299\n",
      "Q(\"AgeCategory_40-44\")                   -0.6388   0.0452 -14.1487 0.0000 -0.7273 -0.5503\n",
      "Q(\"AgeCategory_45-49\")                   -0.3157   0.0378  -8.3508 0.0000 -0.3898 -0.2416\n",
      "Q(\"AgeCategory_50-54\")                    0.0933   0.0297   3.1389 0.0017  0.0350  0.1516\n",
      "Q(\"AgeCategory_55-59\")                    0.3313   0.0253  13.0918 0.0000  0.2817  0.3809\n",
      "Q(\"AgeCategory_60-64\")                    0.5937   0.0224  26.5250 0.0000  0.5499  0.6376\n",
      "Q(\"AgeCategory_65-69\")                    0.8358   0.0213  39.2293 0.0000  0.7940  0.8776\n",
      "Q(\"AgeCategory_70-74\")                    1.1221   0.0209  53.6644 0.0000  1.0811  1.1631\n",
      "Q(\"AgeCategory_75-79\")                    1.3240   0.0227  58.3382 0.0000  1.2795  1.3684\n",
      "AgeCategory_gt80                          1.5817   0.0220  71.9788 0.0000  1.5387  1.6248\n",
      "Diabetic_Yes                              0.4698   0.0166  28.3538 0.0000  0.4373  0.5023\n",
      "PhysicalActivity_No                      -0.2146   0.0102 -21.1265 0.0000 -0.2346 -0.1947\n",
      "PhysicalActivity_Yes                     -0.1945   0.0091 -21.2885 0.0000 -0.2124 -0.1766\n",
      "GenHealth_Excellent                      -1.0480   0.0296 -35.4251 0.0000 -1.1059 -0.9900\n",
      "GenHealth_Fair                            0.4744   0.0200  23.6709 0.0000  0.4351  0.5137\n",
      "GenHealth_Poor                            0.8544   0.0307  27.8746 0.0000  0.7943  0.9145\n",
      "GenHealth_VeryGood                       -0.5754   0.0188 -30.6062 0.0000 -0.6123 -0.5386\n",
      "Asthma_No                                -0.3438   0.0104 -32.9211 0.0000 -0.3643 -0.3233\n",
      "Asthma_Yes                               -0.0654   0.0115  -5.6631 0.0000 -0.0880 -0.0427\n",
      "KidneyDisease_No                         -0.4888   0.0123 -39.7708 0.0000 -0.5129 -0.4647\n",
      "KidneyDisease_Yes                         0.0796   0.0143   5.5701 0.0000  0.0516  0.1076\n",
      "SkinCancer_No                            -0.2618   0.0104 -25.1982 0.0000 -0.2821 -0.2414\n",
      "SkinCancer_Yes                           -0.1474   0.0118 -12.4645 0.0000 -0.1706 -0.1242\n",
      "=========================================================================================\n",
      "\n"
>>>>>>> Stashed changes
     ]
    }
   ],
   "source": [
    "X_treino.exog = sm.add_constant(X_treino)\n",
    "logit_mod = sm.GLM(y_treino, X_treino, family=sm.families.Binomial())\n",
    "logit_res = logit_mod.fit()\n",
    "print(logit_res.summary2())"
   ]
  },
  {
   "cell_type": "markdown",
   "id": "f980cfc4",
   "metadata": {},
   "source": [
    "### Definindo o dataset final"
   ]
  },
  {
   "cell_type": "code",
   "execution_count": 34,
   "id": "f5155d0e",
   "metadata": {
    "ExecuteTime": {
     "end_time": "2022-06-03T13:29:08.455463Z",
     "start_time": "2022-06-03T13:29:08.444455Z"
    }
   },
   "outputs": [],
   "source": [
    "#X_treino.columns"
   ]
  },
  {
   "cell_type": "markdown",
   "id": "540fc9d2",
   "metadata": {},
   "source": [
    "#### Definindo variáveis explicativas "
   ]
  },
  {
   "cell_type": "code",
   "execution_count": 35,
   "id": "01f2525b",
   "metadata": {
    "ExecuteTime": {
     "end_time": "2022-06-03T13:29:10.176818Z",
     "start_time": "2022-06-03T13:29:10.151812Z"
    }
   },
   "outputs": [],
   "source": [
    "data = df_.loc[:, ['BMI', 'PhysicalHealth', 'MentalHealth', 'SleepTime',\n",
    "       'Smoking_No', 'AlcoholDrinking_No', 'AlcoholDrinking_Yes', 'Stroke_No',\n",
    "       'Stroke_Yes', 'DiffWalking_No', 'DiffWalking_Yes', 'Sex_Female',\n",
    "       'Sex_Male', 'AgeCategory_18-24', 'AgeCategory_25-29',\n",
    "       'AgeCategory_30-34', 'AgeCategory_35-39', 'Race_American Indian/Alaskan Native', 'Race_Asian', 'Race_Black',\n",
    "       'Race_Hispanic', 'Race_Other', 'Race_White', \n",
    "       'AgeCategory_40-44', 'AgeCategory_45-49',\n",
    "       'AgeCategory_50-54', 'AgeCategory_55-59',\n",
    "       'AgeCategory_60-64', 'AgeCategory_65-69',\n",
    "       'AgeCategory_70-74', 'AgeCategory_75-79', 'AgeCategory_gt80',\n",
    "       'Diabetic_Yes',\n",
    "       'PhysicalActivity_No', 'PhysicalActivity_Yes', 'GenHealth_Excellent',\n",
    "       'GenHealth_Fair', 'GenHealth_Poor', 'GenHealth_VeryGood', 'Asthma_No',\n",
    "       'Asthma_Yes', 'KidneyDisease_No', 'KidneyDisease_Yes', 'SkinCancer_No',\n",
    "       'SkinCancer_Yes']]\n",
    "\n",
    "# 'Race_American Indian/Alaskan Native', 'Race_Asian', 'Race_Black',\n",
    "# 'Race_Hispanic', 'Race_Other', 'Race_White', "
   ]
  },
  {
   "cell_type": "markdown",
   "id": "a1077747",
   "metadata": {},
   "source": [
    "#### Definindo variável alvo "
   ]
  },
  {
   "cell_type": "code",
   "execution_count": 36,
   "id": "4a907354",
   "metadata": {
    "ExecuteTime": {
     "end_time": "2022-06-03T13:29:13.949873Z",
     "start_time": "2022-06-03T13:29:13.931863Z"
    }
   },
   "outputs": [],
   "source": [
    "target = df_['HeartDisease']"
   ]
  },
  {
   "cell_type": "markdown",
   "id": "435cb2fc",
   "metadata": {},
   "source": [
    "#### Transformando em arrays numpy "
   ]
  },
  {
   "cell_type": "code",
   "execution_count": 37,
   "id": "aa78ab72",
   "metadata": {
    "ExecuteTime": {
     "end_time": "2022-06-03T13:29:16.657472Z",
     "start_time": "2022-06-03T13:29:16.628479Z"
    }
   },
   "outputs": [],
   "source": [
    "data = np.asarray(data)\n",
    "target = np.asarray(target)"
   ]
  },
  {
   "cell_type": "markdown",
   "id": "2f52cc40",
   "metadata": {},
   "source": [
    "#### Split em treino, teste e validacao"
   ]
  },
  {
   "cell_type": "code",
   "execution_count": 38,
   "id": "50ee0705",
   "metadata": {
    "ExecuteTime": {
     "end_time": "2022-06-03T13:29:20.071857Z",
     "start_time": "2022-06-03T13:29:19.869695Z"
    }
   },
   "outputs": [],
   "source": [
    "X_train_full, X_test, y_train_full, y_test = train_test_split(data, target,  random_state=42)\n",
    "X_train, X_valid, y_train, y_valid = train_test_split(X_train_full, y_train_full, random_state=42)"
   ]
  },
  {
   "cell_type": "markdown",
   "id": "cb698656",
   "metadata": {},
   "source": [
    "#### Padronização de valores  "
   ]
  },
  {
   "cell_type": "code",
   "execution_count": 39,
   "id": "f38d54d8",
   "metadata": {
    "ExecuteTime": {
     "end_time": "2022-06-03T13:29:26.417093Z",
     "start_time": "2022-06-03T13:29:26.247049Z"
    }
   },
   "outputs": [],
   "source": [
    "scaler = StandardScaler()\n",
    "X_train = scaler.fit_transform(X_train)\n",
    "X_valid = scaler.transform(X_valid)\n",
    "X_test = scaler.transform(X_test)"
   ]
  },
  {
   "cell_type": "markdown",
   "id": "7c865c29",
   "metadata": {},
   "source": [
    "# O modelo e hiperparâmetros"
   ]
  },
  {
   "cell_type": "markdown",
   "id": "6e80f8d4",
   "metadata": {},
   "source": [
    "### Definindo as camadas de entrada e ocultas "
   ]
  },
  {
   "cell_type": "markdown",
   "id": "34ae1833",
   "metadata": {},
   "source": [
    "#### Definição da funcao de ativacao Sigmoid e o build com o shape na entrada"
   ]
  },
  {
   "cell_type": "code",
   "execution_count": 40,
   "id": "e8fa27e0",
   "metadata": {
    "ExecuteTime": {
     "end_time": "2022-06-03T13:29:34.107929Z",
     "start_time": "2022-06-03T13:29:33.818198Z"
    }
   },
   "outputs": [],
   "source": [
    "model = keras.models.Sequential([\n",
    "    keras.layers.Flatten(input_shape=X_train.shape[1:]),\n",
    "    keras.layers.Dense(800, activation=\"relu\"),\n",
    "    keras.layers.Dense(800, activation=\"relu\", name=\"oculta1\"),\n",
    "    keras.layers.Dense(800, activation=\"relu\", name=\"oculta2\"),\n",
    "    keras.layers.Dense(800, activation=\"relu\", name=\"oculta3\"),\n",
    "    keras.layers.Dense(1, activation=\"sigmoid\")\n",
    "])"
   ]
  },
  {
   "cell_type": "code",
   "execution_count": 97,
   "id": "becb668c",
   "metadata": {
    "ExecuteTime": {
     "end_time": "2022-05-10T21:39:43.489827Z",
     "start_time": "2022-05-10T21:39:43.476486Z"
    }
   },
   "outputs": [
    {
     "data": {
      "text/plain": [
       "'kl = keras.layers\\ninput_ = kl.Input(shape=X_train.shape[1:]) #qtd vars\\nhidden1 = kl.Dense(30, activation=\"relu\")(input_)\\nhidden2 = kl.Dense(30, activation=\"relu\")(hidden1)\\nhidden3 = kl.Dense(30, activation=\"relu\")(hidden2)\\nhidden4 = kl.Dense(30, activation=\"relu\")(hidden3)\\nconcat = kl.Concatenate()([input_, hidden4])\\noutput = kl.Dense(1)(concat)\\nmodel = keras.Model(inputs=[input_], outputs=[output])'"
      ]
     },
     "execution_count": 97,
     "metadata": {},
     "output_type": "execute_result"
    }
   ],
   "source": [
    "\"\"\"kl = keras.layers\n",
    "input_ = kl.Input(shape=X_train.shape[1:]) #qtd vars\n",
    "hidden1 = kl.Dense(30, activation=\"relu\")(input_)\n",
    "hidden2 = kl.Dense(30, activation=\"relu\")(hidden1)\n",
    "hidden3 = kl.Dense(30, activation=\"relu\")(hidden2)\n",
    "hidden4 = kl.Dense(30, activation=\"relu\")(hidden3)\n",
    "concat = kl.Concatenate()([input_, hidden4])\n",
    "output = kl.Dense(1)(concat)\n",
    "model = keras.Model(inputs=[input_], outputs=[output])\"\"\""
   ]
  },
  {
   "cell_type": "markdown",
   "id": "e43b4f12",
   "metadata": {
    "ExecuteTime": {
     "end_time": "2022-04-29T14:24:44.600398Z",
     "start_time": "2022-04-29T14:24:44.585337Z"
    }
   },
   "source": [
    "#### Criando metricas para a regressao logit e definição de Cutoff"
   ]
  },
  {
   "cell_type": "code",
   "execution_count": 41,
   "id": "7c4fbd7e",
   "metadata": {
    "ExecuteTime": {
     "end_time": "2022-06-03T13:29:45.408196Z",
     "start_time": "2022-06-03T13:29:45.387188Z"
    }
   },
   "outputs": [],
   "source": [
    "tf.keras.metrics.FalseNegatives?"
   ]
  },
  {
   "cell_type": "code",
   "execution_count": 42,
   "id": "0439a2de",
   "metadata": {
    "ExecuteTime": {
     "end_time": "2022-06-03T13:29:50.673101Z",
     "start_time": "2022-06-03T13:29:50.652096Z"
    }
   },
   "outputs": [
    {
     "data": {
      "text/plain": [
       "<keras.metrics.metrics.FalseNegatives at 0x2059753ec20>"
      ]
     },
     "execution_count": 42,
     "metadata": {},
     "output_type": "execute_result"
    }
   ],
   "source": [
    "tf.keras.metrics.BinaryAccuracy(\n",
    "    name=\"binary_accuracy\", threshold=0.2\n",
    ")\n",
    "\n",
    "tf.keras.metrics.FalseNegatives(\n",
    "    name=\"false_negatives\", thresholds=0.2    \n",
    ")"
   ]
  },
  {
   "cell_type": "markdown",
   "id": "72c4001e",
   "metadata": {},
   "source": [
    "#### Compilando o modelo "
   ]
  },
  {
   "cell_type": "code",
   "execution_count": 43,
   "id": "c7e29c61",
   "metadata": {
    "ExecuteTime": {
     "end_time": "2022-06-03T13:29:56.037511Z",
     "start_time": "2022-06-03T13:29:56.029508Z"
    }
   },
   "outputs": [],
   "source": [
    "model.compile?"
   ]
  },
  {
   "cell_type": "code",
   "execution_count": 44,
   "id": "64c59c8a",
   "metadata": {
    "ExecuteTime": {
     "end_time": "2022-06-03T13:30:02.083281Z",
     "start_time": "2022-06-03T13:30:02.063257Z"
    }
   },
   "outputs": [],
   "source": [
    "model.compile(loss=\"binary_crossentropy\", optimizer=tf.keras.optimizers.Adam(learning_rate=1e-3), \n",
    "              metrics=[tf.keras.metrics.BinaryAccuracy(), \n",
    "                       tf.keras.metrics.FalseNegatives()])"
   ]
  },
  {
   "cell_type": "markdown",
   "id": "e5d2e55f",
   "metadata": {},
   "source": [
    "#### Definição do diretorio do tensorboard"
   ]
  },
  {
   "cell_type": "code",
   "execution_count": 45,
   "id": "9c559fd0",
   "metadata": {
    "ExecuteTime": {
     "end_time": "2022-06-03T13:30:05.012236Z",
     "start_time": "2022-06-03T13:30:04.997226Z"
    }
   },
   "outputs": [],
   "source": [
    "root_logdir = os.path.join(os.curdir, \"my_logs_hd\")\n",
    "def get_run_logdir():\n",
    "    import time\n",
    "    run_id = time.strftime(\"run_%Y_%m_%d-%H_%M_%S\")\n",
    "    return os.path.join(root_logdir, run_id)\n",
    "\n",
    "root_logdir = get_run_logdir()"
   ]
  },
  {
   "cell_type": "markdown",
   "id": "17d6df2d",
   "metadata": {},
   "source": [
    "#### Funções Callback para parada acidental, parada com loss sem alteracao, gravação no tensorboard"
   ]
  },
  {
   "cell_type": "code",
   "execution_count": 46,
   "id": "e347ebc8",
   "metadata": {
    "ExecuteTime": {
     "end_time": "2022-06-03T13:30:06.711744Z",
     "start_time": "2022-06-03T13:30:06.693734Z"
    }
   },
   "outputs": [],
   "source": [
    "checkpoint_cb = keras.callbacks.ModelCheckpoint(\"modelo5_heart_disease.h5\", save_best_only=True)\n",
    "early_stopping_cb = keras.callbacks.EarlyStopping(patience=10, restore_best_weights=True)\n",
    "tensorboad_cb = keras.callbacks.TensorBoard(root_logdir)"
   ]
  },
  {
   "cell_type": "markdown",
   "id": "7ae5029a",
   "metadata": {},
   "source": [
    "#### Fitando o modelo "
   ]
  },
  {
   "cell_type": "code",
   "execution_count": 47,
   "id": "29f0d39c",
   "metadata": {
    "ExecuteTime": {
     "end_time": "2022-06-03T13:38:20.833836Z",
     "start_time": "2022-06-03T13:30:17.543187Z"
    },
    "scrolled": true
   },
   "outputs": [
    {
     "name": "stdout",
     "output_type": "stream",
     "text": [
      "Epoch 1/100\n",
      "5622/5622 - 46s - loss: 1.2664e-04 - binary_accuracy: 1.0000 - false_negatives: 0.0000e+00 - val_loss: 0.0000e+00 - val_binary_accuracy: 1.0000 - val_false_negatives: 0.0000e+00 - 46s/epoch - 8ms/step\n",
      "Epoch 2/100\n",
      "5622/5622 - 44s - loss: 0.0000e+00 - binary_accuracy: 1.0000 - false_negatives: 0.0000e+00 - val_loss: 0.0000e+00 - val_binary_accuracy: 1.0000 - val_false_negatives: 0.0000e+00 - 44s/epoch - 8ms/step\n",
      "Epoch 3/100\n",
      "5622/5622 - 44s - loss: 0.0000e+00 - binary_accuracy: 1.0000 - false_negatives: 0.0000e+00 - val_loss: 0.0000e+00 - val_binary_accuracy: 1.0000 - val_false_negatives: 0.0000e+00 - 44s/epoch - 8ms/step\n",
      "Epoch 4/100\n",
      "5622/5622 - 45s - loss: 0.0000e+00 - binary_accuracy: 1.0000 - false_negatives: 0.0000e+00 - val_loss: 0.0000e+00 - val_binary_accuracy: 1.0000 - val_false_negatives: 0.0000e+00 - 45s/epoch - 8ms/step\n",
      "Epoch 5/100\n",
      "5622/5622 - 43s - loss: 0.0000e+00 - binary_accuracy: 1.0000 - false_negatives: 0.0000e+00 - val_loss: 0.0000e+00 - val_binary_accuracy: 1.0000 - val_false_negatives: 0.0000e+00 - 43s/epoch - 8ms/step\n",
      "Epoch 6/100\n",
      "5622/5622 - 44s - loss: 0.0000e+00 - binary_accuracy: 1.0000 - false_negatives: 0.0000e+00 - val_loss: 0.0000e+00 - val_binary_accuracy: 1.0000 - val_false_negatives: 0.0000e+00 - 44s/epoch - 8ms/step\n",
      "Epoch 7/100\n",
      "5622/5622 - 42s - loss: 0.0000e+00 - binary_accuracy: 1.0000 - false_negatives: 0.0000e+00 - val_loss: 0.0000e+00 - val_binary_accuracy: 1.0000 - val_false_negatives: 0.0000e+00 - 42s/epoch - 8ms/step\n",
      "Epoch 8/100\n",
      "5622/5622 - 44s - loss: 0.0000e+00 - binary_accuracy: 1.0000 - false_negatives: 0.0000e+00 - val_loss: 0.0000e+00 - val_binary_accuracy: 1.0000 - val_false_negatives: 0.0000e+00 - 44s/epoch - 8ms/step\n",
      "Epoch 9/100\n",
      "5622/5622 - 44s - loss: 0.0000e+00 - binary_accuracy: 1.0000 - false_negatives: 0.0000e+00 - val_loss: 0.0000e+00 - val_binary_accuracy: 1.0000 - val_false_negatives: 0.0000e+00 - 44s/epoch - 8ms/step\n",
      "Epoch 10/100\n",
      "5622/5622 - 43s - loss: 0.0000e+00 - binary_accuracy: 1.0000 - false_negatives: 0.0000e+00 - val_loss: 0.0000e+00 - val_binary_accuracy: 1.0000 - val_false_negatives: 0.0000e+00 - 43s/epoch - 8ms/step\n",
      "Epoch 11/100\n",
      "5622/5622 - 45s - loss: 0.0000e+00 - binary_accuracy: 1.0000 - false_negatives: 0.0000e+00 - val_loss: 0.0000e+00 - val_binary_accuracy: 1.0000 - val_false_negatives: 0.0000e+00 - 45s/epoch - 8ms/step\n"
     ]
    }
   ],
   "source": [
    "hist = model.fit(X_train, y_train, \n",
    "                     epochs=100, batch_size = 32, verbose = 2,\n",
    "                     callbacks=[checkpoint_cb,early_stopping_cb, tensorboad_cb],\n",
    "                     validation_data=(X_valid, y_valid))"
   ]
  },
  {
   "cell_type": "markdown",
   "id": "81a284a1",
   "metadata": {},
   "source": [
    "#### Salvando o modelo "
   ]
  },
  {
   "cell_type": "code",
   "execution_count": 48,
   "id": "032f58b9",
   "metadata": {
    "ExecuteTime": {
     "end_time": "2022-06-03T14:48:48.159819Z",
     "start_time": "2022-06-03T14:48:48.063790Z"
    }
   },
   "outputs": [],
   "source": [
    "model.save(\"modelo1000n_FN_black_heart_disease_03062022.h5\")"
   ]
  },
  {
   "cell_type": "markdown",
   "id": "7bfab37d",
   "metadata": {},
   "source": [
    "#### Verificando o desempenho com a base Teste "
   ]
  },
  {
   "cell_type": "code",
   "execution_count": 49,
   "id": "3ea6ff6b",
   "metadata": {
    "ExecuteTime": {
     "end_time": "2022-06-03T14:49:06.760255Z",
     "start_time": "2022-06-03T14:48:52.113316Z"
    }
   },
   "outputs": [
    {
     "name": "stdout",
     "output_type": "stream",
     "text": [
      "2499/2499 [==============================] - 15s 6ms/step - loss: 0.0000e+00 - binary_accuracy: 1.0000 - false_negatives: 0.0000e+00\n"
     ]
    }
   ],
   "source": [
    "mse_test = model.evaluate(X_test, y_test)"
   ]
  },
  {
   "cell_type": "markdown",
   "id": "5fdaa99f",
   "metadata": {},
   "source": [
    "#### Predição "
   ]
  },
  {
   "cell_type": "code",
   "execution_count": 62,
   "id": "afb82dc8",
   "metadata": {
    "ExecuteTime": {
     "end_time": "2022-06-03T14:51:24.230672Z",
     "start_time": "2022-06-03T14:51:23.204453Z"
    }
   },
   "outputs": [
    {
     "name": "stdout",
     "output_type": "stream",
     "text": [
      "313/313 [==============================] - 1s 3ms/step\n"
     ]
    }
   ],
   "source": [
    "y_pred = model.predict(X_test[:10000])\n",
    "#y_pred_cl =np.argmax(y_pred,axis=1)\n",
    "#len(y_pred_cl)\n"
   ]
  },
  {
   "cell_type": "code",
   "execution_count": 53,
   "id": "f346f308",
   "metadata": {
    "ExecuteTime": {
     "end_time": "2022-06-03T14:49:57.474009Z",
     "start_time": "2022-06-03T14:49:57.451012Z"
    }
   },
   "outputs": [
    {
     "name": "stdout",
     "output_type": "stream",
     "text": [
      "Which predictions match with binary labels: [1. 1. 1. 1. 1. 1. 1. 1. 1. 1. 1. 1. 1. 1. 1. 1. 1. 1. 1. 1. 1. 1. 1. 1.\n",
      " 1. 1. 1. 1. 1. 1. 1. 1. 1. 1. 1. 1. 1. 1. 1. 1. 1. 1. 1. 1. 1. 1. 1. 1.\n",
      " 1. 1. 1. 1. 1. 1. 1. 1. 1. 1. 1. 1. 1. 1. 1. 1. 1. 1. 1. 1. 1. 1. 1. 1.\n",
      " 1. 1. 1. 1. 1. 1. 1. 1. 1. 1. 1. 1. 1. 1. 1. 1. 1. 1. 1. 1. 1. 1. 1. 1.\n",
      " 1. 1. 1. 1.]\n"
     ]
    }
   ],
   "source": [
    "m = tf.keras.metrics.binary_accuracy(y_test, y_pred, threshold=0.5)\n",
    "print(\"Which predictions match with binary labels:\", m.numpy())"
   ]
  },
  {
   "cell_type": "code",
   "execution_count": 55,
   "id": "45797859",
   "metadata": {
    "ExecuteTime": {
     "end_time": "2022-06-03T14:50:14.558507Z",
     "start_time": "2022-06-03T14:50:14.532499Z"
    }
   },
   "outputs": [
    {
     "data": {
      "text/plain": [
       "1.0"
      ]
     },
     "execution_count": 55,
     "metadata": {},
     "output_type": "execute_result"
    }
   ],
   "source": [
    "mm = tf.keras.metrics.BinaryAccuracy()\n",
    "mm.update_state(y_test[:100], y_pred)\n",
    "mm.result().numpy()"
   ]
  },
  {
   "cell_type": "markdown",
   "id": "74be2b91",
   "metadata": {},
   "source": [
    "##### Plotagem do que foi predito "
   ]
  },
  {
   "cell_type": "code",
   "execution_count": 56,
   "id": "a7b7a110",
   "metadata": {
    "ExecuteTime": {
     "end_time": "2022-06-03T14:50:21.389487Z",
     "start_time": "2022-06-03T14:50:21.377491Z"
    }
   },
   "outputs": [
    {
     "name": "stdout",
     "output_type": "stream",
     "text": [
      "1.0 1.0 0.0 1.0 1.0\n"
     ]
    }
   ],
   "source": [
    "media = np.mean(y_pred)\n",
    "mediana = np.median(y_pred)\n",
    "std = np.std(y_pred)\n",
    "minimo = np.amin(y_pred)\n",
    "maximo = np.amax(y_pred)\n",
    "print(media, mediana, std, minimo, maximo)"
   ]
  },
  {
   "cell_type": "markdown",
   "id": "d5c52c09",
   "metadata": {},
   "source": [
    "### Evaluation do modelo"
   ]
  },
  {
   "cell_type": "markdown",
   "id": "b1482ecc",
   "metadata": {},
   "source": [
    "#### Regulando o Cutoff manualmente "
   ]
  },
  {
   "cell_type": "code",
   "execution_count": 57,
   "id": "15b97df0",
   "metadata": {
    "ExecuteTime": {
     "end_time": "2022-06-03T14:50:30.975891Z",
     "start_time": "2022-06-03T14:50:24.712456Z"
    }
   },
   "outputs": [
    {
     "name": "stdout",
     "output_type": "stream",
     "text": [
      "2499/2499 [==============================] - 6s 2ms/step\n"
     ]
    }
   ],
   "source": [
    "ypred = model.predict(X_test, verbose=1)\n",
    "ypred = np.argmax(ypred, axis=1)"
   ]
  },
  {
   "cell_type": "code",
   "execution_count": 58,
   "id": "af6c351b",
   "metadata": {
    "ExecuteTime": {
     "end_time": "2022-06-03T14:50:35.847978Z",
     "start_time": "2022-06-03T14:50:35.835963Z"
    }
   },
   "outputs": [
    {
     "data": {
      "text/plain": [
       "array([[    0, 79949]], dtype=int64)"
      ]
     },
     "execution_count": 58,
     "metadata": {},
     "output_type": "execute_result"
    }
   ],
   "source": [
    "unique, counts = np.unique(ypred, return_counts=True)\n",
    "np.asarray((unique, counts)).T"
   ]
  },
  {
   "cell_type": "code",
   "execution_count": 59,
   "id": "bfaf0f5b",
   "metadata": {
    "ExecuteTime": {
     "end_time": "2022-06-03T14:50:40.986744Z",
     "start_time": "2022-06-03T14:50:40.977691Z"
    }
   },
   "outputs": [],
   "source": [
    "ctf = 0.2\n",
    "y_pred_clm = [1 if x > ctf else 0 for x in y_pred]"
   ]
  },
  {
   "cell_type": "markdown",
   "id": "7b07ded8",
   "metadata": {},
   "source": [
    "#### Jaccard teste para acuracia por classe "
   ]
  },
  {
   "cell_type": "code",
   "execution_count": 60,
   "id": "634e0054",
   "metadata": {
    "ExecuteTime": {
     "end_time": "2022-06-03T14:50:44.760135Z",
     "start_time": "2022-06-03T14:50:44.345032Z"
    }
   },
   "outputs": [
    {
     "ename": "ValueError",
     "evalue": "Found input variables with inconsistent numbers of samples: [79949, 100]",
     "output_type": "error",
     "traceback": [
      "\u001b[1;31m---------------------------------------------------------------------------\u001b[0m",
      "\u001b[1;31mValueError\u001b[0m                                Traceback (most recent call last)",
      "Input \u001b[1;32mIn [60]\u001b[0m, in \u001b[0;36m<cell line: 2>\u001b[1;34m()\u001b[0m\n\u001b[0;32m      1\u001b[0m \u001b[38;5;28;01mfrom\u001b[39;00m \u001b[38;5;21;01msklearn\u001b[39;00m\u001b[38;5;21;01m.\u001b[39;00m\u001b[38;5;21;01mmetrics\u001b[39;00m \u001b[38;5;28;01mimport\u001b[39;00m jaccard_score\n\u001b[1;32m----> 2\u001b[0m jac_1 \u001b[38;5;241m=\u001b[39m \u001b[43mjaccard_score\u001b[49m\u001b[43m(\u001b[49m\u001b[43my_test\u001b[49m\u001b[43m,\u001b[49m\u001b[43m \u001b[49m\u001b[43my_pred_clm\u001b[49m\u001b[43m,\u001b[49m\u001b[43m \u001b[49m\u001b[43mpos_label\u001b[49m\u001b[38;5;241;43m=\u001b[39;49m\u001b[38;5;241;43m1\u001b[39;49m\u001b[43m)\u001b[49m\n\u001b[0;32m      3\u001b[0m jac_0 \u001b[38;5;241m=\u001b[39m jaccard_score(y_test, y_pred_clm, pos_label\u001b[38;5;241m=\u001b[39m\u001b[38;5;241m0\u001b[39m)\n\u001b[0;32m      5\u001b[0m \u001b[38;5;28mprint\u001b[39m(jac_1, jac_0)\n",
      "File \u001b[1;32m~\\.conda\\envs\\tensor\\lib\\site-packages\\sklearn\\metrics\\_classification.py:795\u001b[0m, in \u001b[0;36mjaccard_score\u001b[1;34m(y_true, y_pred, labels, pos_label, average, sample_weight, zero_division)\u001b[0m\n\u001b[0;32m    667\u001b[0m \u001b[38;5;28;01mdef\u001b[39;00m \u001b[38;5;21mjaccard_score\u001b[39m(\n\u001b[0;32m    668\u001b[0m     y_true,\n\u001b[0;32m    669\u001b[0m     y_pred,\n\u001b[1;32m   (...)\u001b[0m\n\u001b[0;32m    675\u001b[0m     zero_division\u001b[38;5;241m=\u001b[39m\u001b[38;5;124m\"\u001b[39m\u001b[38;5;124mwarn\u001b[39m\u001b[38;5;124m\"\u001b[39m,\n\u001b[0;32m    676\u001b[0m ):\n\u001b[0;32m    677\u001b[0m     \u001b[38;5;124;03m\"\"\"Jaccard similarity coefficient score.\u001b[39;00m\n\u001b[0;32m    678\u001b[0m \n\u001b[0;32m    679\u001b[0m \u001b[38;5;124;03m    The Jaccard index [1], or Jaccard similarity coefficient, defined as\u001b[39;00m\n\u001b[1;32m   (...)\u001b[0m\n\u001b[0;32m    793\u001b[0m \u001b[38;5;124;03m    array([1. , 0. , 0.33...])\u001b[39;00m\n\u001b[0;32m    794\u001b[0m \u001b[38;5;124;03m    \"\"\"\u001b[39;00m\n\u001b[1;32m--> 795\u001b[0m     labels \u001b[38;5;241m=\u001b[39m \u001b[43m_check_set_wise_labels\u001b[49m\u001b[43m(\u001b[49m\u001b[43my_true\u001b[49m\u001b[43m,\u001b[49m\u001b[43m \u001b[49m\u001b[43my_pred\u001b[49m\u001b[43m,\u001b[49m\u001b[43m \u001b[49m\u001b[43maverage\u001b[49m\u001b[43m,\u001b[49m\u001b[43m \u001b[49m\u001b[43mlabels\u001b[49m\u001b[43m,\u001b[49m\u001b[43m \u001b[49m\u001b[43mpos_label\u001b[49m\u001b[43m)\u001b[49m\n\u001b[0;32m    796\u001b[0m     samplewise \u001b[38;5;241m=\u001b[39m average \u001b[38;5;241m==\u001b[39m \u001b[38;5;124m\"\u001b[39m\u001b[38;5;124msamples\u001b[39m\u001b[38;5;124m\"\u001b[39m\n\u001b[0;32m    797\u001b[0m     MCM \u001b[38;5;241m=\u001b[39m multilabel_confusion_matrix(\n\u001b[0;32m    798\u001b[0m         y_true,\n\u001b[0;32m    799\u001b[0m         y_pred,\n\u001b[1;32m   (...)\u001b[0m\n\u001b[0;32m    802\u001b[0m         samplewise\u001b[38;5;241m=\u001b[39msamplewise,\n\u001b[0;32m    803\u001b[0m     )\n",
      "File \u001b[1;32m~\\.conda\\envs\\tensor\\lib\\site-packages\\sklearn\\metrics\\_classification.py:1357\u001b[0m, in \u001b[0;36m_check_set_wise_labels\u001b[1;34m(y_true, y_pred, average, labels, pos_label)\u001b[0m\n\u001b[0;32m   1354\u001b[0m \u001b[38;5;28;01mif\u001b[39;00m average \u001b[38;5;129;01mnot\u001b[39;00m \u001b[38;5;129;01min\u001b[39;00m average_options \u001b[38;5;129;01mand\u001b[39;00m average \u001b[38;5;241m!=\u001b[39m \u001b[38;5;124m\"\u001b[39m\u001b[38;5;124mbinary\u001b[39m\u001b[38;5;124m\"\u001b[39m:\n\u001b[0;32m   1355\u001b[0m     \u001b[38;5;28;01mraise\u001b[39;00m \u001b[38;5;167;01mValueError\u001b[39;00m(\u001b[38;5;124m\"\u001b[39m\u001b[38;5;124maverage has to be one of \u001b[39m\u001b[38;5;124m\"\u001b[39m \u001b[38;5;241m+\u001b[39m \u001b[38;5;28mstr\u001b[39m(average_options))\n\u001b[1;32m-> 1357\u001b[0m y_type, y_true, y_pred \u001b[38;5;241m=\u001b[39m \u001b[43m_check_targets\u001b[49m\u001b[43m(\u001b[49m\u001b[43my_true\u001b[49m\u001b[43m,\u001b[49m\u001b[43m \u001b[49m\u001b[43my_pred\u001b[49m\u001b[43m)\u001b[49m\n\u001b[0;32m   1358\u001b[0m \u001b[38;5;66;03m# Convert to Python primitive type to avoid NumPy type / Python str\u001b[39;00m\n\u001b[0;32m   1359\u001b[0m \u001b[38;5;66;03m# comparison. See https://github.com/numpy/numpy/issues/6784\u001b[39;00m\n\u001b[0;32m   1360\u001b[0m present_labels \u001b[38;5;241m=\u001b[39m unique_labels(y_true, y_pred)\u001b[38;5;241m.\u001b[39mtolist()\n",
      "File \u001b[1;32m~\\.conda\\envs\\tensor\\lib\\site-packages\\sklearn\\metrics\\_classification.py:84\u001b[0m, in \u001b[0;36m_check_targets\u001b[1;34m(y_true, y_pred)\u001b[0m\n\u001b[0;32m     57\u001b[0m \u001b[38;5;28;01mdef\u001b[39;00m \u001b[38;5;21m_check_targets\u001b[39m(y_true, y_pred):\n\u001b[0;32m     58\u001b[0m     \u001b[38;5;124;03m\"\"\"Check that y_true and y_pred belong to the same classification task.\u001b[39;00m\n\u001b[0;32m     59\u001b[0m \n\u001b[0;32m     60\u001b[0m \u001b[38;5;124;03m    This converts multiclass or binary types to a common shape, and raises a\u001b[39;00m\n\u001b[1;32m   (...)\u001b[0m\n\u001b[0;32m     82\u001b[0m \u001b[38;5;124;03m    y_pred : array or indicator matrix\u001b[39;00m\n\u001b[0;32m     83\u001b[0m \u001b[38;5;124;03m    \"\"\"\u001b[39;00m\n\u001b[1;32m---> 84\u001b[0m     \u001b[43mcheck_consistent_length\u001b[49m\u001b[43m(\u001b[49m\u001b[43my_true\u001b[49m\u001b[43m,\u001b[49m\u001b[43m \u001b[49m\u001b[43my_pred\u001b[49m\u001b[43m)\u001b[49m\n\u001b[0;32m     85\u001b[0m     type_true \u001b[38;5;241m=\u001b[39m type_of_target(y_true, input_name\u001b[38;5;241m=\u001b[39m\u001b[38;5;124m\"\u001b[39m\u001b[38;5;124my_true\u001b[39m\u001b[38;5;124m\"\u001b[39m)\n\u001b[0;32m     86\u001b[0m     type_pred \u001b[38;5;241m=\u001b[39m type_of_target(y_pred, input_name\u001b[38;5;241m=\u001b[39m\u001b[38;5;124m\"\u001b[39m\u001b[38;5;124my_pred\u001b[39m\u001b[38;5;124m\"\u001b[39m)\n",
      "File \u001b[1;32m~\\.conda\\envs\\tensor\\lib\\site-packages\\sklearn\\utils\\validation.py:387\u001b[0m, in \u001b[0;36mcheck_consistent_length\u001b[1;34m(*arrays)\u001b[0m\n\u001b[0;32m    385\u001b[0m uniques \u001b[38;5;241m=\u001b[39m np\u001b[38;5;241m.\u001b[39munique(lengths)\n\u001b[0;32m    386\u001b[0m \u001b[38;5;28;01mif\u001b[39;00m \u001b[38;5;28mlen\u001b[39m(uniques) \u001b[38;5;241m>\u001b[39m \u001b[38;5;241m1\u001b[39m:\n\u001b[1;32m--> 387\u001b[0m     \u001b[38;5;28;01mraise\u001b[39;00m \u001b[38;5;167;01mValueError\u001b[39;00m(\n\u001b[0;32m    388\u001b[0m         \u001b[38;5;124m\"\u001b[39m\u001b[38;5;124mFound input variables with inconsistent numbers of samples: \u001b[39m\u001b[38;5;132;01m%r\u001b[39;00m\u001b[38;5;124m\"\u001b[39m\n\u001b[0;32m    389\u001b[0m         \u001b[38;5;241m%\u001b[39m [\u001b[38;5;28mint\u001b[39m(l) \u001b[38;5;28;01mfor\u001b[39;00m l \u001b[38;5;129;01min\u001b[39;00m lengths]\n\u001b[0;32m    390\u001b[0m     )\n",
      "\u001b[1;31mValueError\u001b[0m: Found input variables with inconsistent numbers of samples: [79949, 100]"
     ]
    }
   ],
   "source": [
    "from sklearn.metrics import jaccard_score\n",
    "jac_1 = jaccard_score(y_test, y_pred_clm, pos_label=1)\n",
    "jac_0 = jaccard_score(y_test, y_pred_clm, pos_label=0)\n",
    "\n",
    "print(jac_1, jac_0)"
   ]
  },
  {
   "cell_type": "markdown",
   "id": "2899acaa",
   "metadata": {},
   "source": [
    "#### Matriz de confusão "
   ]
  },
  {
   "cell_type": "code",
   "execution_count": 63,
   "id": "bf3b4151",
   "metadata": {
    "ExecuteTime": {
     "end_time": "2022-06-03T14:51:28.649818Z",
     "start_time": "2022-06-03T14:51:28.628814Z"
    }
   },
   "outputs": [],
   "source": [
    "CM = confusion_matrix(y_test[:10000], y_pred, labels=[0,1]) # 1,0 falso neg em cima / 0,1 falso neg embaixo"
   ]
  },
  {
   "cell_type": "code",
   "execution_count": 65,
   "id": "8269261d",
   "metadata": {
    "ExecuteTime": {
     "end_time": "2022-06-03T14:51:38.757894Z",
     "start_time": "2022-06-03T14:51:38.613864Z"
    }
   },
   "outputs": [
    {
     "name": "stdout",
     "output_type": "stream",
     "text": [
      "Matriz de Confusão, sem normalização\n",
      "[[    0     0]\n",
      " [    0 10000]]\n"
     ]
    },
    {
     "data": {
      "image/png": "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\n",
      "text/plain": [
       "<Figure size 432x288 with 2 Axes>"
      ]
     },
     "metadata": {
      "needs_background": "light"
     },
     "output_type": "display_data"
    }
   ],
   "source": [
    "plot_confusion_matrix(CM, classes=['sem dc = 0','com dc = 1'], normalize= False,  title='Matriz de Confusão - cutoff %s' %ctf)"
   ]
  },
  {
   "cell_type": "markdown",
   "id": "5260cea1",
   "metadata": {},
   "source": [
    "#### Sensitividade e Especificidade"
   ]
  },
  {
   "cell_type": "code",
   "execution_count": null,
   "id": "d1c898be",
   "metadata": {
    "ExecuteTime": {
     "end_time": "2022-05-10T17:35:08.582066Z",
     "start_time": "2022-05-10T17:35:08.570065Z"
    }
   },
   "outputs": [],
   "source": [
    "tp,fn,fp,tn= CM[0][0],CM[0][1],CM[1][0],CM[1][1]\n",
    "sensitividade = (tp / (fp + tp)) * 100\n",
    "print(f'Nossa sensitividade é de {round(sensitividade,5)} %') # balanco de positivo\n",
    "especificidade = (tn / (fp + tn)) * 100\n",
    "print(f'Nossa especificidade é de {round(especificidade,6)} %') # balanco de negativo"
   ]
  },
  {
   "cell_type": "markdown",
   "id": "aa9c45a9",
   "metadata": {},
   "source": [
    "#### Sumário de classificação "
   ]
  },
  {
   "cell_type": "code",
   "execution_count": null,
   "id": "4434a559",
   "metadata": {
    "ExecuteTime": {
     "end_time": "2022-05-10T17:35:23.460438Z",
     "start_time": "2022-05-10T17:35:23.317703Z"
    }
   },
   "outputs": [],
   "source": [
    "print (classification_report(y_test, y_pred_clm))"
   ]
  },
  {
   "cell_type": "markdown",
   "id": "182552bd",
   "metadata": {},
   "source": [
    "#### Curva ROC"
   ]
  },
  {
   "cell_type": "code",
   "execution_count": null,
   "id": "03aa418e",
   "metadata": {
    "ExecuteTime": {
     "end_time": "2022-05-10T17:35:31.622035Z",
     "start_time": "2022-05-10T17:35:31.362540Z"
    }
   },
   "outputs": [],
   "source": [
    "fpr, tpr, _ = roc_curve(y_test,  y_pred, pos_label=1)\n",
    "auc = roc_auc_score(y_test, y_pred)\n",
    "plt.plot(fpr,tpr,label=\"data 1, auc=\"+str(auc))\n",
    "plt.plot([1,0], [1,0], color='navy', lw=1, linestyle='--')\n",
    "plt.xlabel('Falsos Positivo')\n",
    "plt.ylabel('Verdadeiros Positivo')\n",
    "plt.title('ROC')\n",
    "plt.legend(loc=\"best\")\n",
    "plt.show()"
   ]
  },
  {
   "cell_type": "code",
   "execution_count": null,
   "id": "ac9d3843",
   "metadata": {
    "ExecuteTime": {
     "end_time": "2022-05-10T17:35:32.480855Z",
     "start_time": "2022-05-10T17:35:32.254363Z"
    }
   },
   "outputs": [],
   "source": [
    "pd.DataFrame(hist.history).plot(figsize=(15,5))\n",
    "plt.grid(True)\n",
    "plt.gca().set_ylim(0,2)\n",
    "plt.show()"
   ]
  },
  {
   "cell_type": "markdown",
   "id": "8fcb82f9",
   "metadata": {},
   "source": [
    "# Considerações finais"
   ]
  },
  {
   "cell_type": "markdown",
   "id": "2877c0ed",
   "metadata": {},
   "source": [
    "### Carregando o melhor modelo  "
   ]
  },
  {
   "cell_type": "code",
   "execution_count": null,
   "id": "21f0fc5e",
   "metadata": {
    "ExecuteTime": {
     "end_time": "2022-04-29T14:46:56.584572Z",
     "start_time": "2022-04-29T14:46:56.565572Z"
    }
   },
   "outputs": [],
   "source": [
    "#model_bes = keras.models.load_model(\"modelo1_heart_disease.h5\") "
   ]
  },
  {
   "cell_type": "code",
   "execution_count": null,
   "id": "5c0d1df3",
   "metadata": {},
   "outputs": [],
   "source": []
  },
  {
   "cell_type": "markdown",
   "id": "944d5116",
   "metadata": {},
   "source": [
    "# Funções auxiliares"
   ]
  },
  {
   "cell_type": "markdown",
   "id": "faae9694",
   "metadata": {},
   "source": [
    "## Matriz de confusão "
   ]
  },
  {
   "cell_type": "code",
   "execution_count": 64,
   "id": "7dd709f5",
   "metadata": {
    "ExecuteTime": {
     "end_time": "2022-06-03T14:51:34.596255Z",
     "start_time": "2022-06-03T14:51:34.588253Z"
    }
   },
   "outputs": [],
   "source": [
    "from sklearn.metrics import classification_report, confusion_matrix\n",
    "import itertools\n",
    "def plot_confusion_matrix(cm, classes,\n",
    "                          normalize=False,\n",
    "                          title='Matriz de Confusão',\n",
    "                          cmap=plt.cm.Blues):\n",
    "    \"\"\"\n",
    "    This function prints and plots the confusion matrix.\n",
    "    Normalization can be applied by setting `normalize=True`.\n",
    "    \"\"\"\n",
    "    if normalize:\n",
    "        cm = cm.astype('float') / cm.sum(axis=1)[:, np.newaxis]\n",
    "        print(\"Normalizada Matriz de Confusão\")\n",
    "    else:\n",
    "        print('Matriz de Confusão, sem normalização')\n",
    "\n",
    "    print(cm)\n",
    "\n",
    "    plt.imshow(cm, interpolation='nearest', cmap=cmap)\n",
    "    plt.title(title)\n",
    "    plt.colorbar()\n",
    "    tick_marks = np.arange(len(classes))\n",
    "    plt.xticks(tick_marks, classes, rotation=45)\n",
    "    plt.yticks(tick_marks, classes)\n",
    "\n",
    "    fmt = '.2f' if normalize else 'd'\n",
    "    thresh = cm.max() / 2.\n",
    "    for i, j in itertools.product(range(cm.shape[0]), range(cm.shape[1])):\n",
    "        plt.text(j, i, format(cm[i, j], fmt),\n",
    "                 horizontalalignment=\"center\",\n",
    "                 color=\"white\" if cm[i, j] > thresh else \"black\")\n",
    "    \n",
    "    \n",
    "    plt.tight_layout()\n",
    "    plt.ylabel('Real label')\n",
    "    plt.xlabel('Predição label')"
   ]
  }
 ],
 "metadata": {
  "hide_input": false,
  "kernelspec": {
   "display_name": "Python [conda env:.conda-tensor]",
   "language": "python",
   "name": "conda-env-.conda-tensor-py"
  },
  "language_info": {
   "codemirror_mode": {
    "name": "ipython",
    "version": 3
   },
   "file_extension": ".py",
   "mimetype": "text/x-python",
   "name": "python",
   "nbconvert_exporter": "python",
   "pygments_lexer": "ipython3",
   "version": "3.10.4"
  },
  "toc": {
   "base_numbering": 1,
   "nav_menu": {},
   "number_sections": true,
   "sideBar": true,
   "skip_h1_title": false,
   "title_cell": "Table of Contents",
   "title_sidebar": "Pipeline",
   "toc_cell": false,
   "toc_position": {
    "height": "calc(100% - 180px)",
    "left": "10px",
    "top": "150px",
    "width": "328px"
   },
   "toc_section_display": true,
   "toc_window_display": true
  },
  "varInspector": {
   "cols": {
    "lenName": 16,
    "lenType": 16,
    "lenVar": 40
   },
   "kernels_config": {
    "python": {
     "delete_cmd_postfix": "",
     "delete_cmd_prefix": "del ",
     "library": "var_list.py",
     "varRefreshCmd": "print(var_dic_list())"
    },
    "r": {
     "delete_cmd_postfix": ") ",
     "delete_cmd_prefix": "rm(",
     "library": "var_list.r",
     "varRefreshCmd": "cat(var_dic_list()) "
    }
   },
   "types_to_exclude": [
    "module",
    "function",
    "builtin_function_or_method",
    "instance",
    "_Feature"
   ],
   "window_display": false
  }
 },
 "nbformat": 4,
 "nbformat_minor": 5
}
