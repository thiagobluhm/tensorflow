{
 "cells": [
  {
   "cell_type": "code",
   "execution_count": 2,
   "id": "b58a591c",
   "metadata": {
    "ExecuteTime": {
     "end_time": "2022-04-29T12:14:42.021676Z",
     "start_time": "2022-04-29T12:14:14.859010Z"
    }
   },
   "outputs": [],
   "source": [
    "import tensorflow as tf\n",
    "from tensorflow import keras\n",
    "from sklearn.datasets import fetch_california_housing\n",
    "from sklearn.model_selection import train_test_split\n",
    "from sklearn.preprocessing import StandardScaler"
   ]
  },
  {
   "cell_type": "code",
   "execution_count": 3,
   "id": "82bee3b1",
   "metadata": {
    "ExecuteTime": {
     "end_time": "2022-04-29T12:14:45.908188Z",
     "start_time": "2022-04-29T12:14:45.875516Z"
    }
   },
   "outputs": [
    {
     "data": {
      "text/plain": [
       "('2.8.0', '2.8.0')"
      ]
     },
     "execution_count": 3,
     "metadata": {},
     "output_type": "execute_result"
    }
   ],
   "source": [
    "tf.__version__, keras.__version__"
   ]
  },
  {
   "cell_type": "code",
   "execution_count": 4,
   "id": "feb27a6c",
   "metadata": {
    "ExecuteTime": {
     "end_time": "2022-04-29T12:14:49.382641Z",
     "start_time": "2022-04-29T12:14:48.374245Z"
    }
   },
   "outputs": [],
   "source": [
    "fashion_mnist = keras.datasets.fashion_mnist\n",
    "(X_train_full, y_train_full), (X_test, y_test) = fashion_mnist.load_data()"
   ]
  },
  {
   "cell_type": "code",
   "execution_count": 12,
   "id": "31a69c83",
   "metadata": {},
   "outputs": [
    {
     "data": {
      "text/plain": [
       "((60000, 28, 28), dtype('uint8'))"
      ]
     },
     "execution_count": 12,
     "metadata": {},
     "output_type": "execute_result"
    }
   ],
   "source": [
    "X_train_full.shape, X_train_full.dtype"
   ]
  },
  {
   "cell_type": "code",
   "execution_count": 13,
   "id": "7f1e5876",
   "metadata": {},
   "outputs": [],
   "source": [
    "X_valid, X_train  = X_train_full[:5000] / 255.0, X_train_full[5000:]/255.0"
   ]
  },
  {
   "cell_type": "code",
   "execution_count": 14,
   "id": "463003fa",
   "metadata": {},
   "outputs": [],
   "source": [
    "y_valid, y_train = y_train_full[:5000] , y_train_full[5000:]"
   ]
  },
  {
   "cell_type": "code",
   "execution_count": 15,
   "id": "b6e3dda4",
   "metadata": {},
   "outputs": [],
   "source": [
    "class_names = [\"T-shirt/top\", \"Trouser\", \"Pullover\",\"Dress\",\"Coat\",\"Sandal\",\"Shirt\",\"Sneaker\",\"Bag\",\"Ankle boot\"]"
   ]
  },
  {
   "cell_type": "code",
   "execution_count": 17,
   "id": "9daf0d62",
   "metadata": {},
   "outputs": [
    {
     "data": {
      "text/plain": [
       "'Coat'"
      ]
     },
     "execution_count": 17,
     "metadata": {},
     "output_type": "execute_result"
    }
   ],
   "source": [
    "class_names[y_train[0]]"
   ]
  },
  {
   "cell_type": "markdown",
   "id": "29ee8f0f",
   "metadata": {},
   "source": [
    "### Built-in Model MLP "
   ]
  },
  {
   "cell_type": "code",
   "execution_count": 18,
   "id": "d8ee6e66",
   "metadata": {},
   "outputs": [],
   "source": [
    "#model = keras.models.Sequential()\n",
    "#model.add(keras.layers.Flatten(input_shape=[28,28]))\n",
    "#model.add(keras.layers.Dense(300,activation=\"relu\"))\n",
    "#model.add(keras.layers.Dense(100,activation=\"relu\"))\n",
    "#model.add(keras.layers.Dense(10,activation=\"softmax\"))"
   ]
  },
  {
   "cell_type": "code",
   "execution_count": 19,
   "id": "4f90a188",
   "metadata": {},
   "outputs": [],
   "source": [
    "# mesma coisa da construcao acima\n",
    "model = keras.models.Sequential([\n",
    "                                keras.layers.Flatten(input_shape=[28,28]),\n",
    "                                keras.layers.Dense(300,activation=\"relu\"),\n",
    "                                keras.layers.Dense(100,activation=\"relu\"),\n",
    "                                keras.layers.Dense(10,activation=\"softmax\")\n",
    "                                ])\n"
   ]
  },
  {
   "cell_type": "code",
   "execution_count": 20,
   "id": "de1ec8b9",
   "metadata": {},
   "outputs": [
    {
     "name": "stdout",
     "output_type": "stream",
     "text": [
      "Model: \"sequential_1\"\n",
      "_________________________________________________________________\n",
      " Layer (type)                Output Shape              Param #   \n",
      "=================================================================\n",
      " flatten_1 (Flatten)         (None, 784)               0         \n",
      "                                                                 \n",
      " dense_3 (Dense)             (None, 300)               235500    \n",
      "                                                                 \n",
      " dense_4 (Dense)             (None, 100)               30100     \n",
      "                                                                 \n",
      " dense_5 (Dense)             (None, 10)                1010      \n",
      "                                                                 \n",
      "=================================================================\n",
      "Total params: 266,610\n",
      "Trainable params: 266,610\n",
      "Non-trainable params: 0\n",
      "_________________________________________________________________\n"
     ]
    }
   ],
   "source": [
    "model.summary()"
   ]
  },
  {
   "cell_type": "code",
   "execution_count": 21,
   "id": "19f7475d",
   "metadata": {},
   "outputs": [
    {
     "data": {
      "text/plain": [
       "[<keras.layers.core.flatten.Flatten at 0x27b62856bb0>,\n",
       " <keras.layers.core.dense.Dense at 0x27b628568b0>,\n",
       " <keras.layers.core.dense.Dense at 0x27b628583d0>,\n",
       " <keras.layers.core.dense.Dense at 0x27b62858640>]"
      ]
     },
     "execution_count": 21,
     "metadata": {},
     "output_type": "execute_result"
    }
   ],
   "source": [
    "model.layers"
   ]
  },
  {
   "cell_type": "code",
   "execution_count": 30,
   "id": "d2cf84c1",
   "metadata": {},
   "outputs": [
    {
     "data": {
      "text/plain": [
       "'dense_3'"
      ]
     },
     "execution_count": 30,
     "metadata": {},
     "output_type": "execute_result"
    }
   ],
   "source": [
    "hidden = model.layers[1]\n",
    "hidden.name"
   ]
  },
  {
   "cell_type": "code",
   "execution_count": 31,
   "id": "53a8f281",
   "metadata": {},
   "outputs": [
    {
     "data": {
      "text/plain": [
       "True"
      ]
     },
     "execution_count": 31,
     "metadata": {},
     "output_type": "execute_result"
    }
   ],
   "source": [
    "model.get_layer('dense_3') is hidden"
   ]
  },
  {
   "cell_type": "code",
   "execution_count": 41,
   "id": "058f786d",
   "metadata": {},
   "outputs": [
    {
     "data": {
      "text/plain": [
       "array([[-0.04051929,  0.01284575, -0.07088704, ..., -0.06961421,\n",
       "        -0.01215369,  0.06037946],\n",
       "       [-0.01971344,  0.02954117,  0.03731394, ..., -0.00372816,\n",
       "        -0.0019158 ,  0.01203208],\n",
       "       [-0.0496904 , -0.03047089, -0.0145485 , ...,  0.02152307,\n",
       "        -0.06202372, -0.0688117 ],\n",
       "       ...,\n",
       "       [ 0.06609072, -0.01586112, -0.0428967 , ...,  0.02038158,\n",
       "         0.00285053, -0.0518249 ],\n",
       "       [ 0.05707911, -0.0607405 ,  0.03719851, ..., -0.01194815,\n",
       "         0.06943309, -0.05084535],\n",
       "       [-0.01990452,  0.06427175, -0.02781367, ..., -0.02573097,\n",
       "         0.01675255,  0.04008214]], dtype=float32)"
      ]
     },
     "execution_count": 41,
     "metadata": {},
     "output_type": "execute_result"
    }
   ],
   "source": [
    "pesos, vies = hidden.get_weights()\n",
    "pesos[:]"
   ]
  },
  {
   "cell_type": "code",
   "execution_count": 35,
   "id": "b1ca3491",
   "metadata": {},
   "outputs": [
    {
     "data": {
      "text/plain": [
       "(784, 300)"
      ]
     },
     "execution_count": 35,
     "metadata": {},
     "output_type": "execute_result"
    }
   ],
   "source": [
    "pesos.shape"
   ]
  },
  {
   "cell_type": "code",
   "execution_count": 37,
   "id": "181a9e21",
   "metadata": {},
   "outputs": [
    {
     "data": {
      "text/plain": [
       "array([0., 0., 0., 0., 0., 0., 0., 0., 0., 0.], dtype=float32)"
      ]
     },
     "execution_count": 37,
     "metadata": {},
     "output_type": "execute_result"
    }
   ],
   "source": [
    "vies[:10]"
   ]
  },
  {
   "cell_type": "code",
   "execution_count": 42,
   "id": "68db86b6",
   "metadata": {},
   "outputs": [
    {
     "data": {
      "text/plain": [
       "(300,)"
      ]
     },
     "execution_count": 42,
     "metadata": {},
     "output_type": "execute_result"
    }
   ],
   "source": [
    "vies.shape"
   ]
  },
  {
   "cell_type": "code",
   "execution_count": 44,
   "id": "bad2dc03",
   "metadata": {},
   "outputs": [],
   "source": [
    "model.compile(loss=\"sparse_categorical_crossentropy\", optimizer=\"sgd\", metrics=[\"accuracy\"])"
   ]
  },
  {
   "cell_type": "markdown",
   "id": "2dd8901e",
   "metadata": {},
   "source": [
    "### Fit model "
   ]
  },
  {
   "cell_type": "code",
   "execution_count": 48,
   "id": "d15986f4",
   "metadata": {},
   "outputs": [
    {
     "name": "stdout",
     "output_type": "stream",
     "text": [
      "Epoch 1/50\n",
      "1719/1719 [==============================] - 5s 3ms/step - loss: 0.2266 - accuracy: 0.9177 - val_loss: 0.2853 - val_accuracy: 0.8986\n",
      "Epoch 2/50\n",
      "1719/1719 [==============================] - 5s 3ms/step - loss: 0.2231 - accuracy: 0.9196 - val_loss: 0.3088 - val_accuracy: 0.8882\n",
      "Epoch 3/50\n",
      "1719/1719 [==============================] - 5s 3ms/step - loss: 0.2200 - accuracy: 0.9214 - val_loss: 0.3150 - val_accuracy: 0.8884\n",
      "Epoch 4/50\n",
      "1719/1719 [==============================] - 6s 3ms/step - loss: 0.2158 - accuracy: 0.9237 - val_loss: 0.3110 - val_accuracy: 0.8890\n",
      "Epoch 5/50\n",
      "1719/1719 [==============================] - 5s 3ms/step - loss: 0.2128 - accuracy: 0.9241 - val_loss: 0.2911 - val_accuracy: 0.8942\n",
      "Epoch 6/50\n",
      "1719/1719 [==============================] - 5s 3ms/step - loss: 0.2102 - accuracy: 0.9252 - val_loss: 0.2882 - val_accuracy: 0.8946\n",
      "Epoch 7/50\n",
      "1719/1719 [==============================] - 5s 3ms/step - loss: 0.2066 - accuracy: 0.9264 - val_loss: 0.2980 - val_accuracy: 0.8928\n",
      "Epoch 8/50\n",
      "1719/1719 [==============================] - 5s 3ms/step - loss: 0.2029 - accuracy: 0.9271 - val_loss: 0.2817 - val_accuracy: 0.8984\n",
      "Epoch 9/50\n",
      "1719/1719 [==============================] - 5s 3ms/step - loss: 0.2000 - accuracy: 0.9291 - val_loss: 0.2934 - val_accuracy: 0.8952\n",
      "Epoch 10/50\n",
      "1719/1719 [==============================] - 5s 3ms/step - loss: 0.1976 - accuracy: 0.9291 - val_loss: 0.2956 - val_accuracy: 0.8964\n",
      "Epoch 11/50\n",
      "1719/1719 [==============================] - 5s 3ms/step - loss: 0.1949 - accuracy: 0.9307 - val_loss: 0.2925 - val_accuracy: 0.8918\n",
      "Epoch 12/50\n",
      "1719/1719 [==============================] - 5s 3ms/step - loss: 0.1918 - accuracy: 0.9316 - val_loss: 0.2902 - val_accuracy: 0.8952\n",
      "Epoch 13/50\n",
      "1719/1719 [==============================] - 5s 3ms/step - loss: 0.1883 - accuracy: 0.9329 - val_loss: 0.2840 - val_accuracy: 0.8984\n",
      "Epoch 14/50\n",
      "1719/1719 [==============================] - 5s 3ms/step - loss: 0.1851 - accuracy: 0.9347 - val_loss: 0.2963 - val_accuracy: 0.8972\n",
      "Epoch 15/50\n",
      "1719/1719 [==============================] - 5s 3ms/step - loss: 0.1829 - accuracy: 0.9349 - val_loss: 0.2888 - val_accuracy: 0.8990\n",
      "Epoch 16/50\n",
      "1719/1719 [==============================] - 5s 3ms/step - loss: 0.1794 - accuracy: 0.9369 - val_loss: 0.3044 - val_accuracy: 0.8944\n",
      "Epoch 17/50\n",
      "1719/1719 [==============================] - 6s 3ms/step - loss: 0.1766 - accuracy: 0.9369 - val_loss: 0.2927 - val_accuracy: 0.8958\n",
      "Epoch 18/50\n",
      "1719/1719 [==============================] - 6s 4ms/step - loss: 0.1755 - accuracy: 0.9393 - val_loss: 0.2951 - val_accuracy: 0.8952\n",
      "Epoch 19/50\n",
      "1719/1719 [==============================] - 6s 3ms/step - loss: 0.1719 - accuracy: 0.9387 - val_loss: 0.2883 - val_accuracy: 0.8968\n",
      "Epoch 20/50\n",
      "1719/1719 [==============================] - 5s 3ms/step - loss: 0.1695 - accuracy: 0.9402 - val_loss: 0.2882 - val_accuracy: 0.9004\n",
      "Epoch 21/50\n",
      "1719/1719 [==============================] - 5s 3ms/step - loss: 0.1658 - accuracy: 0.9409 - val_loss: 0.2959 - val_accuracy: 0.8964\n",
      "Epoch 22/50\n",
      "1719/1719 [==============================] - 5s 3ms/step - loss: 0.1641 - accuracy: 0.9415 - val_loss: 0.2978 - val_accuracy: 0.8964\n",
      "Epoch 23/50\n",
      "1719/1719 [==============================] - 5s 3ms/step - loss: 0.1612 - accuracy: 0.9435 - val_loss: 0.2893 - val_accuracy: 0.9014\n",
      "Epoch 24/50\n",
      "1719/1719 [==============================] - 5s 3ms/step - loss: 0.1598 - accuracy: 0.9437 - val_loss: 0.3026 - val_accuracy: 0.8964\n",
      "Epoch 25/50\n",
      "1719/1719 [==============================] - 6s 3ms/step - loss: 0.1573 - accuracy: 0.9440 - val_loss: 0.2920 - val_accuracy: 0.8994\n",
      "Epoch 26/50\n",
      "1719/1719 [==============================] - 6s 3ms/step - loss: 0.1554 - accuracy: 0.9455 - val_loss: 0.3118 - val_accuracy: 0.8916\n",
      "Epoch 27/50\n",
      "1719/1719 [==============================] - 5s 3ms/step - loss: 0.1523 - accuracy: 0.9455 - val_loss: 0.2879 - val_accuracy: 0.9036\n",
      "Epoch 28/50\n",
      "1719/1719 [==============================] - 6s 3ms/step - loss: 0.1507 - accuracy: 0.9469 - val_loss: 0.3117 - val_accuracy: 0.8910\n",
      "Epoch 29/50\n",
      "1719/1719 [==============================] - 6s 3ms/step - loss: 0.1474 - accuracy: 0.9480 - val_loss: 0.3146 - val_accuracy: 0.8930\n",
      "Epoch 30/50\n",
      "1719/1719 [==============================] - 5s 3ms/step - loss: 0.1459 - accuracy: 0.9492 - val_loss: 0.3165 - val_accuracy: 0.8920\n",
      "Epoch 31/50\n",
      "1719/1719 [==============================] - 5s 3ms/step - loss: 0.1427 - accuracy: 0.9500 - val_loss: 0.2970 - val_accuracy: 0.8984\n",
      "Epoch 32/50\n",
      "1719/1719 [==============================] - 6s 3ms/step - loss: 0.1415 - accuracy: 0.9510 - val_loss: 0.3072 - val_accuracy: 0.8984\n",
      "Epoch 33/50\n",
      "1719/1719 [==============================] - 6s 3ms/step - loss: 0.1389 - accuracy: 0.9506 - val_loss: 0.2981 - val_accuracy: 0.8976\n",
      "Epoch 34/50\n",
      "1719/1719 [==============================] - 5s 3ms/step - loss: 0.1379 - accuracy: 0.9519 - val_loss: 0.3175 - val_accuracy: 0.8914\n",
      "Epoch 35/50\n",
      "1719/1719 [==============================] - 6s 4ms/step - loss: 0.1348 - accuracy: 0.9541 - val_loss: 0.3270 - val_accuracy: 0.8904\n",
      "Epoch 36/50\n",
      "1719/1719 [==============================] - 9s 5ms/step - loss: 0.1326 - accuracy: 0.9533 - val_loss: 0.3055 - val_accuracy: 0.8966\n",
      "Epoch 37/50\n",
      "1719/1719 [==============================] - 6s 4ms/step - loss: 0.1297 - accuracy: 0.9557 - val_loss: 0.3113 - val_accuracy: 0.8974\n",
      "Epoch 38/50\n",
      "1719/1719 [==============================] - 5s 3ms/step - loss: 0.1292 - accuracy: 0.9550 - val_loss: 0.3138 - val_accuracy: 0.8964\n",
      "Epoch 39/50\n",
      "1719/1719 [==============================] - 5s 3ms/step - loss: 0.1247 - accuracy: 0.9569 - val_loss: 0.3114 - val_accuracy: 0.8974\n",
      "Epoch 40/50\n",
      "1719/1719 [==============================] - 5s 3ms/step - loss: 0.1240 - accuracy: 0.9567 - val_loss: 0.3046 - val_accuracy: 0.9000\n",
      "Epoch 41/50\n",
      "1719/1719 [==============================] - 5s 3ms/step - loss: 0.1218 - accuracy: 0.9571 - val_loss: 0.3183 - val_accuracy: 0.8982\n",
      "Epoch 42/50\n",
      "1719/1719 [==============================] - 6s 3ms/step - loss: 0.1195 - accuracy: 0.9593 - val_loss: 0.3122 - val_accuracy: 0.8968\n",
      "Epoch 43/50\n",
      "1719/1719 [==============================] - 6s 3ms/step - loss: 0.1185 - accuracy: 0.9595 - val_loss: 0.3182 - val_accuracy: 0.8926\n",
      "Epoch 44/50\n",
      "1719/1719 [==============================] - 5s 3ms/step - loss: 0.1169 - accuracy: 0.9603 - val_loss: 0.3133 - val_accuracy: 0.8966\n",
      "Epoch 45/50\n",
      "1719/1719 [==============================] - 5s 3ms/step - loss: 0.1137 - accuracy: 0.9606 - val_loss: 0.3214 - val_accuracy: 0.8992\n",
      "Epoch 46/50\n",
      "1719/1719 [==============================] - 5s 3ms/step - loss: 0.1124 - accuracy: 0.9617 - val_loss: 0.3223 - val_accuracy: 0.8940\n",
      "Epoch 47/50\n",
      "1719/1719 [==============================] - 5s 3ms/step - loss: 0.1107 - accuracy: 0.9613 - val_loss: 0.3337 - val_accuracy: 0.8942\n",
      "Epoch 48/50\n",
      "1719/1719 [==============================] - 6s 3ms/step - loss: 0.1083 - accuracy: 0.9625 - val_loss: 0.3342 - val_accuracy: 0.8942\n",
      "Epoch 49/50\n",
      "1719/1719 [==============================] - 6s 3ms/step - loss: 0.1075 - accuracy: 0.9622 - val_loss: 0.3285 - val_accuracy: 0.8988\n",
      "Epoch 50/50\n",
      "1719/1719 [==============================] - 5s 3ms/step - loss: 0.1056 - accuracy: 0.9642 - val_loss: 0.3214 - val_accuracy: 0.8990\n"
     ]
    }
   ],
   "source": [
    "history = model.fit(X_train, y_train, epochs=50, validation_data=(X_valid, y_valid))"
   ]
  },
  {
   "cell_type": "code",
   "execution_count": 62,
   "id": "d44ca455",
   "metadata": {},
   "outputs": [],
   "source": [
    "import pandas as pd\n",
    "import numpy as np\n",
    "import matplotlib.pyplot as plt"
   ]
  },
  {
   "cell_type": "code",
   "execution_count": 49,
   "id": "e257c869",
   "metadata": {},
   "outputs": [
    {
     "data": {
      "image/png": "[encoded data removed]",
      "text/plain": [
       "<Figure size 576x360 with 1 Axes>"
      ]
     },
     "metadata": {
      "needs_background": "light"
     },
     "output_type": "display_data"
    }
   ],
   "source": [
    "pd.DataFrame(history.history).plot(figsize=(8,5))\n",
    "plt.grid(True)\n",
    "plt.gca().set_ylim(0,1)\n",
    "plt.show()"
   ]
  },
  {
   "cell_type": "code",
   "execution_count": 50,
   "id": "c99d004b",
   "metadata": {},
   "outputs": [
    {
     "name": "stdout",
     "output_type": "stream",
     "text": [
      "313/313 [==============================] - 1s 3ms/step - loss: 79.3287 - accuracy: 0.8561\n"
     ]
    },
    {
     "data": {
      "text/plain": [
       "[79.32865905761719, 0.8561000227928162]"
      ]
     },
     "execution_count": 50,
     "metadata": {},
     "output_type": "execute_result"
    }
   ],
   "source": [
    "model.evaluate(X_test, y_test)"
   ]
  },
  {
   "cell_type": "code",
   "execution_count": 52,
   "id": "a613993a",
   "metadata": {},
   "outputs": [
    {
     "data": {
      "text/plain": [
       "array([[0., 0., 0., 0., 0., 0., 0., 0., 0., 1.],\n",
       "       [0., 0., 1., 0., 0., 0., 0., 0., 0., 0.],\n",
       "       [0., 1., 0., 0., 0., 0., 0., 0., 0., 0.]], dtype=float32)"
      ]
     },
     "execution_count": 52,
     "metadata": {},
     "output_type": "execute_result"
    }
   ],
   "source": [
    "X_new = X_test[:3]\n",
    "y_proba = model.predict(X_new)\n",
    "y_proba.round(5)"
   ]
  },
  {
   "cell_type": "code",
   "execution_count": 64,
   "id": "580e4c2b",
   "metadata": {},
   "outputs": [
    {
     "data": {
      "text/plain": [
       "array([9, 2, 1], dtype=int64)"
      ]
     },
     "execution_count": 64,
     "metadata": {},
     "output_type": "execute_result"
    }
   ],
   "source": [
    "y_pred_cl = np.argmax(y_proba, axis=1) # funcao predict_classes removida, por isso o uso de np.argmax\n",
    "y_pred_cl"
   ]
  },
  {
   "cell_type": "code",
   "execution_count": 65,
   "id": "42457a65",
   "metadata": {},
   "outputs": [
    {
     "data": {
      "text/plain": [
       "array(['Ankle boot', 'Pullover', 'Trouser'], dtype='<U11')"
      ]
     },
     "execution_count": 65,
     "metadata": {},
     "output_type": "execute_result"
    }
   ],
   "source": [
    "np.array(class_names)[y_pred_cl]"
   ]
  },
  {
   "cell_type": "markdown",
   "id": "2b6e8104",
   "metadata": {},
   "source": [
    "### Regressão com o keras"
   ]
  },
  {
   "cell_type": "code",
   "execution_count": 67,
   "id": "165c986d",
   "metadata": {},
   "outputs": [],
   "source": [
    "housing = fetch_california_housing()"
   ]
  },
  {
   "cell_type": "code",
   "execution_count": 68,
   "id": "a9b92ff2",
   "metadata": {},
   "outputs": [],
   "source": [
    "X_train_full, X_test, y_train_full, y_test = train_test_split(housing.data, housing.target)"
   ]
  },
  {
   "cell_type": "code",
   "execution_count": 69,
   "id": "71846e00",
   "metadata": {},
   "outputs": [],
   "source": [
    "X_train, X_valid, y_train, y_valid = train_test_split(X_train_full, y_train_full)"
   ]
  },
  {
   "cell_type": "code",
   "execution_count": 70,
   "id": "2b2082e8",
   "metadata": {},
   "outputs": [],
   "source": [
    "scaler = StandardScaler()\n",
    "X_train = scaler.fit_transform(X_train)\n",
    "X_valid = scaler.transform(X_valid)\n",
    "X_test = scaler.transform(X_test)"
   ]
  },
  {
   "cell_type": "code",
   "execution_count": 73,
   "id": "dd761956",
   "metadata": {},
   "outputs": [],
   "source": [
    "model = keras.models.Sequential([\n",
    "    keras.layers.Dense(30, activation=\"relu\", input_shape=X_train.shape[1:]),\n",
    "    keras.layers.Dense(1)\n",
    "])"
   ]
  },
  {
   "cell_type": "code",
   "execution_count": 74,
   "id": "b8d65223",
   "metadata": {},
   "outputs": [
    {
     "name": "stdout",
     "output_type": "stream",
     "text": [
      "Epoch 1/20\n",
      "363/363 [==============================] - 1s 2ms/step - loss: 1.0243 - val_loss: 0.5643\n",
      "Epoch 2/20\n",
      "363/363 [==============================] - 1s 2ms/step - loss: 0.4923 - val_loss: 0.5167\n",
      "Epoch 3/20\n",
      "363/363 [==============================] - 1s 2ms/step - loss: 0.4635 - val_loss: 0.4971\n",
      "Epoch 4/20\n",
      "363/363 [==============================] - 1s 2ms/step - loss: 0.4396 - val_loss: 0.4909\n",
      "Epoch 5/20\n",
      "363/363 [==============================] - 1s 2ms/step - loss: 0.4270 - val_loss: 0.4784\n",
      "Epoch 6/20\n",
      "363/363 [==============================] - 1s 2ms/step - loss: 0.4299 - val_loss: 0.4734\n",
      "Epoch 7/20\n",
      "363/363 [==============================] - 1s 2ms/step - loss: 0.4135 - val_loss: 0.4703\n",
      "Epoch 8/20\n",
      "363/363 [==============================] - 1s 2ms/step - loss: 0.4100 - val_loss: 0.4705\n",
      "Epoch 9/20\n",
      "363/363 [==============================] - 1s 2ms/step - loss: 0.4016 - val_loss: 0.4545\n",
      "Epoch 10/20\n",
      "363/363 [==============================] - 1s 2ms/step - loss: 0.4004 - val_loss: 0.4475\n",
      "Epoch 11/20\n",
      "363/363 [==============================] - 1s 2ms/step - loss: 0.3994 - val_loss: 0.4562\n",
      "Epoch 12/20\n",
      "363/363 [==============================] - 1s 2ms/step - loss: 0.3932 - val_loss: 0.4452\n",
      "Epoch 13/20\n",
      "363/363 [==============================] - 1s 2ms/step - loss: 0.3860 - val_loss: 0.4392\n",
      "Epoch 14/20\n",
      "363/363 [==============================] - 1s 2ms/step - loss: 0.3825 - val_loss: 0.4356\n",
      "Epoch 15/20\n",
      "363/363 [==============================] - 1s 2ms/step - loss: 0.3782 - val_loss: 0.4375\n",
      "Epoch 16/20\n",
      "363/363 [==============================] - 1s 2ms/step - loss: 0.3776 - val_loss: 0.4296\n",
      "Epoch 17/20\n",
      "363/363 [==============================] - 1s 2ms/step - loss: 0.3710 - val_loss: 0.4321\n",
      "Epoch 18/20\n",
      "363/363 [==============================] - 1s 2ms/step - loss: 0.3735 - val_loss: 0.4234\n",
      "Epoch 19/20\n",
      "363/363 [==============================] - 1s 2ms/step - loss: 0.3826 - val_loss: 0.4200\n",
      "Epoch 20/20\n",
      "363/363 [==============================] - 1s 2ms/step - loss: 0.3682 - val_loss: 0.4161\n"
     ]
    }
   ],
   "source": [
    "model.compile(loss=\"mean_squared_error\", optimizer=\"sgd\")\n",
    "history = model.fit(X_train, y_train, epochs=20,  validation_data=(X_valid, y_valid))"
   ]
  },
  {
   "cell_type": "code",
   "execution_count": 89,
   "id": "28ab8b21",
   "metadata": {},
   "outputs": [
    {
     "data": {
      "image/png": "[encoded data removed]",
      "text/plain": [
       "<Figure size 864x360 with 1 Axes>"
      ]
     },
     "metadata": {
      "needs_background": "light"
     },
     "output_type": "display_data"
    }
   ],
   "source": [
    "pd.DataFrame(history.history).plot(figsize=(12,5))\n",
    "plt.grid(True)\n",
    "plt.gca().set_ylim(0,1)\n",
    "plt.show()"
   ]
  },
  {
   "cell_type": "code",
   "execution_count": 82,
   "id": "a2f77023",
   "metadata": {},
   "outputs": [
    {
     "name": "stdout",
     "output_type": "stream",
     "text": [
      "162/162 [==============================] - 0s 2ms/step - loss: 0.3832\n"
     ]
    },
    {
     "data": {
      "text/plain": [
       "0.3831969201564789"
      ]
     },
     "execution_count": 82,
     "metadata": {},
     "output_type": "execute_result"
    }
   ],
   "source": [
    "mse_test = model.evaluate(X_test, y_test)\n",
    "mse_test"
   ]
  },
  {
   "cell_type": "code",
   "execution_count": 76,
   "id": "5435b267",
   "metadata": {},
   "outputs": [],
   "source": [
    "X_new = X_test[:3]\n",
    "y_pred = model.predict(X_new)"
   ]
  },
  {
   "cell_type": "code",
   "execution_count": null,
   "id": "d7997ee7",
   "metadata": {},
   "outputs": [],
   "source": []
  },
  {
   "cell_type": "code",
   "execution_count": null,
   "id": "143039bb",
   "metadata": {},
   "outputs": [],
   "source": []
  },
  {
   "cell_type": "code",
   "execution_count": null,
   "id": "20ca8b7f",
   "metadata": {},
   "outputs": [],
   "source": []
  },
  {
   "cell_type": "code",
   "execution_count": null,
   "id": "8f76211c",
   "metadata": {},
   "outputs": [],
   "source": []
  }
 ],
 "metadata": {
  "hide_input": false,
  "kernelspec": {
   "display_name": "Python 3 (ipykernel)",
   "language": "python",
   "name": "python3"
  },
  "language_info": {
   "codemirror_mode": {
    "name": "ipython",
    "version": 3
   },
   "file_extension": ".py",
   "mimetype": "text/x-python",
   "name": "python",
   "nbconvert_exporter": "python",
   "pygments_lexer": "ipython3",
   "version": "3.9.7"
  },
  "toc": {
   "base_numbering": 1,
   "nav_menu": {},
   "number_sections": true,
   "sideBar": true,
   "skip_h1_title": false,
   "title_cell": "Table of Contents",
   "title_sidebar": "Contents",
   "toc_cell": false,
   "toc_position": {},
   "toc_section_display": true,
   "toc_window_display": false
  },
  "varInspector": {
   "cols": {
    "lenName": 16,
    "lenType": 16,
    "lenVar": 40
   },
   "kernels_config": {
    "python": {
     "delete_cmd_postfix": "",
     "delete_cmd_prefix": "del ",
     "library": "var_list.py",
     "varRefreshCmd": "print(var_dic_list())"
    },
    "r": {
     "delete_cmd_postfix": ") ",
     "delete_cmd_prefix": "rm(",
     "library": "var_list.r",
     "varRefreshCmd": "cat(var_dic_list()) "
    }
   },
   "types_to_exclude": [
    "module",
    "function",
    "builtin_function_or_method",
    "instance",
    "_Feature"
   ],
   "window_display": false
  }
 },
 "nbformat": 4,
 "nbformat_minor": 5
}
