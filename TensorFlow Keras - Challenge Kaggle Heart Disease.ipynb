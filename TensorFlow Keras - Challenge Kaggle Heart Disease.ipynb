{
 "cells": [
  {
   "cell_type": "markdown",
   "id": "99c02b79",
   "metadata": {},
   "source": [
    "# Kaggle Dataset - heart disease"
   ]
  },
  {
   "cell_type": "markdown",
   "id": "056b1a48",
   "metadata": {},
   "source": [
    "## Introdução "
   ]
  },
  {
   "cell_type": "markdown",
   "id": "f6ce911e",
   "metadata": {},
   "source": [
    "O dataset vem com variáveis que poderiam explicar se uma pessoa terá ou não doenças cardiacas."
   ]
  },
  {
   "cell_type": "markdown",
   "id": "984ea058",
   "metadata": {},
   "source": [
    "# Importação de pacotes e carga de dados"
   ]
  },
  {
   "cell_type": "markdown",
   "id": "cd8fe465",
   "metadata": {},
   "source": [
    "### Pacotes "
   ]
  },
  {
   "cell_type": "code",
   "execution_count": 1,
   "id": "2d37bb89",
   "metadata": {
    "ExecuteTime": {
     "end_time": "2022-06-04T22:03:57.174131Z",
     "start_time": "2022-06-04T22:03:51.621386Z"
    }
   },
   "outputs": [],
   "source": [
    "import numpy as np\n",
    "import pandas as pd\n",
    "import matplotlib.pyplot as plt\n",
    "import tensorflow as tf\n",
    "from tensorflow import keras\n",
    "from sklearn.model_selection import train_test_split, ShuffleSplit\n",
    "from sklearn.preprocessing import StandardScaler\n",
    "from sklearn.metrics import precision_recall_curve\n",
    "from sklearn.metrics import precision_score, recall_score,roc_auc_score, roc_curve\n",
    "from sklearn.metrics import accuracy_score\n",
    "from numpy import mean\n",
    "from sklearn.utils.class_weight import compute_class_weight\n",
    "from sklearn.metrics import classification_report, confusion_matrix\n",
    "import sys\n",
    "import os\n",
    "os.chdir(r'C:\\Users\\Thiago Bluhm\\OneDrive - Grupo Portfolio\\Documentos\\ESTUDO\\DEEP LEARNING e REDES NEURAIS\\tensorflow\\dados')\n",
    "pd.set_option('display.max_columns', 100)\n",
    "pd.set_option('display.max_rows', 200)\n",
    "\n",
    "import warnings\n",
    "warnings.filterwarnings('ignore')"
   ]
  },
  {
   "cell_type": "markdown",
   "id": "9c64473b",
   "metadata": {},
   "source": [
    "### Confirmando o uso de GPU"
   ]
  },
  {
   "cell_type": "code",
   "execution_count": 2,
   "id": "4d06c1af",
   "metadata": {
    "ExecuteTime": {
     "end_time": "2022-06-04T22:03:57.269160Z",
     "start_time": "2022-06-04T22:03:57.208139Z"
    }
   },
   "outputs": [
    {
     "name": "stdout",
     "output_type": "stream",
     "text": [
      "Num GPUs Available:  1\n"
     ]
    }
   ],
   "source": [
    "print(\"Num GPUs Available: \", len(tf.config.list_physical_devices('GPU')))"
   ]
  },
  {
   "cell_type": "code",
   "execution_count": 3,
   "id": "48c8e711",
   "metadata": {
    "ExecuteTime": {
     "end_time": "2022-06-04T22:04:04.304054Z",
     "start_time": "2022-06-04T22:04:04.291052Z"
    }
   },
   "outputs": [],
   "source": [
    "# Posicionando o dispositivo de Registro\n",
    "# lendo e registrando onde na GPU esta sendo carregado o processo de computacao\n",
    "#tf.debugging.set_log_device_placement(True)"
   ]
  },
  {
   "cell_type": "code",
   "execution_count": 4,
   "id": "039dc8c9",
   "metadata": {
    "ExecuteTime": {
     "end_time": "2022-06-04T22:04:05.284274Z",
     "start_time": "2022-06-04T22:04:04.751155Z"
    },
    "scrolled": true
   },
   "outputs": [
    {
     "name": "stdout",
     "output_type": "stream",
     "text": [
      "['/device:CPU:0', '/device:GPU:0']\n"
     ]
    }
   ],
   "source": [
    "from tensorflow.python.client import device_lib\n",
    "\n",
    "def get_available_devices():\n",
    "    local_device_protos = device_lib.list_local_devices()\n",
    "    return [x.name for x in local_device_protos]\n",
    "\n",
    "print(get_available_devices())"
   ]
  },
  {
   "cell_type": "code",
   "execution_count": null,
   "id": "feab544b",
   "metadata": {},
   "outputs": [],
   "source": []
  },
  {
   "cell_type": "markdown",
   "id": "47d7c4c3",
   "metadata": {},
   "source": [
    "### Descarregando a base "
   ]
  },
  {
   "cell_type": "code",
   "execution_count": 5,
   "id": "a2a36a81",
   "metadata": {
    "ExecuteTime": {
     "end_time": "2022-06-04T22:04:07.813838Z",
     "start_time": "2022-06-04T22:04:07.430754Z"
    }
   },
   "outputs": [],
   "source": [
    "df = pd.read_csv(\"heart_2020_cleaned.csv\", sep=\",\")"
   ]
  },
  {
   "cell_type": "code",
   "execution_count": 6,
   "id": "d8e0d447",
   "metadata": {
    "ExecuteTime": {
     "end_time": "2022-06-04T22:04:07.892857Z",
     "start_time": "2022-06-04T22:04:07.862850Z"
    }
   },
   "outputs": [
    {
     "data": {
      "text/html": [
       "<div>\n",
       "<style scoped>\n",
       "    .dataframe tbody tr th:only-of-type {\n",
       "        vertical-align: middle;\n",
       "    }\n",
       "\n",
       "    .dataframe tbody tr th {\n",
       "        vertical-align: top;\n",
       "    }\n",
       "\n",
       "    .dataframe thead th {\n",
       "        text-align: right;\n",
       "    }\n",
       "</style>\n",
       "<table border=\"1\" class=\"dataframe\">\n",
       "  <thead>\n",
       "    <tr style=\"text-align: right;\">\n",
       "      <th></th>\n",
       "      <th>HeartDisease</th>\n",
       "      <th>BMI</th>\n",
       "      <th>Smoking</th>\n",
       "      <th>AlcoholDrinking</th>\n",
       "      <th>Stroke</th>\n",
       "      <th>PhysicalHealth</th>\n",
       "      <th>MentalHealth</th>\n",
       "      <th>DiffWalking</th>\n",
       "      <th>Sex</th>\n",
       "      <th>AgeCategory</th>\n",
       "      <th>Race</th>\n",
       "      <th>Diabetic</th>\n",
       "      <th>PhysicalActivity</th>\n",
       "      <th>GenHealth</th>\n",
       "      <th>SleepTime</th>\n",
       "      <th>Asthma</th>\n",
       "      <th>KidneyDisease</th>\n",
       "      <th>SkinCancer</th>\n",
       "    </tr>\n",
       "  </thead>\n",
       "  <tbody>\n",
       "    <tr>\n",
       "      <th>0</th>\n",
       "      <td>No</td>\n",
       "      <td>16.60</td>\n",
       "      <td>Yes</td>\n",
       "      <td>No</td>\n",
       "      <td>No</td>\n",
       "      <td>3.0</td>\n",
       "      <td>30.0</td>\n",
       "      <td>No</td>\n",
       "      <td>Female</td>\n",
       "      <td>55-59</td>\n",
       "      <td>White</td>\n",
       "      <td>Yes</td>\n",
       "      <td>Yes</td>\n",
       "      <td>Very good</td>\n",
       "      <td>5.0</td>\n",
       "      <td>Yes</td>\n",
       "      <td>No</td>\n",
       "      <td>Yes</td>\n",
       "    </tr>\n",
       "    <tr>\n",
       "      <th>1</th>\n",
       "      <td>No</td>\n",
       "      <td>20.34</td>\n",
       "      <td>No</td>\n",
       "      <td>No</td>\n",
       "      <td>Yes</td>\n",
       "      <td>0.0</td>\n",
       "      <td>0.0</td>\n",
       "      <td>No</td>\n",
       "      <td>Female</td>\n",
       "      <td>80 or older</td>\n",
       "      <td>White</td>\n",
       "      <td>No</td>\n",
       "      <td>Yes</td>\n",
       "      <td>Very good</td>\n",
       "      <td>7.0</td>\n",
       "      <td>No</td>\n",
       "      <td>No</td>\n",
       "      <td>No</td>\n",
       "    </tr>\n",
       "    <tr>\n",
       "      <th>2</th>\n",
       "      <td>No</td>\n",
       "      <td>26.58</td>\n",
       "      <td>Yes</td>\n",
       "      <td>No</td>\n",
       "      <td>No</td>\n",
       "      <td>20.0</td>\n",
       "      <td>30.0</td>\n",
       "      <td>No</td>\n",
       "      <td>Male</td>\n",
       "      <td>65-69</td>\n",
       "      <td>White</td>\n",
       "      <td>Yes</td>\n",
       "      <td>Yes</td>\n",
       "      <td>Fair</td>\n",
       "      <td>8.0</td>\n",
       "      <td>Yes</td>\n",
       "      <td>No</td>\n",
       "      <td>No</td>\n",
       "    </tr>\n",
       "  </tbody>\n",
       "</table>\n",
       "</div>"
      ],
      "text/plain": [
       "  HeartDisease    BMI Smoking AlcoholDrinking Stroke  PhysicalHealth  \\\n",
       "0           No  16.60     Yes              No     No             3.0   \n",
       "1           No  20.34      No              No    Yes             0.0   \n",
       "2           No  26.58     Yes              No     No            20.0   \n",
       "\n",
       "   MentalHealth DiffWalking     Sex  AgeCategory   Race Diabetic  \\\n",
       "0          30.0          No  Female        55-59  White      Yes   \n",
       "1           0.0          No  Female  80 or older  White       No   \n",
       "2          30.0          No    Male        65-69  White      Yes   \n",
       "\n",
       "  PhysicalActivity  GenHealth  SleepTime Asthma KidneyDisease SkinCancer  \n",
       "0              Yes  Very good        5.0    Yes            No        Yes  \n",
       "1              Yes  Very good        7.0     No            No         No  \n",
       "2              Yes       Fair        8.0    Yes            No         No  "
      ]
     },
     "execution_count": 6,
     "metadata": {},
     "output_type": "execute_result"
    }
   ],
   "source": [
    "df[:3]"
   ]
  },
  {
   "cell_type": "code",
   "execution_count": 7,
<<<<<<< Updated upstream
   "id": "570650aa",
=======
   "id": "1fe9db58",
>>>>>>> Stashed changes
   "metadata": {
    "ExecuteTime": {
     "end_time": "2022-06-04T22:04:08.035888Z",
     "start_time": "2022-06-04T22:04:08.019885Z"
    }
   },
   "outputs": [
    {
     "data": {
      "text/plain": [
       "319795"
      ]
     },
     "execution_count": 7,
     "metadata": {},
     "output_type": "execute_result"
    }
   ],
   "source": [
    "len(df)"
   ]
  },
  {
   "cell_type": "markdown",
   "id": "40c5fc0c",
   "metadata": {},
   "source": [
    "Vamos pegar apenas a raça negra e verificar os dados"
   ]
  },
  {
   "cell_type": "code",
   "execution_count": 8,
   "id": "5048f929",
   "metadata": {
    "ExecuteTime": {
     "end_time": "2022-06-04T22:04:08.682034Z",
     "start_time": "2022-06-04T22:04:08.669031Z"
    }
   },
   "outputs": [],
   "source": [
    "def plot_est_random(x, y, z, var1, indice):\n",
    "    fig = plt.figure(figsize=(20,5))\n",
    "\n",
    "    ax1 = fig.add_subplot(1,3,1)\n",
    "    ax2 = fig.add_subplot(1,3,2)\n",
    "    ax3 = fig.add_subplot(1,3,3)\n",
    "\n",
    "    ax1.hist(x[var1[indice]], bins=25, color='#3434F6')\n",
    "    ax2.hist(y[var1[indice]], bins=25, color='#B680DA')\n",
    "    ax3.hist(z[var1[indice]], bins=25, color='#F04D5C')\n",
    "\n",
    "    plt.subplots_adjust(wspace=0.2, hspace=0.2)\n",
    "    plt.show()\n",
    "    \n",
    "def calculos_est(x,y,z, var1, indice):\n",
    "    med  = np.mean(x[var1[indice]])\n",
    "    med1 = np.mean(y[var1[indice]])\n",
    "    med2 = np.mean(z[var1[indice]])\n",
    "    \n",
    "    mediana  = np.median(x[var1[indice]])\n",
    "    mediana1 = np.median(y[var1[indice]])\n",
    "    mediana2 = np.median(z[var1[indice]])\n",
    "\n",
    "    sd  = np.std(x[var1[indice]])\n",
    "    sd1 = np.std(y[var1[indice]])\n",
    "    sd2 = np.std(z[var1[indice]])\n",
    "\n",
    "    print(f'Desvio original {sd}, desvio para amostra 1 = {sd1}, desvio para amostra 2 = {sd2}\\n')\n",
    "    print(f'Media original: {med}, media 1: {med1}, media 2: {med2}\\n')\n",
    "    print(f'Mediana original: {mediana}, mediana 1: {mediana1}, mediana 2: {mediana2}\\n')\n",
    "    print(f'Amostra original: {len(x[var1[indice]])} | Amostra 1: {len(y[var1[indice]])} | Amostra 2: {len(z[var1[indice]])}')"
   ]
  },
  {
   "cell_type": "code",
   "execution_count": 10,
   "id": "af03272d",
   "metadata": {
    "ExecuteTime": {
     "end_time": "2022-06-04T22:04:55.015177Z",
     "start_time": "2022-06-04T22:04:54.952163Z"
    }
   },
   "outputs": [],
   "source": [
    "var1 = ['BMI','PhysicalHealth', 'MentalHealth','SleepTime']\n",
    "var2 = ['White', 'Black']\n",
    "a = 0\n",
    "aa = 0\n",
    "\n",
    "# fazendo um filtro de pessoas que tem a doença podendo setar a raca\n",
    "df_tt = df[(df['Race'] == var2[a]) & (df['HeartDisease'] == 'Yes')]"
   ]
  },
  {
   "cell_type": "markdown",
<<<<<<< Updated upstream
   "id": "31ff0cad",
=======
   "id": "4af00a00",
>>>>>>> Stashed changes
   "metadata": {},
   "source": [
    "#### Extratifica com reposicao 2.5% do total e depois com 12.5%"
   ]
  },
  {
   "cell_type": "code",
   "execution_count": 15,
<<<<<<< Updated upstream
   "id": "f32e88a6",
=======
   "id": "3f8f8d7f",
>>>>>>> Stashed changes
   "metadata": {
    "ExecuteTime": {
     "end_time": "2022-06-04T22:07:05.408607Z",
     "start_time": "2022-06-04T22:07:05.382602Z"
    }
   },
   "outputs": [
    {
     "data": {
      "text/plain": [
       "(2810, 562)"
      ]
     },
     "execution_count": 15,
     "metadata": {},
     "output_type": "execute_result"
    }
   ],
   "source": [
    "qtd1 = int(len(df_tt) * 0.025)\n",
    "df_1 = df_tt[df_tt['Race'] == var2[a]].sample(qtd1)\n",
    "df_2 = df_tt[df_tt['Race'] == var2[a]].sample(qtd1*5)\n",
    "qtd1*5, qtd1"
   ]
  },
  {
   "cell_type": "markdown",
   "id": "f7d31a95",
   "metadata": {},
   "source": [
    "#### Extratifica com reposicao 5% e depois com 25%"
   ]
  },
  {
   "cell_type": "code",
   "execution_count": 18,
   "id": "17c23bb8",
   "metadata": {
    "ExecuteTime": {
     "end_time": "2022-06-04T22:08:53.734180Z",
     "start_time": "2022-06-04T22:08:53.720178Z"
    }
   },
   "outputs": [
    {
     "data": {
      "text/plain": [
       "(700, 140)"
      ]
     },
     "execution_count": 18,
     "metadata": {},
     "output_type": "execute_result"
    }
   ],
   "source": [
    "qtd2 = int(len(df_2) * 0.05)\n",
    "df_12 = df_2[df_2['Race'] == var2[a]].sample(qtd2)\n",
    "df_22 = df_2[df_2['Race'] == var2[a]].sample(qtd2*5)\n",
    "qtd2*5, qtd2"
   ]
  },
  {
   "cell_type": "code",
   "execution_count": 22,
   "id": "c8a23e25",
   "metadata": {
    "ExecuteTime": {
     "end_time": "2022-06-04T22:17:41.241183Z",
     "start_time": "2022-06-04T22:17:41.229181Z"
    }
   },
   "outputs": [
    {
     "name": "stdout",
     "output_type": "stream",
     "text": [
      "Desvio original 6.371647180936933, desvio para amostra 1 = 6.028621218717765, desvio para amostra 2 = 6.425556783029429\n",
      "\n",
      "Media original: 29.20698404940685, media 1: 29.5538256227758, media 2: 29.180412811387896\n",
      "\n",
      "Mediana original: 28.25, mediana 1: 28.89, mediana 2: 28.19\n",
      "\n",
      "Amostra original: 22507 | Amostra 1: 562 | Amostra 2: 2810\n"
     ]
    }
   ],
   "source": [
    "calculos_est(df_tt,df_1, df_2, var1, aa)"
   ]
  },
  {
   "cell_type": "code",
   "execution_count": 23,
   "id": "2cf4ac23",
   "metadata": {
    "ExecuteTime": {
     "end_time": "2022-06-04T22:17:41.949343Z",
     "start_time": "2022-06-04T22:17:41.568257Z"
    }
   },
   "outputs": [
    {
     "data": {
      "image/png": "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\n",
      "text/plain": [
       "<Figure size 1440x360 with 3 Axes>"
      ]
     },
     "metadata": {
      "needs_background": "light"
     },
     "output_type": "display_data"
    }
   ],
   "source": [
    "plot_est_random(df_tt,df_1, df_2, var1, aa)"
   ]
  },
  {
   "cell_type": "code",
   "execution_count": 24,
   "id": "8cd194cc",
   "metadata": {
    "ExecuteTime": {
     "end_time": "2022-06-04T22:17:42.155388Z",
     "start_time": "2022-06-04T22:17:42.142388Z"
    }
   },
   "outputs": [
    {
     "name": "stdout",
     "output_type": "stream",
     "text": [
      "Desvio original 6.425556783029429, desvio para amostra 1 = 6.085449448881977, desvio para amostra 2 = 6.844457945338711\n",
      "\n",
      "Media original: 29.180412811387896, media 1: 28.552928571428573, media 2: 29.36818571428572\n",
      "\n",
      "Mediana original: 28.19, mediana 1: 27.72, mediana 2: 28.14\n",
      "\n",
      "Amostra original: 2810 | Amostra 1: 140 | Amostra 2: 700\n"
     ]
    }
   ],
   "source": [
    "calculos_est(df_2,df_12, df_22, var1, aa)"
   ]
  },
  {
   "cell_type": "code",
   "execution_count": 25,
   "id": "28e823f7",
   "metadata": {
    "ExecuteTime": {
     "end_time": "2022-06-04T22:17:43.119604Z",
     "start_time": "2022-06-04T22:17:42.679506Z"
    }
   },
   "outputs": [
    {
     "data": {
      "image/png": "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\n",
      "text/plain": [
       "<Figure size 1440x360 with 3 Axes>"
      ]
     },
     "metadata": {
      "needs_background": "light"
     },
     "output_type": "display_data"
    }
   ],
   "source": [
    "plot_est_random(df_2,df_12, df_22, var1, aa)"
   ]
  },
  {
   "cell_type": "markdown",
   "id": "a6ae696d",
   "metadata": {},
   "source": [
    "#### Modificações nas colunas "
   ]
  },
  {
   "cell_type": "code",
   "execution_count": 26,
   "id": "d92b9ea5",
   "metadata": {
    "ExecuteTime": {
     "end_time": "2022-06-04T22:17:44.117827Z",
     "start_time": "2022-06-04T22:17:43.799758Z"
    }
   },
   "outputs": [],
   "source": [
    "df.GenHealth = [x if x != 'Very good' else 'VeryGood' for x in df.GenHealth]\n",
    "df.AgeCategory = [x if x != '80 or older' else 'gt80' for x in df.AgeCategory]\n",
    "df.HeartDisease = [1 if x != 'No' else 0 for x in df.HeartDisease]\n",
    "df.Diabetic = [x if x != 'Yes (during pregnancy)' else 'ydp' for x in df.Diabetic]"
   ]
  },
  {
   "cell_type": "markdown",
   "id": "c7dbeec5",
   "metadata": {},
   "source": [
    "### Recarregando o Dataset original com filtro para hipoteses com IMC e horas de sono para negros e brancos"
   ]
  },
  {
   "cell_type": "markdown",
<<<<<<< Updated upstream
   "id": "5ecdcb85",
=======
   "id": "11b83b27",
>>>>>>> Stashed changes
   "metadata": {},
   "source": [
    "#### Negros "
   ]
  },
  {
   "cell_type": "code",
   "execution_count": 27,
   "id": "79f26082",
   "metadata": {
    "ExecuteTime": {
     "end_time": "2022-06-04T22:17:45.257083Z",
     "start_time": "2022-06-04T22:17:45.157059Z"
    }
   },
   "outputs": [],
   "source": [
    "ndf_dc = df[(df['BMI'] > 35) & (df['SleepTime'] > 5) & (df['Race'] == 'Black')] #hipotese obesos e com mais de 5 horas de sono\n",
    "ndf_dc2 = df[(df['BMI'] > 35) & (df['SleepTime'] < 5) & (df['Race'] == 'Black')] #hipotese obesos e com menos de 5 horas de sono\n",
    "ndf_dc3 = df[(df['BMI'] < 35) & (df['SleepTime'] < 5) & (df['Race'] == 'Black')] #hipotese obesos e com menos de 5 horas de sono"
   ]
  },
  {
   "cell_type": "markdown",
<<<<<<< Updated upstream
   "id": "af80f98f",
=======
   "id": "5fee2abb",
>>>>>>> Stashed changes
   "metadata": {},
   "source": [
    "#### Comparativo entre os que tem doenca ja e o total NEGROS"
   ]
  },
  {
   "cell_type": "code",
   "execution_count": 28,
   "id": "5bda383e",
   "metadata": {
    "ExecuteTime": {
     "end_time": "2022-06-04T22:17:45.796201Z",
     "start_time": "2022-06-04T22:17:45.783201Z"
    }
   },
   "outputs": [
    {
     "name": "stdout",
     "output_type": "stream",
     "text": [
      "Taxa de pessoas com doenças cardiacas com IMC > 35 e mais de 5 horas de sono: 9.0%\n",
      "Taxa de pessoas com doenças cardiacas com IMC > 35 e menos de 5 horas de sono: 12.0%\n",
      "Taxa de pessoas com doenças cardiacas com IMC < 35 e menos de 5 horas de sono: 13.0%\n"
     ]
    }
   ],
   "source": [
    "x = ndf_dc['HeartDisease'].value_counts()\n",
    "print(f'Taxa de pessoas com doenças cardiacas com IMC > 35 e mais de 5 horas de sono: {round(x[1]/len(ndf_dc), 2) * 100}%')\n",
    "\n",
    "x2 = ndf_dc2['HeartDisease'].value_counts()\n",
    "print(f'Taxa de pessoas com doenças cardiacas com IMC > 35 e menos de 5 horas de sono: {round(x2[1]/len(ndf_dc2), 2) * 100}%')\n",
    "\n",
    "x3 = ndf_dc3['HeartDisease'].value_counts()\n",
    "print(f'Taxa de pessoas com doenças cardiacas com IMC < 35 e menos de 5 horas de sono: {round(x3[1]/len(ndf_dc3), 2) * 100}%')"
   ]
  },
  {
   "cell_type": "markdown",
<<<<<<< Updated upstream
   "id": "2bbb39c4",
=======
   "id": "8aefca66",
>>>>>>> Stashed changes
   "metadata": {},
   "source": [
    "### Avaliação por agrupamento em negros"
   ]
  },
  {
   "cell_type": "code",
   "execution_count": 29,
<<<<<<< Updated upstream
   "id": "ba8bd984",
=======
   "id": "df9db1af",
>>>>>>> Stashed changes
   "metadata": {
    "ExecuteTime": {
     "end_time": "2022-06-04T22:17:46.571374Z",
     "start_time": "2022-06-04T22:17:46.473354Z"
    }
   },
   "outputs": [
    {
     "data": {
      "text/html": [
       "<style type=\"text/css\">\n",
       "#T_57382_row0_col0 {\n",
       "  width: 10em;\n",
       "  background: linear-gradient(90deg, #AABB00 63.6%, transparent 63.6%);\n",
       "}\n",
       "#T_57382_row1_col0 {\n",
       "  width: 10em;\n",
       "  background: linear-gradient(90deg, #AABB00 100.0%, transparent 100.0%);\n",
       "}\n",
       "#T_57382_row2_col0 {\n",
       "  width: 10em;\n",
       "  background: linear-gradient(90deg, #AABB00 2.2%, transparent 2.2%);\n",
       "}\n",
       "#T_57382_row3_col0 {\n",
       "  width: 10em;\n",
       "  background: linear-gradient(90deg, #AABB00 3.5%, transparent 3.5%);\n",
       "}\n",
       "#T_57382_row4_col0 {\n",
       "  width: 10em;\n",
       "  background: linear-gradient(90deg, #AABB00 18.7%, transparent 18.7%);\n",
       "}\n",
       "#T_57382_row5_col0 {\n",
       "  width: 10em;\n",
       "  background: linear-gradient(90deg, #AABB00 46.1%, transparent 46.1%);\n",
       "}\n",
       "#T_57382_row6_col0 {\n",
       "  width: 10em;\n",
       "  background: linear-gradient(90deg, #AABB00 1.2%, transparent 1.2%);\n",
       "}\n",
       "#T_57382_row7_col0 {\n",
       "  width: 10em;\n",
       "  background: linear-gradient(90deg, #AABB00 1.5%, transparent 1.5%);\n",
       "}\n",
       "</style>\n",
       "<table id=\"T_57382\">\n",
       "  <thead>\n",
       "    <tr>\n",
       "      <th class=\"blank\" >&nbsp;</th>\n",
       "      <th class=\"blank\" >&nbsp;</th>\n",
       "      <th class=\"blank\" >&nbsp;</th>\n",
       "      <th class=\"blank level0\" >&nbsp;</th>\n",
       "      <th id=\"T_57382_level0_col0\" class=\"col_heading level0 col0\" >HeartDisease</th>\n",
       "      <th id=\"T_57382_level0_col1\" class=\"col_heading level0 col1\" >BMI</th>\n",
       "      <th id=\"T_57382_level0_col2\" class=\"col_heading level0 col2\" >SleepTime</th>\n",
       "    </tr>\n",
       "    <tr>\n",
       "      <th class=\"index_name level0\" >Race</th>\n",
       "      <th class=\"index_name level1\" >Sex</th>\n",
       "      <th class=\"index_name level2\" >AlcoholDrinking</th>\n",
       "      <th class=\"index_name level3\" >PhysicalActivity</th>\n",
       "      <th class=\"blank col0\" >&nbsp;</th>\n",
       "      <th class=\"blank col1\" >&nbsp;</th>\n",
       "      <th class=\"blank col2\" >&nbsp;</th>\n",
       "    </tr>\n",
       "  </thead>\n",
       "  <tbody>\n",
       "    <tr>\n",
       "      <th id=\"T_57382_level0_row0\" class=\"row_heading level0 row0\" rowspan=\"8\">Black</th>\n",
       "      <th id=\"T_57382_level1_row0\" class=\"row_heading level1 row0\" rowspan=\"4\">Female</th>\n",
       "      <th id=\"T_57382_level2_row0\" class=\"row_heading level2 row0\" rowspan=\"2\">No</th>\n",
       "      <th id=\"T_57382_level3_row0\" class=\"row_heading level3 row0\" >No</th>\n",
       "      <td id=\"T_57382_row0_col0\" class=\"data row0 col0\" >1048</td>\n",
       "      <td id=\"T_57382_row0_col1\" class=\"data row0 col1\" >41.933483</td>\n",
       "      <td id=\"T_57382_row0_col2\" class=\"data row0 col2\" >                7.48 h/dia</td>\n",
       "    </tr>\n",
       "    <tr>\n",
       "      <th id=\"T_57382_level3_row1\" class=\"row_heading level3 row1\" >Yes</th>\n",
       "      <td id=\"T_57382_row1_col0\" class=\"data row1 col0\" >1648</td>\n",
       "      <td id=\"T_57382_row1_col1\" class=\"data row1 col1\" >40.593525</td>\n",
       "      <td id=\"T_57382_row1_col2\" class=\"data row1 col2\" >                7.36 h/dia</td>\n",
       "    </tr>\n",
       "    <tr>\n",
       "      <th id=\"T_57382_level2_row2\" class=\"row_heading level2 row2\" rowspan=\"2\">Yes</th>\n",
       "      <th id=\"T_57382_level3_row2\" class=\"row_heading level3 row2\" >No</th>\n",
       "      <td id=\"T_57382_row2_col0\" class=\"data row2 col0\" >36</td>\n",
       "      <td id=\"T_57382_row2_col1\" class=\"data row2 col1\" >41.237778</td>\n",
       "      <td id=\"T_57382_row2_col2\" class=\"data row2 col2\" >                7.33 h/dia</td>\n",
       "    </tr>\n",
       "    <tr>\n",
       "      <th id=\"T_57382_level3_row3\" class=\"row_heading level3 row3\" >Yes</th>\n",
       "      <td id=\"T_57382_row3_col0\" class=\"data row3 col0\" >58</td>\n",
       "      <td id=\"T_57382_row3_col1\" class=\"data row3 col1\" >40.699310</td>\n",
       "      <td id=\"T_57382_row3_col2\" class=\"data row3 col2\" >                7.24 h/dia</td>\n",
       "    </tr>\n",
       "    <tr>\n",
       "      <th id=\"T_57382_level1_row4\" class=\"row_heading level1 row4\" rowspan=\"4\">Male</th>\n",
       "      <th id=\"T_57382_level2_row4\" class=\"row_heading level2 row4\" rowspan=\"2\">No</th>\n",
       "      <th id=\"T_57382_level3_row4\" class=\"row_heading level3 row4\" >No</th>\n",
       "      <td id=\"T_57382_row4_col0\" class=\"data row4 col0\" >308</td>\n",
       "      <td id=\"T_57382_row4_col1\" class=\"data row4 col1\" >40.825584</td>\n",
       "      <td id=\"T_57382_row4_col2\" class=\"data row4 col2\" >                7.46 h/dia</td>\n",
       "    </tr>\n",
       "    <tr>\n",
       "      <th id=\"T_57382_level3_row5\" class=\"row_heading level3 row5\" >Yes</th>\n",
       "      <td id=\"T_57382_row5_col0\" class=\"data row5 col0\" >759</td>\n",
       "      <td id=\"T_57382_row5_col1\" class=\"data row5 col1\" >40.069012</td>\n",
       "      <td id=\"T_57382_row5_col2\" class=\"data row5 col2\" >                7.33 h/dia</td>\n",
       "    </tr>\n",
       "    <tr>\n",
       "      <th id=\"T_57382_level2_row6\" class=\"row_heading level2 row6\" rowspan=\"2\">Yes</th>\n",
       "      <th id=\"T_57382_level3_row6\" class=\"row_heading level3 row6\" >No</th>\n",
       "      <td id=\"T_57382_row6_col0\" class=\"data row6 col0\" >19</td>\n",
       "      <td id=\"T_57382_row6_col1\" class=\"data row6 col1\" >43.824737</td>\n",
       "      <td id=\"T_57382_row6_col2\" class=\"data row6 col2\" >                8.47 h/dia</td>\n",
       "    </tr>\n",
       "    <tr>\n",
       "      <th id=\"T_57382_level3_row7\" class=\"row_heading level3 row7\" >Yes</th>\n",
       "      <td id=\"T_57382_row7_col0\" class=\"data row7 col0\" >25</td>\n",
       "      <td id=\"T_57382_row7_col1\" class=\"data row7 col1\" >39.236400</td>\n",
       "      <td id=\"T_57382_row7_col2\" class=\"data row7 col2\" >                6.88 h/dia</td>\n",
       "    </tr>\n",
       "  </tbody>\n",
       "</table>\n"
      ],
      "text/plain": [
       "<pandas.io.formats.style.Styler at 0x25726a782e0>"
      ]
     },
     "execution_count": 29,
     "metadata": {},
     "output_type": "execute_result"
    }
   ],
   "source": [
    "(ndf_dc.groupby(['Race','Sex','AlcoholDrinking','PhysicalActivity']) \\\n",
    "                             .agg({'HeartDisease':'count', 'BMI':'mean', 'SleepTime':'mean'})).style \\\n",
    "                             .format({\"HeartDisease\": \"{:20,.0f}\"}) \\\n",
    "                             .format({\"BMI\": \"{:20,.2f}\"}) \\\n",
    "                             .format({\"SleepTime\": \"{:20,.2f} h/dia\"}) \\\n",
    "                             .bar(subset=[\"HeartDisease\"], color='#AABB00')"
   ]
  },
  {
   "cell_type": "markdown",
<<<<<<< Updated upstream
   "id": "55fc3b1c",
=======
   "id": "d8dfcc49",
>>>>>>> Stashed changes
   "metadata": {},
   "source": [
    "#### A chance de ter doença com o cenario \n"
   ]
  },
  {
   "cell_type": "code",
   "execution_count": 30,
<<<<<<< Updated upstream
   "id": "8357a805",
=======
   "id": "d646da11",
>>>>>>> Stashed changes
   "metadata": {
    "ExecuteTime": {
     "end_time": "2022-06-04T22:17:46.839435Z",
     "start_time": "2022-06-04T22:17:46.829433Z"
    }
   },
   "outputs": [
    {
     "name": "stdout",
     "output_type": "stream",
     "text": [
      "Pessoas negras com o IMC > 35 e que dormem menos de 5 horas por dias tem 9.98 % a mais de chance de ter doença cardíaca.\n"
     ]
    }
   ],
   "source": [
    "x = ndf_dc['HeartDisease'].value_counts()\n",
    "print(f'Pessoas negras com o IMC > 35 e que dormem menos de 5 horas por dias tem {round(x[1]/x[0],4) * 100} \\\n",
    "% a mais de chance de ter doença cardíaca.')"
   ]
  },
  {
   "cell_type": "markdown",
<<<<<<< Updated upstream
   "id": "3cd8d736",
=======
   "id": "3e1508e2",
>>>>>>> Stashed changes
   "metadata": {},
   "source": [
    "#### Plotagem de IMC para negros "
   ]
  },
  {
   "cell_type": "code",
   "execution_count": 31,
<<<<<<< Updated upstream
   "id": "2e61559f",
=======
   "id": "159316ae",
>>>>>>> Stashed changes
   "metadata": {
    "ExecuteTime": {
     "end_time": "2022-06-04T22:17:47.646616Z",
     "start_time": "2022-06-04T22:17:47.480580Z"
    }
   },
   "outputs": [
    {
     "data": {
      "image/png": "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\n",
      "text/plain": [
       "<Figure size 432x288 with 1 Axes>"
      ]
     },
     "metadata": {
      "needs_background": "light"
     },
     "output_type": "display_data"
    }
   ],
   "source": [
    "plt.hist(ndf_dc['BMI'], bins=15)\n",
    "plt.show()"
   ]
  },
  {
   "cell_type": "markdown",
<<<<<<< Updated upstream
   "id": "a7d35d58",
=======
   "id": "e9d83094",
>>>>>>> Stashed changes
   "metadata": {
    "ExecuteTime": {
     "end_time": "2022-06-04T21:17:19.828881Z",
     "start_time": "2022-06-04T21:17:19.810878Z"
    }
   },
   "source": [
    "#### Brancos"
   ]
  },
  {
   "cell_type": "code",
   "execution_count": 32,
<<<<<<< Updated upstream
   "id": "fb88a4f2",
=======
   "id": "daff5bb3",
>>>>>>> Stashed changes
   "metadata": {
    "ExecuteTime": {
     "end_time": "2022-06-04T22:17:48.004697Z",
     "start_time": "2022-06-04T22:17:47.913677Z"
    }
   },
   "outputs": [],
   "source": [
    "df_dc = df[(df['BMI'] > 35) & (df['SleepTime'] > 5) & (df['Race'] == 'White')] #hipotese obesos e com mais de 5 horas de sono\n",
    "df_dc2 = df[(df['BMI'] > 35) & (df['SleepTime'] < 5) & (df['Race'] == 'White')] #hipotese obesos e com menos de 5 horas de sono\n",
    "df_dc3 = df[(df['BMI'] < 35) & (df['SleepTime'] < 5) & (df['Race'] == 'White')] #hipotese obesos e com menos de 5 horas de sono"
   ]
  },
  {
   "cell_type": "code",
   "execution_count": 33,
<<<<<<< Updated upstream
   "id": "a384d74c",
=======
   "id": "8c3f43db",
>>>>>>> Stashed changes
   "metadata": {
    "ExecuteTime": {
     "end_time": "2022-06-04T22:17:48.330770Z",
     "start_time": "2022-06-04T22:17:48.317768Z"
    }
   },
   "outputs": [
    {
     "name": "stdout",
     "output_type": "stream",
     "text": [
      "Taxa de pessoas com doenças cardiacas com IMC > 35 e mais de 5 horas de sono: 11.0%\n",
      "Taxa de pessoas com doenças cardiacas com IMC > 35 e menos de 5 horas de sono: 20.0%\n",
      "Taxa de pessoas com doenças cardiacas com IMC < 35 e menos de 5 horas de sono: 16.0%\n"
     ]
    }
   ],
   "source": [
    "x = df_dc['HeartDisease'].value_counts()\n",
    "print(f'Taxa de pessoas com doenças cardiacas com IMC > 35 e mais de 5 horas de sono: {round(x[1]/len(df_dc), 2) * 100}%')\n",
    "\n",
    "x2 = df_dc2['HeartDisease'].value_counts()\n",
    "print(f'Taxa de pessoas com doenças cardiacas com IMC > 35 e menos de 5 horas de sono: {round(x2[1]/len(df_dc2), 2) * 100}%')\n",
    "\n",
    "x3 = df_dc3['HeartDisease'].value_counts()\n",
    "print(f'Taxa de pessoas com doenças cardiacas com IMC < 35 e menos de 5 horas de sono: {round(x3[1]/len(df_dc3), 2) * 100}%')"
   ]
  },
  {
   "cell_type": "markdown",
<<<<<<< Updated upstream
   "id": "d68ff7ac",
=======
   "id": "d8aa001f",
>>>>>>> Stashed changes
   "metadata": {},
   "source": [
    "### Avaliação por agrupamento em brancos"
   ]
  },
  {
   "cell_type": "code",
   "execution_count": 34,
   "id": "ed719033",
   "metadata": {
    "ExecuteTime": {
     "end_time": "2022-06-04T22:17:49.091938Z",
     "start_time": "2022-06-04T22:17:49.061933Z"
    }
   },
   "outputs": [
    {
     "data": {
      "text/html": [
       "<style type=\"text/css\">\n",
       "#T_dcc60_row0_col0 {\n",
       "  width: 10em;\n",
       "  background: linear-gradient(90deg, #AABB00 63.2%, transparent 63.2%);\n",
       "}\n",
       "#T_dcc60_row1_col0 {\n",
       "  width: 10em;\n",
       "  background: linear-gradient(90deg, #AABB00 100.0%, transparent 100.0%);\n",
       "}\n",
       "#T_dcc60_row2_col0 {\n",
       "  width: 10em;\n",
       "  background: linear-gradient(90deg, #AABB00 2.2%, transparent 2.2%);\n",
       "}\n",
       "#T_dcc60_row3_col0 {\n",
       "  width: 10em;\n",
       "  background: linear-gradient(90deg, #AABB00 4.8%, transparent 4.8%);\n",
       "}\n",
       "#T_dcc60_row4_col0 {\n",
       "  width: 10em;\n",
       "  background: linear-gradient(90deg, #AABB00 40.6%, transparent 40.6%);\n",
       "}\n",
       "#T_dcc60_row5_col0 {\n",
       "  width: 10em;\n",
       "  background: linear-gradient(90deg, #AABB00 91.1%, transparent 91.1%);\n",
       "}\n",
       "#T_dcc60_row6_col0 {\n",
       "  width: 10em;\n",
       "  background: linear-gradient(90deg, #AABB00 2.3%, transparent 2.3%);\n",
       "}\n",
       "#T_dcc60_row7_col0 {\n",
       "  width: 10em;\n",
       "  background: linear-gradient(90deg, #AABB00 5.6%, transparent 5.6%);\n",
       "}\n",
       "</style>\n",
       "<table id=\"T_dcc60\">\n",
       "  <thead>\n",
       "    <tr>\n",
       "      <th class=\"blank\" >&nbsp;</th>\n",
       "      <th class=\"blank\" >&nbsp;</th>\n",
       "      <th class=\"blank\" >&nbsp;</th>\n",
       "      <th class=\"blank level0\" >&nbsp;</th>\n",
       "      <th id=\"T_dcc60_level0_col0\" class=\"col_heading level0 col0\" >HeartDisease</th>\n",
       "      <th id=\"T_dcc60_level0_col1\" class=\"col_heading level0 col1\" >BMI</th>\n",
       "      <th id=\"T_dcc60_level0_col2\" class=\"col_heading level0 col2\" >SleepTime</th>\n",
       "    </tr>\n",
       "    <tr>\n",
       "      <th class=\"index_name level0\" >Race</th>\n",
       "      <th class=\"index_name level1\" >Sex</th>\n",
       "      <th class=\"index_name level2\" >AlcoholDrinking</th>\n",
       "      <th class=\"index_name level3\" >PhysicalActivity</th>\n",
       "      <th class=\"blank col0\" >&nbsp;</th>\n",
       "      <th class=\"blank col1\" >&nbsp;</th>\n",
       "      <th class=\"blank col2\" >&nbsp;</th>\n",
       "    </tr>\n",
       "  </thead>\n",
       "  <tbody>\n",
       "    <tr>\n",
       "      <th id=\"T_dcc60_level0_row0\" class=\"row_heading level0 row0\" rowspan=\"8\">White</th>\n",
       "      <th id=\"T_dcc60_level1_row0\" class=\"row_heading level1 row0\" rowspan=\"4\">Female</th>\n",
       "      <th id=\"T_dcc60_level2_row0\" class=\"row_heading level2 row0\" rowspan=\"2\">No</th>\n",
       "      <th id=\"T_dcc60_level3_row0\" class=\"row_heading level3 row0\" >No</th>\n",
       "      <td id=\"T_dcc60_row0_col0\" class=\"data row0 col0\" >5328</td>\n",
       "      <td id=\"T_dcc60_row0_col1\" class=\"data row0 col1\" >41.197727</td>\n",
       "      <td id=\"T_dcc60_row0_col2\" class=\"data row0 col2\" >                7.54 h/dia</td>\n",
       "    </tr>\n",
       "    <tr>\n",
       "      <th id=\"T_dcc60_level3_row1\" class=\"row_heading level3 row1\" >Yes</th>\n",
       "      <td id=\"T_dcc60_row1_col0\" class=\"data row1 col0\" >8429</td>\n",
       "      <td id=\"T_dcc60_row1_col1\" class=\"data row1 col1\" >40.186754</td>\n",
       "      <td id=\"T_dcc60_row1_col2\" class=\"data row1 col2\" >                7.29 h/dia</td>\n",
       "    </tr>\n",
       "    <tr>\n",
       "      <th id=\"T_dcc60_level2_row2\" class=\"row_heading level2 row2\" rowspan=\"2\">Yes</th>\n",
       "      <th id=\"T_dcc60_level3_row2\" class=\"row_heading level3 row2\" >No</th>\n",
       "      <td id=\"T_dcc60_row2_col0\" class=\"data row2 col0\" >188</td>\n",
       "      <td id=\"T_dcc60_row2_col1\" class=\"data row2 col1\" >40.292713</td>\n",
       "      <td id=\"T_dcc60_row2_col2\" class=\"data row2 col2\" >                7.62 h/dia</td>\n",
       "    </tr>\n",
       "    <tr>\n",
       "      <th id=\"T_dcc60_level3_row3\" class=\"row_heading level3 row3\" >Yes</th>\n",
       "      <td id=\"T_dcc60_row3_col0\" class=\"data row3 col0\" >406</td>\n",
       "      <td id=\"T_dcc60_row3_col1\" class=\"data row3 col1\" >39.627562</td>\n",
       "      <td id=\"T_dcc60_row3_col2\" class=\"data row3 col2\" >                7.36 h/dia</td>\n",
       "    </tr>\n",
       "    <tr>\n",
       "      <th id=\"T_dcc60_level1_row4\" class=\"row_heading level1 row4\" rowspan=\"4\">Male</th>\n",
       "      <th id=\"T_dcc60_level2_row4\" class=\"row_heading level2 row4\" rowspan=\"2\">No</th>\n",
       "      <th id=\"T_dcc60_level3_row4\" class=\"row_heading level3 row4\" >No</th>\n",
       "      <td id=\"T_dcc60_row4_col0\" class=\"data row4 col0\" >3426</td>\n",
       "      <td id=\"T_dcc60_row4_col1\" class=\"data row4 col1\" >40.515058</td>\n",
       "      <td id=\"T_dcc60_row4_col2\" class=\"data row4 col2\" >                7.48 h/dia</td>\n",
       "    </tr>\n",
       "    <tr>\n",
       "      <th id=\"T_dcc60_level3_row5\" class=\"row_heading level3 row5\" >Yes</th>\n",
       "      <td id=\"T_dcc60_row5_col0\" class=\"data row5 col0\" >7678</td>\n",
       "      <td id=\"T_dcc60_row5_col1\" class=\"data row5 col1\" >39.288780</td>\n",
       "      <td id=\"T_dcc60_row5_col2\" class=\"data row5 col2\" >                7.22 h/dia</td>\n",
       "    </tr>\n",
       "    <tr>\n",
       "      <th id=\"T_dcc60_level2_row6\" class=\"row_heading level2 row6\" rowspan=\"2\">Yes</th>\n",
       "      <th id=\"T_dcc60_level3_row6\" class=\"row_heading level3 row6\" >No</th>\n",
       "      <td id=\"T_dcc60_row6_col0\" class=\"data row6 col0\" >196</td>\n",
       "      <td id=\"T_dcc60_row6_col1\" class=\"data row6 col1\" >39.750561</td>\n",
       "      <td id=\"T_dcc60_row6_col2\" class=\"data row6 col2\" >                7.45 h/dia</td>\n",
       "    </tr>\n",
       "    <tr>\n",
       "      <th id=\"T_dcc60_level3_row7\" class=\"row_heading level3 row7\" >Yes</th>\n",
       "      <td id=\"T_dcc60_row7_col0\" class=\"data row7 col0\" >470</td>\n",
       "      <td id=\"T_dcc60_row7_col1\" class=\"data row7 col1\" >39.015043</td>\n",
       "      <td id=\"T_dcc60_row7_col2\" class=\"data row7 col2\" >                7.16 h/dia</td>\n",
       "    </tr>\n",
       "  </tbody>\n",
       "</table>\n"
      ],
      "text/plain": [
       "<pandas.io.formats.style.Styler at 0x25726e24cd0>"
      ]
     },
     "execution_count": 34,
     "metadata": {},
     "output_type": "execute_result"
    }
   ],
   "source": [
    "(df_dc.groupby(['Race','Sex','AlcoholDrinking','PhysicalActivity']) \\\n",
    "                             .agg({'HeartDisease':'count', 'BMI':'mean', 'SleepTime':'mean'})).style \\\n",
    "                             .format({\"HeartDisease\": \"{:20,.0f}\"}) \\\n",
    "                             .format({\"BMI\": \"{:20,.2f}\"}) \\\n",
    "                             .format({\"SleepTime\": \"{:20,.2f} h/dia\"}) \\\n",
    "                             .bar(subset=[\"HeartDisease\"], color='#AABB00')"
   ]
  },
  {
   "cell_type": "markdown",
<<<<<<< Updated upstream
   "id": "f3b33dcc",
=======
   "id": "a5fc1952",
>>>>>>> Stashed changes
   "metadata": {},
   "source": [
    "#### A chance de ter doença com o cenario "
   ]
  },
  {
   "cell_type": "code",
   "execution_count": 35,
<<<<<<< Updated upstream
   "id": "dcbc1d27",
=======
   "id": "23d24051",
>>>>>>> Stashed changes
   "metadata": {
    "ExecuteTime": {
     "end_time": "2022-06-04T22:17:49.752086Z",
     "start_time": "2022-06-04T22:17:49.736083Z"
    }
   },
   "outputs": [
    {
     "name": "stdout",
     "output_type": "stream",
     "text": [
      "Pessoas brancas com o IMC > 35 e que dormem menos de 5 horas por dias tem 12.6 % a mais de chance de ter doença cardíaca.\n"
     ]
    }
   ],
   "source": [
    "x = df_dc['HeartDisease'].value_counts()\n",
    "print(f'Pessoas brancas com o IMC > 35 e que dormem menos de 5 horas por dias tem {round(x[1]/x[0],3) * 100} \\\n",
    "% a mais de chance de ter doença cardíaca.')"
   ]
  },
  {
   "cell_type": "markdown",
<<<<<<< Updated upstream
   "id": "c9ef28da",
=======
   "id": "6627a3dd",
>>>>>>> Stashed changes
   "metadata": {},
   "source": [
    "#### Plotagem dos IMC para brancos "
   ]
  },
  {
   "cell_type": "code",
   "execution_count": 36,
   "id": "9f9a84a2",
   "metadata": {
    "ExecuteTime": {
     "end_time": "2022-06-04T22:17:50.220190Z",
     "start_time": "2022-06-04T22:17:50.099165Z"
    }
   },
   "outputs": [
    {
     "data": {
      "image/png": "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\n",
      "text/plain": [
       "<Figure size 432x288 with 1 Axes>"
      ]
     },
     "metadata": {
      "needs_background": "light"
     },
     "output_type": "display_data"
    }
   ],
   "source": [
    "plt.hist(df_dc['BMI'], bins=15)\n",
    "plt.show()"
   ]
  },
  {
   "cell_type": "code",
   "execution_count": 37,
   "id": "286d792a",
   "metadata": {
    "ExecuteTime": {
     "end_time": "2022-06-04T22:17:50.534261Z",
     "start_time": "2022-06-04T22:17:50.505256Z"
    }
   },
   "outputs": [
    {
     "data": {
      "text/html": [
       "<style type=\"text/css\">\n",
       "#T_80f79_row0_col0, #T_80f79_row1_col1, #T_80f79_row2_col2, #T_80f79_row3_col3 {\n",
       "  background-color: #08306b;\n",
       "  color: #f1f1f1;\n",
       "  color: black;\n",
       "  color: white;\n",
       "}\n",
       "#T_80f79_row0_col1, #T_80f79_row2_col3 {\n",
       "  background-color: #f0f6fd;\n",
       "  color: #000000;\n",
       "  color: black;\n",
       "  color: black;\n",
       "}\n",
       "#T_80f79_row0_col2 {\n",
       "  background-color: #eaf3fb;\n",
       "  color: #000000;\n",
       "  color: black;\n",
       "  color: black;\n",
       "}\n",
       "#T_80f79_row0_col3, #T_80f79_row3_col0 {\n",
       "  background-color: #f7fbff;\n",
       "  color: #000000;\n",
       "  color: red;\n",
       "  color: black;\n",
       "}\n",
       "#T_80f79_row1_col0 {\n",
       "  background-color: #ddeaf7;\n",
       "  color: #000000;\n",
       "  color: black;\n",
       "  color: black;\n",
       "}\n",
       "#T_80f79_row1_col2 {\n",
       "  background-color: #c6dbef;\n",
       "  color: #000000;\n",
       "  color: black;\n",
       "  color: black;\n",
       "}\n",
       "#T_80f79_row1_col3 {\n",
       "  background-color: #e4eff9;\n",
       "  color: #000000;\n",
       "  color: black;\n",
       "  color: black;\n",
       "}\n",
       "#T_80f79_row2_col0 {\n",
       "  background-color: #e3eef9;\n",
       "  color: #000000;\n",
       "  color: black;\n",
       "  color: black;\n",
       "}\n",
       "#T_80f79_row2_col1 {\n",
       "  background-color: #d0e1f2;\n",
       "  color: #000000;\n",
       "  color: black;\n",
       "  color: black;\n",
       "}\n",
       "#T_80f79_row3_col1, #T_80f79_row3_col2 {\n",
       "  background-color: #f7fbff;\n",
       "  color: #000000;\n",
       "  color: black;\n",
       "  color: black;\n",
       "}\n",
       "</style>\n",
       "<table id=\"T_80f79\">\n",
       "  <thead>\n",
       "    <tr>\n",
       "      <th class=\"blank level0\" >&nbsp;</th>\n",
       "      <th id=\"T_80f79_level0_col0\" class=\"col_heading level0 col0\" >BMI</th>\n",
       "      <th id=\"T_80f79_level0_col1\" class=\"col_heading level0 col1\" >PhysicalHealth</th>\n",
       "      <th id=\"T_80f79_level0_col2\" class=\"col_heading level0 col2\" >MentalHealth</th>\n",
       "      <th id=\"T_80f79_level0_col3\" class=\"col_heading level0 col3\" >SleepTime</th>\n",
       "    </tr>\n",
       "  </thead>\n",
       "  <tbody>\n",
       "    <tr>\n",
       "      <th id=\"T_80f79_level0_row0\" class=\"row_heading level0 row0\" >BMI</th>\n",
       "      <td id=\"T_80f79_row0_col0\" class=\"data row0 col0\" >1.000000</td>\n",
       "      <td id=\"T_80f79_row0_col1\" class=\"data row0 col1\" >0.129097</td>\n",
       "      <td id=\"T_80f79_row0_col2\" class=\"data row0 col2\" >0.097481</td>\n",
       "      <td id=\"T_80f79_row0_col3\" class=\"data row0 col3\" >-0.001255</td>\n",
       "    </tr>\n",
       "    <tr>\n",
       "      <th id=\"T_80f79_level0_row1\" class=\"row_heading level0 row1\" >PhysicalHealth</th>\n",
       "      <td id=\"T_80f79_row1_col0\" class=\"data row1 col0\" >0.129097</td>\n",
       "      <td id=\"T_80f79_row1_col1\" class=\"data row1 col1\" >1.000000</td>\n",
       "      <td id=\"T_80f79_row1_col2\" class=\"data row1 col2\" >0.277984</td>\n",
       "      <td id=\"T_80f79_row1_col3\" class=\"data row1 col3\" >0.095873</td>\n",
       "    </tr>\n",
       "    <tr>\n",
       "      <th id=\"T_80f79_level0_row2\" class=\"row_heading level0 row2\" >MentalHealth</th>\n",
       "      <td id=\"T_80f79_row2_col0\" class=\"data row2 col0\" >0.097481</td>\n",
       "      <td id=\"T_80f79_row2_col1\" class=\"data row2 col1\" >0.277984</td>\n",
       "      <td id=\"T_80f79_row2_col2\" class=\"data row2 col2\" >1.000000</td>\n",
       "      <td id=\"T_80f79_row2_col3\" class=\"data row2 col3\" >0.036530</td>\n",
       "    </tr>\n",
       "    <tr>\n",
       "      <th id=\"T_80f79_level0_row3\" class=\"row_heading level0 row3\" >SleepTime</th>\n",
       "      <td id=\"T_80f79_row3_col0\" class=\"data row3 col0\" >-0.001255</td>\n",
       "      <td id=\"T_80f79_row3_col1\" class=\"data row3 col1\" >0.095873</td>\n",
       "      <td id=\"T_80f79_row3_col2\" class=\"data row3 col2\" >0.036530</td>\n",
       "      <td id=\"T_80f79_row3_col3\" class=\"data row3 col3\" >1.000000</td>\n",
       "    </tr>\n",
       "  </tbody>\n",
       "</table>\n"
      ],
      "text/plain": [
       "<pandas.io.formats.style.Styler at 0x25726e05960>"
      ]
     },
     "execution_count": 37,
     "metadata": {},
     "output_type": "execute_result"
    }
   ],
   "source": [
    "df_dc.drop(columns='HeartDisease').corr(method='pearson').style.background_gradient(cmap='Blues') \\\n",
    "                                  .applymap(lambda x: f\"color: {'red' if x <= 0 else 'black'}\")\\\n",
    "                                  .applymap(lambda x: f\"color: {'white' if x == 1 else 'black'}\")"
   ]
  },
  {
   "cell_type": "markdown",
   "id": "defbfe11",
   "metadata": {},
   "source": [
    "#### Describe apenas para numericas "
   ]
  },
  {
   "cell_type": "code",
   "execution_count": 38,
   "id": "8eabe216",
   "metadata": {
    "ExecuteTime": {
     "end_time": "2022-06-04T22:17:50.894340Z",
     "start_time": "2022-06-04T22:17:50.864337Z"
    }
   },
   "outputs": [
    {
     "data": {
      "text/html": [
       "<div>\n",
       "<style scoped>\n",
       "    .dataframe tbody tr th:only-of-type {\n",
       "        vertical-align: middle;\n",
       "    }\n",
       "\n",
       "    .dataframe tbody tr th {\n",
       "        vertical-align: top;\n",
       "    }\n",
       "\n",
       "    .dataframe thead th {\n",
       "        text-align: right;\n",
       "    }\n",
       "</style>\n",
       "<table border=\"1\" class=\"dataframe\">\n",
       "  <thead>\n",
       "    <tr style=\"text-align: right;\">\n",
       "      <th></th>\n",
       "      <th>HeartDisease</th>\n",
       "      <th>BMI</th>\n",
       "      <th>PhysicalHealth</th>\n",
       "      <th>MentalHealth</th>\n",
       "      <th>SleepTime</th>\n",
       "    </tr>\n",
       "  </thead>\n",
       "  <tbody>\n",
       "    <tr>\n",
       "      <th>count</th>\n",
       "      <td>26121.000000</td>\n",
       "      <td>26121.000000</td>\n",
       "      <td>26121.000000</td>\n",
       "      <td>26121.000000</td>\n",
       "      <td>26121.000000</td>\n",
       "    </tr>\n",
       "    <tr>\n",
       "      <th>mean</th>\n",
       "      <td>0.111596</td>\n",
       "      <td>40.139791</td>\n",
       "      <td>4.964396</td>\n",
       "      <td>4.826079</td>\n",
       "      <td>7.349259</td>\n",
       "    </tr>\n",
       "    <tr>\n",
       "      <th>std</th>\n",
       "      <td>0.314875</td>\n",
       "      <td>5.139765</td>\n",
       "      <td>9.395922</td>\n",
       "      <td>8.683328</td>\n",
       "      <td>1.297906</td>\n",
       "    </tr>\n",
       "    <tr>\n",
       "      <th>min</th>\n",
       "      <td>0.000000</td>\n",
       "      <td>35.010000</td>\n",
       "      <td>0.000000</td>\n",
       "      <td>0.000000</td>\n",
       "      <td>6.000000</td>\n",
       "    </tr>\n",
       "    <tr>\n",
       "      <th>25%</th>\n",
       "      <td>0.000000</td>\n",
       "      <td>36.580000</td>\n",
       "      <td>0.000000</td>\n",
       "      <td>0.000000</td>\n",
       "      <td>6.000000</td>\n",
       "    </tr>\n",
       "    <tr>\n",
       "      <th>50%</th>\n",
       "      <td>0.000000</td>\n",
       "      <td>38.620000</td>\n",
       "      <td>0.000000</td>\n",
       "      <td>0.000000</td>\n",
       "      <td>7.000000</td>\n",
       "    </tr>\n",
       "    <tr>\n",
       "      <th>75%</th>\n",
       "      <td>0.000000</td>\n",
       "      <td>42.050000</td>\n",
       "      <td>4.000000</td>\n",
       "      <td>5.000000</td>\n",
       "      <td>8.000000</td>\n",
       "    </tr>\n",
       "    <tr>\n",
       "      <th>max</th>\n",
       "      <td>1.000000</td>\n",
       "      <td>94.850000</td>\n",
       "      <td>30.000000</td>\n",
       "      <td>30.000000</td>\n",
       "      <td>24.000000</td>\n",
       "    </tr>\n",
       "  </tbody>\n",
       "</table>\n",
       "</div>"
      ],
      "text/plain": [
       "       HeartDisease           BMI  PhysicalHealth  MentalHealth     SleepTime\n",
       "count  26121.000000  26121.000000    26121.000000  26121.000000  26121.000000\n",
       "mean       0.111596     40.139791        4.964396      4.826079      7.349259\n",
       "std        0.314875      5.139765        9.395922      8.683328      1.297906\n",
       "min        0.000000     35.010000        0.000000      0.000000      6.000000\n",
       "25%        0.000000     36.580000        0.000000      0.000000      6.000000\n",
       "50%        0.000000     38.620000        0.000000      0.000000      7.000000\n",
       "75%        0.000000     42.050000        4.000000      5.000000      8.000000\n",
       "max        1.000000     94.850000       30.000000     30.000000     24.000000"
      ]
     },
     "execution_count": 38,
     "metadata": {},
     "output_type": "execute_result"
    }
   ],
   "source": [
    "df_dc.describe(include=[np.number])"
   ]
  },
  {
   "cell_type": "markdown",
   "id": "4159d4c6",
   "metadata": {},
   "source": [
    "#### Dummyzation "
   ]
  },
  {
   "cell_type": "code",
   "execution_count": 39,
   "id": "155596bd",
   "metadata": {
    "ExecuteTime": {
     "end_time": "2022-06-04T22:17:51.253421Z",
     "start_time": "2022-06-04T22:17:51.235419Z"
    }
   },
   "outputs": [],
   "source": [
    "df_1 = df.copy() #df[(df['BMI'] > 20)  & (df['SleepTime'] < 6)]"
   ]
  },
  {
   "cell_type": "code",
   "execution_count": 40,
   "id": "46ab2f7f",
   "metadata": {
    "ExecuteTime": {
     "end_time": "2022-06-04T22:17:51.582495Z",
     "start_time": "2022-06-04T22:17:51.568491Z"
    }
   },
   "outputs": [],
   "source": [
    "#df_1.groupby(['Race','Sex','AlcoholDrinking','PhysicalActivity', 'HeartDisease']).agg({'HeartDisease':'count'})"
   ]
  },
  {
   "cell_type": "code",
   "execution_count": 41,
   "id": "291e179a",
   "metadata": {
    "ExecuteTime": {
     "end_time": "2022-06-04T22:17:52.148622Z",
     "start_time": "2022-06-04T22:17:51.866559Z"
    }
   },
   "outputs": [],
   "source": [
    "df_ = pd.get_dummies(df_1, columns=['Smoking', 'AlcoholDrinking', 'Stroke',\n",
    "       'DiffWalking', 'Sex', 'AgeCategory', 'Race', 'Diabetic', 'PhysicalActivity', 'GenHealth',\n",
    "       'Asthma', 'KidneyDisease', 'SkinCancer']) "
   ]
  },
  {
   "cell_type": "code",
   "execution_count": 42,
   "id": "58f19127",
   "metadata": {
    "ExecuteTime": {
     "end_time": "2022-06-04T22:17:52.511702Z",
     "start_time": "2022-06-04T22:17:52.465693Z"
    }
   },
   "outputs": [
    {
     "name": "stdout",
     "output_type": "stream",
     "text": [
      "<class 'pandas.core.frame.DataFrame'>\n",
      "RangeIndex: 319795 entries, 0 to 319794\n",
      "Data columns (total 51 columns):\n",
      " #   Column                               Non-Null Count   Dtype  \n",
      "---  ------                               --------------   -----  \n",
      " 0   HeartDisease                         319795 non-null  int64  \n",
      " 1   BMI                                  319795 non-null  float64\n",
      " 2   PhysicalHealth                       319795 non-null  float64\n",
      " 3   MentalHealth                         319795 non-null  float64\n",
      " 4   SleepTime                            319795 non-null  float64\n",
      " 5   Smoking_No                           319795 non-null  uint8  \n",
      " 6   Smoking_Yes                          319795 non-null  uint8  \n",
      " 7   AlcoholDrinking_No                   319795 non-null  uint8  \n",
      " 8   AlcoholDrinking_Yes                  319795 non-null  uint8  \n",
      " 9   Stroke_No                            319795 non-null  uint8  \n",
      " 10  Stroke_Yes                           319795 non-null  uint8  \n",
      " 11  DiffWalking_No                       319795 non-null  uint8  \n",
      " 12  DiffWalking_Yes                      319795 non-null  uint8  \n",
      " 13  Sex_Female                           319795 non-null  uint8  \n",
      " 14  Sex_Male                             319795 non-null  uint8  \n",
      " 15  AgeCategory_18-24                    319795 non-null  uint8  \n",
      " 16  AgeCategory_25-29                    319795 non-null  uint8  \n",
      " 17  AgeCategory_30-34                    319795 non-null  uint8  \n",
      " 18  AgeCategory_35-39                    319795 non-null  uint8  \n",
      " 19  AgeCategory_40-44                    319795 non-null  uint8  \n",
      " 20  AgeCategory_45-49                    319795 non-null  uint8  \n",
      " 21  AgeCategory_50-54                    319795 non-null  uint8  \n",
      " 22  AgeCategory_55-59                    319795 non-null  uint8  \n",
      " 23  AgeCategory_60-64                    319795 non-null  uint8  \n",
      " 24  AgeCategory_65-69                    319795 non-null  uint8  \n",
      " 25  AgeCategory_70-74                    319795 non-null  uint8  \n",
      " 26  AgeCategory_75-79                    319795 non-null  uint8  \n",
      " 27  AgeCategory_gt80                     319795 non-null  uint8  \n",
      " 28  Race_American Indian/Alaskan Native  319795 non-null  uint8  \n",
      " 29  Race_Asian                           319795 non-null  uint8  \n",
      " 30  Race_Black                           319795 non-null  uint8  \n",
      " 31  Race_Hispanic                        319795 non-null  uint8  \n",
      " 32  Race_Other                           319795 non-null  uint8  \n",
      " 33  Race_White                           319795 non-null  uint8  \n",
      " 34  Diabetic_No                          319795 non-null  uint8  \n",
      " 35  Diabetic_No, borderline diabetes     319795 non-null  uint8  \n",
      " 36  Diabetic_Yes                         319795 non-null  uint8  \n",
      " 37  Diabetic_ydp                         319795 non-null  uint8  \n",
      " 38  PhysicalActivity_No                  319795 non-null  uint8  \n",
      " 39  PhysicalActivity_Yes                 319795 non-null  uint8  \n",
      " 40  GenHealth_Excellent                  319795 non-null  uint8  \n",
      " 41  GenHealth_Fair                       319795 non-null  uint8  \n",
      " 42  GenHealth_Good                       319795 non-null  uint8  \n",
      " 43  GenHealth_Poor                       319795 non-null  uint8  \n",
      " 44  GenHealth_VeryGood                   319795 non-null  uint8  \n",
      " 45  Asthma_No                            319795 non-null  uint8  \n",
      " 46  Asthma_Yes                           319795 non-null  uint8  \n",
      " 47  KidneyDisease_No                     319795 non-null  uint8  \n",
      " 48  KidneyDisease_Yes                    319795 non-null  uint8  \n",
      " 49  SkinCancer_No                        319795 non-null  uint8  \n",
      " 50  SkinCancer_Yes                       319795 non-null  uint8  \n",
      "dtypes: float64(4), int64(1), uint8(46)\n",
      "memory usage: 26.2 MB\n"
     ]
    }
   ],
   "source": [
    "df_.info(memory_usage=\"deep\")"
   ]
  },
  {
   "cell_type": "code",
   "execution_count": 43,
   "id": "ff0c37af",
   "metadata": {
    "ExecuteTime": {
     "end_time": "2022-06-04T22:17:52.952801Z",
     "start_time": "2022-06-04T22:17:52.828776Z"
    }
   },
   "outputs": [
    {
     "data": {
      "image/png": "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\n",
      "text/plain": [
       "<Figure size 432x288 with 1 Axes>"
      ]
     },
     "metadata": {
      "needs_background": "light"
     },
     "output_type": "display_data"
    }
   ],
   "source": [
    "plt.hist(df_.HeartDisease)\n",
    "plt.show()"
   ]
  },
  {
   "cell_type": "code",
   "execution_count": 44,
   "id": "7bfd0038",
   "metadata": {
    "ExecuteTime": {
     "end_time": "2022-06-04T22:17:53.255869Z",
     "start_time": "2022-06-04T22:17:53.240867Z"
    }
   },
   "outputs": [],
   "source": [
    "#df_.columns"
   ]
  },
  {
   "cell_type": "markdown",
   "id": "a529416e",
   "metadata": {},
   "source": [
    "# Análises nos dados "
   ]
  },
  {
   "cell_type": "markdown",
   "id": "11362959",
   "metadata": {},
   "source": [
    "### Stats Models para escolher variaveis"
   ]
  },
  {
   "cell_type": "code",
   "execution_count": 45,
   "id": "cc97dc10",
   "metadata": {
    "ExecuteTime": {
     "end_time": "2022-06-04T22:17:54.079052Z",
     "start_time": "2022-06-04T22:17:53.574940Z"
    }
   },
   "outputs": [],
   "source": [
    "import statsmodels.api as sm\n",
    "from patsy import dmatrices, dmatrix, demo_data"
   ]
  },
  {
   "cell_type": "markdown",
   "id": "a98940a1",
   "metadata": {},
   "source": [
    "#### Escolha de variáveis "
   ]
  },
  {
   "cell_type": "code",
   "execution_count": 46,
   "id": "6b65ee2b",
   "metadata": {
    "ExecuteTime": {
     "end_time": "2022-06-04T22:17:54.413127Z",
     "start_time": "2022-06-04T22:17:54.400126Z"
    }
   },
   "outputs": [],
   "source": [
    "variaveis = 'HeartDisease ~  BMI + PhysicalHealth + MentalHealth + SleepTime + Smoking_No + \\\n",
    " AlcoholDrinking_No +  AlcoholDrinking_Yes +  Stroke_No +  Stroke_Yes +  DiffWalking_No +  DiffWalking_Yes + \\\n",
    " Q(\"Race_American Indian/Alaskan Native\") + Race_White + Race_Asian +  Race_Black +  Race_Hispanic +  Race_Other + \\\n",
    " Sex_Female +  Sex_Male +  Q(\"AgeCategory_18-24\") +  Q(\"AgeCategory_25-29\") +  Q(\"AgeCategory_30-34\") +  Q(\"AgeCategory_35-39\") + \\\n",
    " Q(\"AgeCategory_40-44\") +  Q(\"AgeCategory_45-49\") +  Q(\"AgeCategory_50-54\") +  Q(\"AgeCategory_55-59\") +  Q(\"AgeCategory_60-64\") + \\\n",
    " Q(\"AgeCategory_65-69\") +  Q(\"AgeCategory_70-74\") +  Q(\"AgeCategory_75-79\") +  AgeCategory_gt80 + \\\n",
    " Diabetic_Yes +  PhysicalActivity_No +  PhysicalActivity_Yes +  GenHealth_Excellent +  GenHealth_Fair + \\\n",
    " GenHealth_Poor +  GenHealth_VeryGood +  Asthma_No +  Asthma_Yes +  KidneyDisease_No +  KidneyDisease_Yes + \\\n",
    " SkinCancer_No +  SkinCancer_Yes'\n",
    "\n",
    "\n",
    "# Q(\"Race_American Indian/Alaskan Native\") + \\  Race_Asian +  Race_Black +  Race_Hispanic +  Race_Other + "
   ]
  },
  {
   "cell_type": "markdown",
   "id": "75fef072",
   "metadata": {},
   "source": [
    "#### Avaliando os Betas "
   ]
  },
  {
   "cell_type": "code",
   "execution_count": 47,
   "id": "a4a68f4e",
   "metadata": {
    "ExecuteTime": {
     "end_time": "2022-06-04T22:17:55.190301Z",
     "start_time": "2022-06-04T22:17:54.746202Z"
    }
   },
   "outputs": [],
   "source": [
    "y_treino, X_treino = dmatrices(variaveis, \n",
    "                 data=df_, return_type='dataframe')"
   ]
  },
  {
   "cell_type": "code",
   "execution_count": 48,
   "id": "2014bdb8",
   "metadata": {
    "ExecuteTime": {
     "end_time": "2022-06-04T22:18:04.434369Z",
     "start_time": "2022-06-04T22:17:55.585391Z"
    }
   },
   "outputs": [
    {
     "name": "stdout",
     "output_type": "stream",
     "text": [
      "                            Results: Generalized linear model\n",
      "=========================================================================================\n",
      "Model:                       GLM                     AIC:                   145232.2431  \n",
      "Link Function:               Logit                   BIC:                   -3907924.3192\n",
      "Dependent Variable:          HeartDisease            Log-Likelihood:        -72580.      \n",
      "Date:                        2022-06-04 19:18        LL-Null:               -93453.      \n",
      "No. Observations:            319795                  Deviance:              1.4516e+05   \n",
      "Df Model:                    35                      Pearson chi2:          3.04e+05     \n",
      "Df Residuals:                319759                  Scale:                 1.0000       \n",
      "Method:                      IRLS                                                        \n",
      "-----------------------------------------------------------------------------------------\n",
      "                                          Coef.  Std.Err.    z     P>|z|   [0.025  0.975]\n",
      "-----------------------------------------------------------------------------------------\n",
      "Intercept                                -0.4092   0.0107 -38.1251 0.0000 -0.4302 -0.3881\n",
      "BMI                                       0.0087   0.0011   7.6120 0.0000  0.0065  0.0109\n",
      "PhysicalHealth                            0.0032   0.0009   3.6618 0.0003  0.0015  0.0049\n",
      "MentalHealth                              0.0048   0.0009   5.3841 0.0000  0.0030  0.0065\n",
      "SleepTime                                -0.0252   0.0043  -5.8065 0.0000 -0.0337 -0.0167\n",
      "Smoking_No                               -0.3563   0.0144 -24.7912 0.0000 -0.3845 -0.3281\n",
      "AlcoholDrinking_No                       -0.0840   0.0163  -5.1563 0.0000 -0.1159 -0.0521\n",
      "AlcoholDrinking_Yes                      -0.3252   0.0188 -17.2766 0.0000 -0.3620 -0.2883\n",
      "Stroke_No                                -0.7282   0.0118 -61.6808 0.0000 -0.7513 -0.7050\n",
      "Stroke_Yes                                0.3190   0.0132  24.1593 0.0000  0.2931  0.3449\n",
      "DiffWalking_No                           -0.3111   0.0098 -31.7377 0.0000 -0.3303 -0.2919\n",
      "DiffWalking_Yes                          -0.0981   0.0112  -8.7292 0.0000 -0.1201 -0.0760\n",
      "Q(\"Race_American Indian/Alaskan Native\")  0.1439   0.0450   3.2006 0.0014  0.0558  0.2321\n",
      "Race_White                                0.0639   0.0180   3.5389 0.0004  0.0285  0.0993\n",
      "Race_Asian                               -0.3882   0.0574  -6.7575 0.0000 -0.5008 -0.2756\n",
      "Race_Black                               -0.2026   0.0281  -7.2200 0.0000 -0.2576 -0.1476\n",
      "Race_Hispanic                            -0.1102   0.0294  -3.7444 0.0002 -0.1679 -0.0525\n",
      "Race_Other                                0.0840   0.0360   2.3322 0.0197  0.0134  0.1546\n",
      "Sex_Female                               -0.5582   0.0091 -61.4009 0.0000 -0.5760 -0.5404\n",
      "Sex_Male                                  0.1490   0.0090  16.6179 0.0000  0.1315  0.1666\n",
      "Q(\"AgeCategory_18-24\")                   -1.6369   0.0827 -19.8048 0.0000 -1.7989 -1.4749\n",
      "Q(\"AgeCategory_25-29\")                   -1.5102   0.0817 -18.4744 0.0000 -1.6704 -1.3500\n",
      "Q(\"AgeCategory_30-34\")                   -1.1496   0.0636 -18.0762 0.0000 -1.2742 -1.0249\n",
      "Q(\"AgeCategory_35-39\")                   -1.0400   0.0562 -18.5178 0.0000 -1.1500 -0.9299\n",
      "Q(\"AgeCategory_40-44\")                   -0.6388   0.0452 -14.1487 0.0000 -0.7273 -0.5503\n",
      "Q(\"AgeCategory_45-49\")                   -0.3157   0.0378  -8.3508 0.0000 -0.3898 -0.2416\n",
      "Q(\"AgeCategory_50-54\")                    0.0933   0.0297   3.1389 0.0017  0.0350  0.1516\n",
      "Q(\"AgeCategory_55-59\")                    0.3313   0.0253  13.0918 0.0000  0.2817  0.3809\n",
      "Q(\"AgeCategory_60-64\")                    0.5937   0.0224  26.5250 0.0000  0.5499  0.6376\n",
      "Q(\"AgeCategory_65-69\")                    0.8358   0.0213  39.2293 0.0000  0.7940  0.8776\n",
      "Q(\"AgeCategory_70-74\")                    1.1221   0.0209  53.6644 0.0000  1.0811  1.1631\n",
      "Q(\"AgeCategory_75-79\")                    1.3240   0.0227  58.3382 0.0000  1.2795  1.3684\n",
      "AgeCategory_gt80                          1.5817   0.0220  71.9788 0.0000  1.5387  1.6248\n",
      "Diabetic_Yes                              0.4698   0.0166  28.3538 0.0000  0.4373  0.5023\n",
      "PhysicalActivity_No                      -0.2146   0.0102 -21.1265 0.0000 -0.2346 -0.1947\n",
      "PhysicalActivity_Yes                     -0.1945   0.0091 -21.2885 0.0000 -0.2124 -0.1766\n",
      "GenHealth_Excellent                      -1.0480   0.0296 -35.4251 0.0000 -1.1059 -0.9900\n",
      "GenHealth_Fair                            0.4744   0.0200  23.6709 0.0000  0.4351  0.5137\n",
      "GenHealth_Poor                            0.8544   0.0307  27.8746 0.0000  0.7943  0.9145\n",
      "GenHealth_VeryGood                       -0.5754   0.0188 -30.6062 0.0000 -0.6123 -0.5386\n",
      "Asthma_No                                -0.3438   0.0104 -32.9211 0.0000 -0.3643 -0.3233\n",
      "Asthma_Yes                               -0.0654   0.0115  -5.6631 0.0000 -0.0880 -0.0427\n",
      "KidneyDisease_No                         -0.4888   0.0123 -39.7708 0.0000 -0.5129 -0.4647\n",
      "KidneyDisease_Yes                         0.0796   0.0143   5.5701 0.0000  0.0516  0.1076\n",
      "SkinCancer_No                            -0.2618   0.0104 -25.1982 0.0000 -0.2821 -0.2414\n",
      "SkinCancer_Yes                           -0.1474   0.0118 -12.4645 0.0000 -0.1706 -0.1242\n",
      "=========================================================================================\n",
      "\n"
     ]
    }
   ],
   "source": [
    "X_treino.exog = sm.add_constant(X_treino)\n",
    "logit_mod = sm.GLM(y_treino, X_treino, family=sm.families.Binomial())\n",
    "logit_res = logit_mod.fit()\n",
    "print(logit_res.summary2())"
   ]
  },
  {
   "cell_type": "markdown",
   "id": "f980cfc4",
   "metadata": {},
   "source": [
    "### Definindo o dataset final"
   ]
  },
  {
   "cell_type": "code",
   "execution_count": 49,
   "id": "f5155d0e",
   "metadata": {
    "ExecuteTime": {
     "end_time": "2022-06-04T22:18:08.823604Z",
     "start_time": "2022-06-04T22:18:08.811602Z"
    }
   },
   "outputs": [],
   "source": [
    "#X_treino.columns"
   ]
  },
  {
   "cell_type": "markdown",
   "id": "540fc9d2",
   "metadata": {},
   "source": [
    "#### Definindo variáveis explicativas "
   ]
  },
  {
   "cell_type": "code",
   "execution_count": 50,
   "id": "01f2525b",
   "metadata": {
    "ExecuteTime": {
     "end_time": "2022-06-04T22:18:09.348723Z",
     "start_time": "2022-06-04T22:18:09.315715Z"
    }
   },
   "outputs": [],
   "source": [
    "data = df_.loc[:, ['BMI', 'PhysicalHealth', 'MentalHealth', 'SleepTime',\n",
    "       'Smoking_No', 'AlcoholDrinking_No', 'AlcoholDrinking_Yes', 'Stroke_No',\n",
    "       'Stroke_Yes', 'DiffWalking_No', 'DiffWalking_Yes', 'Sex_Female',\n",
    "       'Sex_Male', 'AgeCategory_18-24', 'AgeCategory_25-29',\n",
    "       'AgeCategory_30-34', 'AgeCategory_35-39', 'Race_American Indian/Alaskan Native', 'Race_Asian', 'Race_Black',\n",
    "       'Race_Hispanic', 'Race_Other', 'Race_White', \n",
    "       'AgeCategory_40-44', 'AgeCategory_45-49',\n",
    "       'AgeCategory_50-54', 'AgeCategory_55-59',\n",
    "       'AgeCategory_60-64', 'AgeCategory_65-69',\n",
    "       'AgeCategory_70-74', 'AgeCategory_75-79', 'AgeCategory_gt80',\n",
    "       'Diabetic_Yes',\n",
    "       'PhysicalActivity_No', 'PhysicalActivity_Yes', 'GenHealth_Excellent',\n",
    "       'GenHealth_Fair', 'GenHealth_Poor', 'GenHealth_VeryGood', 'Asthma_No',\n",
    "       'Asthma_Yes', 'KidneyDisease_No', 'KidneyDisease_Yes', 'SkinCancer_No',\n",
    "       'SkinCancer_Yes']]\n",
    "\n",
    "# 'Race_American Indian/Alaskan Native', 'Race_Asian', 'Race_Black',\n",
    "# 'Race_Hispanic', 'Race_Other', 'Race_White', "
   ]
  },
  {
   "cell_type": "markdown",
   "id": "a1077747",
   "metadata": {},
   "source": [
    "#### Definindo variável alvo "
   ]
  },
  {
   "cell_type": "code",
   "execution_count": 51,
   "id": "4a907354",
   "metadata": {
    "ExecuteTime": {
     "end_time": "2022-06-04T22:18:10.333942Z",
     "start_time": "2022-06-04T22:18:10.317938Z"
    }
   },
   "outputs": [],
   "source": [
    "target = df_['HeartDisease']"
   ]
  },
  {
   "cell_type": "markdown",
   "id": "435cb2fc",
   "metadata": {},
   "source": [
    "#### Transformando em arrays numpy "
   ]
  },
  {
   "cell_type": "code",
   "execution_count": 52,
   "id": "aa78ab72",
   "metadata": {
    "ExecuteTime": {
     "end_time": "2022-06-04T22:18:10.762039Z",
     "start_time": "2022-06-04T22:18:10.732031Z"
    }
   },
   "outputs": [],
   "source": [
    "data = np.asarray(data)\n",
    "target = np.asarray(target)"
   ]
  },
  {
   "cell_type": "markdown",
   "id": "2f52cc40",
   "metadata": {},
   "source": [
    "#### Split em treino, teste e validacao"
   ]
  },
  {
   "cell_type": "code",
   "execution_count": 53,
   "id": "50ee0705",
   "metadata": {
    "ExecuteTime": {
     "end_time": "2022-06-04T22:18:12.073542Z",
     "start_time": "2022-06-04T22:18:11.741257Z"
    }
   },
   "outputs": [],
   "source": [
    "X_train_full, X_test, y_train_full, y_test = train_test_split(data, target,  random_state=42)\n",
    "X_train, X_valid, y_train, y_valid = train_test_split(X_train_full, y_train_full, random_state=42)"
   ]
  },
  {
   "cell_type": "markdown",
   "id": "cb698656",
   "metadata": {},
   "source": [
    "#### Padronização de valores  "
   ]
  },
  {
   "cell_type": "code",
   "execution_count": 54,
   "id": "f38d54d8",
   "metadata": {
    "ExecuteTime": {
     "end_time": "2022-06-04T22:18:12.609642Z",
     "start_time": "2022-06-04T22:18:12.451610Z"
    }
   },
   "outputs": [],
   "source": [
    "scaler = StandardScaler()\n",
    "X_train = scaler.fit_transform(X_train)\n",
    "X_valid = scaler.transform(X_valid)\n",
    "X_test = scaler.transform(X_test)"
   ]
  },
  {
   "cell_type": "markdown",
   "id": "7c865c29",
   "metadata": {},
   "source": [
    "# O modelo e hiperparâmetros"
   ]
  },
  {
   "cell_type": "markdown",
   "id": "6e80f8d4",
   "metadata": {},
   "source": [
    "### Definindo as camadas de entrada e ocultas "
   ]
  },
  {
   "cell_type": "markdown",
   "id": "34ae1833",
   "metadata": {},
   "source": [
    "#### Definição da funcao de ativacao Sigmoid e o build com o shape na entrada"
   ]
  },
  {
   "cell_type": "code",
   "execution_count": 55,
   "id": "e8fa27e0",
   "metadata": {
    "ExecuteTime": {
     "end_time": "2022-06-04T22:18:13.412820Z",
     "start_time": "2022-06-04T22:18:13.406820Z"
    }
   },
   "outputs": [
    {
     "data": {
      "text/plain": [
       "'model = keras.models.Sequential([\\n    keras.layers.Flatten(input_shape=X_train.shape[1:]),\\n    keras.layers.Dense(100, activation=\"relu\"),\\n    keras.layers.Dense(50, activation=\"relu\", name=\"oculta1\"),\\n    keras.layers.Dense(50, activation=\"relu\", name=\"oculta2\"),\\n    keras.layers.Dense(50, activation=\"relu\", name=\"oculta3\"),\\n    keras.layers.Dense(1, activation=\"sigmoid\")\\n])'"
      ]
     },
     "execution_count": 55,
     "metadata": {},
     "output_type": "execute_result"
    }
   ],
   "source": [
    "\"\"\"model = keras.models.Sequential([\n",
    "    keras.layers.Flatten(input_shape=X_train.shape[1:]),\n",
    "    keras.layers.Dense(100, activation=\"relu\"),\n",
    "    keras.layers.Dense(50, activation=\"relu\", name=\"oculta1\"),\n",
    "    keras.layers.Dense(50, activation=\"relu\", name=\"oculta2\"),\n",
    "    keras.layers.Dense(50, activation=\"relu\", name=\"oculta3\"),\n",
    "    keras.layers.Dense(1, activation=\"sigmoid\")\n",
    "])\"\"\""
   ]
  },
  {
   "cell_type": "code",
   "execution_count": 56,
   "id": "becb668c",
   "metadata": {
    "ExecuteTime": {
     "end_time": "2022-06-04T22:18:14.298039Z",
     "start_time": "2022-06-04T22:18:13.824914Z"
    }
   },
   "outputs": [],
   "source": [
    "kl = keras.layers\n",
    "input_ = kl.Input(shape=X_train.shape[1:]) #qtd vars\n",
    "hidden1 = kl.Dense(30, activation=\"relu\")(input_)\n",
    "hidden2 = kl.Dense(30, activation=\"relu\")(hidden1)\n",
    "hidden3 = kl.Dense(30, activation=\"relu\")(hidden2)\n",
    "hidden4 = kl.Dense(30, activation=\"relu\")(hidden3)\n",
    "concat = kl.Concatenate()([input_, hidden4])\n",
    "output = kl.Dense(1, activation=\"sigmoid\")(concat)\n",
    "model = keras.Model(inputs=[input_], outputs=[output])"
   ]
  },
  {
   "cell_type": "markdown",
   "id": "e43b4f12",
   "metadata": {
    "ExecuteTime": {
     "end_time": "2022-04-29T14:24:44.600398Z",
     "start_time": "2022-04-29T14:24:44.585337Z"
    }
   },
   "source": [
    "#### Criando metricas para a regressao logit e definição de Cutoff"
   ]
  },
  {
   "cell_type": "code",
   "execution_count": 59,
   "id": "7c4fbd7e",
   "metadata": {
    "ExecuteTime": {
     "end_time": "2022-06-04T22:18:22.812925Z",
     "start_time": "2022-06-04T22:18:22.796920Z"
    }
   },
   "outputs": [],
   "source": [
    "#tf.keras.metrics.FalseNegatives?"
   ]
  },
  {
   "cell_type": "code",
   "execution_count": 61,
   "id": "0439a2de",
   "metadata": {
    "ExecuteTime": {
     "end_time": "2022-06-04T22:18:34.398612Z",
     "start_time": "2022-06-04T22:18:34.375601Z"
    }
   },
   "outputs": [
    {
     "data": {
      "text/plain": [
       "<keras.metrics.metrics.FalseNegatives at 0x2572bf64df0>"
      ]
     },
     "execution_count": 61,
     "metadata": {},
     "output_type": "execute_result"
    }
   ],
   "source": [
    "tf.keras.metrics.BinaryAccuracy(\n",
    "    name=\"binary_accuracy\", threshold=0.5\n",
    ")\n",
    "\n",
    "tf.keras.metrics.FalseNegatives(\n",
    "    name=\"false_negatives\", thresholds=0.5    \n",
    ")"
   ]
  },
  {
   "cell_type": "markdown",
   "id": "72c4001e",
   "metadata": {},
   "source": [
    "#### Compilando o modelo "
   ]
  },
  {
   "cell_type": "code",
   "execution_count": 62,
   "id": "c7e29c61",
   "metadata": {
    "ExecuteTime": {
     "end_time": "2022-06-04T22:18:35.147774Z",
     "start_time": "2022-06-04T22:18:35.143779Z"
    }
   },
   "outputs": [],
   "source": [
    "#model.compile?"
   ]
  },
  {
   "cell_type": "code",
   "execution_count": 63,
   "id": "64c59c8a",
   "metadata": {
    "ExecuteTime": {
     "end_time": "2022-06-04T22:18:37.405291Z",
     "start_time": "2022-06-04T22:18:36.139995Z"
    }
   },
   "outputs": [],
   "source": [
    "model.compile(loss=\"binary_crossentropy\", optimizer=tf.keras.optimizers.Adam(learning_rate=1e-3), \n",
    "              metrics=[tf.keras.metrics.BinaryAccuracy(), \n",
    "                       tf.keras.metrics.FalseNegatives()])"
   ]
  },
  {
   "cell_type": "markdown",
   "id": "e5d2e55f",
   "metadata": {},
   "source": [
    "#### Definição do diretorio do tensorboard"
   ]
  },
  {
   "cell_type": "code",
   "execution_count": 64,
   "id": "9c559fd0",
   "metadata": {
    "ExecuteTime": {
     "end_time": "2022-06-04T22:18:42.269499Z",
     "start_time": "2022-06-04T22:18:42.253497Z"
    }
   },
   "outputs": [],
   "source": [
    "root_logdir = os.path.join(os.curdir, \"my_logs_hd\")\n",
    "def get_run_logdir():\n",
    "    import time\n",
    "    run_id = time.strftime(\"run_%Y_%m_%d-%H_%M_%S\")\n",
    "    return os.path.join(root_logdir, run_id)\n",
    "\n",
    "root_logdir = get_run_logdir()"
   ]
  },
  {
   "cell_type": "markdown",
   "id": "17d6df2d",
   "metadata": {},
   "source": [
    "#### Funções Callback para parada acidental, parada com loss sem alteracao, gravação no tensorboard"
   ]
  },
  {
   "cell_type": "code",
   "execution_count": 65,
   "id": "e347ebc8",
   "metadata": {
    "ExecuteTime": {
     "end_time": "2022-06-04T22:18:47.699592Z",
     "start_time": "2022-06-04T22:18:47.690606Z"
    }
   },
   "outputs": [],
   "source": [
    "checkpoint_cb = keras.callbacks.ModelCheckpoint(\"modelo10_heart_disease.h5\", save_best_only=True)\n",
    "early_stopping_cb = keras.callbacks.EarlyStopping(patience=10, restore_best_weights=True)\n",
    "tensorboad_cb = keras.callbacks.TensorBoard(root_logdir)"
   ]
  },
  {
   "cell_type": "markdown",
   "id": "7ae5029a",
   "metadata": {},
   "source": [
    "#### Fitando o modelo "
   ]
  },
  {
   "cell_type": "code",
   "execution_count": 66,
   "id": "29f0d39c",
   "metadata": {
    "ExecuteTime": {
<<<<<<< Updated upstream
     "end_time": "2022-06-05T02:05:54.857537Z",
     "start_time": "2022-06-04T22:18:57.213729Z"
=======
     "start_time": "2022-06-04T22:18:57.211Z"
>>>>>>> Stashed changes
    },
    "scrolled": true
   },
   "outputs": [
    {
     "name": "stdout",
     "output_type": "stream",
     "text": [
<<<<<<< Updated upstream
      "Epoch 1/100\n",
      "59962/59962 - 1069s - loss: 0.2306 - binary_accuracy: 0.9150 - false_negatives: 13827.0000 - val_loss: 0.2287 - val_binary_accuracy: 0.9164 - val_false_negatives: 4580.0000 - 1069s/epoch - 18ms/step\n",
      "Epoch 2/100\n",
      "59962/59962 - 1061s - loss: 0.2277 - binary_accuracy: 0.9158 - false_negatives: 13801.0000 - val_loss: 0.2262 - val_binary_accuracy: 0.9158 - val_false_negatives: 4608.0000 - 1061s/epoch - 18ms/step\n",
      "Epoch 3/100\n",
      "59962/59962 - 747s - loss: 0.2271 - binary_accuracy: 0.9156 - false_negatives: 13807.0000 - val_loss: 0.2281 - val_binary_accuracy: 0.9166 - val_false_negatives: 4552.0000 - 747s/epoch - 12ms/step\n",
      "Epoch 4/100\n",
      "59962/59962 - 598s - loss: 0.2266 - binary_accuracy: 0.9161 - false_negatives: 13754.0000 - val_loss: 0.2271 - val_binary_accuracy: 0.9160 - val_false_negatives: 4785.0000 - 598s/epoch - 10ms/step\n",
      "Epoch 5/100\n",
      "59962/59962 - 597s - loss: 0.2266 - binary_accuracy: 0.9158 - false_negatives: 13790.0000 - val_loss: 0.2275 - val_binary_accuracy: 0.9160 - val_false_negatives: 4678.0000 - 597s/epoch - 10ms/step\n",
      "Epoch 6/100\n",
      "59962/59962 - 600s - loss: 0.2265 - binary_accuracy: 0.9159 - false_negatives: 13792.0000 - val_loss: 0.2260 - val_binary_accuracy: 0.9159 - val_false_negatives: 4473.0000 - 600s/epoch - 10ms/step\n",
      "Epoch 7/100\n",
      "59962/59962 - 598s - loss: 0.2261 - binary_accuracy: 0.9162 - false_negatives: 13731.0000 - val_loss: 0.2275 - val_binary_accuracy: 0.9163 - val_false_negatives: 4623.0000 - 598s/epoch - 10ms/step\n",
      "Epoch 8/100\n",
      "59962/59962 - 601s - loss: 0.2266 - binary_accuracy: 0.9161 - false_negatives: 13769.0000 - val_loss: 0.2269 - val_binary_accuracy: 0.9163 - val_false_negatives: 4529.0000 - 601s/epoch - 10ms/step\n",
      "Epoch 9/100\n",
      "59962/59962 - 597s - loss: 0.2267 - binary_accuracy: 0.9161 - false_negatives: 13746.0000 - val_loss: 0.2269 - val_binary_accuracy: 0.9165 - val_false_negatives: 4754.0000 - 597s/epoch - 10ms/step\n",
      "Epoch 10/100\n",
      "59962/59962 - 599s - loss: 0.2263 - binary_accuracy: 0.9161 - false_negatives: 13725.0000 - val_loss: 0.2274 - val_binary_accuracy: 0.9165 - val_false_negatives: 4645.0000 - 599s/epoch - 10ms/step\n",
      "Epoch 11/100\n",
      "59962/59962 - 595s - loss: 0.2260 - binary_accuracy: 0.9162 - false_negatives: 13718.0000 - val_loss: 0.2260 - val_binary_accuracy: 0.9170 - val_false_negatives: 4743.0000 - 595s/epoch - 10ms/step\n",
      "Epoch 12/100\n",
      "59962/59962 - 599s - loss: 0.2262 - binary_accuracy: 0.9161 - false_negatives: 13741.0000 - val_loss: 0.2296 - val_binary_accuracy: 0.9160 - val_false_negatives: 4448.0000 - 599s/epoch - 10ms/step\n",
      "Epoch 13/100\n",
      "59962/59962 - 591s - loss: 0.2264 - binary_accuracy: 0.9164 - false_negatives: 13722.0000 - val_loss: 0.2268 - val_binary_accuracy: 0.9162 - val_false_negatives: 4744.0000 - 591s/epoch - 10ms/step\n",
      "Epoch 14/100\n",
      "59962/59962 - 599s - loss: 0.2254 - binary_accuracy: 0.9159 - false_negatives: 13783.0000 - val_loss: 0.2276 - val_binary_accuracy: 0.9165 - val_false_negatives: 4815.0000 - 599s/epoch - 10ms/step\n",
      "Epoch 15/100\n",
      "59962/59962 - 593s - loss: 0.2264 - binary_accuracy: 0.9162 - false_negatives: 13741.0000 - val_loss: 0.2293 - val_binary_accuracy: 0.9161 - val_false_negatives: 4540.0000 - 593s/epoch - 10ms/step\n",
      "Epoch 16/100\n",
      "59962/59962 - 600s - loss: 0.2260 - binary_accuracy: 0.9161 - false_negatives: 13703.0000 - val_loss: 0.2263 - val_binary_accuracy: 0.9163 - val_false_negatives: 4711.0000 - 600s/epoch - 10ms/step\n",
      "Epoch 17/100\n",
      "59962/59962 - 599s - loss: 0.2260 - binary_accuracy: 0.9161 - false_negatives: 13731.0000 - val_loss: 0.2279 - val_binary_accuracy: 0.9164 - val_false_negatives: 4720.0000 - 599s/epoch - 10ms/step\n",
      "Epoch 18/100\n",
      "59962/59962 - 599s - loss: 0.2268 - binary_accuracy: 0.9161 - false_negatives: 13677.0000 - val_loss: 0.2261 - val_binary_accuracy: 0.9163 - val_false_negatives: 4525.0000 - 599s/epoch - 10ms/step\n",
      "Epoch 19/100\n",
      "59962/59962 - 588s - loss: 0.2262 - binary_accuracy: 0.9160 - false_negatives: 13675.0000 - val_loss: 0.2297 - val_binary_accuracy: 0.9166 - val_false_negatives: 4584.0000 - 588s/epoch - 10ms/step\n",
      "Epoch 20/100\n",
      "59962/59962 - 600s - loss: 0.2276 - binary_accuracy: 0.9159 - false_negatives: 13676.0000 - val_loss: 0.2327 - val_binary_accuracy: 0.9162 - val_false_negatives: 4693.0000 - 600s/epoch - 10ms/step\n",
      "Epoch 21/100\n",
      "59962/59962 - 585s - loss: 0.2263 - binary_accuracy: 0.9162 - false_negatives: 13698.0000 - val_loss: 0.2271 - val_binary_accuracy: 0.9163 - val_false_negatives: 4627.0000 - 585s/epoch - 10ms/step\n"
=======
      "Epoch 1/100\n"
>>>>>>> Stashed changes
     ]
    }
   ],
   "source": [
    "hist = model.fit(X_train, y_train, \n",
    "                     epochs=100, batch_size = 3, verbose = 2,\n",
    "                     callbacks=[checkpoint_cb,early_stopping_cb, tensorboad_cb],\n",
    "                     validation_data=(X_valid, y_valid))"
   ]
  },
  {
   "cell_type": "markdown",
   "id": "81a284a1",
   "metadata": {},
   "source": [
    "#### Salvando o modelo "
   ]
  },
  {
   "cell_type": "code",
   "execution_count": 67,
   "id": "032f58b9",
   "metadata": {
    "ExecuteTime": {
     "end_time": "2022-06-05T03:32:50.035443Z",
     "start_time": "2022-06-05T03:32:49.981232Z"
    }
   },
   "outputs": [],
   "source": [
    "model.save(\"modelo1000n_FN_black_heart_disease_04062022.h5\")"
   ]
  },
  {
   "cell_type": "markdown",
   "id": "7bfab37d",
   "metadata": {},
   "source": [
    "#### Verificando o desempenho com a base Teste "
   ]
  },
  {
   "cell_type": "code",
   "execution_count": 68,
   "id": "3ea6ff6b",
   "metadata": {
    "ExecuteTime": {
     "end_time": "2022-06-05T03:33:06.648002Z",
     "start_time": "2022-06-05T03:32:51.248415Z"
    }
   },
   "outputs": [
    {
     "name": "stdout",
     "output_type": "stream",
     "text": [
      "2499/2499 [==============================] - 15s 6ms/step - loss: 0.2313 - binary_accuracy: 0.9147 - false_negatives: 6499.0000\n"
     ]
    }
   ],
   "source": [
    "mse_test = model.evaluate(X_test, y_test)"
   ]
  },
  {
   "cell_type": "markdown",
   "id": "5fdaa99f",
   "metadata": {},
   "source": [
    "#### Predição "
   ]
  },
  {
   "cell_type": "code",
   "execution_count": 69,
   "id": "afb82dc8",
   "metadata": {
    "ExecuteTime": {
     "end_time": "2022-06-05T03:33:16.315749Z",
     "start_time": "2022-06-05T03:33:10.583363Z"
    }
   },
   "outputs": [
    {
     "name": "stdout",
     "output_type": "stream",
     "text": [
      "2499/2499 [==============================] - 5s 2ms/step\n"
     ]
    }
   ],
   "source": [
    "y_pred = model.predict(X_test)\n",
    "#y_pred_cl =np.argmax(y_pred,axis=1)\n",
    "#len(y_pred_cl)\n"
   ]
  },
  {
   "cell_type": "code",
   "execution_count": 70,
   "id": "f346f308",
   "metadata": {
    "ExecuteTime": {
     "end_time": "2022-06-05T03:33:17.633389Z",
     "start_time": "2022-06-05T03:33:17.611384Z"
    }
   },
   "outputs": [
    {
     "name": "stdout",
     "output_type": "stream",
     "text": [
      "Which predictions match with binary labels: [0.9 0.9 0.9 0.9 0.9 0.9 0.9 0.9 0.9 0.9 0.9 0.9 0.9 0.9 0.9 0.9 0.9 0.9\n",
      " 0.9 0.9 0.9 0.9 0.9 0.9 0.9 0.9 0.1 0.9 0.9 0.9 0.9 0.1 0.9 0.9 0.9 0.9\n",
      " 0.9 0.9 0.9 0.9 0.9 0.9 0.9 0.9 0.9 0.9 0.9 0.9 0.9 0.9 0.9 0.9 0.9 0.9\n",
      " 0.9 0.9 0.9 0.9 0.9 0.9 0.9 0.9 0.9 0.9 0.9 0.9 0.9 0.9 0.9 0.9 0.9 0.9\n",
      " 0.9 0.9 0.9 0.9 0.9 0.9 0.9 0.9 0.9 0.9 0.9 0.9 0.9 0.9 0.9 0.9 0.9 0.9\n",
      " 0.9 0.9 0.9 0.9 0.9 0.9 0.9 0.9 0.9 0.9]\n"
     ]
    }
   ],
   "source": [
    "m = tf.keras.metrics.binary_accuracy(y_test[:100], y_pred[:100], threshold=0.5)\n",
    "print(\"Which predictions match with binary labels:\", m.numpy())"
   ]
  },
  {
   "cell_type": "code",
   "execution_count": 71,
   "id": "45797859",
   "metadata": {
    "ExecuteTime": {
     "end_time": "2022-06-05T03:33:20.522738Z",
     "start_time": "2022-06-05T03:33:20.499722Z"
    }
   },
   "outputs": [
    {
     "data": {
      "text/plain": [
       "0.91465807"
      ]
     },
     "execution_count": 71,
     "metadata": {},
     "output_type": "execute_result"
    }
   ],
   "source": [
    "mm = tf.keras.metrics.BinaryAccuracy()\n",
    "mm.update_state(y_test, y_pred)\n",
    "mm.result().numpy()"
   ]
  },
  {
   "cell_type": "markdown",
   "id": "74be2b91",
   "metadata": {},
   "source": [
    "##### Plotagem do que foi predito "
   ]
  },
  {
   "cell_type": "code",
   "execution_count": 72,
   "id": "a7b7a110",
   "metadata": {
    "ExecuteTime": {
     "end_time": "2022-06-05T03:33:23.834812Z",
     "start_time": "2022-06-05T03:33:23.820810Z"
    }
   },
   "outputs": [
    {
     "name": "stdout",
     "output_type": "stream",
     "text": [
      "Media: 0.07783615589141846, Mediana: 0.035456493496894836, Desvio Padrão: 0.10422530025243759, Valor mín.: 3.162807689360836e-12, Valor máx.: 0.8945780992507935\n"
     ]
    }
   ],
   "source": [
    "media = np.mean(y_pred)\n",
    "mediana = np.median(y_pred)\n",
    "std = np.std(y_pred)\n",
    "minimo = np.amin(y_pred)\n",
    "maximo = np.amax(y_pred)\n",
    "print(f'Media: {media}, Mediana: {mediana}, Desvio Padrão: {std}, Valor mín.: {minimo}, Valor máx.: {maximo}')"
   ]
  },
  {
   "cell_type": "markdown",
   "id": "d5c52c09",
   "metadata": {},
   "source": [
    "### Evaluation do modelo"
   ]
  },
  {
   "cell_type": "markdown",
   "id": "b1482ecc",
   "metadata": {},
   "source": [
    "#### Regulando o Cutoff manualmente "
   ]
  },
  {
   "cell_type": "code",
   "execution_count": 73,
   "id": "15b97df0",
   "metadata": {
    "ExecuteTime": {
     "end_time": "2022-06-05T03:33:36.872632Z",
     "start_time": "2022-06-05T03:33:30.225123Z"
    }
   },
   "outputs": [
    {
     "name": "stdout",
     "output_type": "stream",
     "text": [
      "2499/2499 [==============================] - 6s 2ms/step\n"
     ]
    }
   ],
   "source": [
    "ypred = model.predict(X_test, verbose=1)\n",
    "ypred = np.argmax(ypred, axis=1)"
   ]
  },
  {
   "cell_type": "code",
   "execution_count": 74,
   "id": "af6c351b",
   "metadata": {
    "ExecuteTime": {
     "end_time": "2022-06-05T03:33:37.238700Z",
     "start_time": "2022-06-05T03:33:37.225699Z"
    }
   },
   "outputs": [
    {
     "data": {
      "text/plain": [
       "array([[    0, 79949]], dtype=int64)"
      ]
     },
     "execution_count": 74,
     "metadata": {},
     "output_type": "execute_result"
    }
   ],
   "source": [
    "unique, counts = np.unique(ypred, return_counts=True)\n",
    "np.asarray((unique, counts)).T"
   ]
  },
  {
   "cell_type": "code",
   "execution_count": 77,
   "id": "bfaf0f5b",
   "metadata": {
    "ExecuteTime": {
     "end_time": "2022-06-05T03:33:57.255407Z",
     "start_time": "2022-06-05T03:33:57.105379Z"
    }
   },
   "outputs": [],
   "source": [
    "ctf = 0.2\n",
    "y_pred_clm = [1 if x > ctf else 0 for x in y_pred]"
   ]
  },
  {
   "cell_type": "markdown",
   "id": "7b07ded8",
   "metadata": {},
   "source": [
    "#### Jaccard teste para acuracia por classe "
   ]
  },
  {
   "cell_type": "code",
   "execution_count": 78,
   "id": "634e0054",
   "metadata": {
    "ExecuteTime": {
     "end_time": "2022-06-05T03:33:59.090901Z",
     "start_time": "2022-06-05T03:33:58.974150Z"
    }
   },
   "outputs": [
    {
     "name": "stdout",
     "output_type": "stream",
     "text": [
      "0.2399904481413675 0.875893623105519\n"
     ]
    }
   ],
   "source": [
    "from sklearn.metrics import jaccard_score\n",
    "jac_1 = jaccard_score(y_test, y_pred_clm, pos_label=1)\n",
    "jac_0 = jaccard_score(y_test, y_pred_clm, pos_label=0)\n",
    "\n",
    "print(jac_1, jac_0)"
   ]
  },
  {
   "cell_type": "markdown",
   "id": "2899acaa",
   "metadata": {},
   "source": [
    "#### Matriz de confusão "
   ]
  },
  {
   "cell_type": "code",
   "execution_count": 79,
   "id": "bf3b4151",
   "metadata": {
    "ExecuteTime": {
     "end_time": "2022-06-05T03:34:02.454513Z",
     "start_time": "2022-06-05T03:34:02.414502Z"
    }
   },
   "outputs": [],
   "source": [
    "CM = confusion_matrix(y_test, y_pred_clm, labels=[0,1]) # 1,0 falso neg em cima / 0,1 falso neg embaixo"
   ]
  },
  {
   "cell_type": "code",
   "execution_count": 82,
   "id": "8269261d",
   "metadata": {
    "ExecuteTime": {
     "end_time": "2022-06-05T03:34:17.232103Z",
     "start_time": "2022-06-05T03:34:17.093072Z"
    }
   },
   "outputs": [
    {
     "name": "stdout",
     "output_type": "stream",
     "text": [
      "Matriz de Confusão, sem normalização\n",
      "[[67386  5618]\n",
      " [ 3930  3015]]\n"
     ]
    },
    {
     "data": {
      "image/png": "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\n",
      "text/plain": [
       "<Figure size 432x288 with 2 Axes>"
      ]
     },
     "metadata": {
      "needs_background": "light"
     },
     "output_type": "display_data"
    }
   ],
   "source": [
    "plot_confusion_matrix(CM, classes=['sem dc = 0','com dc = 1'], normalize= False,  title='Matriz de Confusão - cutoff %s' %ctf)"
   ]
  },
  {
   "cell_type": "markdown",
   "id": "5260cea1",
   "metadata": {},
   "source": [
    "#### Sensitividade e Especificidade"
   ]
  },
  {
   "cell_type": "code",
   "execution_count": 83,
   "id": "d1c898be",
   "metadata": {
    "ExecuteTime": {
     "end_time": "2022-06-05T03:34:41.109970Z",
     "start_time": "2022-06-05T03:34:41.092949Z"
    }
   },
   "outputs": [
    {
     "name": "stdout",
     "output_type": "stream",
     "text": [
      "Nossa sensitividade é de 94.48932 %\n",
      "Nossa especificidade é de 43.412527 %\n"
     ]
    }
   ],
   "source": [
    "tp,fn,fp,tn= CM[0][0],CM[0][1],CM[1][0],CM[1][1]\n",
    "sensitividade = (tp / (fp + tp)) * 100\n",
    "print(f'Nossa sensitividade é de {round(sensitividade,5)} %') # balanco de positivo\n",
    "especificidade = (tn / (fp + tn)) * 100\n",
    "print(f'Nossa especificidade é de {round(especificidade,6)} %') # balanco de negativo"
   ]
  },
  {
   "cell_type": "markdown",
   "id": "aa9c45a9",
   "metadata": {},
   "source": [
    "#### Sumário de classificação "
   ]
  },
  {
   "cell_type": "code",
   "execution_count": 84,
   "id": "4434a559",
   "metadata": {
    "ExecuteTime": {
     "end_time": "2022-06-05T03:34:44.110722Z",
     "start_time": "2022-06-05T03:34:44.016715Z"
    }
   },
   "outputs": [
    {
     "name": "stdout",
     "output_type": "stream",
     "text": [
      "              precision    recall  f1-score   support\n",
      "\n",
      "           0       0.94      0.92      0.93     73004\n",
      "           1       0.35      0.43      0.39      6945\n",
      "\n",
      "    accuracy                           0.88     79949\n",
      "   macro avg       0.65      0.68      0.66     79949\n",
      "weighted avg       0.89      0.88      0.89     79949\n",
      "\n"
     ]
    }
   ],
   "source": [
    "print (classification_report(y_test, y_pred_clm))"
   ]
  },
  {
   "cell_type": "markdown",
   "id": "182552bd",
   "metadata": {},
   "source": [
    "#### Curva ROC"
   ]
  },
  {
   "cell_type": "code",
   "execution_count": 87,
   "id": "03aa418e",
   "metadata": {
    "ExecuteTime": {
     "end_time": "2022-06-05T03:35:51.546705Z",
     "start_time": "2022-06-05T03:35:51.388670Z"
    }
   },
   "outputs": [
    {
     "data": {
      "image/png": "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\n",
      "text/plain": [
       "<Figure size 432x288 with 1 Axes>"
      ]
     },
     "metadata": {
      "needs_background": "light"
     },
     "output_type": "display_data"
    }
   ],
   "source": [
    "fpr, tpr, _ = roc_curve(y_test,  y_pred, pos_label=1)\n",
    "auc = roc_auc_score(y_test, y_pred)\n",
    "plt.plot(fpr,tpr,label=\"data 1, auc=\"+str(auc))\n",
    "plt.plot([1,0], [1,0], color='navy', lw=1, linestyle='--')\n",
    "plt.xlabel('Falsos Positivo')\n",
    "plt.ylabel('Verdadeiros Positivo')\n",
    "plt.title('ROC')\n",
    "plt.legend(loc=\"best\")\n",
    "plt.show()"
   ]
  },
  {
   "cell_type": "code",
   "execution_count": 88,
   "id": "ac9d3843",
   "metadata": {
    "ExecuteTime": {
     "end_time": "2022-06-05T03:35:56.455126Z",
     "start_time": "2022-06-05T03:35:56.287090Z"
    }
   },
   "outputs": [
    {
     "data": {
      "image/png": "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\n",
      "text/plain": [
       "<Figure size 1080x360 with 1 Axes>"
      ]
     },
     "metadata": {
      "needs_background": "light"
     },
     "output_type": "display_data"
    }
   ],
   "source": [
    "pd.DataFrame(hist.history).plot(figsize=(15,5))\n",
    "plt.grid(True)\n",
    "plt.gca().set_ylim(0,2)\n",
    "plt.show()"
   ]
  },
  {
   "cell_type": "markdown",
   "id": "8fcb82f9",
   "metadata": {},
   "source": [
    "# Considerações finais"
   ]
  },
  {
   "cell_type": "markdown",
   "id": "2877c0ed",
   "metadata": {},
   "source": [
    "### Carregando o melhor modelo  "
   ]
  },
  {
   "cell_type": "code",
   "execution_count": 89,
   "id": "21f0fc5e",
   "metadata": {
    "ExecuteTime": {
     "end_time": "2022-06-05T03:36:23.138471Z",
     "start_time": "2022-06-05T03:36:23.045443Z"
    }
   },
   "outputs": [
    {
     "ename": "OSError",
     "evalue": "No file or directory found at modelo04062022_heart_disease.h5",
     "output_type": "error",
     "traceback": [
      "\u001b[1;31m---------------------------------------------------------------------------\u001b[0m",
      "\u001b[1;31mOSError\u001b[0m                                   Traceback (most recent call last)",
      "Input \u001b[1;32mIn [89]\u001b[0m, in \u001b[0;36m<cell line: 1>\u001b[1;34m()\u001b[0m\n\u001b[1;32m----> 1\u001b[0m model_bes \u001b[38;5;241m=\u001b[39m \u001b[43mkeras\u001b[49m\u001b[38;5;241;43m.\u001b[39;49m\u001b[43mmodels\u001b[49m\u001b[38;5;241;43m.\u001b[39;49m\u001b[43mload_model\u001b[49m\u001b[43m(\u001b[49m\u001b[38;5;124;43m\"\u001b[39;49m\u001b[38;5;124;43mmodelo04062022_heart_disease.h5\u001b[39;49m\u001b[38;5;124;43m\"\u001b[39;49m\u001b[43m)\u001b[49m\n",
      "File \u001b[1;32m~\\.conda\\envs\\tensor\\lib\\site-packages\\keras\\utils\\traceback_utils.py:67\u001b[0m, in \u001b[0;36mfilter_traceback.<locals>.error_handler\u001b[1;34m(*args, **kwargs)\u001b[0m\n\u001b[0;32m     65\u001b[0m \u001b[38;5;28;01mexcept\u001b[39;00m \u001b[38;5;167;01mException\u001b[39;00m \u001b[38;5;28;01mas\u001b[39;00m e:  \u001b[38;5;66;03m# pylint: disable=broad-except\u001b[39;00m\n\u001b[0;32m     66\u001b[0m   filtered_tb \u001b[38;5;241m=\u001b[39m _process_traceback_frames(e\u001b[38;5;241m.\u001b[39m__traceback__)\n\u001b[1;32m---> 67\u001b[0m   \u001b[38;5;28;01mraise\u001b[39;00m e\u001b[38;5;241m.\u001b[39mwith_traceback(filtered_tb) \u001b[38;5;28;01mfrom\u001b[39;00m \u001b[38;5;28mNone\u001b[39m\n\u001b[0;32m     68\u001b[0m \u001b[38;5;28;01mfinally\u001b[39;00m:\n\u001b[0;32m     69\u001b[0m   \u001b[38;5;28;01mdel\u001b[39;00m filtered_tb\n",
      "File \u001b[1;32m~\\.conda\\envs\\tensor\\lib\\site-packages\\keras\\saving\\save.py:206\u001b[0m, in \u001b[0;36mload_model\u001b[1;34m(filepath, custom_objects, compile, options)\u001b[0m\n\u001b[0;32m    204\u001b[0m \u001b[38;5;28;01mif\u001b[39;00m \u001b[38;5;28misinstance\u001b[39m(filepath_str, \u001b[38;5;28mstr\u001b[39m):\n\u001b[0;32m    205\u001b[0m   \u001b[38;5;28;01mif\u001b[39;00m \u001b[38;5;129;01mnot\u001b[39;00m tf\u001b[38;5;241m.\u001b[39mio\u001b[38;5;241m.\u001b[39mgfile\u001b[38;5;241m.\u001b[39mexists(filepath_str):\n\u001b[1;32m--> 206\u001b[0m     \u001b[38;5;28;01mraise\u001b[39;00m \u001b[38;5;167;01mIOError\u001b[39;00m(\u001b[38;5;124mf\u001b[39m\u001b[38;5;124m'\u001b[39m\u001b[38;5;124mNo file or directory found at \u001b[39m\u001b[38;5;132;01m{\u001b[39;00mfilepath_str\u001b[38;5;132;01m}\u001b[39;00m\u001b[38;5;124m'\u001b[39m)\n\u001b[0;32m    208\u001b[0m   \u001b[38;5;28;01mif\u001b[39;00m tf\u001b[38;5;241m.\u001b[39mio\u001b[38;5;241m.\u001b[39mgfile\u001b[38;5;241m.\u001b[39misdir(filepath_str):\n\u001b[0;32m    209\u001b[0m     \u001b[38;5;28;01mreturn\u001b[39;00m saved_model_load\u001b[38;5;241m.\u001b[39mload(filepath_str, \u001b[38;5;28mcompile\u001b[39m, options)\n",
      "\u001b[1;31mOSError\u001b[0m: No file or directory found at modelo04062022_heart_disease.h5"
     ]
    }
   ],
   "source": [
    "model_bes = keras.models.load_model(\"modelo04062022_heart_disease.h5\") "
   ]
  },
  {
   "cell_type": "code",
   "execution_count": null,
   "id": "5c0d1df3",
   "metadata": {},
   "outputs": [],
   "source": []
  },
  {
   "cell_type": "markdown",
   "id": "944d5116",
   "metadata": {},
   "source": [
    "# Funções auxiliares"
   ]
  },
  {
   "cell_type": "markdown",
   "id": "faae9694",
   "metadata": {},
   "source": [
    "## Matriz de confusão "
   ]
  },
  {
   "cell_type": "code",
   "execution_count": 81,
   "id": "7dd709f5",
   "metadata": {
    "ExecuteTime": {
     "end_time": "2022-06-05T03:34:09.109437Z",
     "start_time": "2022-06-05T03:34:09.089436Z"
    }
   },
   "outputs": [],
   "source": [
    "from sklearn.metrics import classification_report, confusion_matrix\n",
    "import itertools\n",
    "def plot_confusion_matrix(cm, classes,\n",
    "                          normalize=False,\n",
    "                          title='Matriz de Confusão',\n",
    "                          cmap=plt.cm.Blues):\n",
    "    \"\"\"\n",
    "    This function prints and plots the confusion matrix.\n",
    "    Normalization can be applied by setting `normalize=True`.\n",
    "    \"\"\"\n",
    "    if normalize:\n",
    "        cm = cm.astype('float') / cm.sum(axis=1)[:, np.newaxis]\n",
    "        print(\"Normalizada Matriz de Confusão\")\n",
    "    else:\n",
    "        print('Matriz de Confusão, sem normalização')\n",
    "\n",
    "    print(cm)\n",
    "\n",
    "    plt.imshow(cm, interpolation='nearest', cmap=cmap)\n",
    "    plt.title(title)\n",
    "    plt.colorbar()\n",
    "    tick_marks = np.arange(len(classes))\n",
    "    plt.xticks(tick_marks, classes, rotation=45)\n",
    "    plt.yticks(tick_marks, classes)\n",
    "\n",
    "    fmt = '.2f' if normalize else 'd'\n",
    "    thresh = cm.max() / 2.\n",
    "    for i, j in itertools.product(range(cm.shape[0]), range(cm.shape[1])):\n",
    "        plt.text(j, i, format(cm[i, j], fmt),\n",
    "                 horizontalalignment=\"center\",\n",
    "                 color=\"white\" if cm[i, j] > thresh else \"black\")\n",
    "    \n",
    "    \n",
    "    plt.tight_layout()\n",
    "    plt.ylabel('Real label')\n",
    "    plt.xlabel('Predição label')"
   ]
  },
  {
   "cell_type": "code",
   "execution_count": null,
   "id": "92272a4d",
   "metadata": {},
   "outputs": [],
   "source": []
  }
 ],
 "metadata": {
  "hide_input": false,
  "kernelspec": {
   "display_name": "Python [conda env:.conda-tensor]",
   "language": "python",
   "name": "conda-env-.conda-tensor-py"
  },
  "language_info": {
   "codemirror_mode": {
    "name": "ipython",
    "version": 3
   },
   "file_extension": ".py",
   "mimetype": "text/x-python",
   "name": "python",
   "nbconvert_exporter": "python",
   "pygments_lexer": "ipython3",
   "version": "3.10.4"
  },
  "toc": {
   "base_numbering": 1,
   "nav_menu": {},
   "number_sections": true,
   "sideBar": true,
   "skip_h1_title": false,
   "title_cell": "Table of Contents",
   "title_sidebar": "Pipeline",
   "toc_cell": false,
   "toc_position": {
    "height": "calc(100% - 180px)",
    "left": "10px",
    "top": "150px",
    "width": "352.983px"
   },
   "toc_section_display": true,
   "toc_window_display": true
  },
  "varInspector": {
   "cols": {
    "lenName": 16,
    "lenType": 16,
    "lenVar": 40
   },
   "kernels_config": {
    "python": {
     "delete_cmd_postfix": "",
     "delete_cmd_prefix": "del ",
     "library": "var_list.py",
     "varRefreshCmd": "print(var_dic_list())"
    },
    "r": {
     "delete_cmd_postfix": ") ",
     "delete_cmd_prefix": "rm(",
     "library": "var_list.r",
     "varRefreshCmd": "cat(var_dic_list()) "
    }
   },
   "types_to_exclude": [
    "module",
    "function",
    "builtin_function_or_method",
    "instance",
    "_Feature"
   ],
   "window_display": false
  }
 },
 "nbformat": 4,
 "nbformat_minor": 5
}
