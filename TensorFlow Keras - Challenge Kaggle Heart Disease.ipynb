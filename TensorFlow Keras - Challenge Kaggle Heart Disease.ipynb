{
 "cells": [
  {
   "cell_type": "markdown",
   "id": "99c02b79",
   "metadata": {},
   "source": [
    "# Kaggle Dataset - heart disease"
   ]
  },
  {
   "cell_type": "markdown",
   "id": "056b1a48",
   "metadata": {},
   "source": [
    "## Introdução "
   ]
  },
  {
   "cell_type": "markdown",
   "id": "f6ce911e",
   "metadata": {},
   "source": [
    "O dataset vem com variáveis que poderiam explicar se uma pessoa terá ou não doenças cardiacas."
   ]
  },
  {
   "cell_type": "markdown",
   "id": "984ea058",
   "metadata": {},
   "source": [
    "# Importação de pacotes e carga de dados"
   ]
  },
  {
   "cell_type": "markdown",
   "id": "cd8fe465",
   "metadata": {},
   "source": [
    "### Pacotes "
   ]
  },
  {
   "cell_type": "code",
   "execution_count": 1,
   "id": "2d37bb89",
   "metadata": {
    "ExecuteTime": {
     "end_time": "2022-06-04T20:33:14.090838Z",
     "start_time": "2022-06-04T20:33:03.221995Z"
    }
   },
   "outputs": [],
   "source": [
    "import numpy as np\n",
    "import pandas as pd\n",
    "import matplotlib.pyplot as plt\n",
    "import tensorflow as tf\n",
    "from tensorflow import keras\n",
    "from sklearn.model_selection import train_test_split, ShuffleSplit\n",
    "from sklearn.preprocessing import StandardScaler\n",
    "from sklearn.metrics import precision_recall_curve\n",
    "from sklearn.metrics import precision_score, recall_score,roc_auc_score, roc_curve\n",
    "from sklearn.metrics import accuracy_score\n",
    "from numpy import mean\n",
    "from sklearn.utils.class_weight import compute_class_weight\n",
    "from sklearn.metrics import classification_report, confusion_matrix\n",
    "import sys\n",
    "import os\n",
    "os.chdir(r'C:\\Users\\Thiago Bluhm\\OneDrive - Grupo Portfolio\\Documentos\\ESTUDO\\DEEP LEARNING e REDES NEURAIS\\tensorflow\\dados')\n",
    "pd.set_option('display.max_columns', 100)\n",
    "pd.set_option('display.max_rows', 200)\n",
    "\n",
    "import warnings\n",
    "warnings.filterwarnings('ignore')"
   ]
  },
  {
   "cell_type": "markdown",
   "id": "9c64473b",
   "metadata": {},
   "source": [
    "### Confirmando o uso de GPU"
   ]
  },
  {
   "cell_type": "code",
   "execution_count": 2,
   "id": "4d06c1af",
   "metadata": {
    "ExecuteTime": {
     "end_time": "2022-06-04T20:33:15.471124Z",
     "start_time": "2022-06-04T20:33:14.108844Z"
    }
   },
   "outputs": [
    {
     "name": "stdout",
     "output_type": "stream",
     "text": [
      "Num GPUs Available:  1\n"
     ]
    }
   ],
   "source": [
    "print(\"Num GPUs Available: \", len(tf.config.list_physical_devices('GPU')))"
   ]
  },
  {
   "cell_type": "code",
   "execution_count": 3,
   "id": "48c8e711",
   "metadata": {
    "ExecuteTime": {
     "end_time": "2022-06-04T20:33:15.503131Z",
     "start_time": "2022-06-04T20:33:15.488132Z"
    }
   },
   "outputs": [],
   "source": [
    "# Posicionando o dispositivo de Registro\n",
    "tf.debugging.set_log_device_placement(True)"
   ]
  },
  {
   "cell_type": "code",
   "execution_count": 4,
   "id": "039dc8c9",
   "metadata": {
    "ExecuteTime": {
     "end_time": "2022-06-04T20:33:16.587382Z",
     "start_time": "2022-06-04T20:33:15.520136Z"
    },
    "scrolled": true
   },
   "outputs": [
    {
     "name": "stdout",
     "output_type": "stream",
     "text": [
      "['/device:CPU:0', '/device:GPU:0']\n"
     ]
    }
   ],
   "source": [
    "from tensorflow.python.client import device_lib\n",
    "\n",
    "def get_available_devices():\n",
    "    local_device_protos = device_lib.list_local_devices()\n",
    "    return [x.name for x in local_device_protos]\n",
    "\n",
    "print(get_available_devices())"
   ]
  },
  {
   "cell_type": "code",
   "execution_count": null,
   "id": "feab544b",
   "metadata": {},
   "outputs": [],
   "source": []
  },
  {
   "cell_type": "markdown",
   "id": "47d7c4c3",
   "metadata": {},
   "source": [
    "### Descarregando a base "
   ]
  },
  {
   "cell_type": "code",
   "execution_count": 32,
   "id": "a2a36a81",
   "metadata": {
    "ExecuteTime": {
     "end_time": "2022-06-04T20:36:02.222014Z",
     "start_time": "2022-06-04T20:36:01.838369Z"
    }
   },
   "outputs": [],
   "source": [
    "df = pd.read_csv(\"heart_2020_cleaned.csv\", sep=\",\")"
   ]
  },
  {
   "cell_type": "code",
   "execution_count": 33,
   "id": "d8e0d447",
   "metadata": {
    "ExecuteTime": {
     "end_time": "2022-06-04T20:36:06.917574Z",
     "start_time": "2022-06-04T20:36:06.890564Z"
    }
   },
   "outputs": [
    {
     "data": {
      "text/html": [
       "<div>\n",
       "<style scoped>\n",
       "    .dataframe tbody tr th:only-of-type {\n",
       "        vertical-align: middle;\n",
       "    }\n",
       "\n",
       "    .dataframe tbody tr th {\n",
       "        vertical-align: top;\n",
       "    }\n",
       "\n",
       "    .dataframe thead th {\n",
       "        text-align: right;\n",
       "    }\n",
       "</style>\n",
       "<table border=\"1\" class=\"dataframe\">\n",
       "  <thead>\n",
       "    <tr style=\"text-align: right;\">\n",
       "      <th></th>\n",
       "      <th>HeartDisease</th>\n",
       "      <th>BMI</th>\n",
       "      <th>Smoking</th>\n",
       "      <th>AlcoholDrinking</th>\n",
       "      <th>Stroke</th>\n",
       "      <th>PhysicalHealth</th>\n",
       "      <th>MentalHealth</th>\n",
       "      <th>DiffWalking</th>\n",
       "      <th>Sex</th>\n",
       "      <th>AgeCategory</th>\n",
       "      <th>Race</th>\n",
       "      <th>Diabetic</th>\n",
       "      <th>PhysicalActivity</th>\n",
       "      <th>GenHealth</th>\n",
       "      <th>SleepTime</th>\n",
       "      <th>Asthma</th>\n",
       "      <th>KidneyDisease</th>\n",
       "      <th>SkinCancer</th>\n",
       "    </tr>\n",
       "  </thead>\n",
       "  <tbody>\n",
       "    <tr>\n",
       "      <th>0</th>\n",
       "      <td>No</td>\n",
       "      <td>16.60</td>\n",
       "      <td>Yes</td>\n",
       "      <td>No</td>\n",
       "      <td>No</td>\n",
       "      <td>3.0</td>\n",
       "      <td>30.0</td>\n",
       "      <td>No</td>\n",
       "      <td>Female</td>\n",
       "      <td>55-59</td>\n",
       "      <td>White</td>\n",
       "      <td>Yes</td>\n",
       "      <td>Yes</td>\n",
       "      <td>Very good</td>\n",
       "      <td>5.0</td>\n",
       "      <td>Yes</td>\n",
       "      <td>No</td>\n",
       "      <td>Yes</td>\n",
       "    </tr>\n",
       "    <tr>\n",
       "      <th>1</th>\n",
       "      <td>No</td>\n",
       "      <td>20.34</td>\n",
       "      <td>No</td>\n",
       "      <td>No</td>\n",
       "      <td>Yes</td>\n",
       "      <td>0.0</td>\n",
       "      <td>0.0</td>\n",
       "      <td>No</td>\n",
       "      <td>Female</td>\n",
       "      <td>80 or older</td>\n",
       "      <td>White</td>\n",
       "      <td>No</td>\n",
       "      <td>Yes</td>\n",
       "      <td>Very good</td>\n",
       "      <td>7.0</td>\n",
       "      <td>No</td>\n",
       "      <td>No</td>\n",
       "      <td>No</td>\n",
       "    </tr>\n",
       "    <tr>\n",
       "      <th>2</th>\n",
       "      <td>No</td>\n",
       "      <td>26.58</td>\n",
       "      <td>Yes</td>\n",
       "      <td>No</td>\n",
       "      <td>No</td>\n",
       "      <td>20.0</td>\n",
       "      <td>30.0</td>\n",
       "      <td>No</td>\n",
       "      <td>Male</td>\n",
       "      <td>65-69</td>\n",
       "      <td>White</td>\n",
       "      <td>Yes</td>\n",
       "      <td>Yes</td>\n",
       "      <td>Fair</td>\n",
       "      <td>8.0</td>\n",
       "      <td>Yes</td>\n",
       "      <td>No</td>\n",
       "      <td>No</td>\n",
       "    </tr>\n",
       "  </tbody>\n",
       "</table>\n",
       "</div>"
      ],
      "text/plain": [
       "  HeartDisease    BMI Smoking AlcoholDrinking Stroke  PhysicalHealth  \\\n",
       "0           No  16.60     Yes              No     No             3.0   \n",
       "1           No  20.34      No              No    Yes             0.0   \n",
       "2           No  26.58     Yes              No     No            20.0   \n",
       "\n",
       "   MentalHealth DiffWalking     Sex  AgeCategory   Race Diabetic  \\\n",
       "0          30.0          No  Female        55-59  White      Yes   \n",
       "1           0.0          No  Female  80 or older  White       No   \n",
       "2          30.0          No    Male        65-69  White      Yes   \n",
       "\n",
       "  PhysicalActivity  GenHealth  SleepTime Asthma KidneyDisease SkinCancer  \n",
       "0              Yes  Very good        5.0    Yes            No        Yes  \n",
       "1              Yes  Very good        7.0     No            No         No  \n",
       "2              Yes       Fair        8.0    Yes            No         No  "
      ]
     },
     "execution_count": 33,
     "metadata": {},
     "output_type": "execute_result"
    }
   ],
   "source": [
    "df[:3]"
   ]
  },
  {
   "cell_type": "code",
   "execution_count": 34,
   "id": "8d618201",
   "metadata": {
    "ExecuteTime": {
     "end_time": "2022-06-04T20:36:12.300363Z",
     "start_time": "2022-06-04T20:36:12.295355Z"
    }
   },
   "outputs": [
    {
     "data": {
      "text/plain": [
       "319795"
      ]
     },
     "execution_count": 34,
     "metadata": {},
     "output_type": "execute_result"
    }
   ],
   "source": [
    "len(df)"
   ]
  },
  {
   "cell_type": "markdown",
   "id": "40c5fc0c",
   "metadata": {},
   "source": [
    "Vamos pegar apenas a raça negra e verificar os dados"
   ]
  },
  {
   "cell_type": "code",
   "execution_count": 7,
   "id": "5048f929",
   "metadata": {
    "ExecuteTime": {
     "end_time": "2022-06-04T20:33:22.201112Z",
     "start_time": "2022-06-04T20:33:22.186112Z"
    }
   },
   "outputs": [],
   "source": [
    "def plot_est_random(x, y, z, var1, indice):\n",
    "    fig = plt.figure(figsize=(20,5))\n",
    "\n",
    "    ax1 = fig.add_subplot(1,3,1)\n",
    "    ax2 = fig.add_subplot(1,3,2)\n",
    "    ax3 = fig.add_subplot(1,3,3)\n",
    "\n",
    "    ax1.hist(x[var1[indice]], bins=25, color='#3434F6')\n",
    "    ax2.hist(y[var1[indice]], bins=25, color='#B680DA')\n",
    "    ax3.hist(z[var1[indice]], bins=25, color='#F04D5C')\n",
    "\n",
    "    plt.subplots_adjust(wspace=0.2, hspace=0.2)\n",
    "    plt.show()\n",
    "    \n",
    "def calculos_est(x,y,z, var1, indice):\n",
    "    med  = np.mean(x[var1[indice]])\n",
    "    med1 = np.mean(y[var1[indice]])\n",
    "    med2 = np.mean(z[var1[indice]])\n",
    "    \n",
    "    mediana  = np.median(x[var1[indice]])\n",
    "    mediana1 = np.median(y[var1[indice]])\n",
    "    mediana2 = np.median(z[var1[indice]])\n",
    "\n",
    "    sd  = np.std(x[var1[indice]])\n",
    "    sd1 = np.std(y[var1[indice]])\n",
    "    sd2 = np.std(z[var1[indice]])\n",
    "\n",
    "    print(f'Desvio original {sd}, desvio para amostra 1 = {sd1}, desvio para amostra 2 = {sd2}\\n')\n",
    "    print(f'Media original: {med}, media 1: {med1}, media 2: {med2}\\n')\n",
    "    print(f'Mediana original: {mediana}, mediana 1: {mediana1}, mediana 2: {mediana2}\\n')\n",
    "    print(f'Amostra original: {len(x[var1[indice]])} | Amostra 1: {len(y[var1[indice]])} | Amostra 2: {len(z[var1[indice]])}')"
   ]
  },
  {
   "cell_type": "code",
   "execution_count": 8,
   "id": "af03272d",
   "metadata": {
    "ExecuteTime": {
     "end_time": "2022-06-04T20:33:22.751777Z",
     "start_time": "2022-06-04T20:33:22.682469Z"
    }
   },
   "outputs": [],
   "source": [
    "var1 = ['BMI','PhysicalHealth', 'MentalHealth','SleepTime']\n",
    "var2 = ['White', 'Black']\n",
    "a = 0\n",
    "aa = 0\n",
    "\n",
    "df_tt = df[(df['Race'] == var2[a]) & (df['HeartDisease'] == 'Yes')]\n",
    "\n",
    "qtd1 = int(len(df_tt) * 0.025)\n",
    "\n",
    "df_1 = df_tt[df_tt['Race'] == var2[a]].sample(qtd1)\n",
    "df_2 = df_tt[df_tt['Race'] == var2[a]].sample(qtd1*5)"
   ]
  },
  {
   "cell_type": "markdown",
   "id": "f7d31a95",
   "metadata": {},
   "source": [
    "#### Extratifica sem reposicao"
   ]
  },
  {
   "cell_type": "code",
   "execution_count": 9,
   "id": "17c23bb8",
   "metadata": {
    "ExecuteTime": {
     "end_time": "2022-06-04T20:33:23.102590Z",
     "start_time": "2022-06-04T20:33:23.080573Z"
    }
   },
   "outputs": [],
   "source": [
    "qtd2 = int(len(df_2) * 0.05)\n",
    "df_12 = df_2[df_2['Race'] == var2[a]].sample(qtd2)\n",
    "df_22 = df_2[df_2['Race'] == var2[a]].sample(qtd2*5)"
   ]
  },
  {
   "cell_type": "code",
   "execution_count": 10,
   "id": "c8a23e25",
   "metadata": {
    "ExecuteTime": {
     "end_time": "2022-06-04T20:33:23.308506Z",
     "start_time": "2022-06-04T20:33:23.293490Z"
    }
   },
   "outputs": [
    {
     "name": "stdout",
     "output_type": "stream",
     "text": [
      "Desvio original 6.371647180936933, desvio para amostra 1 = 5.907000843908397, desvio para amostra 2 = 6.3394009001082\n",
      "\n",
      "Media original: 29.20698404940685, media 1: 29.26325622775801, media 2: 29.328377224199286\n",
      "\n",
      "Mediana original: 28.25, mediana 1: 28.34, mediana 2: 28.305\n",
      "\n",
      "Amostra original: 22507 | Amostra 1: 562 | Amostra 2: 2810\n"
     ]
    }
   ],
   "source": [
    "calculos_est(df_tt,df_1, df_2, var1, aa)"
   ]
  },
  {
   "cell_type": "code",
   "execution_count": 11,
   "id": "2cf4ac23",
   "metadata": {
    "ExecuteTime": {
     "end_time": "2022-06-04T20:33:23.858596Z",
     "start_time": "2022-06-04T20:33:23.463211Z"
    }
   },
   "outputs": [
    {
     "data": {
      "image/png": "[encoded data removed]",
      "text/plain": [
       "<Figure size 1440x360 with 3 Axes>"
      ]
     },
     "metadata": {
      "needs_background": "light"
     },
     "output_type": "display_data"
    }
   ],
   "source": [
    "plot_est_random(df_tt,df_1, df_2, var1, aa)"
   ]
  },
  {
   "cell_type": "code",
   "execution_count": 12,
   "id": "8cd194cc",
   "metadata": {
    "ExecuteTime": {
     "end_time": "2022-06-04T20:33:23.954599Z",
     "start_time": "2022-06-04T20:33:23.939595Z"
    }
   },
   "outputs": [
    {
     "name": "stdout",
     "output_type": "stream",
     "text": [
      "Desvio original 6.3394009001082, desvio para amostra 1 = 6.268394790127529, desvio para amostra 2 = 6.205153047809111\n",
      "\n",
      "Media original: 29.328377224199286, media 1: 29.37442857142857, media 2: 29.351442857142853\n",
      "\n",
      "Mediana original: 28.305, mediana 1: 28.285, mediana 2: 28.39\n",
      "\n",
      "Amostra original: 2810 | Amostra 1: 140 | Amostra 2: 700\n"
     ]
    }
   ],
   "source": [
    "calculos_est(df_2,df_12, df_22, var1, aa)"
   ]
  },
  {
   "cell_type": "code",
   "execution_count": 13,
   "id": "28e823f7",
   "metadata": {
    "ExecuteTime": {
     "end_time": "2022-06-04T20:33:24.368692Z",
     "start_time": "2022-06-04T20:33:24.035618Z"
    }
   },
   "outputs": [
    {
     "data": {
      "image/png": "[encoded data removed]",
      "text/plain": [
       "<Figure size 1440x360 with 3 Axes>"
      ]
     },
     "metadata": {
      "needs_background": "light"
     },
     "output_type": "display_data"
    }
   ],
   "source": [
    "plot_est_random(df_2,df_12, df_22, var1, aa)"
   ]
  },
  {
   "cell_type": "markdown",
   "id": "a6ae696d",
   "metadata": {},
   "source": [
    "#### Modificações nas colunas "
   ]
  },
  {
   "cell_type": "code",
   "execution_count": 36,
   "id": "d92b9ea5",
   "metadata": {
    "ExecuteTime": {
     "end_time": "2022-06-04T20:36:34.720537Z",
     "start_time": "2022-06-04T20:36:34.403461Z"
    }
   },
   "outputs": [],
   "source": [
    "df.GenHealth = [x if x != 'Very good' else 'VeryGood' for x in df.GenHealth]\n",
    "df.AgeCategory = [x if x != '80 or older' else 'gt80' for x in df.AgeCategory]\n",
    "df.HeartDisease = [1 if x != 'No' else 0 for x in df.HeartDisease]\n",
    "df.Diabetic = [x if x != 'Yes (during pregnancy)' else 'ydp' for x in df.Diabetic]"
   ]
  },
  {
   "cell_type": "markdown",
   "id": "c7dbeec5",
   "metadata": {},
   "source": [
    "### Recarregando o Dataset original com filtro para hipoteses com IMC e horas de sono para negros e brancos"
   ]
  },
  {
   "cell_type": "markdown",
   "id": "bf078f93",
   "metadata": {},
   "source": [
    "#### Negros "
   ]
  },
  {
   "cell_type": "code",
   "execution_count": 74,
   "id": "79f26082",
   "metadata": {
    "ExecuteTime": {
     "end_time": "2022-06-04T21:20:34.272004Z",
     "start_time": "2022-06-04T21:20:34.203080Z"
    }
   },
   "outputs": [],
   "source": [
    "ndf_dc = df[(df['BMI'] > 35) & (df['SleepTime'] > 5) & (df['Race'] == 'Black')] #hipotese obesos e com mais de 5 horas de sono\n",
    "ndf_dc2 = df[(df['BMI'] > 35) & (df['SleepTime'] < 5) & (df['Race'] == 'Black')] #hipotese obesos e com menos de 5 horas de sono\n",
    "ndf_dc3 = df[(df['BMI'] < 35) & (df['SleepTime'] < 5) & (df['Race'] == 'Black')] #hipotese obesos e com menos de 5 horas de sono"
   ]
  },
  {
   "cell_type": "markdown",
   "id": "3b5abc55",
   "metadata": {},
   "source": [
    "#### Comparativo entre os que tem doenca ja e o total NEGROS"
   ]
  },
  {
   "cell_type": "code",
   "execution_count": 75,
   "id": "5bda383e",
   "metadata": {
    "ExecuteTime": {
     "end_time": "2022-06-04T21:20:35.263979Z",
     "start_time": "2022-06-04T21:20:35.244957Z"
    }
   },
   "outputs": [
    {
     "name": "stdout",
     "output_type": "stream",
     "text": [
      "Taxa de pessoas com doenças cardiacas com IMC > 35 e mais de 5 horas de sono: 9.0%\n",
      "Taxa de pessoas com doenças cardiacas com IMC > 35 e menos de 5 horas de sono: 12.0%\n",
      "Taxa de pessoas com doenças cardiacas com IMC < 35 e menos de 5 horas de sono: 13.0%\n"
     ]
    }
   ],
   "source": [
    "x = ndf_dc['HeartDisease'].value_counts()\n",
    "print(f'Taxa de pessoas com doenças cardiacas com IMC > 35 e mais de 5 horas de sono: {round(x[1]/len(ndf_dc), 2) * 100}%')\n",
    "\n",
    "x2 = ndf_dc2['HeartDisease'].value_counts()\n",
    "print(f'Taxa de pessoas com doenças cardiacas com IMC > 35 e menos de 5 horas de sono: {round(x2[1]/len(ndf_dc2), 2) * 100}%')\n",
    "\n",
    "x3 = ndf_dc3['HeartDisease'].value_counts()\n",
    "print(f'Taxa de pessoas com doenças cardiacas com IMC < 35 e menos de 5 horas de sono: {round(x3[1]/len(ndf_dc3), 2) * 100}%')"
   ]
  },
  {
   "cell_type": "markdown",
   "id": "dc57b477",
   "metadata": {},
   "source": [
    "### Avaliação por agrupamento em negros"
   ]
  },
  {
   "cell_type": "code",
   "execution_count": 76,
   "id": "21a90b95",
   "metadata": {
    "ExecuteTime": {
     "end_time": "2022-06-04T21:20:42.426920Z",
     "start_time": "2022-06-04T21:20:42.401913Z"
    }
   },
   "outputs": [
    {
     "data": {
      "text/html": [
       "<style type=\"text/css\">\n",
       "#T_7792f_row0_col0 {\n",
       "  width: 10em;\n",
       "  background: linear-gradient(90deg, #AABB00 63.6%, transparent 63.6%);\n",
       "}\n",
       "#T_7792f_row1_col0 {\n",
       "  width: 10em;\n",
       "  background: linear-gradient(90deg, #AABB00 100.0%, transparent 100.0%);\n",
       "}\n",
       "#T_7792f_row2_col0 {\n",
       "  width: 10em;\n",
       "  background: linear-gradient(90deg, #AABB00 2.2%, transparent 2.2%);\n",
       "}\n",
       "#T_7792f_row3_col0 {\n",
       "  width: 10em;\n",
       "  background: linear-gradient(90deg, #AABB00 3.5%, transparent 3.5%);\n",
       "}\n",
       "#T_7792f_row4_col0 {\n",
       "  width: 10em;\n",
       "  background: linear-gradient(90deg, #AABB00 18.7%, transparent 18.7%);\n",
       "}\n",
       "#T_7792f_row5_col0 {\n",
       "  width: 10em;\n",
       "  background: linear-gradient(90deg, #AABB00 46.1%, transparent 46.1%);\n",
       "}\n",
       "#T_7792f_row6_col0 {\n",
       "  width: 10em;\n",
       "  background: linear-gradient(90deg, #AABB00 1.2%, transparent 1.2%);\n",
       "}\n",
       "#T_7792f_row7_col0 {\n",
       "  width: 10em;\n",
       "  background: linear-gradient(90deg, #AABB00 1.5%, transparent 1.5%);\n",
       "}\n",
       "</style>\n",
       "<table id=\"T_7792f\">\n",
       "  <thead>\n",
       "    <tr>\n",
       "      <th class=\"blank\" >&nbsp;</th>\n",
       "      <th class=\"blank\" >&nbsp;</th>\n",
       "      <th class=\"blank\" >&nbsp;</th>\n",
       "      <th class=\"blank level0\" >&nbsp;</th>\n",
       "      <th id=\"T_7792f_level0_col0\" class=\"col_heading level0 col0\" >HeartDisease</th>\n",
       "      <th id=\"T_7792f_level0_col1\" class=\"col_heading level0 col1\" >BMI</th>\n",
       "      <th id=\"T_7792f_level0_col2\" class=\"col_heading level0 col2\" >SleepTime</th>\n",
       "    </tr>\n",
       "    <tr>\n",
       "      <th class=\"index_name level0\" >Race</th>\n",
       "      <th class=\"index_name level1\" >Sex</th>\n",
       "      <th class=\"index_name level2\" >AlcoholDrinking</th>\n",
       "      <th class=\"index_name level3\" >PhysicalActivity</th>\n",
       "      <th class=\"blank col0\" >&nbsp;</th>\n",
       "      <th class=\"blank col1\" >&nbsp;</th>\n",
       "      <th class=\"blank col2\" >&nbsp;</th>\n",
       "    </tr>\n",
       "  </thead>\n",
       "  <tbody>\n",
       "    <tr>\n",
       "      <th id=\"T_7792f_level0_row0\" class=\"row_heading level0 row0\" rowspan=\"8\">Black</th>\n",
       "      <th id=\"T_7792f_level1_row0\" class=\"row_heading level1 row0\" rowspan=\"4\">Female</th>\n",
       "      <th id=\"T_7792f_level2_row0\" class=\"row_heading level2 row0\" rowspan=\"2\">No</th>\n",
       "      <th id=\"T_7792f_level3_row0\" class=\"row_heading level3 row0\" >No</th>\n",
       "      <td id=\"T_7792f_row0_col0\" class=\"data row0 col0\" >1048</td>\n",
       "      <td id=\"T_7792f_row0_col1\" class=\"data row0 col1\" >41.933483</td>\n",
       "      <td id=\"T_7792f_row0_col2\" class=\"data row0 col2\" >                7.48 h/dia</td>\n",
       "    </tr>\n",
       "    <tr>\n",
       "      <th id=\"T_7792f_level3_row1\" class=\"row_heading level3 row1\" >Yes</th>\n",
       "      <td id=\"T_7792f_row1_col0\" class=\"data row1 col0\" >1648</td>\n",
       "      <td id=\"T_7792f_row1_col1\" class=\"data row1 col1\" >40.593525</td>\n",
       "      <td id=\"T_7792f_row1_col2\" class=\"data row1 col2\" >                7.36 h/dia</td>\n",
       "    </tr>\n",
       "    <tr>\n",
       "      <th id=\"T_7792f_level2_row2\" class=\"row_heading level2 row2\" rowspan=\"2\">Yes</th>\n",
       "      <th id=\"T_7792f_level3_row2\" class=\"row_heading level3 row2\" >No</th>\n",
       "      <td id=\"T_7792f_row2_col0\" class=\"data row2 col0\" >36</td>\n",
       "      <td id=\"T_7792f_row2_col1\" class=\"data row2 col1\" >41.237778</td>\n",
       "      <td id=\"T_7792f_row2_col2\" class=\"data row2 col2\" >                7.33 h/dia</td>\n",
       "    </tr>\n",
       "    <tr>\n",
       "      <th id=\"T_7792f_level3_row3\" class=\"row_heading level3 row3\" >Yes</th>\n",
       "      <td id=\"T_7792f_row3_col0\" class=\"data row3 col0\" >58</td>\n",
       "      <td id=\"T_7792f_row3_col1\" class=\"data row3 col1\" >40.699310</td>\n",
       "      <td id=\"T_7792f_row3_col2\" class=\"data row3 col2\" >                7.24 h/dia</td>\n",
       "    </tr>\n",
       "    <tr>\n",
       "      <th id=\"T_7792f_level1_row4\" class=\"row_heading level1 row4\" rowspan=\"4\">Male</th>\n",
       "      <th id=\"T_7792f_level2_row4\" class=\"row_heading level2 row4\" rowspan=\"2\">No</th>\n",
       "      <th id=\"T_7792f_level3_row4\" class=\"row_heading level3 row4\" >No</th>\n",
       "      <td id=\"T_7792f_row4_col0\" class=\"data row4 col0\" >308</td>\n",
       "      <td id=\"T_7792f_row4_col1\" class=\"data row4 col1\" >40.825584</td>\n",
       "      <td id=\"T_7792f_row4_col2\" class=\"data row4 col2\" >                7.46 h/dia</td>\n",
       "    </tr>\n",
       "    <tr>\n",
       "      <th id=\"T_7792f_level3_row5\" class=\"row_heading level3 row5\" >Yes</th>\n",
       "      <td id=\"T_7792f_row5_col0\" class=\"data row5 col0\" >759</td>\n",
       "      <td id=\"T_7792f_row5_col1\" class=\"data row5 col1\" >40.069012</td>\n",
       "      <td id=\"T_7792f_row5_col2\" class=\"data row5 col2\" >                7.33 h/dia</td>\n",
       "    </tr>\n",
       "    <tr>\n",
       "      <th id=\"T_7792f_level2_row6\" class=\"row_heading level2 row6\" rowspan=\"2\">Yes</th>\n",
       "      <th id=\"T_7792f_level3_row6\" class=\"row_heading level3 row6\" >No</th>\n",
       "      <td id=\"T_7792f_row6_col0\" class=\"data row6 col0\" >19</td>\n",
       "      <td id=\"T_7792f_row6_col1\" class=\"data row6 col1\" >43.824737</td>\n",
       "      <td id=\"T_7792f_row6_col2\" class=\"data row6 col2\" >                8.47 h/dia</td>\n",
       "    </tr>\n",
       "    <tr>\n",
       "      <th id=\"T_7792f_level3_row7\" class=\"row_heading level3 row7\" >Yes</th>\n",
       "      <td id=\"T_7792f_row7_col0\" class=\"data row7 col0\" >25</td>\n",
       "      <td id=\"T_7792f_row7_col1\" class=\"data row7 col1\" >39.236400</td>\n",
       "      <td id=\"T_7792f_row7_col2\" class=\"data row7 col2\" >                6.88 h/dia</td>\n",
       "    </tr>\n",
       "  </tbody>\n",
       "</table>\n"
      ],
      "text/plain": [
       "<pandas.io.formats.style.Styler at 0x18e1a5f4970>"
      ]
     },
     "execution_count": 76,
     "metadata": {},
     "output_type": "execute_result"
    }
   ],
   "source": [
    "(ndf_dc.groupby(['Race','Sex','AlcoholDrinking','PhysicalActivity']) \\\n",
    "                             .agg({'HeartDisease':'count', 'BMI':'mean', 'SleepTime':'mean'})).style \\\n",
    "                             .format({\"HeartDisease\": \"{:20,.0f}\"}) \\\n",
    "                             .format({\"BMI\": \"{:20,.2f}\"}) \\\n",
    "                             .format({\"SleepTime\": \"{:20,.2f} h/dia\"}) \\\n",
    "                             .bar(subset=[\"HeartDisease\"], color='#AABB00')"
   ]
  },
  {
   "cell_type": "markdown",
   "id": "2ca07ead",
   "metadata": {},
   "source": [
    "#### A chance de ter doença com o cenario \n"
   ]
  },
  {
   "cell_type": "code",
   "execution_count": 96,
   "id": "bcd59f9e",
   "metadata": {
    "ExecuteTime": {
     "end_time": "2022-06-04T21:25:50.005773Z",
     "start_time": "2022-06-04T21:25:49.998766Z"
    }
   },
   "outputs": [
    {
     "name": "stdout",
     "output_type": "stream",
     "text": [
      "Pessoas negras com o IMC > 35 e que dormem menos de 5 horas por dias tem 9.98 % a mais de chance de ter doença cardíaca.\n"
     ]
    }
   ],
   "source": [
    "x = ndf_dc['HeartDisease'].value_counts()\n",
    "print(f'Pessoas negras com o IMC > 35 e que dormem menos de 5 horas por dias tem {round(x[1]/x[0],4) * 100} \\\n",
    "% a mais de chance de ter doença cardíaca.')"
   ]
  },
  {
   "cell_type": "markdown",
   "id": "2fa71aee",
   "metadata": {},
   "source": [
    "#### Plotagem de IMC para negros "
   ]
  },
  {
   "cell_type": "code",
   "execution_count": 98,
   "id": "33952511",
   "metadata": {
    "ExecuteTime": {
     "end_time": "2022-06-04T21:27:27.009907Z",
     "start_time": "2022-06-04T21:27:26.911885Z"
    }
   },
   "outputs": [
    {
     "data": {
      "image/png": "[encoded data removed]",
      "text/plain": [
       "<Figure size 432x288 with 1 Axes>"
      ]
     },
     "metadata": {
      "needs_background": "light"
     },
     "output_type": "display_data"
    }
   ],
   "source": [
    "plt.hist(ndf_dc['BMI'], bins=15)\n",
    "plt.show()"
   ]
  },
  {
   "cell_type": "markdown",
   "id": "297311c4",
   "metadata": {
    "ExecuteTime": {
     "end_time": "2022-06-04T21:17:19.828881Z",
     "start_time": "2022-06-04T21:17:19.810878Z"
    }
   },
   "source": [
    "#### Brancos"
   ]
  },
  {
   "cell_type": "code",
   "execution_count": 77,
   "id": "6ddf12c9",
   "metadata": {
    "ExecuteTime": {
     "end_time": "2022-06-04T21:21:01.654231Z",
     "start_time": "2022-06-04T21:21:01.569193Z"
    }
   },
   "outputs": [],
   "source": [
    "df_dc = df[(df['BMI'] > 35) & (df['SleepTime'] > 5) & (df['Race'] == 'White')] #hipotese obesos e com mais de 5 horas de sono\n",
    "df_dc2 = df[(df['BMI'] > 35) & (df['SleepTime'] < 5) & (df['Race'] == 'White')] #hipotese obesos e com menos de 5 horas de sono\n",
    "df_dc3 = df[(df['BMI'] < 35) & (df['SleepTime'] < 5) & (df['Race'] == 'White')] #hipotese obesos e com menos de 5 horas de sono"
   ]
  },
  {
   "cell_type": "code",
   "execution_count": 78,
   "id": "eadd83de",
   "metadata": {
    "ExecuteTime": {
     "end_time": "2022-06-04T21:21:02.066304Z",
     "start_time": "2022-06-04T21:21:02.045298Z"
    }
   },
   "outputs": [
    {
     "name": "stdout",
     "output_type": "stream",
     "text": [
      "Taxa de pessoas com doenças cardiacas com IMC > 35 e mais de 5 horas de sono: 11.0%\n",
      "Taxa de pessoas com doenças cardiacas com IMC > 35 e menos de 5 horas de sono: 20.0%\n",
      "Taxa de pessoas com doenças cardiacas com IMC < 35 e menos de 5 horas de sono: 16.0%\n"
     ]
    }
   ],
   "source": [
    "x = df_dc['HeartDisease'].value_counts()\n",
    "print(f'Taxa de pessoas com doenças cardiacas com IMC > 35 e mais de 5 horas de sono: {round(x[1]/len(df_dc), 2) * 100}%')\n",
    "\n",
    "x2 = df_dc2['HeartDisease'].value_counts()\n",
    "print(f'Taxa de pessoas com doenças cardiacas com IMC > 35 e menos de 5 horas de sono: {round(x2[1]/len(df_dc2), 2) * 100}%')\n",
    "\n",
    "x3 = df_dc3['HeartDisease'].value_counts()\n",
    "print(f'Taxa de pessoas com doenças cardiacas com IMC < 35 e menos de 5 horas de sono: {round(x3[1]/len(df_dc3), 2) * 100}%')"
   ]
  },
  {
   "cell_type": "markdown",
   "id": "7c9eb0d0",
   "metadata": {},
   "source": [
    "### Avaliação por agrupamento em brancos"
   ]
  },
  {
   "cell_type": "code",
   "execution_count": 79,
   "id": "ed719033",
   "metadata": {
    "ExecuteTime": {
     "end_time": "2022-06-04T21:21:03.386664Z",
     "start_time": "2022-06-04T21:21:03.359654Z"
    }
   },
   "outputs": [
    {
     "data": {
      "text/html": [
       "<style type=\"text/css\">\n",
       "#T_5ecb1_row0_col0 {\n",
       "  width: 10em;\n",
       "  background: linear-gradient(90deg, #AABB00 63.2%, transparent 63.2%);\n",
       "}\n",
       "#T_5ecb1_row1_col0 {\n",
       "  width: 10em;\n",
       "  background: linear-gradient(90deg, #AABB00 100.0%, transparent 100.0%);\n",
       "}\n",
       "#T_5ecb1_row2_col0 {\n",
       "  width: 10em;\n",
       "  background: linear-gradient(90deg, #AABB00 2.2%, transparent 2.2%);\n",
       "}\n",
       "#T_5ecb1_row3_col0 {\n",
       "  width: 10em;\n",
       "  background: linear-gradient(90deg, #AABB00 4.8%, transparent 4.8%);\n",
       "}\n",
       "#T_5ecb1_row4_col0 {\n",
       "  width: 10em;\n",
       "  background: linear-gradient(90deg, #AABB00 40.6%, transparent 40.6%);\n",
       "}\n",
       "#T_5ecb1_row5_col0 {\n",
       "  width: 10em;\n",
       "  background: linear-gradient(90deg, #AABB00 91.1%, transparent 91.1%);\n",
       "}\n",
       "#T_5ecb1_row6_col0 {\n",
       "  width: 10em;\n",
       "  background: linear-gradient(90deg, #AABB00 2.3%, transparent 2.3%);\n",
       "}\n",
       "#T_5ecb1_row7_col0 {\n",
       "  width: 10em;\n",
       "  background: linear-gradient(90deg, #AABB00 5.6%, transparent 5.6%);\n",
       "}\n",
       "</style>\n",
       "<table id=\"T_5ecb1\">\n",
       "  <thead>\n",
       "    <tr>\n",
       "      <th class=\"blank\" >&nbsp;</th>\n",
       "      <th class=\"blank\" >&nbsp;</th>\n",
       "      <th class=\"blank\" >&nbsp;</th>\n",
       "      <th class=\"blank level0\" >&nbsp;</th>\n",
       "      <th id=\"T_5ecb1_level0_col0\" class=\"col_heading level0 col0\" >HeartDisease</th>\n",
       "      <th id=\"T_5ecb1_level0_col1\" class=\"col_heading level0 col1\" >BMI</th>\n",
       "      <th id=\"T_5ecb1_level0_col2\" class=\"col_heading level0 col2\" >SleepTime</th>\n",
       "    </tr>\n",
       "    <tr>\n",
       "      <th class=\"index_name level0\" >Race</th>\n",
       "      <th class=\"index_name level1\" >Sex</th>\n",
       "      <th class=\"index_name level2\" >AlcoholDrinking</th>\n",
       "      <th class=\"index_name level3\" >PhysicalActivity</th>\n",
       "      <th class=\"blank col0\" >&nbsp;</th>\n",
       "      <th class=\"blank col1\" >&nbsp;</th>\n",
       "      <th class=\"blank col2\" >&nbsp;</th>\n",
       "    </tr>\n",
       "  </thead>\n",
       "  <tbody>\n",
       "    <tr>\n",
       "      <th id=\"T_5ecb1_level0_row0\" class=\"row_heading level0 row0\" rowspan=\"8\">White</th>\n",
       "      <th id=\"T_5ecb1_level1_row0\" class=\"row_heading level1 row0\" rowspan=\"4\">Female</th>\n",
       "      <th id=\"T_5ecb1_level2_row0\" class=\"row_heading level2 row0\" rowspan=\"2\">No</th>\n",
       "      <th id=\"T_5ecb1_level3_row0\" class=\"row_heading level3 row0\" >No</th>\n",
       "      <td id=\"T_5ecb1_row0_col0\" class=\"data row0 col0\" >5328</td>\n",
       "      <td id=\"T_5ecb1_row0_col1\" class=\"data row0 col1\" >41.197727</td>\n",
       "      <td id=\"T_5ecb1_row0_col2\" class=\"data row0 col2\" >                7.54 h/dia</td>\n",
       "    </tr>\n",
       "    <tr>\n",
       "      <th id=\"T_5ecb1_level3_row1\" class=\"row_heading level3 row1\" >Yes</th>\n",
       "      <td id=\"T_5ecb1_row1_col0\" class=\"data row1 col0\" >8429</td>\n",
       "      <td id=\"T_5ecb1_row1_col1\" class=\"data row1 col1\" >40.186754</td>\n",
       "      <td id=\"T_5ecb1_row1_col2\" class=\"data row1 col2\" >                7.29 h/dia</td>\n",
       "    </tr>\n",
       "    <tr>\n",
       "      <th id=\"T_5ecb1_level2_row2\" class=\"row_heading level2 row2\" rowspan=\"2\">Yes</th>\n",
       "      <th id=\"T_5ecb1_level3_row2\" class=\"row_heading level3 row2\" >No</th>\n",
       "      <td id=\"T_5ecb1_row2_col0\" class=\"data row2 col0\" >188</td>\n",
       "      <td id=\"T_5ecb1_row2_col1\" class=\"data row2 col1\" >40.292713</td>\n",
       "      <td id=\"T_5ecb1_row2_col2\" class=\"data row2 col2\" >                7.62 h/dia</td>\n",
       "    </tr>\n",
       "    <tr>\n",
       "      <th id=\"T_5ecb1_level3_row3\" class=\"row_heading level3 row3\" >Yes</th>\n",
       "      <td id=\"T_5ecb1_row3_col0\" class=\"data row3 col0\" >406</td>\n",
       "      <td id=\"T_5ecb1_row3_col1\" class=\"data row3 col1\" >39.627562</td>\n",
       "      <td id=\"T_5ecb1_row3_col2\" class=\"data row3 col2\" >                7.36 h/dia</td>\n",
       "    </tr>\n",
       "    <tr>\n",
       "      <th id=\"T_5ecb1_level1_row4\" class=\"row_heading level1 row4\" rowspan=\"4\">Male</th>\n",
       "      <th id=\"T_5ecb1_level2_row4\" class=\"row_heading level2 row4\" rowspan=\"2\">No</th>\n",
       "      <th id=\"T_5ecb1_level3_row4\" class=\"row_heading level3 row4\" >No</th>\n",
       "      <td id=\"T_5ecb1_row4_col0\" class=\"data row4 col0\" >3426</td>\n",
       "      <td id=\"T_5ecb1_row4_col1\" class=\"data row4 col1\" >40.515058</td>\n",
       "      <td id=\"T_5ecb1_row4_col2\" class=\"data row4 col2\" >                7.48 h/dia</td>\n",
       "    </tr>\n",
       "    <tr>\n",
       "      <th id=\"T_5ecb1_level3_row5\" class=\"row_heading level3 row5\" >Yes</th>\n",
       "      <td id=\"T_5ecb1_row5_col0\" class=\"data row5 col0\" >7678</td>\n",
       "      <td id=\"T_5ecb1_row5_col1\" class=\"data row5 col1\" >39.288780</td>\n",
       "      <td id=\"T_5ecb1_row5_col2\" class=\"data row5 col2\" >                7.22 h/dia</td>\n",
       "    </tr>\n",
       "    <tr>\n",
       "      <th id=\"T_5ecb1_level2_row6\" class=\"row_heading level2 row6\" rowspan=\"2\">Yes</th>\n",
       "      <th id=\"T_5ecb1_level3_row6\" class=\"row_heading level3 row6\" >No</th>\n",
       "      <td id=\"T_5ecb1_row6_col0\" class=\"data row6 col0\" >196</td>\n",
       "      <td id=\"T_5ecb1_row6_col1\" class=\"data row6 col1\" >39.750561</td>\n",
       "      <td id=\"T_5ecb1_row6_col2\" class=\"data row6 col2\" >                7.45 h/dia</td>\n",
       "    </tr>\n",
       "    <tr>\n",
       "      <th id=\"T_5ecb1_level3_row7\" class=\"row_heading level3 row7\" >Yes</th>\n",
       "      <td id=\"T_5ecb1_row7_col0\" class=\"data row7 col0\" >470</td>\n",
       "      <td id=\"T_5ecb1_row7_col1\" class=\"data row7 col1\" >39.015043</td>\n",
       "      <td id=\"T_5ecb1_row7_col2\" class=\"data row7 col2\" >                7.16 h/dia</td>\n",
       "    </tr>\n",
       "  </tbody>\n",
       "</table>\n"
      ],
      "text/plain": [
       "<pandas.io.formats.style.Styler at 0x18e1e555780>"
      ]
     },
     "execution_count": 79,
     "metadata": {},
     "output_type": "execute_result"
    }
   ],
   "source": [
    "(df_dc.groupby(['Race','Sex','AlcoholDrinking','PhysicalActivity']) \\\n",
    "                             .agg({'HeartDisease':'count', 'BMI':'mean', 'SleepTime':'mean'})).style \\\n",
    "                             .format({\"HeartDisease\": \"{:20,.0f}\"}) \\\n",
    "                             .format({\"BMI\": \"{:20,.2f}\"}) \\\n",
    "                             .format({\"SleepTime\": \"{:20,.2f} h/dia\"}) \\\n",
    "                             .bar(subset=[\"HeartDisease\"], color='#AABB00')"
   ]
  },
  {
   "cell_type": "markdown",
   "id": "bf104b9e",
   "metadata": {},
   "source": [
    "#### A chance de ter doença com o cenario "
   ]
  },
  {
   "cell_type": "code",
   "execution_count": 101,
   "id": "17bb5a91",
   "metadata": {
    "ExecuteTime": {
     "end_time": "2022-06-04T21:30:53.977323Z",
     "start_time": "2022-06-04T21:30:53.968308Z"
    }
   },
   "outputs": [
    {
     "name": "stdout",
     "output_type": "stream",
     "text": [
      "Pessoas brancas com o IMC > 35 e que dormem menos de 5 horas por dias tem 12.6 % a mais de chance de ter doença cardíaca.\n"
     ]
    }
   ],
   "source": [
    "x = df_dc['HeartDisease'].value_counts()\n",
    "print(f'Pessoas brancas com o IMC > 35 e que dormem menos de 5 horas por dias tem {round(x[1]/x[0],3) * 100} \\\n",
    "% a mais de chance de ter doença cardíaca.')"
   ]
  },
  {
   "cell_type": "markdown",
   "id": "dfae8225",
   "metadata": {},
   "source": [
    "#### Plotagem dos IMC para brancos "
   ]
  },
  {
   "cell_type": "code",
   "execution_count": 99,
   "id": "9f9a84a2",
   "metadata": {
    "ExecuteTime": {
     "end_time": "2022-06-04T21:27:31.844987Z",
     "start_time": "2022-06-04T21:27:31.743971Z"
    }
   },
   "outputs": [
    {
     "data": {
      "image/png": "[encoded data removed]",
      "text/plain": [
       "<Figure size 432x288 with 1 Axes>"
      ]
     },
     "metadata": {
      "needs_background": "light"
     },
     "output_type": "display_data"
    }
   ],
   "source": [
    "plt.hist(df_dc['BMI'], bins=15)\n",
    "plt.show()"
   ]
  },
  {
   "cell_type": "code",
   "execution_count": 17,
   "id": "286d792a",
   "metadata": {
    "ExecuteTime": {
     "end_time": "2022-06-04T13:12:36.295676Z",
     "start_time": "2022-06-04T13:12:36.274671Z"
    }
   },
   "outputs": [
    {
     "data": {
      "text/html": [
       "<style type=\"text/css\">\n",
       "#T_a40c3_row0_col0, #T_a40c3_row1_col1, #T_a40c3_row2_col2, #T_a40c3_row3_col3 {\n",
       "  background-color: #08306b;\n",
       "  color: #f1f1f1;\n",
       "  color: black;\n",
       "  color: white;\n",
       "}\n",
       "#T_a40c3_row0_col1 {\n",
       "  background-color: #eef5fc;\n",
       "  color: #000000;\n",
       "  color: black;\n",
       "  color: black;\n",
       "}\n",
       "#T_a40c3_row0_col2 {\n",
       "  background-color: #eaf2fb;\n",
       "  color: #000000;\n",
       "  color: black;\n",
       "  color: black;\n",
       "}\n",
       "#T_a40c3_row0_col3, #T_a40c3_row3_col0, #T_a40c3_row3_col1, #T_a40c3_row3_col2 {\n",
       "  background-color: #f7fbff;\n",
       "  color: #000000;\n",
       "  color: black;\n",
       "  color: black;\n",
       "}\n",
       "#T_a40c3_row1_col0 {\n",
       "  background-color: #e1edf8;\n",
       "  color: #000000;\n",
       "  color: black;\n",
       "  color: black;\n",
       "}\n",
       "#T_a40c3_row1_col2 {\n",
       "  background-color: #c2d9ee;\n",
       "  color: #000000;\n",
       "  color: black;\n",
       "  color: black;\n",
       "}\n",
       "#T_a40c3_row1_col3 {\n",
       "  background-color: #e9f2fa;\n",
       "  color: #000000;\n",
       "  color: black;\n",
       "  color: black;\n",
       "}\n",
       "#T_a40c3_row2_col0 {\n",
       "  background-color: #e7f0fa;\n",
       "  color: #000000;\n",
       "  color: black;\n",
       "  color: black;\n",
       "}\n",
       "#T_a40c3_row2_col1 {\n",
       "  background-color: #cddff1;\n",
       "  color: #000000;\n",
       "  color: black;\n",
       "  color: black;\n",
       "}\n",
       "#T_a40c3_row2_col3 {\n",
       "  background-color: #f5f9fe;\n",
       "  color: #000000;\n",
       "  color: black;\n",
       "  color: black;\n",
       "}\n",
       "</style>\n",
       "<table id=\"T_a40c3\">\n",
       "  <thead>\n",
       "    <tr>\n",
       "      <th class=\"blank level0\" >&nbsp;</th>\n",
       "      <th id=\"T_a40c3_level0_col0\" class=\"col_heading level0 col0\" >BMI</th>\n",
       "      <th id=\"T_a40c3_level0_col1\" class=\"col_heading level0 col1\" >PhysicalHealth</th>\n",
       "      <th id=\"T_a40c3_level0_col2\" class=\"col_heading level0 col2\" >MentalHealth</th>\n",
       "      <th id=\"T_a40c3_level0_col3\" class=\"col_heading level0 col3\" >SleepTime</th>\n",
       "    </tr>\n",
       "  </thead>\n",
       "  <tbody>\n",
       "    <tr>\n",
       "      <th id=\"T_a40c3_level0_row0\" class=\"row_heading level0 row0\" >BMI</th>\n",
       "      <td id=\"T_a40c3_row0_col0\" class=\"data row0 col0\" >1.000000</td>\n",
       "      <td id=\"T_a40c3_row0_col1\" class=\"data row0 col1\" >0.119537</td>\n",
       "      <td id=\"T_a40c3_row0_col2\" class=\"data row0 col2\" >0.089177</td>\n",
       "      <td id=\"T_a40c3_row0_col3\" class=\"data row0 col3\" >0.007166</td>\n",
       "    </tr>\n",
       "    <tr>\n",
       "      <th id=\"T_a40c3_level0_row1\" class=\"row_heading level0 row1\" >PhysicalHealth</th>\n",
       "      <td id=\"T_a40c3_row1_col0\" class=\"data row1 col0\" >0.119537</td>\n",
       "      <td id=\"T_a40c3_row1_col1\" class=\"data row1 col1\" >1.000000</td>\n",
       "      <td id=\"T_a40c3_row1_col2\" class=\"data row1 col2\" >0.278843</td>\n",
       "      <td id=\"T_a40c3_row1_col3\" class=\"data row1 col3\" >0.076978</td>\n",
       "    </tr>\n",
       "    <tr>\n",
       "      <th id=\"T_a40c3_level0_row2\" class=\"row_heading level0 row2\" >MentalHealth</th>\n",
       "      <td id=\"T_a40c3_row2_col0\" class=\"data row2 col0\" >0.089177</td>\n",
       "      <td id=\"T_a40c3_row2_col1\" class=\"data row2 col1\" >0.278843</td>\n",
       "      <td id=\"T_a40c3_row2_col2\" class=\"data row2 col2\" >1.000000</td>\n",
       "      <td id=\"T_a40c3_row2_col3\" class=\"data row2 col3\" >0.021786</td>\n",
       "    </tr>\n",
       "    <tr>\n",
       "      <th id=\"T_a40c3_level0_row3\" class=\"row_heading level0 row3\" >SleepTime</th>\n",
       "      <td id=\"T_a40c3_row3_col0\" class=\"data row3 col0\" >0.007166</td>\n",
       "      <td id=\"T_a40c3_row3_col1\" class=\"data row3 col1\" >0.076978</td>\n",
       "      <td id=\"T_a40c3_row3_col2\" class=\"data row3 col2\" >0.021786</td>\n",
       "      <td id=\"T_a40c3_row3_col3\" class=\"data row3 col3\" >1.000000</td>\n",
       "    </tr>\n",
       "  </tbody>\n",
       "</table>\n"
      ],
      "text/plain": [
       "<pandas.io.formats.style.Styler at 0x20ff7f82560>"
      ]
     },
     "execution_count": 17,
     "metadata": {},
     "output_type": "execute_result"
    }
   ],
   "source": [
    "df_dc.drop(columns='HeartDisease').corr(method='pearson').style.background_gradient(cmap='Blues') \\\n",
    "                                  .applymap(lambda x: f\"color: {'red' if x <= 0 else 'black'}\")\\\n",
    "                                  .applymap(lambda x: f\"color: {'white' if x == 1 else 'black'}\")"
   ]
  },
  {
   "cell_type": "markdown",
   "id": "defbfe11",
   "metadata": {},
   "source": [
    "#### Describe apenas para numericas "
   ]
  },
  {
   "cell_type": "code",
   "execution_count": 18,
   "id": "8eabe216",
   "metadata": {
    "ExecuteTime": {
     "end_time": "2022-06-04T13:12:40.713661Z",
     "start_time": "2022-06-04T13:12:40.674655Z"
    }
   },
   "outputs": [
    {
     "data": {
      "text/html": [
       "<div>\n",
       "<style scoped>\n",
       "    .dataframe tbody tr th:only-of-type {\n",
       "        vertical-align: middle;\n",
       "    }\n",
       "\n",
       "    .dataframe tbody tr th {\n",
       "        vertical-align: top;\n",
       "    }\n",
       "\n",
       "    .dataframe thead th {\n",
       "        text-align: right;\n",
       "    }\n",
       "</style>\n",
       "<table border=\"1\" class=\"dataframe\">\n",
       "  <thead>\n",
       "    <tr style=\"text-align: right;\">\n",
       "      <th></th>\n",
       "      <th>HeartDisease</th>\n",
       "      <th>BMI</th>\n",
       "      <th>PhysicalHealth</th>\n",
       "      <th>MentalHealth</th>\n",
       "      <th>SleepTime</th>\n",
       "    </tr>\n",
       "  </thead>\n",
       "  <tbody>\n",
       "    <tr>\n",
       "      <th>count</th>\n",
       "      <td>35653.000000</td>\n",
       "      <td>35653.000000</td>\n",
       "      <td>35653.000000</td>\n",
       "      <td>35653.000000</td>\n",
       "      <td>35653.000000</td>\n",
       "    </tr>\n",
       "    <tr>\n",
       "      <th>mean</th>\n",
       "      <td>0.103638</td>\n",
       "      <td>40.289445</td>\n",
       "      <td>4.841276</td>\n",
       "      <td>4.793005</td>\n",
       "      <td>7.348189</td>\n",
       "    </tr>\n",
       "    <tr>\n",
       "      <th>std</th>\n",
       "      <td>0.304794</td>\n",
       "      <td>5.412784</td>\n",
       "      <td>9.244468</td>\n",
       "      <td>8.689768</td>\n",
       "      <td>1.371599</td>\n",
       "    </tr>\n",
       "    <tr>\n",
       "      <th>min</th>\n",
       "      <td>0.000000</td>\n",
       "      <td>35.010000</td>\n",
       "      <td>0.000000</td>\n",
       "      <td>0.000000</td>\n",
       "      <td>6.000000</td>\n",
       "    </tr>\n",
       "    <tr>\n",
       "      <th>25%</th>\n",
       "      <td>0.000000</td>\n",
       "      <td>36.580000</td>\n",
       "      <td>0.000000</td>\n",
       "      <td>0.000000</td>\n",
       "      <td>6.000000</td>\n",
       "    </tr>\n",
       "    <tr>\n",
       "      <th>50%</th>\n",
       "      <td>0.000000</td>\n",
       "      <td>38.650000</td>\n",
       "      <td>0.000000</td>\n",
       "      <td>0.000000</td>\n",
       "      <td>7.000000</td>\n",
       "    </tr>\n",
       "    <tr>\n",
       "      <th>75%</th>\n",
       "      <td>0.000000</td>\n",
       "      <td>42.220000</td>\n",
       "      <td>4.000000</td>\n",
       "      <td>5.000000</td>\n",
       "      <td>8.000000</td>\n",
       "    </tr>\n",
       "    <tr>\n",
       "      <th>max</th>\n",
       "      <td>1.000000</td>\n",
       "      <td>94.850000</td>\n",
       "      <td>30.000000</td>\n",
       "      <td>30.000000</td>\n",
       "      <td>24.000000</td>\n",
       "    </tr>\n",
       "  </tbody>\n",
       "</table>\n",
       "</div>"
      ],
      "text/plain": [
       "       HeartDisease           BMI  PhysicalHealth  MentalHealth     SleepTime\n",
       "count  35653.000000  35653.000000    35653.000000  35653.000000  35653.000000\n",
       "mean       0.103638     40.289445        4.841276      4.793005      7.348189\n",
       "std        0.304794      5.412784        9.244468      8.689768      1.371599\n",
       "min        0.000000     35.010000        0.000000      0.000000      6.000000\n",
       "25%        0.000000     36.580000        0.000000      0.000000      6.000000\n",
       "50%        0.000000     38.650000        0.000000      0.000000      7.000000\n",
       "75%        0.000000     42.220000        4.000000      5.000000      8.000000\n",
       "max        1.000000     94.850000       30.000000     30.000000     24.000000"
      ]
     },
     "execution_count": 18,
     "metadata": {},
     "output_type": "execute_result"
    }
   ],
   "source": [
    "df_dc.describe(include=[np.number])"
   ]
  },
  {
   "cell_type": "markdown",
   "id": "4159d4c6",
   "metadata": {},
   "source": [
    "#### Dummyzation "
   ]
  },
  {
   "cell_type": "code",
   "execution_count": 19,
   "id": "155596bd",
   "metadata": {
    "ExecuteTime": {
     "end_time": "2022-06-04T13:12:42.110975Z",
     "start_time": "2022-06-04T13:12:42.090969Z"
    }
   },
   "outputs": [],
   "source": [
    "df_1 = df.copy() #df[(df['BMI'] > 20)  & (df['SleepTime'] < 6)]"
   ]
  },
  {
   "cell_type": "code",
   "execution_count": 20,
   "id": "46ab2f7f",
   "metadata": {
    "ExecuteTime": {
     "end_time": "2022-06-04T13:12:42.570076Z",
     "start_time": "2022-06-04T13:12:42.558073Z"
    }
   },
   "outputs": [],
   "source": [
    "#df_1.groupby(['Race','Sex','AlcoholDrinking','PhysicalActivity', 'HeartDisease']).agg({'HeartDisease':'count'})"
   ]
  },
  {
   "cell_type": "code",
   "execution_count": 21,
   "id": "291e179a",
   "metadata": {
    "ExecuteTime": {
     "end_time": "2022-06-04T13:12:43.357252Z",
     "start_time": "2022-06-04T13:12:43.032180Z"
    }
   },
   "outputs": [],
   "source": [
    "df_ = pd.get_dummies(df_1, columns=['Smoking', 'AlcoholDrinking', 'Stroke',\n",
    "       'DiffWalking', 'Sex', 'AgeCategory', 'Race', 'Diabetic', 'PhysicalActivity', 'GenHealth',\n",
    "       'Asthma', 'KidneyDisease', 'SkinCancer']) "
   ]
  },
  {
   "cell_type": "code",
   "execution_count": 22,
   "id": "58f19127",
   "metadata": {
    "ExecuteTime": {
     "end_time": "2022-06-04T13:12:46.746011Z",
     "start_time": "2022-06-04T13:12:46.710001Z"
    }
   },
   "outputs": [
    {
     "name": "stdout",
     "output_type": "stream",
     "text": [
      "<class 'pandas.core.frame.DataFrame'>\n",
      "RangeIndex: 319795 entries, 0 to 319794\n",
      "Data columns (total 51 columns):\n",
      " #   Column                               Non-Null Count   Dtype  \n",
      "---  ------                               --------------   -----  \n",
      " 0   HeartDisease                         319795 non-null  int64  \n",
      " 1   BMI                                  319795 non-null  float64\n",
      " 2   PhysicalHealth                       319795 non-null  float64\n",
      " 3   MentalHealth                         319795 non-null  float64\n",
      " 4   SleepTime                            319795 non-null  float64\n",
      " 5   Smoking_No                           319795 non-null  uint8  \n",
      " 6   Smoking_Yes                          319795 non-null  uint8  \n",
      " 7   AlcoholDrinking_No                   319795 non-null  uint8  \n",
      " 8   AlcoholDrinking_Yes                  319795 non-null  uint8  \n",
      " 9   Stroke_No                            319795 non-null  uint8  \n",
      " 10  Stroke_Yes                           319795 non-null  uint8  \n",
      " 11  DiffWalking_No                       319795 non-null  uint8  \n",
      " 12  DiffWalking_Yes                      319795 non-null  uint8  \n",
      " 13  Sex_Female                           319795 non-null  uint8  \n",
      " 14  Sex_Male                             319795 non-null  uint8  \n",
      " 15  AgeCategory_18-24                    319795 non-null  uint8  \n",
      " 16  AgeCategory_25-29                    319795 non-null  uint8  \n",
      " 17  AgeCategory_30-34                    319795 non-null  uint8  \n",
      " 18  AgeCategory_35-39                    319795 non-null  uint8  \n",
      " 19  AgeCategory_40-44                    319795 non-null  uint8  \n",
      " 20  AgeCategory_45-49                    319795 non-null  uint8  \n",
      " 21  AgeCategory_50-54                    319795 non-null  uint8  \n",
      " 22  AgeCategory_55-59                    319795 non-null  uint8  \n",
      " 23  AgeCategory_60-64                    319795 non-null  uint8  \n",
      " 24  AgeCategory_65-69                    319795 non-null  uint8  \n",
      " 25  AgeCategory_70-74                    319795 non-null  uint8  \n",
      " 26  AgeCategory_75-79                    319795 non-null  uint8  \n",
      " 27  AgeCategory_gt80                     319795 non-null  uint8  \n",
      " 28  Race_American Indian/Alaskan Native  319795 non-null  uint8  \n",
      " 29  Race_Asian                           319795 non-null  uint8  \n",
      " 30  Race_Black                           319795 non-null  uint8  \n",
      " 31  Race_Hispanic                        319795 non-null  uint8  \n",
      " 32  Race_Other                           319795 non-null  uint8  \n",
      " 33  Race_White                           319795 non-null  uint8  \n",
      " 34  Diabetic_No                          319795 non-null  uint8  \n",
      " 35  Diabetic_No, borderline diabetes     319795 non-null  uint8  \n",
      " 36  Diabetic_Yes                         319795 non-null  uint8  \n",
      " 37  Diabetic_ydp                         319795 non-null  uint8  \n",
      " 38  PhysicalActivity_No                  319795 non-null  uint8  \n",
      " 39  PhysicalActivity_Yes                 319795 non-null  uint8  \n",
      " 40  GenHealth_Excellent                  319795 non-null  uint8  \n",
      " 41  GenHealth_Fair                       319795 non-null  uint8  \n",
      " 42  GenHealth_Good                       319795 non-null  uint8  \n",
      " 43  GenHealth_Poor                       319795 non-null  uint8  \n",
      " 44  GenHealth_VeryGood                   319795 non-null  uint8  \n",
      " 45  Asthma_No                            319795 non-null  uint8  \n",
      " 46  Asthma_Yes                           319795 non-null  uint8  \n",
      " 47  KidneyDisease_No                     319795 non-null  uint8  \n",
      " 48  KidneyDisease_Yes                    319795 non-null  uint8  \n",
      " 49  SkinCancer_No                        319795 non-null  uint8  \n",
      " 50  SkinCancer_Yes                       319795 non-null  uint8  \n",
      "dtypes: float64(4), int64(1), uint8(46)\n",
      "memory usage: 26.2 MB\n"
     ]
    }
   ],
   "source": [
    "df_.info(memory_usage=\"deep\")"
   ]
  },
  {
   "cell_type": "code",
   "execution_count": 24,
   "id": "ff0c37af",
   "metadata": {
    "ExecuteTime": {
     "end_time": "2022-06-04T13:13:03.609776Z",
     "start_time": "2022-06-04T13:13:03.449740Z"
    }
   },
   "outputs": [
    {
     "data": {
      "image/png": "[encoded data removed]",
      "text/plain": [
       "<Figure size 432x288 with 1 Axes>"
      ]
     },
     "metadata": {
      "needs_background": "light"
     },
     "output_type": "display_data"
    }
   ],
   "source": [
    "plt.hist(df_.HeartDisease)\n",
    "plt.show()"
   ]
  },
  {
   "cell_type": "code",
   "execution_count": null,
   "id": "7bfd0038",
   "metadata": {
    "ExecuteTime": {
     "end_time": "2022-06-03T23:00:32.090452Z",
     "start_time": "2022-06-03T23:00:32.074448Z"
    }
   },
   "outputs": [],
   "source": [
    "#df_.columns"
   ]
  },
  {
   "cell_type": "markdown",
   "id": "a529416e",
   "metadata": {},
   "source": [
    "# Análises nos dados "
   ]
  },
  {
   "cell_type": "markdown",
   "id": "11362959",
   "metadata": {},
   "source": [
    "### Stats Models para escolher variaveis"
   ]
  },
  {
   "cell_type": "code",
   "execution_count": 25,
   "id": "cc97dc10",
   "metadata": {
    "ExecuteTime": {
     "end_time": "2022-06-04T13:14:08.205689Z",
     "start_time": "2022-06-04T13:14:07.172459Z"
    }
   },
   "outputs": [],
   "source": [
    "import statsmodels.api as sm\n",
    "from patsy import dmatrices, dmatrix, demo_data"
   ]
  },
  {
   "cell_type": "markdown",
   "id": "a98940a1",
   "metadata": {},
   "source": [
    "#### Escolha de variáveis "
   ]
  },
  {
   "cell_type": "code",
   "execution_count": 26,
   "id": "6b65ee2b",
   "metadata": {
    "ExecuteTime": {
     "end_time": "2022-06-04T13:14:08.565770Z",
     "start_time": "2022-06-04T13:14:08.551768Z"
    }
   },
   "outputs": [],
   "source": [
    "variaveis = 'HeartDisease ~  BMI + PhysicalHealth + MentalHealth + SleepTime + Smoking_No + \\\n",
    " AlcoholDrinking_No +  AlcoholDrinking_Yes +  Stroke_No +  Stroke_Yes +  DiffWalking_No +  DiffWalking_Yes + \\\n",
    " Q(\"Race_American Indian/Alaskan Native\") + Race_White + Race_Asian +  Race_Black +  Race_Hispanic +  Race_Other + \\\n",
    " Sex_Female +  Sex_Male +  Q(\"AgeCategory_18-24\") +  Q(\"AgeCategory_25-29\") +  Q(\"AgeCategory_30-34\") +  Q(\"AgeCategory_35-39\") + \\\n",
    " Q(\"AgeCategory_40-44\") +  Q(\"AgeCategory_45-49\") +  Q(\"AgeCategory_50-54\") +  Q(\"AgeCategory_55-59\") +  Q(\"AgeCategory_60-64\") + \\\n",
    " Q(\"AgeCategory_65-69\") +  Q(\"AgeCategory_70-74\") +  Q(\"AgeCategory_75-79\") +  AgeCategory_gt80 + \\\n",
    " Diabetic_Yes +  PhysicalActivity_No +  PhysicalActivity_Yes +  GenHealth_Excellent +  GenHealth_Fair + \\\n",
    " GenHealth_Poor +  GenHealth_VeryGood +  Asthma_No +  Asthma_Yes +  KidneyDisease_No +  KidneyDisease_Yes + \\\n",
    " SkinCancer_No +  SkinCancer_Yes'\n",
    "\n",
    "\n",
    "# Q(\"Race_American Indian/Alaskan Native\") + \\  Race_Asian +  Race_Black +  Race_Hispanic +  Race_Other + "
   ]
  },
  {
   "cell_type": "markdown",
   "id": "75fef072",
   "metadata": {},
   "source": [
    "#### Avaliando os Betas "
   ]
  },
  {
   "cell_type": "code",
   "execution_count": 27,
   "id": "a4a68f4e",
   "metadata": {
    "ExecuteTime": {
     "end_time": "2022-06-04T13:14:09.496978Z",
     "start_time": "2022-06-04T13:14:08.996868Z"
    }
   },
   "outputs": [],
   "source": [
    "y_treino, X_treino = dmatrices(variaveis, \n",
    "                 data=df_, return_type='dataframe')"
   ]
  },
  {
   "cell_type": "code",
   "execution_count": 28,
   "id": "2014bdb8",
   "metadata": {
    "ExecuteTime": {
     "end_time": "2022-06-04T13:14:20.964538Z",
     "start_time": "2022-06-04T13:14:10.622231Z"
    }
   },
   "outputs": [
    {
     "name": "stdout",
     "output_type": "stream",
     "text": [
      "                            Results: Generalized linear model\n",
      "=========================================================================================\n",
      "Model:                       GLM                     AIC:                   145232.2431  \n",
      "Link Function:               Logit                   BIC:                   -3907924.3192\n",
      "Dependent Variable:          HeartDisease            Log-Likelihood:        -72580.      \n",
      "Date:                        2022-06-04 10:14        LL-Null:               -93453.      \n",
      "No. Observations:            319795                  Deviance:              1.4516e+05   \n",
      "Df Model:                    35                      Pearson chi2:          3.04e+05     \n",
      "Df Residuals:                319759                  Scale:                 1.0000       \n",
      "Method:                      IRLS                                                        \n",
      "-----------------------------------------------------------------------------------------\n",
      "                                          Coef.  Std.Err.    z     P>|z|   [0.025  0.975]\n",
      "-----------------------------------------------------------------------------------------\n",
      "Intercept                                -0.4092   0.0107 -38.1251 0.0000 -0.4302 -0.3881\n",
      "BMI                                       0.0087   0.0011   7.6120 0.0000  0.0065  0.0109\n",
      "PhysicalHealth                            0.0032   0.0009   3.6618 0.0003  0.0015  0.0049\n",
      "MentalHealth                              0.0048   0.0009   5.3841 0.0000  0.0030  0.0065\n",
      "SleepTime                                -0.0252   0.0043  -5.8065 0.0000 -0.0337 -0.0167\n",
      "Smoking_No                               -0.3563   0.0144 -24.7912 0.0000 -0.3845 -0.3281\n",
      "AlcoholDrinking_No                       -0.0840   0.0163  -5.1563 0.0000 -0.1159 -0.0521\n",
      "AlcoholDrinking_Yes                      -0.3252   0.0188 -17.2766 0.0000 -0.3620 -0.2883\n",
      "Stroke_No                                -0.7282   0.0118 -61.6808 0.0000 -0.7513 -0.7050\n",
      "Stroke_Yes                                0.3190   0.0132  24.1593 0.0000  0.2931  0.3449\n",
      "DiffWalking_No                           -0.3111   0.0098 -31.7377 0.0000 -0.3303 -0.2919\n",
      "DiffWalking_Yes                          -0.0981   0.0112  -8.7292 0.0000 -0.1201 -0.0760\n",
      "Q(\"Race_American Indian/Alaskan Native\")  0.1439   0.0450   3.2006 0.0014  0.0558  0.2321\n",
      "Race_White                                0.0639   0.0180   3.5389 0.0004  0.0285  0.0993\n",
      "Race_Asian                               -0.3882   0.0574  -6.7575 0.0000 -0.5008 -0.2756\n",
      "Race_Black                               -0.2026   0.0281  -7.2200 0.0000 -0.2576 -0.1476\n",
      "Race_Hispanic                            -0.1102   0.0294  -3.7444 0.0002 -0.1679 -0.0525\n",
      "Race_Other                                0.0840   0.0360   2.3322 0.0197  0.0134  0.1546\n",
      "Sex_Female                               -0.5582   0.0091 -61.4009 0.0000 -0.5760 -0.5404\n",
      "Sex_Male                                  0.1490   0.0090  16.6179 0.0000  0.1315  0.1666\n",
      "Q(\"AgeCategory_18-24\")                   -1.6369   0.0827 -19.8048 0.0000 -1.7989 -1.4749\n",
      "Q(\"AgeCategory_25-29\")                   -1.5102   0.0817 -18.4744 0.0000 -1.6704 -1.3500\n",
      "Q(\"AgeCategory_30-34\")                   -1.1496   0.0636 -18.0762 0.0000 -1.2742 -1.0249\n",
      "Q(\"AgeCategory_35-39\")                   -1.0400   0.0562 -18.5178 0.0000 -1.1500 -0.9299\n",
      "Q(\"AgeCategory_40-44\")                   -0.6388   0.0452 -14.1487 0.0000 -0.7273 -0.5503\n",
      "Q(\"AgeCategory_45-49\")                   -0.3157   0.0378  -8.3508 0.0000 -0.3898 -0.2416\n",
      "Q(\"AgeCategory_50-54\")                    0.0933   0.0297   3.1389 0.0017  0.0350  0.1516\n",
      "Q(\"AgeCategory_55-59\")                    0.3313   0.0253  13.0918 0.0000  0.2817  0.3809\n",
      "Q(\"AgeCategory_60-64\")                    0.5937   0.0224  26.5250 0.0000  0.5499  0.6376\n",
      "Q(\"AgeCategory_65-69\")                    0.8358   0.0213  39.2293 0.0000  0.7940  0.8776\n",
      "Q(\"AgeCategory_70-74\")                    1.1221   0.0209  53.6644 0.0000  1.0811  1.1631\n",
      "Q(\"AgeCategory_75-79\")                    1.3240   0.0227  58.3382 0.0000  1.2795  1.3684\n",
      "AgeCategory_gt80                          1.5817   0.0220  71.9788 0.0000  1.5387  1.6248\n",
      "Diabetic_Yes                              0.4698   0.0166  28.3538 0.0000  0.4373  0.5023\n",
      "PhysicalActivity_No                      -0.2146   0.0102 -21.1265 0.0000 -0.2346 -0.1947\n",
      "PhysicalActivity_Yes                     -0.1945   0.0091 -21.2885 0.0000 -0.2124 -0.1766\n",
      "GenHealth_Excellent                      -1.0480   0.0296 -35.4251 0.0000 -1.1059 -0.9900\n",
      "GenHealth_Fair                            0.4744   0.0200  23.6709 0.0000  0.4351  0.5137\n",
      "GenHealth_Poor                            0.8544   0.0307  27.8746 0.0000  0.7943  0.9145\n",
      "GenHealth_VeryGood                       -0.5754   0.0188 -30.6062 0.0000 -0.6123 -0.5386\n",
      "Asthma_No                                -0.3438   0.0104 -32.9211 0.0000 -0.3643 -0.3233\n",
      "Asthma_Yes                               -0.0654   0.0115  -5.6631 0.0000 -0.0880 -0.0427\n",
      "KidneyDisease_No                         -0.4888   0.0123 -39.7708 0.0000 -0.5129 -0.4647\n",
      "KidneyDisease_Yes                         0.0796   0.0143   5.5701 0.0000  0.0516  0.1076\n",
      "SkinCancer_No                            -0.2618   0.0104 -25.1982 0.0000 -0.2821 -0.2414\n",
      "SkinCancer_Yes                           -0.1474   0.0118 -12.4645 0.0000 -0.1706 -0.1242\n",
      "=========================================================================================\n",
      "\n"
     ]
    }
   ],
   "source": [
    "X_treino.exog = sm.add_constant(X_treino)\n",
    "logit_mod = sm.GLM(y_treino, X_treino, family=sm.families.Binomial())\n",
    "logit_res = logit_mod.fit()\n",
    "print(logit_res.summary2())"
   ]
  },
  {
   "cell_type": "markdown",
   "id": "f980cfc4",
   "metadata": {},
   "source": [
    "### Definindo o dataset final"
   ]
  },
  {
   "cell_type": "code",
   "execution_count": null,
   "id": "f5155d0e",
   "metadata": {
    "ExecuteTime": {
     "end_time": "2022-06-03T13:29:08.455463Z",
     "start_time": "2022-06-03T13:29:08.444455Z"
    }
   },
   "outputs": [],
   "source": [
    "#X_treino.columns"
   ]
  },
  {
   "cell_type": "markdown",
   "id": "540fc9d2",
   "metadata": {},
   "source": [
    "#### Definindo variáveis explicativas "
   ]
  },
  {
   "cell_type": "code",
   "execution_count": 29,
   "id": "01f2525b",
   "metadata": {
    "ExecuteTime": {
     "end_time": "2022-06-04T13:14:28.407205Z",
     "start_time": "2022-06-04T13:14:28.365195Z"
    }
   },
   "outputs": [],
   "source": [
    "data = df_.loc[:, ['BMI', 'PhysicalHealth', 'MentalHealth', 'SleepTime',\n",
    "       'Smoking_No', 'AlcoholDrinking_No', 'AlcoholDrinking_Yes', 'Stroke_No',\n",
    "       'Stroke_Yes', 'DiffWalking_No', 'DiffWalking_Yes', 'Sex_Female',\n",
    "       'Sex_Male', 'AgeCategory_18-24', 'AgeCategory_25-29',\n",
    "       'AgeCategory_30-34', 'AgeCategory_35-39', 'Race_American Indian/Alaskan Native', 'Race_Asian', 'Race_Black',\n",
    "       'Race_Hispanic', 'Race_Other', 'Race_White', \n",
    "       'AgeCategory_40-44', 'AgeCategory_45-49',\n",
    "       'AgeCategory_50-54', 'AgeCategory_55-59',\n",
    "       'AgeCategory_60-64', 'AgeCategory_65-69',\n",
    "       'AgeCategory_70-74', 'AgeCategory_75-79', 'AgeCategory_gt80',\n",
    "       'Diabetic_Yes',\n",
    "       'PhysicalActivity_No', 'PhysicalActivity_Yes', 'GenHealth_Excellent',\n",
    "       'GenHealth_Fair', 'GenHealth_Poor', 'GenHealth_VeryGood', 'Asthma_No',\n",
    "       'Asthma_Yes', 'KidneyDisease_No', 'KidneyDisease_Yes', 'SkinCancer_No',\n",
    "       'SkinCancer_Yes']]\n",
    "\n",
    "# 'Race_American Indian/Alaskan Native', 'Race_Asian', 'Race_Black',\n",
    "# 'Race_Hispanic', 'Race_Other', 'Race_White', "
   ]
  },
  {
   "cell_type": "markdown",
   "id": "a1077747",
   "metadata": {},
   "source": [
    "#### Definindo variável alvo "
   ]
  },
  {
   "cell_type": "code",
   "execution_count": 30,
   "id": "4a907354",
   "metadata": {
    "ExecuteTime": {
     "end_time": "2022-06-04T13:14:28.988333Z",
     "start_time": "2022-06-04T13:14:28.977330Z"
    }
   },
   "outputs": [],
   "source": [
    "target = df_['HeartDisease']"
   ]
  },
  {
   "cell_type": "markdown",
   "id": "435cb2fc",
   "metadata": {},
   "source": [
    "#### Transformando em arrays numpy "
   ]
  },
  {
   "cell_type": "code",
   "execution_count": 31,
   "id": "aa78ab72",
   "metadata": {
    "ExecuteTime": {
     "end_time": "2022-06-04T13:14:30.153593Z",
     "start_time": "2022-06-04T13:14:30.119586Z"
    }
   },
   "outputs": [],
   "source": [
    "data = np.asarray(data)\n",
    "target = np.asarray(target)"
   ]
  },
  {
   "cell_type": "markdown",
   "id": "2f52cc40",
   "metadata": {},
   "source": [
    "#### Split em treino, teste e validacao"
   ]
  },
  {
   "cell_type": "code",
   "execution_count": 32,
   "id": "50ee0705",
   "metadata": {
    "ExecuteTime": {
     "end_time": "2022-06-04T13:14:31.822966Z",
     "start_time": "2022-06-04T13:14:31.591914Z"
    }
   },
   "outputs": [],
   "source": [
    "X_train_full, X_test, y_train_full, y_test = train_test_split(data, target,  random_state=42)\n",
    "X_train, X_valid, y_train, y_valid = train_test_split(X_train_full, y_train_full, random_state=42)"
   ]
  },
  {
   "cell_type": "markdown",
   "id": "cb698656",
   "metadata": {},
   "source": [
    "#### Padronização de valores  "
   ]
  },
  {
   "cell_type": "code",
   "execution_count": 33,
   "id": "f38d54d8",
   "metadata": {
    "ExecuteTime": {
     "end_time": "2022-06-04T13:14:32.710164Z",
     "start_time": "2022-06-04T13:14:32.542127Z"
    }
   },
   "outputs": [],
   "source": [
    "scaler = StandardScaler()\n",
    "X_train = scaler.fit_transform(X_train)\n",
    "X_valid = scaler.transform(X_valid)\n",
    "X_test = scaler.transform(X_test)"
   ]
  },
  {
   "cell_type": "markdown",
   "id": "7c865c29",
   "metadata": {},
   "source": [
    "# O modelo e hiperparâmetros"
   ]
  },
  {
   "cell_type": "markdown",
   "id": "6e80f8d4",
   "metadata": {},
   "source": [
    "### Definindo as camadas de entrada e ocultas "
   ]
  },
  {
   "cell_type": "markdown",
   "id": "34ae1833",
   "metadata": {},
   "source": [
    "#### Definição da funcao de ativacao Sigmoid e o build com o shape na entrada"
   ]
  },
  {
   "cell_type": "code",
   "execution_count": 34,
   "id": "e8fa27e0",
   "metadata": {
    "ExecuteTime": {
     "end_time": "2022-06-04T13:14:37.014124Z",
     "start_time": "2022-06-04T13:14:36.613036Z"
    }
   },
   "outputs": [],
   "source": [
    "model = keras.models.Sequential([\n",
    "    keras.layers.Flatten(input_shape=X_train.shape[1:]),\n",
    "    keras.layers.Dense(100, activation=\"relu\"),\n",
    "    keras.layers.Dense(50, activation=\"relu\", name=\"oculta1\"),\n",
    "    keras.layers.Dense(50, activation=\"relu\", name=\"oculta2\"),\n",
    "    keras.layers.Dense(50, activation=\"relu\", name=\"oculta3\"),\n",
    "    keras.layers.Dense(1, activation=\"sigmoid\")\n",
    "])"
   ]
  },
  {
   "cell_type": "code",
   "execution_count": 35,
   "id": "becb668c",
   "metadata": {
    "ExecuteTime": {
     "end_time": "2022-06-04T13:14:38.581476Z",
     "start_time": "2022-06-04T13:14:38.568472Z"
    }
   },
   "outputs": [
    {
     "data": {
      "text/plain": [
       "'kl = keras.layers\\ninput_ = kl.Input(shape=X_train.shape[1:]) #qtd vars\\nhidden1 = kl.Dense(30, activation=\"relu\")(input_)\\nhidden2 = kl.Dense(30, activation=\"relu\")(hidden1)\\nhidden3 = kl.Dense(30, activation=\"relu\")(hidden2)\\nhidden4 = kl.Dense(30, activation=\"relu\")(hidden3)\\nconcat = kl.Concatenate()([input_, hidden4])\\noutput = kl.Dense(1)(concat)\\nmodel = keras.Model(inputs=[input_], outputs=[output])'"
      ]
     },
     "execution_count": 35,
     "metadata": {},
     "output_type": "execute_result"
    }
   ],
   "source": [
    "\"\"\"kl = keras.layers\n",
    "input_ = kl.Input(shape=X_train.shape[1:]) #qtd vars\n",
    "hidden1 = kl.Dense(30, activation=\"relu\")(input_)\n",
    "hidden2 = kl.Dense(30, activation=\"relu\")(hidden1)\n",
    "hidden3 = kl.Dense(30, activation=\"relu\")(hidden2)\n",
    "hidden4 = kl.Dense(30, activation=\"relu\")(hidden3)\n",
    "concat = kl.Concatenate()([input_, hidden4])\n",
    "output = kl.Dense(1)(concat)\n",
    "model = keras.Model(inputs=[input_], outputs=[output])\"\"\""
   ]
  },
  {
   "cell_type": "markdown",
   "id": "e43b4f12",
   "metadata": {
    "ExecuteTime": {
     "end_time": "2022-04-29T14:24:44.600398Z",
     "start_time": "2022-04-29T14:24:44.585337Z"
    }
   },
   "source": [
    "#### Criando metricas para a regressao logit e definição de Cutoff"
   ]
  },
  {
   "cell_type": "code",
   "execution_count": 36,
   "id": "7c4fbd7e",
   "metadata": {
    "ExecuteTime": {
     "end_time": "2022-06-04T13:16:05.935589Z",
     "start_time": "2022-06-04T13:16:05.861572Z"
    }
   },
   "outputs": [],
   "source": [
    "tf.keras.metrics.FalseNegatives?"
   ]
  },
  {
   "cell_type": "code",
   "execution_count": 37,
   "id": "0439a2de",
   "metadata": {
    "ExecuteTime": {
     "end_time": "2022-06-04T13:16:13.622306Z",
     "start_time": "2022-06-04T13:16:13.599300Z"
    }
   },
   "outputs": [
    {
     "data": {
      "text/plain": [
       "<keras.metrics.metrics.FalseNegatives at 0x20ffde15120>"
      ]
     },
     "execution_count": 37,
     "metadata": {},
     "output_type": "execute_result"
    }
   ],
   "source": [
    "tf.keras.metrics.BinaryAccuracy(\n",
    "    name=\"binary_accuracy\", threshold=0.2\n",
    ")\n",
    "\n",
    "tf.keras.metrics.FalseNegatives(\n",
    "    name=\"false_negatives\", thresholds=0.2    \n",
    ")"
   ]
  },
  {
   "cell_type": "markdown",
   "id": "72c4001e",
   "metadata": {},
   "source": [
    "#### Compilando o modelo "
   ]
  },
  {
   "cell_type": "code",
   "execution_count": null,
   "id": "c7e29c61",
   "metadata": {
    "ExecuteTime": {
     "end_time": "2022-06-03T13:29:56.037511Z",
     "start_time": "2022-06-03T13:29:56.029508Z"
    }
   },
   "outputs": [],
   "source": [
    "model.compile?"
   ]
  },
  {
   "cell_type": "code",
   "execution_count": 38,
   "id": "64c59c8a",
   "metadata": {
    "ExecuteTime": {
     "end_time": "2022-06-04T13:16:16.997058Z",
     "start_time": "2022-06-04T13:16:16.977056Z"
    }
   },
   "outputs": [],
   "source": [
    "model.compile(loss=\"binary_crossentropy\", optimizer=tf.keras.optimizers.Adam(learning_rate=1e-3), \n",
    "              metrics=[tf.keras.metrics.BinaryAccuracy(), \n",
    "                       tf.keras.metrics.FalseNegatives()])"
   ]
  },
  {
   "cell_type": "markdown",
   "id": "e5d2e55f",
   "metadata": {},
   "source": [
    "#### Definição do diretorio do tensorboard"
   ]
  },
  {
   "cell_type": "code",
   "execution_count": 39,
   "id": "9c559fd0",
   "metadata": {
    "ExecuteTime": {
     "end_time": "2022-06-04T13:16:34.515973Z",
     "start_time": "2022-06-04T13:16:34.507972Z"
    }
   },
   "outputs": [],
   "source": [
    "root_logdir = os.path.join(os.curdir, \"my_logs_hd\")\n",
    "def get_run_logdir():\n",
    "    import time\n",
    "    run_id = time.strftime(\"run_%Y_%m_%d-%H_%M_%S\")\n",
    "    return os.path.join(root_logdir, run_id)\n",
    "\n",
    "root_logdir = get_run_logdir()"
   ]
  },
  {
   "cell_type": "markdown",
   "id": "17d6df2d",
   "metadata": {},
   "source": [
    "#### Funções Callback para parada acidental, parada com loss sem alteracao, gravação no tensorboard"
   ]
  },
  {
   "cell_type": "code",
   "execution_count": 40,
   "id": "e347ebc8",
   "metadata": {
    "ExecuteTime": {
     "end_time": "2022-06-04T13:16:36.742470Z",
     "start_time": "2022-06-04T13:16:36.737472Z"
    }
   },
   "outputs": [],
   "source": [
    "checkpoint_cb = keras.callbacks.ModelCheckpoint(\"modelo5_heart_disease.h5\", save_best_only=True)\n",
    "early_stopping_cb = keras.callbacks.EarlyStopping(patience=10, restore_best_weights=True)\n",
    "tensorboad_cb = keras.callbacks.TensorBoard(root_logdir)"
   ]
  },
  {
   "cell_type": "markdown",
   "id": "7ae5029a",
   "metadata": {},
   "source": [
    "#### Fitando o modelo "
   ]
  },
  {
   "cell_type": "code",
   "execution_count": 41,
   "id": "29f0d39c",
   "metadata": {
    "ExecuteTime": {
     "end_time": "2022-06-04T14:27:15.484315Z",
     "start_time": "2022-06-04T13:16:54.063339Z"
    },
    "scrolled": true
   },
   "outputs": [
    {
     "name": "stdout",
     "output_type": "stream",
     "text": [
      "Epoch 1/100\n",
      "17989/17989 - 231s - loss: 0.2293 - binary_accuracy: 0.9156 - false_negatives: 14479.0000 - val_loss: 0.2267 - val_binary_accuracy: 0.9162 - val_false_negatives: 4831.0000 - 231s/epoch - 13ms/step\n",
      "Epoch 2/100\n",
      "17989/17989 - 226s - loss: 0.2257 - binary_accuracy: 0.9162 - false_negatives: 14229.0000 - val_loss: 0.2259 - val_binary_accuracy: 0.9162 - val_false_negatives: 4729.0000 - 226s/epoch - 13ms/step\n",
      "Epoch 3/100\n",
      "17989/17989 - 226s - loss: 0.2246 - binary_accuracy: 0.9167 - false_negatives: 14116.0000 - val_loss: 0.2279 - val_binary_accuracy: 0.9156 - val_false_negatives: 4477.0000 - 226s/epoch - 13ms/step\n",
      "Epoch 4/100\n",
      "17989/17989 - 223s - loss: 0.2241 - binary_accuracy: 0.9167 - false_negatives: 14044.0000 - val_loss: 0.2296 - val_binary_accuracy: 0.9158 - val_false_negatives: 5004.0000 - 223s/epoch - 12ms/step\n",
      "Epoch 5/100\n",
      "17989/17989 - 249s - loss: 0.2235 - binary_accuracy: 0.9165 - false_negatives: 14092.0000 - val_loss: 0.2253 - val_binary_accuracy: 0.9166 - val_false_negatives: 4607.0000 - 249s/epoch - 14ms/step\n",
      "Epoch 6/100\n",
      "17989/17989 - 247s - loss: 0.2229 - binary_accuracy: 0.9167 - false_negatives: 13988.0000 - val_loss: 0.2269 - val_binary_accuracy: 0.9149 - val_false_negatives: 5100.0000 - 247s/epoch - 14ms/step\n",
      "Epoch 7/100\n",
      "17989/17989 - 244s - loss: 0.2224 - binary_accuracy: 0.9167 - false_negatives: 13997.0000 - val_loss: 0.2255 - val_binary_accuracy: 0.9166 - val_false_negatives: 4690.0000 - 244s/epoch - 14ms/step\n",
      "Epoch 8/100\n",
      "17989/17989 - 246s - loss: 0.2221 - binary_accuracy: 0.9170 - false_negatives: 13915.0000 - val_loss: 0.2251 - val_binary_accuracy: 0.9166 - val_false_negatives: 4819.0000 - 246s/epoch - 14ms/step\n",
      "Epoch 9/100\n",
      "17989/17989 - 220s - loss: 0.2218 - binary_accuracy: 0.9172 - false_negatives: 13921.0000 - val_loss: 0.2255 - val_binary_accuracy: 0.9165 - val_false_negatives: 4583.0000 - 220s/epoch - 12ms/step\n",
      "Epoch 10/100\n",
      "17989/17989 - 227s - loss: 0.2217 - binary_accuracy: 0.9174 - false_negatives: 13880.0000 - val_loss: 0.2262 - val_binary_accuracy: 0.9153 - val_false_negatives: 4479.0000 - 227s/epoch - 13ms/step\n",
      "Epoch 11/100\n",
      "17989/17989 - 232s - loss: 0.2213 - binary_accuracy: 0.9174 - false_negatives: 13836.0000 - val_loss: 0.2260 - val_binary_accuracy: 0.9170 - val_false_negatives: 4755.0000 - 232s/epoch - 13ms/step\n",
      "Epoch 12/100\n",
      "17989/17989 - 223s - loss: 0.2210 - binary_accuracy: 0.9175 - false_negatives: 13840.0000 - val_loss: 0.2257 - val_binary_accuracy: 0.9166 - val_false_negatives: 4677.0000 - 223s/epoch - 12ms/step\n",
      "Epoch 13/100\n",
      "17989/17989 - 226s - loss: 0.2209 - binary_accuracy: 0.9173 - false_negatives: 13809.0000 - val_loss: 0.2268 - val_binary_accuracy: 0.9167 - val_false_negatives: 4734.0000 - 226s/epoch - 13ms/step\n",
      "Epoch 14/100\n",
      "17989/17989 - 232s - loss: 0.2206 - binary_accuracy: 0.9176 - false_negatives: 13754.0000 - val_loss: 0.2278 - val_binary_accuracy: 0.9162 - val_false_negatives: 4684.0000 - 232s/epoch - 13ms/step\n",
      "Epoch 15/100\n",
      "17989/17989 - 252s - loss: 0.2204 - binary_accuracy: 0.9175 - false_negatives: 13806.0000 - val_loss: 0.2266 - val_binary_accuracy: 0.9162 - val_false_negatives: 4605.0000 - 252s/epoch - 14ms/step\n",
      "Epoch 16/100\n",
      "17989/17989 - 247s - loss: 0.2202 - binary_accuracy: 0.9178 - false_negatives: 13752.0000 - val_loss: 0.2282 - val_binary_accuracy: 0.9159 - val_false_negatives: 4535.0000 - 247s/epoch - 14ms/step\n",
      "Epoch 17/100\n",
      "17989/17989 - 232s - loss: 0.2199 - binary_accuracy: 0.9181 - false_negatives: 13696.0000 - val_loss: 0.2281 - val_binary_accuracy: 0.9150 - val_false_negatives: 4411.0000 - 232s/epoch - 13ms/step\n",
      "Epoch 18/100\n",
      "17989/17989 - 236s - loss: 0.2197 - binary_accuracy: 0.9178 - false_negatives: 13764.0000 - val_loss: 0.2378 - val_binary_accuracy: 0.9157 - val_false_negatives: 4521.0000 - 236s/epoch - 13ms/step\n"
     ]
    }
   ],
   "source": [
    "hist = model.fit(X_train, y_train, \n",
    "                     epochs=100, batch_size = 10, verbose = 2,\n",
    "                     callbacks=[checkpoint_cb,early_stopping_cb, tensorboad_cb],\n",
    "                     validation_data=(X_valid, y_valid))"
   ]
  },
  {
   "cell_type": "markdown",
   "id": "81a284a1",
   "metadata": {},
   "source": [
    "#### Salvando o modelo "
   ]
  },
  {
   "cell_type": "code",
   "execution_count": 42,
   "id": "032f58b9",
   "metadata": {
    "ExecuteTime": {
     "end_time": "2022-06-04T15:14:28.686568Z",
     "start_time": "2022-06-04T15:14:28.608552Z"
    }
   },
   "outputs": [],
   "source": [
    "model.save(\"modelo1000n_FN_black_heart_disease_04062022.h5\")"
   ]
  },
  {
   "cell_type": "markdown",
   "id": "7bfab37d",
   "metadata": {},
   "source": [
    "#### Verificando o desempenho com a base Teste "
   ]
  },
  {
   "cell_type": "code",
   "execution_count": 43,
   "id": "3ea6ff6b",
   "metadata": {
    "ExecuteTime": {
     "end_time": "2022-06-04T15:14:52.503888Z",
     "start_time": "2022-06-04T15:14:31.870279Z"
    }
   },
   "outputs": [
    {
     "name": "stdout",
     "output_type": "stream",
     "text": [
      "2499/2499 [==============================] - 21s 8ms/step - loss: 0.2299 - binary_accuracy: 0.9143 - false_negatives: 6597.0000\n"
     ]
    }
   ],
   "source": [
    "mse_test = model.evaluate(X_test, y_test)"
   ]
  },
  {
   "cell_type": "markdown",
   "id": "5fdaa99f",
   "metadata": {},
   "source": [
    "#### Predição "
   ]
  },
  {
   "cell_type": "code",
   "execution_count": 44,
   "id": "afb82dc8",
   "metadata": {
    "ExecuteTime": {
     "end_time": "2022-06-04T15:15:13.815648Z",
     "start_time": "2022-06-04T15:15:04.977677Z"
    }
   },
   "outputs": [
    {
     "name": "stdout",
     "output_type": "stream",
     "text": [
      "2499/2499 [==============================] - 8s 3ms/step\n"
     ]
    }
   ],
   "source": [
    "y_pred = model.predict(X_test)\n",
    "#y_pred_cl =np.argmax(y_pred,axis=1)\n",
    "#len(y_pred_cl)\n"
   ]
  },
  {
   "cell_type": "code",
   "execution_count": 48,
   "id": "f346f308",
   "metadata": {
    "ExecuteTime": {
     "end_time": "2022-06-04T15:17:51.050937Z",
     "start_time": "2022-06-04T15:17:51.021932Z"
    }
   },
   "outputs": [
    {
     "name": "stdout",
     "output_type": "stream",
     "text": [
      "Which predictions match with binary labels: [0.9 0.9 0.9 0.9 0.9 0.9 0.9 0.9 0.9 0.9 0.9 0.9 0.9 0.9 0.9 0.9 0.9 0.9\n",
      " 0.9 0.9 0.9 0.9 0.9 0.9 0.9 0.9 0.1 0.9 0.9 0.9 0.9 0.9 0.9 0.9 0.9 0.9\n",
      " 0.9 0.9 0.9 0.9 0.9 0.9 0.9 0.9 0.9 0.9 0.9 0.9 0.9 0.9 0.9 0.9 0.9 0.9\n",
      " 0.9 0.9 0.9 0.9 0.9 0.9 0.9 0.9 0.9 0.9 0.9 0.9 0.9 0.9 0.1 0.9 0.9 0.9\n",
      " 0.9 0.9 0.9 0.9 0.9 0.9 0.9 0.9 0.9 0.9 0.9 0.9 0.9 0.9 0.9 0.9 0.9 0.9\n",
      " 0.9 0.9 0.9 0.9 0.9 0.9 0.9 0.9 0.9 0.9]\n"
     ]
    }
   ],
   "source": [
    "m = tf.keras.metrics.binary_accuracy(y_test[:100], y_pred[:100], threshold=0.5)\n",
    "print(\"Which predictions match with binary labels:\", m.numpy())"
   ]
  },
  {
   "cell_type": "code",
   "execution_count": 47,
   "id": "45797859",
   "metadata": {
    "ExecuteTime": {
     "end_time": "2022-06-04T15:17:31.051469Z",
     "start_time": "2022-06-04T15:17:31.028465Z"
    }
   },
   "outputs": [
    {
     "data": {
      "text/plain": [
       "0.91433287"
      ]
     },
     "execution_count": 47,
     "metadata": {},
     "output_type": "execute_result"
    }
   ],
   "source": [
    "mm = tf.keras.metrics.BinaryAccuracy()\n",
    "mm.update_state(y_test, y_pred)\n",
    "mm.result().numpy()"
   ]
  },
  {
   "cell_type": "markdown",
   "id": "74be2b91",
   "metadata": {},
   "source": [
    "##### Plotagem do que foi predito "
   ]
  },
  {
   "cell_type": "code",
   "execution_count": 50,
   "id": "a7b7a110",
   "metadata": {
    "ExecuteTime": {
     "end_time": "2022-06-04T15:19:01.094583Z",
     "start_time": "2022-06-04T15:19:01.074579Z"
    }
   },
   "outputs": [
    {
     "name": "stdout",
     "output_type": "stream",
     "text": [
      "Media: 0.08889030665159225, Mediana: 0.042795076966285706, Desvio Padrão: 0.11026034504175186, Valor mín.: 0.0006828454206697643, Valor máx.: 0.8272997140884399\n"
     ]
    }
   ],
   "source": [
    "media = np.mean(y_pred)\n",
    "mediana = np.median(y_pred)\n",
    "std = np.std(y_pred)\n",
    "minimo = np.amin(y_pred)\n",
    "maximo = np.amax(y_pred)\n",
    "print(f'Media: {media}, Mediana: {mediana}, Desvio Padrão: {std}, Valor mín.: {minimo}, Valor máx.: {maximo}')"
   ]
  },
  {
   "cell_type": "markdown",
   "id": "d5c52c09",
   "metadata": {},
   "source": [
    "### Evaluation do modelo"
   ]
  },
  {
   "cell_type": "markdown",
   "id": "b1482ecc",
   "metadata": {},
   "source": [
    "#### Regulando o Cutoff manualmente "
   ]
  },
  {
   "cell_type": "code",
   "execution_count": 51,
   "id": "15b97df0",
   "metadata": {
    "ExecuteTime": {
     "end_time": "2022-06-04T15:19:19.693738Z",
     "start_time": "2022-06-04T15:19:11.443896Z"
    }
   },
   "outputs": [
    {
     "name": "stdout",
     "output_type": "stream",
     "text": [
      "2499/2499 [==============================] - 8s 3ms/step\n"
     ]
    }
   ],
   "source": [
    "ypred = model.predict(X_test, verbose=1)\n",
    "ypred = np.argmax(ypred, axis=1)"
   ]
  },
  {
   "cell_type": "code",
   "execution_count": null,
   "id": "af6c351b",
   "metadata": {
    "ExecuteTime": {
     "end_time": "2022-06-03T14:50:35.847978Z",
     "start_time": "2022-06-03T14:50:35.835963Z"
    }
   },
   "outputs": [],
   "source": [
    "unique, counts = np.unique(ypred, return_counts=True)\n",
    "np.asarray((unique, counts)).T"
   ]
  },
  {
   "cell_type": "code",
   "execution_count": 53,
   "id": "bfaf0f5b",
   "metadata": {
    "ExecuteTime": {
     "end_time": "2022-06-04T15:21:45.979923Z",
     "start_time": "2022-06-04T15:21:45.817887Z"
    }
   },
   "outputs": [],
   "source": [
    "ctf = 0.5\n",
    "y_pred_clm = [1 if x > ctf else 0 for x in y_pred]"
   ]
  },
  {
   "cell_type": "markdown",
   "id": "7b07ded8",
   "metadata": {},
   "source": [
    "#### Jaccard teste para acuracia por classe "
   ]
  },
  {
   "cell_type": "code",
   "execution_count": 55,
   "id": "634e0054",
   "metadata": {
    "ExecuteTime": {
     "end_time": "2022-06-04T15:22:00.901256Z",
     "start_time": "2022-06-04T15:22:00.782229Z"
    }
   },
   "outputs": [
    {
     "name": "stdout",
     "output_type": "stream",
     "text": [
      "0.04835348061692372 0.913958367357194\n"
     ]
    }
   ],
   "source": [
    "from sklearn.metrics import jaccard_score\n",
    "jac_1 = jaccard_score(y_test, y_pred_clm, pos_label=1)\n",
    "jac_0 = jaccard_score(y_test, y_pred_clm, pos_label=0)\n",
    "\n",
    "print(jac_1, jac_0)"
   ]
  },
  {
   "cell_type": "markdown",
   "id": "2899acaa",
   "metadata": {},
   "source": [
    "#### Matriz de confusão "
   ]
  },
  {
   "cell_type": "code",
   "execution_count": 57,
   "id": "bf3b4151",
   "metadata": {
    "ExecuteTime": {
     "end_time": "2022-06-04T15:22:26.258919Z",
     "start_time": "2022-06-04T15:22:26.226913Z"
    }
   },
   "outputs": [],
   "source": [
    "CM = confusion_matrix(y_test, y_pred_clm, labels=[0,1]) # 1,0 falso neg em cima / 0,1 falso neg embaixo"
   ]
  },
  {
   "cell_type": "code",
   "execution_count": 60,
   "id": "8269261d",
   "metadata": {
    "ExecuteTime": {
     "end_time": "2022-06-04T15:22:40.169026Z",
     "start_time": "2022-06-04T15:22:40.006990Z"
    }
   },
   "outputs": [
    {
     "name": "stdout",
     "output_type": "stream",
     "text": [
      "Matriz de Confusão, sem normalização\n",
      "[[72752   252]\n",
      " [ 6597   348]]\n"
     ]
    },
    {
     "data": {
      "image/png": "[encoded data removed]",
      "text/plain": [
       "<Figure size 432x288 with 2 Axes>"
      ]
     },
     "metadata": {
      "needs_background": "light"
     },
     "output_type": "display_data"
    }
   ],
   "source": [
    "plot_confusion_matrix(CM, classes=['sem dc = 0','com dc = 1'], normalize= False,  title='Matriz de Confusão - cutoff %s' %ctf)"
   ]
  },
  {
   "cell_type": "markdown",
   "id": "5260cea1",
   "metadata": {},
   "source": [
    "#### Sensitividade e Especificidade"
   ]
  },
  {
   "cell_type": "code",
   "execution_count": 61,
   "id": "d1c898be",
   "metadata": {
    "ExecuteTime": {
     "end_time": "2022-06-04T15:23:09.466572Z",
     "start_time": "2022-06-04T15:23:09.450569Z"
    }
   },
   "outputs": [
    {
     "name": "stdout",
     "output_type": "stream",
     "text": [
      "Nossa sensitividade é de 91.6861 %\n",
      "Nossa especificidade é de 5.010799 %\n"
     ]
    }
   ],
   "source": [
    "tp,fn,fp,tn= CM[0][0],CM[0][1],CM[1][0],CM[1][1]\n",
    "sensitividade = (tp / (fp + tp)) * 100\n",
    "print(f'Nossa sensitividade é de {round(sensitividade,5)} %') # balanco de positivo\n",
    "especificidade = (tn / (fp + tn)) * 100\n",
    "print(f'Nossa especificidade é de {round(especificidade,6)} %') # balanco de negativo"
   ]
  },
  {
   "cell_type": "markdown",
   "id": "aa9c45a9",
   "metadata": {},
   "source": [
    "#### Sumário de classificação "
   ]
  },
  {
   "cell_type": "code",
   "execution_count": 62,
   "id": "4434a559",
   "metadata": {
    "ExecuteTime": {
     "end_time": "2022-06-04T15:23:13.742527Z",
     "start_time": "2022-06-04T15:23:13.648505Z"
    }
   },
   "outputs": [
    {
     "name": "stdout",
     "output_type": "stream",
     "text": [
      "              precision    recall  f1-score   support\n",
      "\n",
      "           0       0.92      1.00      0.96     73004\n",
      "           1       0.58      0.05      0.09      6945\n",
      "\n",
      "    accuracy                           0.91     79949\n",
      "   macro avg       0.75      0.52      0.52     79949\n",
      "weighted avg       0.89      0.91      0.88     79949\n",
      "\n"
     ]
    }
   ],
   "source": [
    "print (classification_report(y_test, y_pred_clm))"
   ]
  },
  {
   "cell_type": "markdown",
   "id": "182552bd",
   "metadata": {},
   "source": [
    "#### Curva ROC"
   ]
  },
  {
   "cell_type": "code",
   "execution_count": 63,
   "id": "03aa418e",
   "metadata": {
    "ExecuteTime": {
     "end_time": "2022-06-04T15:23:17.688407Z",
     "start_time": "2022-06-04T15:23:17.521371Z"
    }
   },
   "outputs": [
    {
     "data": {
      "image/png": "[encoded data removed]",
      "text/plain": [
       "<Figure size 432x288 with 1 Axes>"
      ]
     },
     "metadata": {
      "needs_background": "light"
     },
     "output_type": "display_data"
    }
   ],
   "source": [
    "fpr, tpr, _ = roc_curve(y_test,  y_pred, pos_label=1)\n",
    "auc = roc_auc_score(y_test, y_pred)\n",
    "plt.plot(fpr,tpr,label=\"data 1, auc=\"+str(auc))\n",
    "plt.plot([1,0], [1,0], color='navy', lw=1, linestyle='--')\n",
    "plt.xlabel('Falsos Positivo')\n",
    "plt.ylabel('Verdadeiros Positivo')\n",
    "plt.title('ROC')\n",
    "plt.legend(loc=\"best\")\n",
    "plt.show()"
   ]
  },
  {
   "cell_type": "code",
   "execution_count": 64,
   "id": "ac9d3843",
   "metadata": {
    "ExecuteTime": {
     "end_time": "2022-06-04T15:23:21.975366Z",
     "start_time": "2022-06-04T15:23:21.776320Z"
    }
   },
   "outputs": [
    {
     "data": {
      "image/png": "[encoded data removed]",
      "text/plain": [
       "<Figure size 1080x360 with 1 Axes>"
      ]
     },
     "metadata": {
      "needs_background": "light"
     },
     "output_type": "display_data"
    }
   ],
   "source": [
    "pd.DataFrame(hist.history).plot(figsize=(15,5))\n",
    "plt.grid(True)\n",
    "plt.gca().set_ylim(0,2)\n",
    "plt.show()"
   ]
  },
  {
   "cell_type": "markdown",
   "id": "8fcb82f9",
   "metadata": {},
   "source": [
    "# Considerações finais"
   ]
  },
  {
   "cell_type": "markdown",
   "id": "2877c0ed",
   "metadata": {},
   "source": [
    "### Carregando o melhor modelo  "
   ]
  },
  {
   "cell_type": "code",
   "execution_count": 65,
   "id": "21f0fc5e",
   "metadata": {
    "ExecuteTime": {
     "end_time": "2022-06-04T15:23:39.500280Z",
     "start_time": "2022-06-04T15:23:39.407260Z"
    }
   },
   "outputs": [],
   "source": [
    "model_bes = keras.models.load_model(\"modelo1_heart_disease.h5\") "
   ]
  },
  {
   "cell_type": "code",
   "execution_count": null,
   "id": "5c0d1df3",
   "metadata": {},
   "outputs": [],
   "source": []
  },
  {
   "cell_type": "markdown",
   "id": "944d5116",
   "metadata": {},
   "source": [
    "# Funções auxiliares"
   ]
  },
  {
   "cell_type": "markdown",
   "id": "faae9694",
   "metadata": {},
   "source": [
    "## Matriz de confusão "
   ]
  },
  {
   "cell_type": "code",
   "execution_count": 59,
   "id": "7dd709f5",
   "metadata": {
    "ExecuteTime": {
     "end_time": "2022-06-04T15:22:35.452974Z",
     "start_time": "2022-06-04T15:22:35.443972Z"
    }
   },
   "outputs": [],
   "source": [
    "from sklearn.metrics import classification_report, confusion_matrix\n",
    "import itertools\n",
    "def plot_confusion_matrix(cm, classes,\n",
    "                          normalize=False,\n",
    "                          title='Matriz de Confusão',\n",
    "                          cmap=plt.cm.Blues):\n",
    "    \"\"\"\n",
    "    This function prints and plots the confusion matrix.\n",
    "    Normalization can be applied by setting `normalize=True`.\n",
    "    \"\"\"\n",
    "    if normalize:\n",
    "        cm = cm.astype('float') / cm.sum(axis=1)[:, np.newaxis]\n",
    "        print(\"Normalizada Matriz de Confusão\")\n",
    "    else:\n",
    "        print('Matriz de Confusão, sem normalização')\n",
    "\n",
    "    print(cm)\n",
    "\n",
    "    plt.imshow(cm, interpolation='nearest', cmap=cmap)\n",
    "    plt.title(title)\n",
    "    plt.colorbar()\n",
    "    tick_marks = np.arange(len(classes))\n",
    "    plt.xticks(tick_marks, classes, rotation=45)\n",
    "    plt.yticks(tick_marks, classes)\n",
    "\n",
    "    fmt = '.2f' if normalize else 'd'\n",
    "    thresh = cm.max() / 2.\n",
    "    for i, j in itertools.product(range(cm.shape[0]), range(cm.shape[1])):\n",
    "        plt.text(j, i, format(cm[i, j], fmt),\n",
    "                 horizontalalignment=\"center\",\n",
    "                 color=\"white\" if cm[i, j] > thresh else \"black\")\n",
    "    \n",
    "    \n",
    "    plt.tight_layout()\n",
    "    plt.ylabel('Real label')\n",
    "    plt.xlabel('Predição label')"
   ]
  }
 ],
 "metadata": {
  "hide_input": false,
  "kernelspec": {
   "display_name": "Python [conda env:.conda-tensor]",
   "language": "python",
   "name": "conda-env-.conda-tensor-py"
  },
  "language_info": {
   "codemirror_mode": {
    "name": "ipython",
    "version": 3
   },
   "file_extension": ".py",
   "mimetype": "text/x-python",
   "name": "python",
   "nbconvert_exporter": "python",
   "pygments_lexer": "ipython3",
   "version": "3.10.4"
  },
  "toc": {
   "base_numbering": 1,
   "nav_menu": {},
   "number_sections": true,
   "sideBar": true,
   "skip_h1_title": false,
   "title_cell": "Table of Contents",
   "title_sidebar": "Pipeline",
   "toc_cell": false,
   "toc_position": {
    "height": "calc(100% - 180px)",
    "left": "10px",
    "top": "150px",
    "width": "352.983px"
   },
   "toc_section_display": true,
   "toc_window_display": true
  },
  "varInspector": {
   "cols": {
    "lenName": 16,
    "lenType": 16,
    "lenVar": 40
   },
   "kernels_config": {
    "python": {
     "delete_cmd_postfix": "",
     "delete_cmd_prefix": "del ",
     "library": "var_list.py",
     "varRefreshCmd": "print(var_dic_list())"
    },
    "r": {
     "delete_cmd_postfix": ") ",
     "delete_cmd_prefix": "rm(",
     "library": "var_list.r",
     "varRefreshCmd": "cat(var_dic_list()) "
    }
   },
   "types_to_exclude": [
    "module",
    "function",
    "builtin_function_or_method",
    "instance",
    "_Feature"
   ],
   "window_display": false
  }
 },
 "nbformat": 4,
 "nbformat_minor": 5
}
