{
 "cells": [
  {
   "cell_type": "markdown",
   "id": "99c02b79",
   "metadata": {},
   "source": [
    "# Kaggle Dataset - heart disease"
   ]
  },
  {
   "cell_type": "markdown",
   "id": "056b1a48",
   "metadata": {},
   "source": [
    "## Introdução "
   ]
  },
  {
   "cell_type": "markdown",
   "id": "f6ce911e",
   "metadata": {},
   "source": [
    "O dataset vem com variáveis que poderiam explicar se uma pessoa terá ou não doenças cardiacas."
   ]
  },
  {
   "cell_type": "markdown",
   "id": "984ea058",
   "metadata": {},
   "source": [
    "# Importação de pacotes e carga de dados"
   ]
  },
  {
   "cell_type": "markdown",
   "id": "cd8fe465",
   "metadata": {},
   "source": [
    "### Pacotes "
   ]
  },
  {
   "cell_type": "code",
   "execution_count": 1,
   "id": "2d37bb89",
   "metadata": {
    "ExecuteTime": {
     "end_time": "2022-06-04T22:03:57.174131Z",
     "start_time": "2022-06-04T22:03:51.621386Z"
    }
   },
   "outputs": [],
   "source": [
    "import numpy as np\n",
    "import pandas as pd\n",
    "import matplotlib.pyplot as plt\n",
    "import tensorflow as tf\n",
    "from tensorflow import keras\n",
    "from sklearn.model_selection import train_test_split, ShuffleSplit\n",
    "from sklearn.preprocessing import StandardScaler\n",
    "from sklearn.metrics import precision_recall_curve\n",
    "from sklearn.metrics import precision_score, recall_score,roc_auc_score, roc_curve\n",
    "from sklearn.metrics import accuracy_score\n",
    "from numpy import mean\n",
    "from sklearn.utils.class_weight import compute_class_weight\n",
    "from sklearn.metrics import classification_report, confusion_matrix\n",
    "import sys\n",
    "import os\n",
    "os.chdir(r'C:\\Users\\Thiago Bluhm\\OneDrive - Grupo Portfolio\\Documentos\\ESTUDO\\DEEP LEARNING e REDES NEURAIS\\tensorflow\\dados')\n",
    "pd.set_option('display.max_columns', 100)\n",
    "pd.set_option('display.max_rows', 200)\n",
    "\n",
    "import warnings\n",
    "warnings.filterwarnings('ignore')"
   ]
  },
  {
   "cell_type": "markdown",
   "id": "9c64473b",
   "metadata": {},
   "source": [
    "### Confirmando o uso de GPU"
   ]
  },
  {
   "cell_type": "code",
   "execution_count": 2,
   "id": "4d06c1af",
   "metadata": {
    "ExecuteTime": {
     "end_time": "2022-06-04T22:03:57.269160Z",
     "start_time": "2022-06-04T22:03:57.208139Z"
    }
   },
   "outputs": [
    {
     "name": "stdout",
     "output_type": "stream",
     "text": [
      "Num GPUs Available:  1\n"
     ]
    }
   ],
   "source": [
    "print(\"Num GPUs Available: \", len(tf.config.list_physical_devices('GPU')))"
   ]
  },
  {
   "cell_type": "code",
   "execution_count": 3,
   "id": "48c8e711",
   "metadata": {
    "ExecuteTime": {
     "end_time": "2022-06-04T22:04:04.304054Z",
     "start_time": "2022-06-04T22:04:04.291052Z"
    }
   },
   "outputs": [],
   "source": [
    "# Posicionando o dispositivo de Registro\n",
    "# lendo e registrando onde na GPU esta sendo carregado o processo de computacao\n",
    "#tf.debugging.set_log_device_placement(True)"
   ]
  },
  {
   "cell_type": "code",
   "execution_count": 4,
   "id": "039dc8c9",
   "metadata": {
    "ExecuteTime": {
     "end_time": "2022-06-04T22:04:05.284274Z",
     "start_time": "2022-06-04T22:04:04.751155Z"
    },
    "scrolled": true
   },
   "outputs": [
    {
     "name": "stdout",
     "output_type": "stream",
     "text": [
      "['/device:CPU:0', '/device:GPU:0']\n"
     ]
    }
   ],
   "source": [
    "from tensorflow.python.client import device_lib\n",
    "\n",
    "def get_available_devices():\n",
    "    local_device_protos = device_lib.list_local_devices()\n",
    "    return [x.name for x in local_device_protos]\n",
    "\n",
    "print(get_available_devices())"
   ]
  },
  {
   "cell_type": "code",
   "execution_count": null,
   "id": "feab544b",
   "metadata": {},
   "outputs": [],
   "source": []
  },
  {
   "cell_type": "markdown",
   "id": "47d7c4c3",
   "metadata": {},
   "source": [
    "### Descarregando a base "
   ]
  },
  {
   "cell_type": "code",
   "execution_count": 5,
   "id": "a2a36a81",
   "metadata": {
    "ExecuteTime": {
     "end_time": "2022-06-04T22:04:07.813838Z",
     "start_time": "2022-06-04T22:04:07.430754Z"
    }
   },
   "outputs": [],
   "source": [
    "df = pd.read_csv(\"heart_2020_cleaned.csv\", sep=\",\")"
   ]
  },
  {
   "cell_type": "code",
   "execution_count": 6,
   "id": "d8e0d447",
   "metadata": {
    "ExecuteTime": {
     "end_time": "2022-06-04T22:04:07.892857Z",
     "start_time": "2022-06-04T22:04:07.862850Z"
    }
   },
   "outputs": [
    {
     "data": {
      "text/html": [
       "<div>\n",
       "<style scoped>\n",
       "    .dataframe tbody tr th:only-of-type {\n",
       "        vertical-align: middle;\n",
       "    }\n",
       "\n",
       "    .dataframe tbody tr th {\n",
       "        vertical-align: top;\n",
       "    }\n",
       "\n",
       "    .dataframe thead th {\n",
       "        text-align: right;\n",
       "    }\n",
       "</style>\n",
       "<table border=\"1\" class=\"dataframe\">\n",
       "  <thead>\n",
       "    <tr style=\"text-align: right;\">\n",
       "      <th></th>\n",
       "      <th>HeartDisease</th>\n",
       "      <th>BMI</th>\n",
       "      <th>Smoking</th>\n",
       "      <th>AlcoholDrinking</th>\n",
       "      <th>Stroke</th>\n",
       "      <th>PhysicalHealth</th>\n",
       "      <th>MentalHealth</th>\n",
       "      <th>DiffWalking</th>\n",
       "      <th>Sex</th>\n",
       "      <th>AgeCategory</th>\n",
       "      <th>Race</th>\n",
       "      <th>Diabetic</th>\n",
       "      <th>PhysicalActivity</th>\n",
       "      <th>GenHealth</th>\n",
       "      <th>SleepTime</th>\n",
       "      <th>Asthma</th>\n",
       "      <th>KidneyDisease</th>\n",
       "      <th>SkinCancer</th>\n",
       "    </tr>\n",
       "  </thead>\n",
       "  <tbody>\n",
       "    <tr>\n",
       "      <th>0</th>\n",
       "      <td>No</td>\n",
       "      <td>16.60</td>\n",
       "      <td>Yes</td>\n",
       "      <td>No</td>\n",
       "      <td>No</td>\n",
       "      <td>3.0</td>\n",
       "      <td>30.0</td>\n",
       "      <td>No</td>\n",
       "      <td>Female</td>\n",
       "      <td>55-59</td>\n",
       "      <td>White</td>\n",
       "      <td>Yes</td>\n",
       "      <td>Yes</td>\n",
       "      <td>Very good</td>\n",
       "      <td>5.0</td>\n",
       "      <td>Yes</td>\n",
       "      <td>No</td>\n",
       "      <td>Yes</td>\n",
       "    </tr>\n",
       "    <tr>\n",
       "      <th>1</th>\n",
       "      <td>No</td>\n",
       "      <td>20.34</td>\n",
       "      <td>No</td>\n",
       "      <td>No</td>\n",
       "      <td>Yes</td>\n",
       "      <td>0.0</td>\n",
       "      <td>0.0</td>\n",
       "      <td>No</td>\n",
       "      <td>Female</td>\n",
       "      <td>80 or older</td>\n",
       "      <td>White</td>\n",
       "      <td>No</td>\n",
       "      <td>Yes</td>\n",
       "      <td>Very good</td>\n",
       "      <td>7.0</td>\n",
       "      <td>No</td>\n",
       "      <td>No</td>\n",
       "      <td>No</td>\n",
       "    </tr>\n",
       "    <tr>\n",
       "      <th>2</th>\n",
       "      <td>No</td>\n",
       "      <td>26.58</td>\n",
       "      <td>Yes</td>\n",
       "      <td>No</td>\n",
       "      <td>No</td>\n",
       "      <td>20.0</td>\n",
       "      <td>30.0</td>\n",
       "      <td>No</td>\n",
       "      <td>Male</td>\n",
       "      <td>65-69</td>\n",
       "      <td>White</td>\n",
       "      <td>Yes</td>\n",
       "      <td>Yes</td>\n",
       "      <td>Fair</td>\n",
       "      <td>8.0</td>\n",
       "      <td>Yes</td>\n",
       "      <td>No</td>\n",
       "      <td>No</td>\n",
       "    </tr>\n",
       "  </tbody>\n",
       "</table>\n",
       "</div>"
      ],
      "text/plain": [
       "  HeartDisease    BMI Smoking AlcoholDrinking Stroke  PhysicalHealth  \\\n",
       "0           No  16.60     Yes              No     No             3.0   \n",
       "1           No  20.34      No              No    Yes             0.0   \n",
       "2           No  26.58     Yes              No     No            20.0   \n",
       "\n",
       "   MentalHealth DiffWalking     Sex  AgeCategory   Race Diabetic  \\\n",
       "0          30.0          No  Female        55-59  White      Yes   \n",
       "1           0.0          No  Female  80 or older  White       No   \n",
       "2          30.0          No    Male        65-69  White      Yes   \n",
       "\n",
       "  PhysicalActivity  GenHealth  SleepTime Asthma KidneyDisease SkinCancer  \n",
       "0              Yes  Very good        5.0    Yes            No        Yes  \n",
       "1              Yes  Very good        7.0     No            No         No  \n",
       "2              Yes       Fair        8.0    Yes            No         No  "
      ]
     },
     "execution_count": 6,
     "metadata": {},
     "output_type": "execute_result"
    }
   ],
   "source": [
    "df[:3]"
   ]
  },
  {
   "cell_type": "code",
   "execution_count": 7,
   "id": "80ff3751",
   "metadata": {
    "ExecuteTime": {
     "end_time": "2022-06-04T22:04:08.035888Z",
     "start_time": "2022-06-04T22:04:08.019885Z"
    }
   },
   "outputs": [
    {
     "data": {
      "text/plain": [
       "319795"
      ]
     },
     "execution_count": 7,
     "metadata": {},
     "output_type": "execute_result"
    }
   ],
   "source": [
    "len(df)"
   ]
  },
  {
   "cell_type": "markdown",
   "id": "40c5fc0c",
   "metadata": {},
   "source": [
    "Vamos pegar apenas a raça negra e verificar os dados"
   ]
  },
  {
   "cell_type": "code",
   "execution_count": 8,
   "id": "5048f929",
   "metadata": {
    "ExecuteTime": {
     "end_time": "2022-06-04T22:04:08.682034Z",
     "start_time": "2022-06-04T22:04:08.669031Z"
    }
   },
   "outputs": [],
   "source": [
    "def plot_est_random(x, y, z, var1, indice):\n",
    "    fig = plt.figure(figsize=(20,5))\n",
    "\n",
    "    ax1 = fig.add_subplot(1,3,1)\n",
    "    ax2 = fig.add_subplot(1,3,2)\n",
    "    ax3 = fig.add_subplot(1,3,3)\n",
    "\n",
    "    ax1.hist(x[var1[indice]], bins=25, color='#3434F6')\n",
    "    ax2.hist(y[var1[indice]], bins=25, color='#B680DA')\n",
    "    ax3.hist(z[var1[indice]], bins=25, color='#F04D5C')\n",
    "\n",
    "    plt.subplots_adjust(wspace=0.2, hspace=0.2)\n",
    "    plt.show()\n",
    "    \n",
    "def calculos_est(x,y,z, var1, indice):\n",
    "    med  = np.mean(x[var1[indice]])\n",
    "    med1 = np.mean(y[var1[indice]])\n",
    "    med2 = np.mean(z[var1[indice]])\n",
    "    \n",
    "    mediana  = np.median(x[var1[indice]])\n",
    "    mediana1 = np.median(y[var1[indice]])\n",
    "    mediana2 = np.median(z[var1[indice]])\n",
    "\n",
    "    sd  = np.std(x[var1[indice]])\n",
    "    sd1 = np.std(y[var1[indice]])\n",
    "    sd2 = np.std(z[var1[indice]])\n",
    "\n",
    "    print(f'Desvio original {sd}, desvio para amostra 1 = {sd1}, desvio para amostra 2 = {sd2}\\n')\n",
    "    print(f'Media original: {med}, media 1: {med1}, media 2: {med2}\\n')\n",
    "    print(f'Mediana original: {mediana}, mediana 1: {mediana1}, mediana 2: {mediana2}\\n')\n",
    "    print(f'Amostra original: {len(x[var1[indice]])} | Amostra 1: {len(y[var1[indice]])} | Amostra 2: {len(z[var1[indice]])}')"
   ]
  },
  {
   "cell_type": "code",
   "execution_count": 10,
   "id": "af03272d",
   "metadata": {
    "ExecuteTime": {
     "end_time": "2022-06-04T22:04:55.015177Z",
     "start_time": "2022-06-04T22:04:54.952163Z"
    }
   },
   "outputs": [],
   "source": [
    "var1 = ['BMI','PhysicalHealth', 'MentalHealth','SleepTime']\n",
    "var2 = ['White', 'Black']\n",
    "a = 0\n",
    "aa = 0\n",
    "\n",
    "# fazendo um filtro de pessoas que tem a doença podendo setar a raca\n",
    "df_tt = df[(df['Race'] == var2[a]) & (df['HeartDisease'] == 'Yes')]"
   ]
  },
  {
   "cell_type": "markdown",
   "id": "0033216d",
   "metadata": {},
   "source": [
    "#### Extratifica com reposicao 2.5% do total e depois com 12.5%"
   ]
  },
  {
   "cell_type": "code",
   "execution_count": 15,
   "id": "3f609e38",
   "metadata": {
    "ExecuteTime": {
     "end_time": "2022-06-04T22:07:05.408607Z",
     "start_time": "2022-06-04T22:07:05.382602Z"
    }
   },
   "outputs": [
    {
     "data": {
      "text/plain": [
       "(2810, 562)"
      ]
     },
     "execution_count": 15,
     "metadata": {},
     "output_type": "execute_result"
    }
   ],
   "source": [
    "qtd1 = int(len(df_tt) * 0.025)\n",
    "df_1 = df_tt[df_tt['Race'] == var2[a]].sample(qtd1)\n",
    "df_2 = df_tt[df_tt['Race'] == var2[a]].sample(qtd1*5)\n",
    "qtd1*5, qtd1"
   ]
  },
  {
   "cell_type": "markdown",
   "id": "f7d31a95",
   "metadata": {},
   "source": [
    "#### Extratifica com reposicao 5% e depois com 25%"
   ]
  },
  {
   "cell_type": "code",
   "execution_count": 18,
   "id": "17c23bb8",
   "metadata": {
    "ExecuteTime": {
     "end_time": "2022-06-04T22:08:53.734180Z",
     "start_time": "2022-06-04T22:08:53.720178Z"
    }
   },
   "outputs": [
    {
     "data": {
      "text/plain": [
       "(700, 140)"
      ]
     },
     "execution_count": 18,
     "metadata": {},
     "output_type": "execute_result"
    }
   ],
   "source": [
    "qtd2 = int(len(df_2) * 0.05)\n",
    "df_12 = df_2[df_2['Race'] == var2[a]].sample(qtd2)\n",
    "df_22 = df_2[df_2['Race'] == var2[a]].sample(qtd2*5)\n",
    "qtd2*5, qtd2"
   ]
  },
  {
   "cell_type": "code",
   "execution_count": 17,
   "id": "c8a23e25",
   "metadata": {
    "ExecuteTime": {
     "end_time": "2022-06-04T22:07:30.710203Z",
     "start_time": "2022-06-04T22:07:30.702201Z"
    }
   },
   "outputs": [
    {
     "name": "stdout",
     "output_type": "stream",
     "text": [
      "Desvio original 6.371647180936933, desvio para amostra 1 = 6.028621218717765, desvio para amostra 2 = 6.425556783029429\n",
      "\n",
      "Media original: 29.20698404940685, media 1: 29.5538256227758, media 2: 29.180412811387896\n",
      "\n",
      "Mediana original: 28.25, mediana 1: 28.89, mediana 2: 28.19\n",
      "\n",
      "Amostra original: 22507 | Amostra 1: 562 | Amostra 2: 2810\n"
     ]
    }
   ],
   "source": [
    "calculos_est(df_tt,df_1, df_2, var1, aa)"
   ]
  },
  {
   "cell_type": "code",
   "execution_count": 19,
   "id": "2cf4ac23",
   "metadata": {
    "ExecuteTime": {
     "end_time": "2022-06-04T22:08:59.910560Z",
     "start_time": "2022-06-04T22:08:59.507470Z"
    }
   },
   "outputs": [
    {
     "data": {
      "image/png": "[encoded data removed]",
      "text/plain": [
       "<Figure size 1440x360 with 3 Axes>"
      ]
     },
     "metadata": {
      "needs_background": "light"
     },
     "output_type": "display_data"
    }
   ],
   "source": [
    "plot_est_random(df_tt,df_1, df_2, var1, aa)"
   ]
  },
  {
   "cell_type": "code",
   "execution_count": null,
   "id": "8cd194cc",
   "metadata": {
    "ExecuteTime": {
     "end_time": "2022-06-04T20:33:23.954599Z",
     "start_time": "2022-06-04T20:33:23.939595Z"
    }
   },
   "outputs": [],
   "source": [
    "calculos_est(df_2,df_12, df_22, var1, aa)"
   ]
  },
  {
   "cell_type": "code",
   "execution_count": null,
   "id": "28e823f7",
   "metadata": {
    "ExecuteTime": {
     "end_time": "2022-06-04T20:33:24.368692Z",
     "start_time": "2022-06-04T20:33:24.035618Z"
    }
   },
   "outputs": [],
   "source": [
    "plot_est_random(df_2,df_12, df_22, var1, aa)"
   ]
  },
  {
   "cell_type": "markdown",
   "id": "a6ae696d",
   "metadata": {},
   "source": [
    "#### Modificações nas colunas "
   ]
  },
  {
   "cell_type": "code",
   "execution_count": null,
   "id": "d92b9ea5",
   "metadata": {
    "ExecuteTime": {
     "end_time": "2022-06-04T20:36:34.720537Z",
     "start_time": "2022-06-04T20:36:34.403461Z"
    }
   },
   "outputs": [],
   "source": [
    "df.GenHealth = [x if x != 'Very good' else 'VeryGood' for x in df.GenHealth]\n",
    "df.AgeCategory = [x if x != '80 or older' else 'gt80' for x in df.AgeCategory]\n",
    "df.HeartDisease = [1 if x != 'No' else 0 for x in df.HeartDisease]\n",
    "df.Diabetic = [x if x != 'Yes (during pregnancy)' else 'ydp' for x in df.Diabetic]"
   ]
  },
  {
   "cell_type": "markdown",
   "id": "c7dbeec5",
   "metadata": {},
   "source": [
    "### Recarregando o Dataset original com filtro para hipoteses com IMC e horas de sono para negros e brancos"
   ]
  },
  {
   "cell_type": "markdown",
   "id": "4ea0cbe5",
   "metadata": {},
   "source": [
    "#### Negros "
   ]
  },
  {
   "cell_type": "code",
   "execution_count": null,
   "id": "79f26082",
   "metadata": {
    "ExecuteTime": {
     "end_time": "2022-06-04T21:20:34.272004Z",
     "start_time": "2022-06-04T21:20:34.203080Z"
    }
   },
   "outputs": [],
   "source": [
    "ndf_dc = df[(df['BMI'] > 35) & (df['SleepTime'] > 5) & (df['Race'] == 'Black')] #hipotese obesos e com mais de 5 horas de sono\n",
    "ndf_dc2 = df[(df['BMI'] > 35) & (df['SleepTime'] < 5) & (df['Race'] == 'Black')] #hipotese obesos e com menos de 5 horas de sono\n",
    "ndf_dc3 = df[(df['BMI'] < 35) & (df['SleepTime'] < 5) & (df['Race'] == 'Black')] #hipotese obesos e com menos de 5 horas de sono"
   ]
  },
  {
   "cell_type": "markdown",
   "id": "60f62d98",
   "metadata": {},
   "source": [
    "#### Comparativo entre os que tem doenca ja e o total NEGROS"
   ]
  },
  {
   "cell_type": "code",
   "execution_count": null,
   "id": "5bda383e",
   "metadata": {
    "ExecuteTime": {
     "end_time": "2022-06-04T21:20:35.263979Z",
     "start_time": "2022-06-04T21:20:35.244957Z"
    }
   },
   "outputs": [],
   "source": [
    "x = ndf_dc['HeartDisease'].value_counts()\n",
    "print(f'Taxa de pessoas com doenças cardiacas com IMC > 35 e mais de 5 horas de sono: {round(x[1]/len(ndf_dc), 2) * 100}%')\n",
    "\n",
    "x2 = ndf_dc2['HeartDisease'].value_counts()\n",
    "print(f'Taxa de pessoas com doenças cardiacas com IMC > 35 e menos de 5 horas de sono: {round(x2[1]/len(ndf_dc2), 2) * 100}%')\n",
    "\n",
    "x3 = ndf_dc3['HeartDisease'].value_counts()\n",
    "print(f'Taxa de pessoas com doenças cardiacas com IMC < 35 e menos de 5 horas de sono: {round(x3[1]/len(ndf_dc3), 2) * 100}%')"
   ]
  },
  {
   "cell_type": "markdown",
   "id": "35d1b83a",
   "metadata": {},
   "source": [
    "### Avaliação por agrupamento em negros"
   ]
  },
  {
   "cell_type": "code",
   "execution_count": null,
   "id": "2f7f785b",
   "metadata": {
    "ExecuteTime": {
     "end_time": "2022-06-04T21:20:42.426920Z",
     "start_time": "2022-06-04T21:20:42.401913Z"
    }
   },
   "outputs": [],
   "source": [
    "(ndf_dc.groupby(['Race','Sex','AlcoholDrinking','PhysicalActivity']) \\\n",
    "                             .agg({'HeartDisease':'count', 'BMI':'mean', 'SleepTime':'mean'})).style \\\n",
    "                             .format({\"HeartDisease\": \"{:20,.0f}\"}) \\\n",
    "                             .format({\"BMI\": \"{:20,.2f}\"}) \\\n",
    "                             .format({\"SleepTime\": \"{:20,.2f} h/dia\"}) \\\n",
    "                             .bar(subset=[\"HeartDisease\"], color='#AABB00')"
   ]
  },
  {
   "cell_type": "markdown",
   "id": "51f93a82",
   "metadata": {},
   "source": [
    "#### A chance de ter doença com o cenario \n"
   ]
  },
  {
   "cell_type": "code",
   "execution_count": null,
   "id": "6a35bd2b",
   "metadata": {
    "ExecuteTime": {
     "end_time": "2022-06-04T21:25:50.005773Z",
     "start_time": "2022-06-04T21:25:49.998766Z"
    }
   },
   "outputs": [],
   "source": [
    "x = ndf_dc['HeartDisease'].value_counts()\n",
    "print(f'Pessoas negras com o IMC > 35 e que dormem menos de 5 horas por dias tem {round(x[1]/x[0],4) * 100} \\\n",
    "% a mais de chance de ter doença cardíaca.')"
   ]
  },
  {
   "cell_type": "markdown",
   "id": "a1dd83a9",
   "metadata": {},
   "source": [
    "#### Plotagem de IMC para negros "
   ]
  },
  {
   "cell_type": "code",
   "execution_count": null,
   "id": "e13826bb",
   "metadata": {
    "ExecuteTime": {
     "end_time": "2022-06-04T21:27:27.009907Z",
     "start_time": "2022-06-04T21:27:26.911885Z"
    }
   },
   "outputs": [],
   "source": [
    "plt.hist(ndf_dc['BMI'], bins=15)\n",
    "plt.show()"
   ]
  },
  {
   "cell_type": "markdown",
   "id": "53cfd99b",
   "metadata": {
    "ExecuteTime": {
     "end_time": "2022-06-04T21:17:19.828881Z",
     "start_time": "2022-06-04T21:17:19.810878Z"
    }
   },
   "source": [
    "#### Brancos"
   ]
  },
  {
   "cell_type": "code",
   "execution_count": null,
   "id": "b79a26a4",
   "metadata": {
    "ExecuteTime": {
     "end_time": "2022-06-04T21:21:01.654231Z",
     "start_time": "2022-06-04T21:21:01.569193Z"
    }
   },
   "outputs": [],
   "source": [
    "df_dc = df[(df['BMI'] > 35) & (df['SleepTime'] > 5) & (df['Race'] == 'White')] #hipotese obesos e com mais de 5 horas de sono\n",
    "df_dc2 = df[(df['BMI'] > 35) & (df['SleepTime'] < 5) & (df['Race'] == 'White')] #hipotese obesos e com menos de 5 horas de sono\n",
    "df_dc3 = df[(df['BMI'] < 35) & (df['SleepTime'] < 5) & (df['Race'] == 'White')] #hipotese obesos e com menos de 5 horas de sono"
   ]
  },
  {
   "cell_type": "code",
   "execution_count": null,
   "id": "073d7298",
   "metadata": {
    "ExecuteTime": {
     "end_time": "2022-06-04T21:21:02.066304Z",
     "start_time": "2022-06-04T21:21:02.045298Z"
    }
   },
   "outputs": [],
   "source": [
    "x = df_dc['HeartDisease'].value_counts()\n",
    "print(f'Taxa de pessoas com doenças cardiacas com IMC > 35 e mais de 5 horas de sono: {round(x[1]/len(df_dc), 2) * 100}%')\n",
    "\n",
    "x2 = df_dc2['HeartDisease'].value_counts()\n",
    "print(f'Taxa de pessoas com doenças cardiacas com IMC > 35 e menos de 5 horas de sono: {round(x2[1]/len(df_dc2), 2) * 100}%')\n",
    "\n",
    "x3 = df_dc3['HeartDisease'].value_counts()\n",
    "print(f'Taxa de pessoas com doenças cardiacas com IMC < 35 e menos de 5 horas de sono: {round(x3[1]/len(df_dc3), 2) * 100}%')"
   ]
  },
  {
   "cell_type": "markdown",
   "id": "090784fa",
   "metadata": {},
   "source": [
    "### Avaliação por agrupamento em brancos"
   ]
  },
  {
   "cell_type": "code",
   "execution_count": null,
   "id": "ed719033",
   "metadata": {
    "ExecuteTime": {
     "end_time": "2022-06-04T21:21:03.386664Z",
     "start_time": "2022-06-04T21:21:03.359654Z"
    }
   },
   "outputs": [],
   "source": [
    "(df_dc.groupby(['Race','Sex','AlcoholDrinking','PhysicalActivity']) \\\n",
    "                             .agg({'HeartDisease':'count', 'BMI':'mean', 'SleepTime':'mean'})).style \\\n",
    "                             .format({\"HeartDisease\": \"{:20,.0f}\"}) \\\n",
    "                             .format({\"BMI\": \"{:20,.2f}\"}) \\\n",
    "                             .format({\"SleepTime\": \"{:20,.2f} h/dia\"}) \\\n",
    "                             .bar(subset=[\"HeartDisease\"], color='#AABB00')"
   ]
  },
  {
   "cell_type": "markdown",
   "id": "c92eafce",
   "metadata": {},
   "source": [
    "#### A chance de ter doença com o cenario "
   ]
  },
  {
   "cell_type": "code",
   "execution_count": null,
   "id": "b2b166da",
   "metadata": {
    "ExecuteTime": {
     "end_time": "2022-06-04T21:30:53.977323Z",
     "start_time": "2022-06-04T21:30:53.968308Z"
    }
   },
   "outputs": [],
   "source": [
    "x = df_dc['HeartDisease'].value_counts()\n",
    "print(f'Pessoas brancas com o IMC > 35 e que dormem menos de 5 horas por dias tem {round(x[1]/x[0],3) * 100} \\\n",
    "% a mais de chance de ter doença cardíaca.')"
   ]
  },
  {
   "cell_type": "markdown",
   "id": "f940640d",
   "metadata": {},
   "source": [
    "#### Plotagem dos IMC para brancos "
   ]
  },
  {
   "cell_type": "code",
   "execution_count": null,
   "id": "9f9a84a2",
   "metadata": {
    "ExecuteTime": {
     "end_time": "2022-06-04T21:27:31.844987Z",
     "start_time": "2022-06-04T21:27:31.743971Z"
    }
   },
   "outputs": [],
   "source": [
    "plt.hist(df_dc['BMI'], bins=15)\n",
    "plt.show()"
   ]
  },
  {
   "cell_type": "code",
   "execution_count": null,
   "id": "286d792a",
   "metadata": {
    "ExecuteTime": {
     "end_time": "2022-06-04T21:41:12.007258Z",
     "start_time": "2022-06-04T21:41:11.983244Z"
    }
   },
   "outputs": [],
   "source": [
    "df_dc.drop(columns='HeartDisease').corr(method='pearson').style.background_gradient(cmap='Blues') \\\n",
    "                                  .applymap(lambda x: f\"color: {'red' if x <= 0 else 'black'}\")\\\n",
    "                                  .applymap(lambda x: f\"color: {'white' if x == 1 else 'black'}\")"
   ]
  },
  {
   "cell_type": "markdown",
   "id": "defbfe11",
   "metadata": {},
   "source": [
    "#### Describe apenas para numericas "
   ]
  },
  {
   "cell_type": "code",
   "execution_count": null,
   "id": "8eabe216",
   "metadata": {
    "ExecuteTime": {
     "end_time": "2022-06-04T21:41:12.859253Z",
     "start_time": "2022-06-04T21:41:12.830243Z"
    }
   },
   "outputs": [],
   "source": [
    "df_dc.describe(include=[np.number])"
   ]
  },
  {
   "cell_type": "markdown",
   "id": "4159d4c6",
   "metadata": {},
   "source": [
    "#### Dummyzation "
   ]
  },
  {
   "cell_type": "code",
   "execution_count": null,
   "id": "155596bd",
   "metadata": {
    "ExecuteTime": {
     "end_time": "2022-06-04T21:41:15.411617Z",
     "start_time": "2022-06-04T21:41:15.381591Z"
    }
   },
   "outputs": [],
   "source": [
    "df_1 = df.copy() #df[(df['BMI'] > 20)  & (df['SleepTime'] < 6)]"
   ]
  },
  {
   "cell_type": "code",
   "execution_count": null,
   "id": "46ab2f7f",
   "metadata": {
    "ExecuteTime": {
     "end_time": "2022-06-04T21:41:15.822711Z",
     "start_time": "2022-06-04T21:41:15.811699Z"
    }
   },
   "outputs": [],
   "source": [
    "#df_1.groupby(['Race','Sex','AlcoholDrinking','PhysicalActivity', 'HeartDisease']).agg({'HeartDisease':'count'})"
   ]
  },
  {
   "cell_type": "code",
   "execution_count": null,
   "id": "291e179a",
   "metadata": {
    "ExecuteTime": {
     "end_time": "2022-06-04T21:41:16.690648Z",
     "start_time": "2022-06-04T21:41:16.431973Z"
    }
   },
   "outputs": [],
   "source": [
    "df_ = pd.get_dummies(df_1, columns=['Smoking', 'AlcoholDrinking', 'Stroke',\n",
    "       'DiffWalking', 'Sex', 'AgeCategory', 'Race', 'Diabetic', 'PhysicalActivity', 'GenHealth',\n",
    "       'Asthma', 'KidneyDisease', 'SkinCancer']) "
   ]
  },
  {
   "cell_type": "code",
   "execution_count": null,
   "id": "58f19127",
   "metadata": {
    "ExecuteTime": {
     "end_time": "2022-06-04T21:41:17.148294Z",
     "start_time": "2022-06-04T21:41:17.113283Z"
    }
   },
   "outputs": [],
   "source": [
    "df_.info(memory_usage=\"deep\")"
   ]
  },
  {
   "cell_type": "code",
   "execution_count": null,
   "id": "ff0c37af",
   "metadata": {
    "ExecuteTime": {
     "end_time": "2022-06-04T21:41:17.637899Z",
     "start_time": "2022-06-04T21:41:17.527889Z"
    }
   },
   "outputs": [],
   "source": [
    "plt.hist(df_.HeartDisease)\n",
    "plt.show()"
   ]
  },
  {
   "cell_type": "code",
   "execution_count": null,
   "id": "7bfd0038",
   "metadata": {
    "ExecuteTime": {
     "end_time": "2022-06-04T21:41:18.095551Z",
     "start_time": "2022-06-04T21:41:18.078549Z"
    }
   },
   "outputs": [],
   "source": [
    "#df_.columns"
   ]
  },
  {
   "cell_type": "markdown",
   "id": "a529416e",
   "metadata": {},
   "source": [
    "# Análises nos dados "
   ]
  },
  {
   "cell_type": "markdown",
   "id": "11362959",
   "metadata": {},
   "source": [
    "### Stats Models para escolher variaveis"
   ]
  },
  {
   "cell_type": "code",
   "execution_count": null,
   "id": "cc97dc10",
   "metadata": {
    "ExecuteTime": {
     "end_time": "2022-06-04T21:41:20.460892Z",
     "start_time": "2022-06-04T21:41:19.296862Z"
    }
   },
   "outputs": [],
   "source": [
    "import statsmodels.api as sm\n",
    "from patsy import dmatrices, dmatrix, demo_data"
   ]
  },
  {
   "cell_type": "markdown",
   "id": "a98940a1",
   "metadata": {},
   "source": [
    "#### Escolha de variáveis "
   ]
  },
  {
   "cell_type": "code",
   "execution_count": null,
   "id": "6b65ee2b",
   "metadata": {
    "ExecuteTime": {
     "end_time": "2022-06-04T21:41:20.619868Z",
     "start_time": "2022-06-04T21:41:20.605825Z"
    }
   },
   "outputs": [],
   "source": [
    "variaveis = 'HeartDisease ~  BMI + PhysicalHealth + MentalHealth + SleepTime + Smoking_No + \\\n",
    " AlcoholDrinking_No +  AlcoholDrinking_Yes +  Stroke_No +  Stroke_Yes +  DiffWalking_No +  DiffWalking_Yes + \\\n",
    " Q(\"Race_American Indian/Alaskan Native\") + Race_White + Race_Asian +  Race_Black +  Race_Hispanic +  Race_Other + \\\n",
    " Sex_Female +  Sex_Male +  Q(\"AgeCategory_18-24\") +  Q(\"AgeCategory_25-29\") +  Q(\"AgeCategory_30-34\") +  Q(\"AgeCategory_35-39\") + \\\n",
    " Q(\"AgeCategory_40-44\") +  Q(\"AgeCategory_45-49\") +  Q(\"AgeCategory_50-54\") +  Q(\"AgeCategory_55-59\") +  Q(\"AgeCategory_60-64\") + \\\n",
    " Q(\"AgeCategory_65-69\") +  Q(\"AgeCategory_70-74\") +  Q(\"AgeCategory_75-79\") +  AgeCategory_gt80 + \\\n",
    " Diabetic_Yes +  PhysicalActivity_No +  PhysicalActivity_Yes +  GenHealth_Excellent +  GenHealth_Fair + \\\n",
    " GenHealth_Poor +  GenHealth_VeryGood +  Asthma_No +  Asthma_Yes +  KidneyDisease_No +  KidneyDisease_Yes + \\\n",
    " SkinCancer_No +  SkinCancer_Yes'\n",
    "\n",
    "\n",
    "# Q(\"Race_American Indian/Alaskan Native\") + \\  Race_Asian +  Race_Black +  Race_Hispanic +  Race_Other + "
   ]
  },
  {
   "cell_type": "markdown",
   "id": "75fef072",
   "metadata": {},
   "source": [
    "#### Avaliando os Betas "
   ]
  },
  {
   "cell_type": "code",
   "execution_count": null,
   "id": "a4a68f4e",
   "metadata": {
    "ExecuteTime": {
     "end_time": "2022-06-04T21:41:21.148015Z",
     "start_time": "2022-06-04T21:41:20.765917Z"
    }
   },
   "outputs": [],
   "source": [
    "y_treino, X_treino = dmatrices(variaveis, \n",
    "                 data=df_, return_type='dataframe')"
   ]
  },
  {
   "cell_type": "code",
   "execution_count": null,
   "id": "2014bdb8",
   "metadata": {
    "ExecuteTime": {
     "end_time": "2022-06-04T21:41:29.310446Z",
     "start_time": "2022-06-04T21:41:21.323932Z"
    }
   },
   "outputs": [],
   "source": [
    "X_treino.exog = sm.add_constant(X_treino)\n",
    "logit_mod = sm.GLM(y_treino, X_treino, family=sm.families.Binomial())\n",
    "logit_res = logit_mod.fit()\n",
    "print(logit_res.summary2())"
   ]
  },
  {
   "cell_type": "markdown",
   "id": "f980cfc4",
   "metadata": {},
   "source": [
    "### Definindo o dataset final"
   ]
  },
  {
   "cell_type": "code",
   "execution_count": null,
   "id": "f5155d0e",
   "metadata": {
    "ExecuteTime": {
     "end_time": "2022-06-04T21:41:39.163721Z",
     "start_time": "2022-06-04T21:41:39.157708Z"
    }
   },
   "outputs": [],
   "source": [
    "#X_treino.columns"
   ]
  },
  {
   "cell_type": "markdown",
   "id": "540fc9d2",
   "metadata": {},
   "source": [
    "#### Definindo variáveis explicativas "
   ]
  },
  {
   "cell_type": "code",
   "execution_count": null,
   "id": "01f2525b",
   "metadata": {
    "ExecuteTime": {
     "end_time": "2022-06-04T21:41:39.809241Z",
     "start_time": "2022-06-04T21:41:39.783235Z"
    }
   },
   "outputs": [],
   "source": [
    "data = df_.loc[:, ['BMI', 'PhysicalHealth', 'MentalHealth', 'SleepTime',\n",
    "       'Smoking_No', 'AlcoholDrinking_No', 'AlcoholDrinking_Yes', 'Stroke_No',\n",
    "       'Stroke_Yes', 'DiffWalking_No', 'DiffWalking_Yes', 'Sex_Female',\n",
    "       'Sex_Male', 'AgeCategory_18-24', 'AgeCategory_25-29',\n",
    "       'AgeCategory_30-34', 'AgeCategory_35-39', 'Race_American Indian/Alaskan Native', 'Race_Asian', 'Race_Black',\n",
    "       'Race_Hispanic', 'Race_Other', 'Race_White', \n",
    "       'AgeCategory_40-44', 'AgeCategory_45-49',\n",
    "       'AgeCategory_50-54', 'AgeCategory_55-59',\n",
    "       'AgeCategory_60-64', 'AgeCategory_65-69',\n",
    "       'AgeCategory_70-74', 'AgeCategory_75-79', 'AgeCategory_gt80',\n",
    "       'Diabetic_Yes',\n",
    "       'PhysicalActivity_No', 'PhysicalActivity_Yes', 'GenHealth_Excellent',\n",
    "       'GenHealth_Fair', 'GenHealth_Poor', 'GenHealth_VeryGood', 'Asthma_No',\n",
    "       'Asthma_Yes', 'KidneyDisease_No', 'KidneyDisease_Yes', 'SkinCancer_No',\n",
    "       'SkinCancer_Yes']]\n",
    "\n",
    "# 'Race_American Indian/Alaskan Native', 'Race_Asian', 'Race_Black',\n",
    "# 'Race_Hispanic', 'Race_Other', 'Race_White', "
   ]
  },
  {
   "cell_type": "markdown",
   "id": "a1077747",
   "metadata": {},
   "source": [
    "#### Definindo variável alvo "
   ]
  },
  {
   "cell_type": "code",
   "execution_count": null,
   "id": "4a907354",
   "metadata": {
    "ExecuteTime": {
     "end_time": "2022-06-04T21:41:40.643642Z",
     "start_time": "2022-06-04T21:41:40.627619Z"
    }
   },
   "outputs": [],
   "source": [
    "target = df_['HeartDisease']"
   ]
  },
  {
   "cell_type": "markdown",
   "id": "435cb2fc",
   "metadata": {},
   "source": [
    "#### Transformando em arrays numpy "
   ]
  },
  {
   "cell_type": "code",
   "execution_count": null,
   "id": "aa78ab72",
   "metadata": {
    "ExecuteTime": {
     "end_time": "2022-06-04T21:41:41.195999Z",
     "start_time": "2022-06-04T21:41:41.162985Z"
    }
   },
   "outputs": [],
   "source": [
    "data = np.asarray(data)\n",
    "target = np.asarray(target)"
   ]
  },
  {
   "cell_type": "markdown",
   "id": "2f52cc40",
   "metadata": {},
   "source": [
    "#### Split em treino, teste e validacao"
   ]
  },
  {
   "cell_type": "code",
   "execution_count": null,
   "id": "50ee0705",
   "metadata": {
    "ExecuteTime": {
     "end_time": "2022-06-04T21:41:42.536347Z",
     "start_time": "2022-06-04T21:41:42.314312Z"
    }
   },
   "outputs": [],
   "source": [
    "X_train_full, X_test, y_train_full, y_test = train_test_split(data, target,  random_state=42)\n",
    "X_train, X_valid, y_train, y_valid = train_test_split(X_train_full, y_train_full, random_state=42)"
   ]
  },
  {
   "cell_type": "markdown",
   "id": "cb698656",
   "metadata": {},
   "source": [
    "#### Padronização de valores  "
   ]
  },
  {
   "cell_type": "code",
   "execution_count": null,
   "id": "f38d54d8",
   "metadata": {
    "ExecuteTime": {
     "end_time": "2022-06-04T21:41:43.389025Z",
     "start_time": "2022-06-04T21:41:43.246921Z"
    }
   },
   "outputs": [],
   "source": [
    "scaler = StandardScaler()\n",
    "X_train = scaler.fit_transform(X_train)\n",
    "X_valid = scaler.transform(X_valid)\n",
    "X_test = scaler.transform(X_test)"
   ]
  },
  {
   "cell_type": "markdown",
   "id": "7c865c29",
   "metadata": {},
   "source": [
    "# O modelo e hiperparâmetros"
   ]
  },
  {
   "cell_type": "markdown",
   "id": "6e80f8d4",
   "metadata": {},
   "source": [
    "### Definindo as camadas de entrada e ocultas "
   ]
  },
  {
   "cell_type": "markdown",
   "id": "34ae1833",
   "metadata": {},
   "source": [
    "#### Definição da funcao de ativacao Sigmoid e o build com o shape na entrada"
   ]
  },
  {
   "cell_type": "code",
   "execution_count": null,
   "id": "e8fa27e0",
   "metadata": {
    "ExecuteTime": {
     "end_time": "2022-06-04T21:41:44.410398Z",
     "start_time": "2022-06-04T21:41:44.403391Z"
    }
   },
   "outputs": [],
   "source": [
    "\"\"\"model = keras.models.Sequential([\n",
    "    keras.layers.Flatten(input_shape=X_train.shape[1:]),\n",
    "    keras.layers.Dense(100, activation=\"relu\"),\n",
    "    keras.layers.Dense(50, activation=\"relu\", name=\"oculta1\"),\n",
    "    keras.layers.Dense(50, activation=\"relu\", name=\"oculta2\"),\n",
    "    keras.layers.Dense(50, activation=\"relu\", name=\"oculta3\"),\n",
    "    keras.layers.Dense(1, activation=\"sigmoid\")\n",
    "])\"\"\""
   ]
  },
  {
   "cell_type": "code",
   "execution_count": null,
   "id": "becb668c",
   "metadata": {
    "ExecuteTime": {
     "end_time": "2022-06-04T21:41:45.119500Z",
     "start_time": "2022-06-04T21:41:44.848427Z"
    }
   },
   "outputs": [],
   "source": [
    "kl = keras.layers\n",
    "input_ = kl.Input(shape=X_train.shape[1:]) #qtd vars\n",
    "hidden1 = kl.Dense(30, activation=\"relu\")(input_)\n",
    "hidden2 = kl.Dense(30, activation=\"relu\")(hidden1)\n",
    "hidden3 = kl.Dense(30, activation=\"relu\")(hidden2)\n",
    "hidden4 = kl.Dense(30, activation=\"relu\")(hidden3)\n",
    "concat = kl.Concatenate()([input_, hidden4])\n",
    "output = kl.Dense(1, activation=\"sigmoid\")(concat)\n",
    "model = keras.Model(inputs=[input_], outputs=[output])"
   ]
  },
  {
   "cell_type": "markdown",
   "id": "e43b4f12",
   "metadata": {
    "ExecuteTime": {
     "end_time": "2022-04-29T14:24:44.600398Z",
     "start_time": "2022-04-29T14:24:44.585337Z"
    }
   },
   "source": [
    "#### Criando metricas para a regressao logit e definição de Cutoff"
   ]
  },
  {
   "cell_type": "code",
   "execution_count": null,
   "id": "7c4fbd7e",
   "metadata": {
    "ExecuteTime": {
     "end_time": "2022-06-04T21:42:05.737674Z",
     "start_time": "2022-06-04T21:42:05.730670Z"
    }
   },
   "outputs": [],
   "source": [
    "tf.keras.metrics.FalseNegatives?"
   ]
  },
  {
   "cell_type": "code",
   "execution_count": null,
   "id": "0439a2de",
   "metadata": {
    "ExecuteTime": {
     "end_time": "2022-06-04T21:42:06.181057Z",
     "start_time": "2022-06-04T21:42:06.150044Z"
    }
   },
   "outputs": [],
   "source": [
    "tf.keras.metrics.BinaryAccuracy(\n",
    "    name=\"binary_accuracy\", threshold=0.2\n",
    ")\n",
    "\n",
    "tf.keras.metrics.FalseNegatives(\n",
    "    name=\"false_negatives\", thresholds=0.2    \n",
    ")"
   ]
  },
  {
   "cell_type": "markdown",
   "id": "72c4001e",
   "metadata": {},
   "source": [
    "#### Compilando o modelo "
   ]
  },
  {
   "cell_type": "code",
   "execution_count": null,
   "id": "c7e29c61",
   "metadata": {
    "ExecuteTime": {
     "end_time": "2022-06-03T13:29:56.037511Z",
     "start_time": "2022-06-03T13:29:56.029508Z"
    }
   },
   "outputs": [],
   "source": [
    "model.compile?"
   ]
  },
  {
   "cell_type": "code",
   "execution_count": null,
   "id": "64c59c8a",
   "metadata": {
    "ExecuteTime": {
     "end_time": "2022-06-04T21:42:17.706155Z",
     "start_time": "2022-06-04T21:42:17.670160Z"
    }
   },
   "outputs": [],
   "source": [
    "model.compile(loss=\"binary_crossentropy\", optimizer=tf.keras.optimizers.Adam(learning_rate=1e-3), \n",
    "              metrics=[tf.keras.metrics.BinaryAccuracy(), \n",
    "                       tf.keras.metrics.FalseNegatives()])"
   ]
  },
  {
   "cell_type": "markdown",
   "id": "e5d2e55f",
   "metadata": {},
   "source": [
    "#### Definição do diretorio do tensorboard"
   ]
  },
  {
   "cell_type": "code",
   "execution_count": null,
   "id": "9c559fd0",
   "metadata": {
    "ExecuteTime": {
     "end_time": "2022-06-04T21:42:25.093196Z",
     "start_time": "2022-06-04T21:42:25.080188Z"
    }
   },
   "outputs": [],
   "source": [
    "root_logdir = os.path.join(os.curdir, \"my_logs_hd\")\n",
    "def get_run_logdir():\n",
    "    import time\n",
    "    run_id = time.strftime(\"run_%Y_%m_%d-%H_%M_%S\")\n",
    "    return os.path.join(root_logdir, run_id)\n",
    "\n",
    "root_logdir = get_run_logdir()"
   ]
  },
  {
   "cell_type": "markdown",
   "id": "17d6df2d",
   "metadata": {},
   "source": [
    "#### Funções Callback para parada acidental, parada com loss sem alteracao, gravação no tensorboard"
   ]
  },
  {
   "cell_type": "code",
   "execution_count": null,
   "id": "e347ebc8",
   "metadata": {
    "ExecuteTime": {
     "end_time": "2022-06-04T21:42:26.210270Z",
     "start_time": "2022-06-04T21:42:26.202283Z"
    }
   },
   "outputs": [],
   "source": [
    "checkpoint_cb = keras.callbacks.ModelCheckpoint(\"modelo5_heart_disease.h5\", save_best_only=True)\n",
    "early_stopping_cb = keras.callbacks.EarlyStopping(patience=10, restore_best_weights=True)\n",
    "tensorboad_cb = keras.callbacks.TensorBoard(root_logdir)"
   ]
  },
  {
   "cell_type": "markdown",
   "id": "7ae5029a",
   "metadata": {},
   "source": [
    "#### Fitando o modelo "
   ]
  },
  {
   "cell_type": "code",
   "execution_count": null,
   "id": "29f0d39c",
   "metadata": {
    "ExecuteTime": {
     "start_time": "2022-06-04T21:42:27.279Z"
    },
    "scrolled": true
   },
   "outputs": [],
   "source": [
    "hist = model.fit(X_train, y_train, \n",
    "                     epochs=100, batch_size = 10, verbose = 2,\n",
    "                     callbacks=[checkpoint_cb,early_stopping_cb, tensorboad_cb],\n",
    "                     validation_data=(X_valid, y_valid))"
   ]
  },
  {
   "cell_type": "markdown",
   "id": "81a284a1",
   "metadata": {},
   "source": [
    "#### Salvando o modelo "
   ]
  },
  {
   "cell_type": "code",
   "execution_count": null,
   "id": "032f58b9",
   "metadata": {
    "ExecuteTime": {
     "end_time": "2022-06-04T15:14:28.686568Z",
     "start_time": "2022-06-04T15:14:28.608552Z"
    }
   },
   "outputs": [],
   "source": [
    "model.save(\"modelo1000n_FN_black_heart_disease_04062022.h5\")"
   ]
  },
  {
   "cell_type": "markdown",
   "id": "7bfab37d",
   "metadata": {},
   "source": [
    "#### Verificando o desempenho com a base Teste "
   ]
  },
  {
   "cell_type": "code",
   "execution_count": null,
   "id": "3ea6ff6b",
   "metadata": {
    "ExecuteTime": {
     "end_time": "2022-06-04T15:14:52.503888Z",
     "start_time": "2022-06-04T15:14:31.870279Z"
    }
   },
   "outputs": [],
   "source": [
    "mse_test = model.evaluate(X_test, y_test)"
   ]
  },
  {
   "cell_type": "markdown",
   "id": "5fdaa99f",
   "metadata": {},
   "source": [
    "#### Predição "
   ]
  },
  {
   "cell_type": "code",
   "execution_count": null,
   "id": "afb82dc8",
   "metadata": {
    "ExecuteTime": {
     "end_time": "2022-06-04T15:15:13.815648Z",
     "start_time": "2022-06-04T15:15:04.977677Z"
    }
   },
   "outputs": [],
   "source": [
    "y_pred = model.predict(X_test)\n",
    "#y_pred_cl =np.argmax(y_pred,axis=1)\n",
    "#len(y_pred_cl)\n"
   ]
  },
  {
   "cell_type": "code",
   "execution_count": null,
   "id": "f346f308",
   "metadata": {
    "ExecuteTime": {
     "end_time": "2022-06-04T15:17:51.050937Z",
     "start_time": "2022-06-04T15:17:51.021932Z"
    }
   },
   "outputs": [],
   "source": [
    "m = tf.keras.metrics.binary_accuracy(y_test[:100], y_pred[:100], threshold=0.5)\n",
    "print(\"Which predictions match with binary labels:\", m.numpy())"
   ]
  },
  {
   "cell_type": "code",
   "execution_count": null,
   "id": "45797859",
   "metadata": {
    "ExecuteTime": {
     "end_time": "2022-06-04T15:17:31.051469Z",
     "start_time": "2022-06-04T15:17:31.028465Z"
    }
   },
   "outputs": [],
   "source": [
    "mm = tf.keras.metrics.BinaryAccuracy()\n",
    "mm.update_state(y_test, y_pred)\n",
    "mm.result().numpy()"
   ]
  },
  {
   "cell_type": "markdown",
   "id": "74be2b91",
   "metadata": {},
   "source": [
    "##### Plotagem do que foi predito "
   ]
  },
  {
   "cell_type": "code",
   "execution_count": null,
   "id": "a7b7a110",
   "metadata": {
    "ExecuteTime": {
     "end_time": "2022-06-04T15:19:01.094583Z",
     "start_time": "2022-06-04T15:19:01.074579Z"
    }
   },
   "outputs": [],
   "source": [
    "media = np.mean(y_pred)\n",
    "mediana = np.median(y_pred)\n",
    "std = np.std(y_pred)\n",
    "minimo = np.amin(y_pred)\n",
    "maximo = np.amax(y_pred)\n",
    "print(f'Media: {media}, Mediana: {mediana}, Desvio Padrão: {std}, Valor mín.: {minimo}, Valor máx.: {maximo}')"
   ]
  },
  {
   "cell_type": "markdown",
   "id": "d5c52c09",
   "metadata": {},
   "source": [
    "### Evaluation do modelo"
   ]
  },
  {
   "cell_type": "markdown",
   "id": "b1482ecc",
   "metadata": {},
   "source": [
    "#### Regulando o Cutoff manualmente "
   ]
  },
  {
   "cell_type": "code",
   "execution_count": null,
   "id": "15b97df0",
   "metadata": {
    "ExecuteTime": {
     "end_time": "2022-06-04T15:19:19.693738Z",
     "start_time": "2022-06-04T15:19:11.443896Z"
    }
   },
   "outputs": [],
   "source": [
    "ypred = model.predict(X_test, verbose=1)\n",
    "ypred = np.argmax(ypred, axis=1)"
   ]
  },
  {
   "cell_type": "code",
   "execution_count": null,
   "id": "af6c351b",
   "metadata": {
    "ExecuteTime": {
     "end_time": "2022-06-03T14:50:35.847978Z",
     "start_time": "2022-06-03T14:50:35.835963Z"
    }
   },
   "outputs": [],
   "source": [
    "unique, counts = np.unique(ypred, return_counts=True)\n",
    "np.asarray((unique, counts)).T"
   ]
  },
  {
   "cell_type": "code",
   "execution_count": null,
   "id": "bfaf0f5b",
   "metadata": {
    "ExecuteTime": {
     "end_time": "2022-06-04T15:21:45.979923Z",
     "start_time": "2022-06-04T15:21:45.817887Z"
    }
   },
   "outputs": [],
   "source": [
    "ctf = 0.5\n",
    "y_pred_clm = [1 if x > ctf else 0 for x in y_pred]"
   ]
  },
  {
   "cell_type": "markdown",
   "id": "7b07ded8",
   "metadata": {},
   "source": [
    "#### Jaccard teste para acuracia por classe "
   ]
  },
  {
   "cell_type": "code",
   "execution_count": null,
   "id": "634e0054",
   "metadata": {
    "ExecuteTime": {
     "end_time": "2022-06-04T15:22:00.901256Z",
     "start_time": "2022-06-04T15:22:00.782229Z"
    }
   },
   "outputs": [],
   "source": [
    "from sklearn.metrics import jaccard_score\n",
    "jac_1 = jaccard_score(y_test, y_pred_clm, pos_label=1)\n",
    "jac_0 = jaccard_score(y_test, y_pred_clm, pos_label=0)\n",
    "\n",
    "print(jac_1, jac_0)"
   ]
  },
  {
   "cell_type": "markdown",
   "id": "2899acaa",
   "metadata": {},
   "source": [
    "#### Matriz de confusão "
   ]
  },
  {
   "cell_type": "code",
   "execution_count": null,
   "id": "bf3b4151",
   "metadata": {
    "ExecuteTime": {
     "end_time": "2022-06-04T15:22:26.258919Z",
     "start_time": "2022-06-04T15:22:26.226913Z"
    }
   },
   "outputs": [],
   "source": [
    "CM = confusion_matrix(y_test, y_pred_clm, labels=[0,1]) # 1,0 falso neg em cima / 0,1 falso neg embaixo"
   ]
  },
  {
   "cell_type": "code",
   "execution_count": null,
   "id": "8269261d",
   "metadata": {
    "ExecuteTime": {
     "end_time": "2022-06-04T15:22:40.169026Z",
     "start_time": "2022-06-04T15:22:40.006990Z"
    }
   },
   "outputs": [],
   "source": [
    "plot_confusion_matrix(CM, classes=['sem dc = 0','com dc = 1'], normalize= False,  title='Matriz de Confusão - cutoff %s' %ctf)"
   ]
  },
  {
   "cell_type": "markdown",
   "id": "5260cea1",
   "metadata": {},
   "source": [
    "#### Sensitividade e Especificidade"
   ]
  },
  {
   "cell_type": "code",
   "execution_count": null,
   "id": "d1c898be",
   "metadata": {
    "ExecuteTime": {
     "end_time": "2022-06-04T15:23:09.466572Z",
     "start_time": "2022-06-04T15:23:09.450569Z"
    }
   },
   "outputs": [],
   "source": [
    "tp,fn,fp,tn= CM[0][0],CM[0][1],CM[1][0],CM[1][1]\n",
    "sensitividade = (tp / (fp + tp)) * 100\n",
    "print(f'Nossa sensitividade é de {round(sensitividade,5)} %') # balanco de positivo\n",
    "especificidade = (tn / (fp + tn)) * 100\n",
    "print(f'Nossa especificidade é de {round(especificidade,6)} %') # balanco de negativo"
   ]
  },
  {
   "cell_type": "markdown",
   "id": "aa9c45a9",
   "metadata": {},
   "source": [
    "#### Sumário de classificação "
   ]
  },
  {
   "cell_type": "code",
   "execution_count": null,
   "id": "4434a559",
   "metadata": {
    "ExecuteTime": {
     "end_time": "2022-06-04T15:23:13.742527Z",
     "start_time": "2022-06-04T15:23:13.648505Z"
    }
   },
   "outputs": [],
   "source": [
    "print (classification_report(y_test, y_pred_clm))"
   ]
  },
  {
   "cell_type": "markdown",
   "id": "182552bd",
   "metadata": {},
   "source": [
    "#### Curva ROC"
   ]
  },
  {
   "cell_type": "code",
   "execution_count": null,
   "id": "03aa418e",
   "metadata": {
    "ExecuteTime": {
     "end_time": "2022-06-04T15:23:17.688407Z",
     "start_time": "2022-06-04T15:23:17.521371Z"
    }
   },
   "outputs": [],
   "source": [
    "fpr, tpr, _ = roc_curve(y_test,  y_pred, pos_label=1)\n",
    "auc = roc_auc_score(y_test, y_pred)\n",
    "plt.plot(fpr,tpr,label=\"data 1, auc=\"+str(auc))\n",
    "plt.plot([1,0], [1,0], color='navy', lw=1, linestyle='--')\n",
    "plt.xlabel('Falsos Positivo')\n",
    "plt.ylabel('Verdadeiros Positivo')\n",
    "plt.title('ROC')\n",
    "plt.legend(loc=\"best\")\n",
    "plt.show()"
   ]
  },
  {
   "cell_type": "code",
   "execution_count": null,
   "id": "ac9d3843",
   "metadata": {
    "ExecuteTime": {
     "end_time": "2022-06-04T15:23:21.975366Z",
     "start_time": "2022-06-04T15:23:21.776320Z"
    }
   },
   "outputs": [],
   "source": [
    "pd.DataFrame(hist.history).plot(figsize=(15,5))\n",
    "plt.grid(True)\n",
    "plt.gca().set_ylim(0,2)\n",
    "plt.show()"
   ]
  },
  {
   "cell_type": "markdown",
   "id": "8fcb82f9",
   "metadata": {},
   "source": [
    "# Considerações finais"
   ]
  },
  {
   "cell_type": "markdown",
   "id": "2877c0ed",
   "metadata": {},
   "source": [
    "### Carregando o melhor modelo  "
   ]
  },
  {
   "cell_type": "code",
   "execution_count": null,
   "id": "21f0fc5e",
   "metadata": {
    "ExecuteTime": {
     "end_time": "2022-06-04T15:23:39.500280Z",
     "start_time": "2022-06-04T15:23:39.407260Z"
    }
   },
   "outputs": [],
   "source": [
    "model_bes = keras.models.load_model(\"modelo1_heart_disease.h5\") "
   ]
  },
  {
   "cell_type": "code",
   "execution_count": null,
   "id": "5c0d1df3",
   "metadata": {},
   "outputs": [],
   "source": []
  },
  {
   "cell_type": "markdown",
   "id": "944d5116",
   "metadata": {},
   "source": [
    "# Funções auxiliares"
   ]
  },
  {
   "cell_type": "markdown",
   "id": "faae9694",
   "metadata": {},
   "source": [
    "## Matriz de confusão "
   ]
  },
  {
   "cell_type": "code",
   "execution_count": null,
   "id": "7dd709f5",
   "metadata": {
    "ExecuteTime": {
     "end_time": "2022-06-04T15:22:35.452974Z",
     "start_time": "2022-06-04T15:22:35.443972Z"
    }
   },
   "outputs": [],
   "source": [
    "from sklearn.metrics import classification_report, confusion_matrix\n",
    "import itertools\n",
    "def plot_confusion_matrix(cm, classes,\n",
    "                          normalize=False,\n",
    "                          title='Matriz de Confusão',\n",
    "                          cmap=plt.cm.Blues):\n",
    "    \"\"\"\n",
    "    This function prints and plots the confusion matrix.\n",
    "    Normalization can be applied by setting `normalize=True`.\n",
    "    \"\"\"\n",
    "    if normalize:\n",
    "        cm = cm.astype('float') / cm.sum(axis=1)[:, np.newaxis]\n",
    "        print(\"Normalizada Matriz de Confusão\")\n",
    "    else:\n",
    "        print('Matriz de Confusão, sem normalização')\n",
    "\n",
    "    print(cm)\n",
    "\n",
    "    plt.imshow(cm, interpolation='nearest', cmap=cmap)\n",
    "    plt.title(title)\n",
    "    plt.colorbar()\n",
    "    tick_marks = np.arange(len(classes))\n",
    "    plt.xticks(tick_marks, classes, rotation=45)\n",
    "    plt.yticks(tick_marks, classes)\n",
    "\n",
    "    fmt = '.2f' if normalize else 'd'\n",
    "    thresh = cm.max() / 2.\n",
    "    for i, j in itertools.product(range(cm.shape[0]), range(cm.shape[1])):\n",
    "        plt.text(j, i, format(cm[i, j], fmt),\n",
    "                 horizontalalignment=\"center\",\n",
    "                 color=\"white\" if cm[i, j] > thresh else \"black\")\n",
    "    \n",
    "    \n",
    "    plt.tight_layout()\n",
    "    plt.ylabel('Real label')\n",
    "    plt.xlabel('Predição label')"
   ]
  }
 ],
 "metadata": {
  "hide_input": false,
  "kernelspec": {
   "display_name": "Python [conda env:.conda-tensor]",
   "language": "python",
   "name": "conda-env-.conda-tensor-py"
  },
  "language_info": {
   "codemirror_mode": {
    "name": "ipython",
    "version": 3
   },
   "file_extension": ".py",
   "mimetype": "text/x-python",
   "name": "python",
   "nbconvert_exporter": "python",
   "pygments_lexer": "ipython3",
   "version": "3.10.4"
  },
  "toc": {
   "base_numbering": 1,
   "nav_menu": {},
   "number_sections": true,
   "sideBar": true,
   "skip_h1_title": false,
   "title_cell": "Table of Contents",
   "title_sidebar": "Pipeline",
   "toc_cell": false,
   "toc_position": {
    "height": "calc(100% - 180px)",
    "left": "10px",
    "top": "150px",
    "width": "352.983px"
   },
   "toc_section_display": true,
   "toc_window_display": true
  },
  "varInspector": {
   "cols": {
    "lenName": 16,
    "lenType": 16,
    "lenVar": 40
   },
   "kernels_config": {
    "python": {
     "delete_cmd_postfix": "",
     "delete_cmd_prefix": "del ",
     "library": "var_list.py",
     "varRefreshCmd": "print(var_dic_list())"
    },
    "r": {
     "delete_cmd_postfix": ") ",
     "delete_cmd_prefix": "rm(",
     "library": "var_list.r",
     "varRefreshCmd": "cat(var_dic_list()) "
    }
   },
   "types_to_exclude": [
    "module",
    "function",
    "builtin_function_or_method",
    "instance",
    "_Feature"
   ],
   "window_display": false
  }
 },
 "nbformat": 4,
 "nbformat_minor": 5
}
