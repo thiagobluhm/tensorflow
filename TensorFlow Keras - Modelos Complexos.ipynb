{
 "cells": [
  {
   "cell_type": "code",
   "execution_count": 158,
   "id": "9ce4a073",
   "metadata": {
    "ExecuteTime": {
     "end_time": "2022-04-28T20:59:43.087686Z",
     "start_time": "2022-04-28T20:59:43.077466Z"
    }
   },
   "outputs": [],
   "source": [
    "import pandas as pd\n",
    "import matplotlib.pyplot as plt\n",
    "import tensorflow as tf\n",
    "from tensorflow import keras\n",
    "from sklearn.datasets import fetch_california_housing\n",
    "from sklearn.model_selection import train_test_split, ShuffleSplit\n",
    "from sklearn.preprocessing import StandardScaler"
   ]
  },
  {
   "cell_type": "code",
   "execution_count": 160,
   "id": "25cb469c",
   "metadata": {
    "ExecuteTime": {
     "end_time": "2022-04-28T21:59:18.842467Z",
     "start_time": "2022-04-28T21:59:18.730119Z"
    }
   },
   "outputs": [],
   "source": [
    "housing = fetch_california_housing()"
   ]
  },
  {
   "cell_type": "code",
   "execution_count": 162,
   "id": "fd0b97f3",
   "metadata": {
    "ExecuteTime": {
     "end_time": "2022-04-28T21:59:36.736121Z",
     "start_time": "2022-04-28T21:59:36.721435Z"
    }
   },
   "outputs": [
    {
     "data": {
      "text/plain": [
       "numpy.ndarray"
      ]
     },
     "execution_count": 162,
     "metadata": {},
     "output_type": "execute_result"
    }
   ],
   "source": [
    "type(housing.target)"
   ]
  },
  {
   "cell_type": "code",
   "execution_count": 84,
   "id": "309ceb4b",
   "metadata": {
    "ExecuteTime": {
     "end_time": "2022-04-28T16:59:45.701307Z",
     "start_time": "2022-04-28T16:59:45.674315Z"
    }
   },
   "outputs": [],
   "source": [
    "X_train_full, X_test, y_train_full, y_test = train_test_split(housing.data, housing.target, \n",
    "                                                      test_size=0.3, stratify=True, random_state=42)\n",
    "X_train, X_valid, y_train, y_valid = train_test_split(X_train_full, y_train_full, \n",
    "                                                      test_size=0.3, stratify=True, random_state=42)"
   ]
  },
  {
   "cell_type": "code",
   "execution_count": 85,
   "id": "88ee7772",
   "metadata": {
    "ExecuteTime": {
     "end_time": "2022-04-28T16:59:45.945683Z",
     "start_time": "2022-04-28T16:59:45.910680Z"
    }
   },
   "outputs": [],
   "source": [
    "scaler = StandardScaler()\n",
    "X_train = scaler.fit_transform(X_train)\n",
    "X_valid = scaler.transform(X_valid)\n",
    "X_test = scaler.transform(X_test)"
   ]
  },
  {
   "cell_type": "code",
   "execution_count": 86,
   "id": "d22a0283",
   "metadata": {
    "ExecuteTime": {
     "end_time": "2022-04-28T16:59:47.019171Z",
     "start_time": "2022-04-28T16:59:46.926644Z"
    }
   },
   "outputs": [],
   "source": [
    "kl = keras.layers\n",
    "input_ = kl.Input(shape=X_train.shape[1:]) #pula o index\n",
    "hidden1 = kl.Dense(30, activation=\"relu\")(input_)\n",
    "hidden2 = kl.Dense(30, activation=\"relu\")(hidden1)\n",
    "concat = kl.Concatenate()([input_, hidden2])\n",
    "output = kl.Dense(1)(concat)\n",
    "model = keras.Model(inputs=[input_], outputs=[output])"
   ]
  },
  {
   "cell_type": "code",
   "execution_count": 87,
   "id": "64ae1f0d",
   "metadata": {
    "ExecuteTime": {
     "end_time": "2022-04-28T16:59:47.330171Z",
     "start_time": "2022-04-28T16:59:47.298792Z"
    }
   },
   "outputs": [],
   "source": [
    "model.compile(loss=\"mse\", optimizer=keras.optimizers.SGD(learning_rate=1e-3))"
   ]
  },
  {
   "cell_type": "code",
   "execution_count": 89,
   "id": "4b571af9",
   "metadata": {
    "ExecuteTime": {
     "end_time": "2022-04-28T17:00:45.698044Z",
     "start_time": "2022-04-28T17:00:17.636878Z"
    }
   },
   "outputs": [
    {
     "name": "stdout",
     "output_type": "stream",
     "text": [
      "Epoch 1/20\n",
      "363/363 [==============================] - 1s 4ms/step - loss: 0.4135 - val_loss: 0.4158\n",
      "Epoch 2/20\n",
      "363/363 [==============================] - 1s 4ms/step - loss: 0.4106 - val_loss: 0.4212\n",
      "Epoch 3/20\n",
      "363/363 [==============================] - 1s 4ms/step - loss: 0.4084 - val_loss: 0.4175\n",
      "Epoch 4/20\n",
      "363/363 [==============================] - 1s 4ms/step - loss: 0.4061 - val_loss: 0.4094\n",
      "Epoch 5/20\n",
      "363/363 [==============================] - 1s 4ms/step - loss: 0.4036 - val_loss: 0.4153\n",
      "Epoch 6/20\n",
      "363/363 [==============================] - 1s 3ms/step - loss: 0.4014 - val_loss: 0.4071\n",
      "Epoch 7/20\n",
      "363/363 [==============================] - 1s 4ms/step - loss: 0.3999 - val_loss: 0.4047\n",
      "Epoch 8/20\n",
      "363/363 [==============================] - 1s 4ms/step - loss: 0.3980 - val_loss: 0.4034\n",
      "Epoch 9/20\n",
      "363/363 [==============================] - 1s 4ms/step - loss: 0.3957 - val_loss: 0.4102\n",
      "Epoch 10/20\n",
      "363/363 [==============================] - 1s 4ms/step - loss: 0.3943 - val_loss: 0.4069\n",
      "Epoch 11/20\n",
      "363/363 [==============================] - 1s 4ms/step - loss: 0.3924 - val_loss: 0.3986\n",
      "Epoch 12/20\n",
      "363/363 [==============================] - 1s 4ms/step - loss: 0.3911 - val_loss: 0.3973\n",
      "Epoch 13/20\n",
      "363/363 [==============================] - 2s 4ms/step - loss: 0.3893 - val_loss: 0.3958\n",
      "Epoch 14/20\n",
      "363/363 [==============================] - 1s 4ms/step - loss: 0.3876 - val_loss: 0.4012\n",
      "Epoch 15/20\n",
      "363/363 [==============================] - 1s 4ms/step - loss: 0.3866 - val_loss: 0.4000\n",
      "Epoch 16/20\n",
      "363/363 [==============================] - 1s 4ms/step - loss: 0.3846 - val_loss: 0.3923\n",
      "Epoch 17/20\n",
      "363/363 [==============================] - 1s 4ms/step - loss: 0.3837 - val_loss: 0.3916\n",
      "Epoch 18/20\n",
      "363/363 [==============================] - 1s 4ms/step - loss: 0.3823 - val_loss: 0.3899\n",
      "Epoch 19/20\n",
      "363/363 [==============================] - 1s 4ms/step - loss: 0.3804 - val_loss: 0.3948\n",
      "Epoch 20/20\n",
      "363/363 [==============================] - 1s 4ms/step - loss: 0.3798 - val_loss: 0.3946\n"
     ]
    }
   ],
   "source": [
    "hist = model.fit(X_train, y_train, epochs=20, validation_data=(X_valid, y_valid))"
   ]
  },
  {
   "cell_type": "code",
   "execution_count": 92,
   "id": "a7f66efe",
   "metadata": {
    "ExecuteTime": {
     "end_time": "2022-04-28T17:01:09.429419Z",
     "start_time": "2022-04-28T17:01:09.351491Z"
    }
   },
   "outputs": [],
   "source": [
    "model.save(\"modelo1.h5\")"
   ]
  },
  {
   "cell_type": "code",
   "execution_count": 64,
   "id": "5b09d594",
   "metadata": {
    "ExecuteTime": {
     "end_time": "2022-04-28T16:25:46.646715Z",
     "start_time": "2022-04-28T16:25:46.100011Z"
    }
   },
   "outputs": [
    {
     "name": "stdout",
     "output_type": "stream",
     "text": [
      "162/162 [==============================] - 0s 2ms/step - loss: 0.3736\n"
     ]
    }
   ],
   "source": [
    "mse_test = model.evaluate(X_test, y_test)"
   ]
  },
  {
   "cell_type": "code",
   "execution_count": 66,
   "id": "c4c63d16",
   "metadata": {
    "ExecuteTime": {
     "end_time": "2022-04-28T16:25:55.105738Z",
     "start_time": "2022-04-28T16:25:54.939739Z"
    }
   },
   "outputs": [],
   "source": [
    "X_new = X_test[:3]\n",
    "y_pred = model.predict(X_new)"
   ]
  },
  {
   "cell_type": "code",
   "execution_count": 67,
   "id": "dc084f4d",
   "metadata": {
    "ExecuteTime": {
     "end_time": "2022-04-28T16:25:56.775957Z",
     "start_time": "2022-04-28T16:25:56.357421Z"
    }
   },
   "outputs": [
    {
     "data": {
      "image/png": "[encoded data removed]",
      "text/plain": [
       "<Figure size 864x360 with 1 Axes>"
      ]
     },
     "metadata": {
      "needs_background": "light"
     },
     "output_type": "display_data"
    }
   ],
   "source": [
    "pd.DataFrame(hist.history).plot(figsize=(12,5))\n",
    "plt.grid(True)\n",
    "plt.gca().set_ylim(0,1)\n",
    "plt.show()"
   ]
  },
  {
   "cell_type": "markdown",
   "id": "4dc565a7",
   "metadata": {},
   "source": [
    "### Varias entradas "
   ]
  },
  {
   "cell_type": "code",
   "execution_count": 93,
   "id": "161ef1ef",
   "metadata": {
    "ExecuteTime": {
     "end_time": "2022-04-28T17:01:46.154106Z",
     "start_time": "2022-04-28T17:01:46.035104Z"
    }
   },
   "outputs": [],
   "source": [
    "kl = keras.layers\n",
    "input_A = kl.Input(shape=[5], name=\"wide_input\") \n",
    "input_B = kl.Input(shape=[6], name=\"deep_input\") \n",
    "hidden1 = kl.Dense(30, activation=\"relu\")(input_B)\n",
    "hidden2 = kl.Dense(30, activation=\"relu\")(hidden1)\n",
    "concat = kl.Concatenate()([input_A, hidden2])\n",
    "output = kl.Dense(1, name=\"output\")(concat)\n",
    "model = keras.Model(inputs=[input_A, input_B], outputs=[output])"
   ]
  },
  {
   "cell_type": "code",
   "execution_count": 94,
   "id": "da966830",
   "metadata": {
    "ExecuteTime": {
     "end_time": "2022-04-28T17:01:46.282100Z",
     "start_time": "2022-04-28T17:01:46.254096Z"
    }
   },
   "outputs": [],
   "source": [
    "model.compile(loss=\"mse\", optimizer=keras.optimizers.SGD(learning_rate=1e-3))"
   ]
  },
  {
   "cell_type": "code",
   "execution_count": 95,
   "id": "fd7f70a5",
   "metadata": {
    "ExecuteTime": {
     "end_time": "2022-04-28T17:01:46.412196Z",
     "start_time": "2022-04-28T17:01:46.399040Z"
    }
   },
   "outputs": [],
   "source": [
    "X_train_A, X_train_B = X_train[:, :5], X_train[:, 2:]\n",
    "X_valid_A, X_valid_B = X_valid[:, :5], X_valid[:, 2:]\n",
    "X_test_A, X_test_B = X_test[:, :5], X_test[:, 2:]\n",
    "X_new_A, X_new_B = X_test_A[:3], X_test_B[:3]"
   ]
  },
  {
   "cell_type": "code",
   "execution_count": 96,
   "id": "dc8da873",
   "metadata": {
    "ExecuteTime": {
     "end_time": "2022-04-28T17:02:17.941614Z",
     "start_time": "2022-04-28T17:01:48.459682Z"
    }
   },
   "outputs": [
    {
     "name": "stdout",
     "output_type": "stream",
     "text": [
      "Epoch 1/20\n",
      "363/363 [==============================] - 2s 4ms/step - loss: 2.2776 - val_loss: 1.4417\n",
      "Epoch 2/20\n",
      "363/363 [==============================] - 2s 4ms/step - loss: 0.9161 - val_loss: 0.8294\n",
      "Epoch 3/20\n",
      "363/363 [==============================] - 1s 4ms/step - loss: 0.7256 - val_loss: 0.6975\n",
      "Epoch 4/20\n",
      "363/363 [==============================] - 1s 4ms/step - loss: 0.6635 - val_loss: 0.6520\n",
      "Epoch 5/20\n",
      "363/363 [==============================] - 1s 4ms/step - loss: 0.6290 - val_loss: 0.6221\n",
      "Epoch 6/20\n",
      "363/363 [==============================] - 1s 4ms/step - loss: 0.6040 - val_loss: 0.5995\n",
      "Epoch 7/20\n",
      "363/363 [==============================] - 1s 4ms/step - loss: 0.5836 - val_loss: 0.5807\n",
      "Epoch 8/20\n",
      "363/363 [==============================] - 1s 4ms/step - loss: 0.5672 - val_loss: 0.5654\n",
      "Epoch 9/20\n",
      "363/363 [==============================] - 1s 4ms/step - loss: 0.5530 - val_loss: 0.5523\n",
      "Epoch 10/20\n",
      "363/363 [==============================] - 1s 4ms/step - loss: 0.5407 - val_loss: 0.5436\n",
      "Epoch 11/20\n",
      "363/363 [==============================] - 1s 4ms/step - loss: 0.5306 - val_loss: 0.5335\n",
      "Epoch 12/20\n",
      "363/363 [==============================] - 1s 4ms/step - loss: 0.5224 - val_loss: 0.5265\n",
      "Epoch 13/20\n",
      "363/363 [==============================] - 1s 4ms/step - loss: 0.5141 - val_loss: 0.5178\n",
      "Epoch 14/20\n",
      "363/363 [==============================] - 2s 4ms/step - loss: 0.5073 - val_loss: 0.5096\n",
      "Epoch 15/20\n",
      "363/363 [==============================] - 1s 4ms/step - loss: 0.5002 - val_loss: 0.5050\n",
      "Epoch 16/20\n",
      "363/363 [==============================] - 1s 3ms/step - loss: 0.4940 - val_loss: 0.4997\n",
      "Epoch 17/20\n",
      "363/363 [==============================] - 1s 4ms/step - loss: 0.4875 - val_loss: 0.4942\n",
      "Epoch 18/20\n",
      "363/363 [==============================] - 1s 4ms/step - loss: 0.4824 - val_loss: 0.4856\n",
      "Epoch 19/20\n",
      "363/363 [==============================] - 2s 4ms/step - loss: 0.4757 - val_loss: 0.4806\n",
      "Epoch 20/20\n",
      "363/363 [==============================] - 1s 4ms/step - loss: 0.4705 - val_loss: 0.4822\n"
     ]
    }
   ],
   "source": [
    "hist = model.fit((X_train_A, X_train_B), y_train, epochs=20, validation_data=((X_valid_A, X_valid_B), y_valid))"
   ]
  },
  {
   "cell_type": "code",
   "execution_count": 97,
   "id": "c3342dfc",
   "metadata": {
    "ExecuteTime": {
     "end_time": "2022-04-28T17:02:19.587792Z",
     "start_time": "2022-04-28T17:02:19.540163Z"
    }
   },
   "outputs": [],
   "source": [
    "model.save(\"modelo2.h5\")"
   ]
  },
  {
   "cell_type": "code",
   "execution_count": 49,
   "id": "de142652",
   "metadata": {
    "ExecuteTime": {
     "end_time": "2022-04-28T16:20:13.586609Z",
     "start_time": "2022-04-28T16:20:12.791434Z"
    }
   },
   "outputs": [
    {
     "name": "stdout",
     "output_type": "stream",
     "text": [
      "162/162 [==============================] - 1s 3ms/step - loss: 0.4220\n"
     ]
    }
   ],
   "source": [
    "mse_test = model.evaluate((X_test_A, X_test_B), y_test)\n",
    "y_pred = model.predict((X_new_A, X_new_B))"
   ]
  },
  {
   "cell_type": "code",
   "execution_count": 50,
   "id": "11a0df09",
   "metadata": {
    "ExecuteTime": {
     "end_time": "2022-04-28T16:20:14.989319Z",
     "start_time": "2022-04-28T16:20:14.569491Z"
    }
   },
   "outputs": [
    {
     "data": {
      "image/png": "[encoded data removed]",
      "text/plain": [
       "<Figure size 864x360 with 1 Axes>"
      ]
     },
     "metadata": {
      "needs_background": "light"
     },
     "output_type": "display_data"
    }
   ],
   "source": [
    "pd.DataFrame(hist.history).plot(figsize=(12,5))\n",
    "plt.grid(True)\n",
    "plt.gca().set_ylim(0,1)\n",
    "plt.show()"
   ]
  },
  {
   "cell_type": "markdown",
   "id": "7ca5ac6a",
   "metadata": {},
   "source": [
    "### Agora com varias saidas"
   ]
  },
  {
   "cell_type": "code",
   "execution_count": 98,
   "id": "3ba3fd6c",
   "metadata": {
    "ExecuteTime": {
     "end_time": "2022-04-28T17:02:25.061443Z",
     "start_time": "2022-04-28T17:02:24.934583Z"
    }
   },
   "outputs": [],
   "source": [
    "kl = keras.layers\n",
    "input_A = kl.Input(shape=[5], name=\"wide_input\") \n",
    "input_B = kl.Input(shape=[6], name=\"deep_input\") \n",
    "hidden1 = kl.Dense(30, activation=\"relu\")(input_B)\n",
    "hidden2 = kl.Dense(30, activation=\"relu\")(hidden1)\n",
    "concat = kl.Concatenate()([input_A, hidden2])\n",
    "output = kl.Dense(1, name=\"main_output\")(concat)\n",
    "aux_output = kl.Dense(1, name=\"aux_output\")(hidden2)\n",
    "model = keras.Model(inputs=[input_A, input_B], outputs=[output, aux_output])"
   ]
  },
  {
   "cell_type": "code",
   "execution_count": 99,
   "id": "20ae09b5",
   "metadata": {
    "ExecuteTime": {
     "end_time": "2022-04-28T17:02:25.413359Z",
     "start_time": "2022-04-28T17:02:25.380540Z"
    }
   },
   "outputs": [],
   "source": [
    "model.compile(loss=[\"mse\",\"mse\"], loss_weights=[0.9,0.1], \n",
    "              optimizer=keras.optimizers.SGD(learning_rate=1e-3))"
   ]
  },
  {
   "cell_type": "code",
   "execution_count": 100,
   "id": "90702165",
   "metadata": {
    "ExecuteTime": {
     "end_time": "2022-04-28T17:02:26.468093Z",
     "start_time": "2022-04-28T17:02:26.453849Z"
    }
   },
   "outputs": [],
   "source": [
    "X_train_A, X_train_B = X_train[:, :5], X_train[:, 2:]\n",
    "X_valid_A, X_valid_B = X_valid[:, :5], X_valid[:, 2:]\n",
    "X_test_A, X_test_B = X_test[:, :5], X_test[:, 2:]\n",
    "X_new_A, X_new_B = X_test_A[:3], X_test_B[:3]"
   ]
  },
  {
   "cell_type": "code",
   "execution_count": 109,
   "id": "88eadeef",
   "metadata": {
    "ExecuteTime": {
     "end_time": "2022-04-28T17:15:17.114866Z",
     "start_time": "2022-04-28T17:15:17.097098Z"
    }
   },
   "outputs": [],
   "source": [
    "checkpoint_cb = keras.callbacks.ModelCheckpoint(\"modelo1.h5\", save_best_only=True)"
   ]
  },
  {
   "cell_type": "code",
   "execution_count": 110,
   "id": "1c1699f4",
   "metadata": {
    "ExecuteTime": {
     "end_time": "2022-04-28T17:16:16.440446Z",
     "start_time": "2022-04-28T17:16:16.423282Z"
    }
   },
   "outputs": [],
   "source": [
    "early_stopping_cb = keras.callbacks.EarlyStopping(patience=10, restore_best_weights=True)"
   ]
  },
  {
   "cell_type": "code",
   "execution_count": 111,
   "id": "13f33ed1",
   "metadata": {
    "ExecuteTime": {
     "end_time": "2022-04-28T17:20:21.719048Z",
     "start_time": "2022-04-28T17:17:37.136971Z"
    }
   },
   "outputs": [
    {
     "name": "stdout",
     "output_type": "stream",
     "text": [
      "Epoch 1/100\n",
      "363/363 [==============================] - 2s 4ms/step - loss: 0.4415 - main_output_loss: 0.4050 - aux_output_loss: 0.7696 - val_loss: 0.4572 - val_main_output_loss: 0.4219 - val_aux_output_loss: 0.7748\n",
      "Epoch 2/100\n",
      "363/363 [==============================] - 2s 5ms/step - loss: 0.4395 - main_output_loss: 0.4037 - aux_output_loss: 0.7618 - val_loss: 0.4568 - val_main_output_loss: 0.4223 - val_aux_output_loss: 0.7674\n",
      "Epoch 3/100\n",
      "363/363 [==============================] - 2s 5ms/step - loss: 0.4380 - main_output_loss: 0.4029 - aux_output_loss: 0.7544 - val_loss: 0.4552 - val_main_output_loss: 0.4212 - val_aux_output_loss: 0.7608\n",
      "Epoch 4/100\n",
      "363/363 [==============================] - 2s 4ms/step - loss: 0.4366 - main_output_loss: 0.4020 - aux_output_loss: 0.7476 - val_loss: 0.4522 - val_main_output_loss: 0.4188 - val_aux_output_loss: 0.7531\n",
      "Epoch 5/100\n",
      "363/363 [==============================] - 2s 5ms/step - loss: 0.4351 - main_output_loss: 0.4012 - aux_output_loss: 0.7402 - val_loss: 0.4495 - val_main_output_loss: 0.4164 - val_aux_output_loss: 0.7467\n",
      "Epoch 6/100\n",
      "363/363 [==============================] - 2s 4ms/step - loss: 0.4335 - main_output_loss: 0.4001 - aux_output_loss: 0.7340 - val_loss: 0.4516 - val_main_output_loss: 0.4196 - val_aux_output_loss: 0.7399\n",
      "Epoch 7/100\n",
      "363/363 [==============================] - 2s 4ms/step - loss: 0.4322 - main_output_loss: 0.3995 - aux_output_loss: 0.7274 - val_loss: 0.4505 - val_main_output_loss: 0.4191 - val_aux_output_loss: 0.7338\n",
      "Epoch 8/100\n",
      "363/363 [==============================] - 2s 5ms/step - loss: 0.4311 - main_output_loss: 0.3988 - aux_output_loss: 0.7209 - val_loss: 0.4478 - val_main_output_loss: 0.4166 - val_aux_output_loss: 0.7282\n",
      "Epoch 9/100\n",
      "363/363 [==============================] - 2s 4ms/step - loss: 0.4297 - main_output_loss: 0.3980 - aux_output_loss: 0.7151 - val_loss: 0.4471 - val_main_output_loss: 0.4165 - val_aux_output_loss: 0.7223\n",
      "Epoch 10/100\n",
      "363/363 [==============================] - 2s 4ms/step - loss: 0.4283 - main_output_loss: 0.3972 - aux_output_loss: 0.7084 - val_loss: 0.4436 - val_main_output_loss: 0.4133 - val_aux_output_loss: 0.7163\n",
      "Epoch 11/100\n",
      "363/363 [==============================] - 2s 5ms/step - loss: 0.4272 - main_output_loss: 0.3966 - aux_output_loss: 0.7027 - val_loss: 0.4430 - val_main_output_loss: 0.4133 - val_aux_output_loss: 0.7105\n",
      "Epoch 12/100\n",
      "363/363 [==============================] - 2s 4ms/step - loss: 0.4262 - main_output_loss: 0.3961 - aux_output_loss: 0.6978 - val_loss: 0.4415 - val_main_output_loss: 0.4122 - val_aux_output_loss: 0.7058\n",
      "Epoch 13/100\n",
      "363/363 [==============================] - 2s 4ms/step - loss: 0.4250 - main_output_loss: 0.3953 - aux_output_loss: 0.6922 - val_loss: 0.4421 - val_main_output_loss: 0.4133 - val_aux_output_loss: 0.7007\n",
      "Epoch 14/100\n",
      "363/363 [==============================] - 2s 4ms/step - loss: 0.4240 - main_output_loss: 0.3948 - aux_output_loss: 0.6871 - val_loss: 0.4404 - val_main_output_loss: 0.4121 - val_aux_output_loss: 0.6951\n",
      "Epoch 15/100\n",
      "363/363 [==============================] - 2s 5ms/step - loss: 0.4228 - main_output_loss: 0.3941 - aux_output_loss: 0.6819 - val_loss: 0.4424 - val_main_output_loss: 0.4148 - val_aux_output_loss: 0.6907\n",
      "Epoch 16/100\n",
      "363/363 [==============================] - 2s 4ms/step - loss: 0.4221 - main_output_loss: 0.3937 - aux_output_loss: 0.6774 - val_loss: 0.4396 - val_main_output_loss: 0.4122 - val_aux_output_loss: 0.6859\n",
      "Epoch 17/100\n",
      "363/363 [==============================] - 2s 4ms/step - loss: 0.4208 - main_output_loss: 0.3928 - aux_output_loss: 0.6725 - val_loss: 0.4395 - val_main_output_loss: 0.4124 - val_aux_output_loss: 0.6827\n",
      "Epoch 18/100\n",
      "363/363 [==============================] - 2s 4ms/step - loss: 0.4201 - main_output_loss: 0.3925 - aux_output_loss: 0.6685 - val_loss: 0.4385 - val_main_output_loss: 0.4120 - val_aux_output_loss: 0.6772\n",
      "Epoch 19/100\n",
      "363/363 [==============================] - 2s 4ms/step - loss: 0.4190 - main_output_loss: 0.3918 - aux_output_loss: 0.6638 - val_loss: 0.4388 - val_main_output_loss: 0.4127 - val_aux_output_loss: 0.6731\n",
      "Epoch 20/100\n",
      "363/363 [==============================] - 2s 5ms/step - loss: 0.4183 - main_output_loss: 0.3915 - aux_output_loss: 0.6601 - val_loss: 0.4372 - val_main_output_loss: 0.4114 - val_aux_output_loss: 0.6697\n",
      "Epoch 21/100\n",
      "363/363 [==============================] - 2s 4ms/step - loss: 0.4173 - main_output_loss: 0.3908 - aux_output_loss: 0.6559 - val_loss: 0.4345 - val_main_output_loss: 0.4089 - val_aux_output_loss: 0.6653\n",
      "Epoch 22/100\n",
      "363/363 [==============================] - 1s 4ms/step - loss: 0.4162 - main_output_loss: 0.3900 - aux_output_loss: 0.6519 - val_loss: 0.4358 - val_main_output_loss: 0.4107 - val_aux_output_loss: 0.6618\n",
      "Epoch 23/100\n",
      "363/363 [==============================] - 1s 4ms/step - loss: 0.4154 - main_output_loss: 0.3895 - aux_output_loss: 0.6483 - val_loss: 0.4354 - val_main_output_loss: 0.4105 - val_aux_output_loss: 0.6591\n",
      "Epoch 24/100\n",
      "363/363 [==============================] - 2s 4ms/step - loss: 0.4148 - main_output_loss: 0.3893 - aux_output_loss: 0.6448 - val_loss: 0.4339 - val_main_output_loss: 0.4093 - val_aux_output_loss: 0.6553\n",
      "Epoch 25/100\n",
      "363/363 [==============================] - 2s 4ms/step - loss: 0.4139 - main_output_loss: 0.3886 - aux_output_loss: 0.6414 - val_loss: 0.4338 - val_main_output_loss: 0.4096 - val_aux_output_loss: 0.6523\n",
      "Epoch 26/100\n",
      "363/363 [==============================] - 2s 4ms/step - loss: 0.4131 - main_output_loss: 0.3881 - aux_output_loss: 0.6381 - val_loss: 0.4337 - val_main_output_loss: 0.4097 - val_aux_output_loss: 0.6503\n",
      "Epoch 27/100\n",
      "363/363 [==============================] - 2s 4ms/step - loss: 0.4124 - main_output_loss: 0.3876 - aux_output_loss: 0.6356 - val_loss: 0.4310 - val_main_output_loss: 0.4071 - val_aux_output_loss: 0.6463\n",
      "Epoch 28/100\n",
      "363/363 [==============================] - 2s 4ms/step - loss: 0.4114 - main_output_loss: 0.3870 - aux_output_loss: 0.6318 - val_loss: 0.4286 - val_main_output_loss: 0.4048 - val_aux_output_loss: 0.6427\n",
      "Epoch 29/100\n",
      "363/363 [==============================] - 2s 5ms/step - loss: 0.4111 - main_output_loss: 0.3868 - aux_output_loss: 0.6290 - val_loss: 0.4272 - val_main_output_loss: 0.4035 - val_aux_output_loss: 0.6403\n",
      "Epoch 30/100\n",
      "363/363 [==============================] - 2s 5ms/step - loss: 0.4100 - main_output_loss: 0.3860 - aux_output_loss: 0.6261 - val_loss: 0.4269 - val_main_output_loss: 0.4034 - val_aux_output_loss: 0.6379\n",
      "Epoch 31/100\n",
      "363/363 [==============================] - 2s 4ms/step - loss: 0.4094 - main_output_loss: 0.3856 - aux_output_loss: 0.6236 - val_loss: 0.4262 - val_main_output_loss: 0.4029 - val_aux_output_loss: 0.6356\n",
      "Epoch 32/100\n",
      "363/363 [==============================] - 2s 5ms/step - loss: 0.4086 - main_output_loss: 0.3850 - aux_output_loss: 0.6206 - val_loss: 0.4278 - val_main_output_loss: 0.4049 - val_aux_output_loss: 0.6334\n",
      "Epoch 33/100\n",
      "363/363 [==============================] - 2s 5ms/step - loss: 0.4079 - main_output_loss: 0.3845 - aux_output_loss: 0.6178 - val_loss: 0.4271 - val_main_output_loss: 0.4045 - val_aux_output_loss: 0.6304\n",
      "Epoch 34/100\n",
      "363/363 [==============================] - 2s 5ms/step - loss: 0.4071 - main_output_loss: 0.3840 - aux_output_loss: 0.6152 - val_loss: 0.4287 - val_main_output_loss: 0.4065 - val_aux_output_loss: 0.6287\n",
      "Epoch 35/100\n",
      "363/363 [==============================] - 2s 5ms/step - loss: 0.4063 - main_output_loss: 0.3834 - aux_output_loss: 0.6130 - val_loss: 0.4234 - val_main_output_loss: 0.4009 - val_aux_output_loss: 0.6259\n",
      "Epoch 36/100\n",
      "363/363 [==============================] - 2s 5ms/step - loss: 0.4057 - main_output_loss: 0.3830 - aux_output_loss: 0.6104 - val_loss: 0.4226 - val_main_output_loss: 0.4004 - val_aux_output_loss: 0.6232\n",
      "Epoch 37/100\n",
      "363/363 [==============================] - 2s 5ms/step - loss: 0.4050 - main_output_loss: 0.3824 - aux_output_loss: 0.6081 - val_loss: 0.4220 - val_main_output_loss: 0.3999 - val_aux_output_loss: 0.6211\n",
      "Epoch 38/100\n",
      "363/363 [==============================] - 2s 5ms/step - loss: 0.4043 - main_output_loss: 0.3819 - aux_output_loss: 0.6059 - val_loss: 0.4209 - val_main_output_loss: 0.3989 - val_aux_output_loss: 0.6195\n"
     ]
    },
    {
     "name": "stdout",
     "output_type": "stream",
     "text": [
      "Epoch 39/100\n",
      "363/363 [==============================] - 2s 5ms/step - loss: 0.4035 - main_output_loss: 0.3812 - aux_output_loss: 0.6037 - val_loss: 0.4211 - val_main_output_loss: 0.3992 - val_aux_output_loss: 0.6184\n",
      "Epoch 40/100\n",
      "363/363 [==============================] - 2s 5ms/step - loss: 0.4031 - main_output_loss: 0.3811 - aux_output_loss: 0.6018 - val_loss: 0.4199 - val_main_output_loss: 0.3982 - val_aux_output_loss: 0.6152\n",
      "Epoch 41/100\n",
      "363/363 [==============================] - 2s 4ms/step - loss: 0.4021 - main_output_loss: 0.3801 - aux_output_loss: 0.5996 - val_loss: 0.4204 - val_main_output_loss: 0.3989 - val_aux_output_loss: 0.6132\n",
      "Epoch 42/100\n",
      "363/363 [==============================] - 2s 4ms/step - loss: 0.4016 - main_output_loss: 0.3798 - aux_output_loss: 0.5977 - val_loss: 0.4209 - val_main_output_loss: 0.3997 - val_aux_output_loss: 0.6119\n",
      "Epoch 43/100\n",
      "363/363 [==============================] - 2s 5ms/step - loss: 0.4009 - main_output_loss: 0.3792 - aux_output_loss: 0.5955 - val_loss: 0.4197 - val_main_output_loss: 0.3986 - val_aux_output_loss: 0.6090\n",
      "Epoch 44/100\n",
      "363/363 [==============================] - 2s 5ms/step - loss: 0.4005 - main_output_loss: 0.3789 - aux_output_loss: 0.5943 - val_loss: 0.4195 - val_main_output_loss: 0.3986 - val_aux_output_loss: 0.6081\n",
      "Epoch 45/100\n",
      "363/363 [==============================] - 2s 5ms/step - loss: 0.3997 - main_output_loss: 0.3784 - aux_output_loss: 0.5918 - val_loss: 0.4198 - val_main_output_loss: 0.3990 - val_aux_output_loss: 0.6076\n",
      "Epoch 46/100\n",
      "363/363 [==============================] - 2s 5ms/step - loss: 0.3990 - main_output_loss: 0.3778 - aux_output_loss: 0.5899 - val_loss: 0.4181 - val_main_output_loss: 0.3973 - val_aux_output_loss: 0.6048\n",
      "Epoch 47/100\n",
      "363/363 [==============================] - 2s 5ms/step - loss: 0.3983 - main_output_loss: 0.3772 - aux_output_loss: 0.5881 - val_loss: 0.4160 - val_main_output_loss: 0.3952 - val_aux_output_loss: 0.6033\n",
      "Epoch 48/100\n",
      "363/363 [==============================] - 2s 5ms/step - loss: 0.3980 - main_output_loss: 0.3771 - aux_output_loss: 0.5861 - val_loss: 0.4153 - val_main_output_loss: 0.3946 - val_aux_output_loss: 0.6010\n",
      "Epoch 49/100\n",
      "363/363 [==============================] - 2s 4ms/step - loss: 0.3970 - main_output_loss: 0.3761 - aux_output_loss: 0.5847 - val_loss: 0.4171 - val_main_output_loss: 0.3967 - val_aux_output_loss: 0.6006\n",
      "Epoch 50/100\n",
      "363/363 [==============================] - 2s 5ms/step - loss: 0.3966 - main_output_loss: 0.3758 - aux_output_loss: 0.5835 - val_loss: 0.4138 - val_main_output_loss: 0.3933 - val_aux_output_loss: 0.5978\n",
      "Epoch 51/100\n",
      "363/363 [==============================] - 2s 5ms/step - loss: 0.3959 - main_output_loss: 0.3753 - aux_output_loss: 0.5811 - val_loss: 0.4123 - val_main_output_loss: 0.3919 - val_aux_output_loss: 0.5961\n",
      "Epoch 52/100\n",
      "363/363 [==============================] - 2s 5ms/step - loss: 0.3953 - main_output_loss: 0.3748 - aux_output_loss: 0.5800 - val_loss: 0.4158 - val_main_output_loss: 0.3958 - val_aux_output_loss: 0.5960\n",
      "Epoch 53/100\n",
      "363/363 [==============================] - 2s 4ms/step - loss: 0.3947 - main_output_loss: 0.3743 - aux_output_loss: 0.5788 - val_loss: 0.4155 - val_main_output_loss: 0.3955 - val_aux_output_loss: 0.5953\n",
      "Epoch 54/100\n",
      "363/363 [==============================] - 2s 5ms/step - loss: 0.3941 - main_output_loss: 0.3738 - aux_output_loss: 0.5769 - val_loss: 0.4115 - val_main_output_loss: 0.3914 - val_aux_output_loss: 0.5927\n",
      "Epoch 55/100\n",
      "363/363 [==============================] - 2s 5ms/step - loss: 0.3935 - main_output_loss: 0.3734 - aux_output_loss: 0.5753 - val_loss: 0.4108 - val_main_output_loss: 0.3907 - val_aux_output_loss: 0.5917\n",
      "Epoch 56/100\n",
      "363/363 [==============================] - 2s 5ms/step - loss: 0.3930 - main_output_loss: 0.3729 - aux_output_loss: 0.5741 - val_loss: 0.4101 - val_main_output_loss: 0.3902 - val_aux_output_loss: 0.5896\n",
      "Epoch 57/100\n",
      "363/363 [==============================] - 2s 4ms/step - loss: 0.3923 - main_output_loss: 0.3723 - aux_output_loss: 0.5727 - val_loss: 0.4113 - val_main_output_loss: 0.3916 - val_aux_output_loss: 0.5886\n",
      "Epoch 58/100\n",
      "363/363 [==============================] - 2s 4ms/step - loss: 0.3920 - main_output_loss: 0.3721 - aux_output_loss: 0.5710 - val_loss: 0.4091 - val_main_output_loss: 0.3893 - val_aux_output_loss: 0.5871\n",
      "Epoch 59/100\n",
      "363/363 [==============================] - 2s 5ms/step - loss: 0.3914 - main_output_loss: 0.3715 - aux_output_loss: 0.5704 - val_loss: 0.4113 - val_main_output_loss: 0.3919 - val_aux_output_loss: 0.5865\n",
      "Epoch 60/100\n",
      "363/363 [==============================] - 2s 5ms/step - loss: 0.3907 - main_output_loss: 0.3709 - aux_output_loss: 0.5687 - val_loss: 0.4093 - val_main_output_loss: 0.3899 - val_aux_output_loss: 0.5844\n",
      "Epoch 61/100\n",
      "363/363 [==============================] - 2s 5ms/step - loss: 0.3904 - main_output_loss: 0.3707 - aux_output_loss: 0.5674 - val_loss: 0.4074 - val_main_output_loss: 0.3878 - val_aux_output_loss: 0.5834\n",
      "Epoch 62/100\n",
      "363/363 [==============================] - 2s 4ms/step - loss: 0.3895 - main_output_loss: 0.3699 - aux_output_loss: 0.5658 - val_loss: 0.4080 - val_main_output_loss: 0.3887 - val_aux_output_loss: 0.5821\n",
      "Epoch 63/100\n",
      "363/363 [==============================] - 2s 5ms/step - loss: 0.3890 - main_output_loss: 0.3695 - aux_output_loss: 0.5646 - val_loss: 0.4069 - val_main_output_loss: 0.3876 - val_aux_output_loss: 0.5807\n",
      "Epoch 64/100\n",
      "363/363 [==============================] - 2s 5ms/step - loss: 0.3886 - main_output_loss: 0.3691 - aux_output_loss: 0.5635 - val_loss: 0.4090 - val_main_output_loss: 0.3899 - val_aux_output_loss: 0.5815\n",
      "Epoch 65/100\n",
      "363/363 [==============================] - 2s 5ms/step - loss: 0.3881 - main_output_loss: 0.3688 - aux_output_loss: 0.5625 - val_loss: 0.4058 - val_main_output_loss: 0.3865 - val_aux_output_loss: 0.5796\n",
      "Epoch 66/100\n",
      "363/363 [==============================] - 2s 4ms/step - loss: 0.3876 - main_output_loss: 0.3683 - aux_output_loss: 0.5615 - val_loss: 0.4086 - val_main_output_loss: 0.3897 - val_aux_output_loss: 0.5794\n",
      "Epoch 67/100\n",
      "363/363 [==============================] - 2s 4ms/step - loss: 0.3869 - main_output_loss: 0.3677 - aux_output_loss: 0.5596 - val_loss: 0.4063 - val_main_output_loss: 0.3873 - val_aux_output_loss: 0.5770\n",
      "Epoch 68/100\n",
      "363/363 [==============================] - 2s 5ms/step - loss: 0.3865 - main_output_loss: 0.3674 - aux_output_loss: 0.5586 - val_loss: 0.4041 - val_main_output_loss: 0.3851 - val_aux_output_loss: 0.5755\n",
      "Epoch 69/100\n",
      "363/363 [==============================] - 2s 4ms/step - loss: 0.3860 - main_output_loss: 0.3669 - aux_output_loss: 0.5575 - val_loss: 0.4037 - val_main_output_loss: 0.3848 - val_aux_output_loss: 0.5744\n",
      "Epoch 70/100\n",
      "363/363 [==============================] - 2s 5ms/step - loss: 0.3854 - main_output_loss: 0.3664 - aux_output_loss: 0.5566 - val_loss: 0.4024 - val_main_output_loss: 0.3833 - val_aux_output_loss: 0.5742\n",
      "Epoch 71/100\n",
      "363/363 [==============================] - 2s 5ms/step - loss: 0.3849 - main_output_loss: 0.3659 - aux_output_loss: 0.5552 - val_loss: 0.4017 - val_main_output_loss: 0.3828 - val_aux_output_loss: 0.5721\n",
      "Epoch 72/100\n",
      "363/363 [==============================] - 2s 5ms/step - loss: 0.3842 - main_output_loss: 0.3654 - aux_output_loss: 0.5539 - val_loss: 0.4009 - val_main_output_loss: 0.3820 - val_aux_output_loss: 0.5707\n",
      "Epoch 73/100\n",
      "363/363 [==============================] - 2s 4ms/step - loss: 0.3839 - main_output_loss: 0.3651 - aux_output_loss: 0.5530 - val_loss: 0.4023 - val_main_output_loss: 0.3836 - val_aux_output_loss: 0.5709\n",
      "Epoch 74/100\n",
      "363/363 [==============================] - 2s 5ms/step - loss: 0.3830 - main_output_loss: 0.3643 - aux_output_loss: 0.5514 - val_loss: 0.3998 - val_main_output_loss: 0.3810 - val_aux_output_loss: 0.5687\n",
      "Epoch 75/100\n",
      "363/363 [==============================] - 2s 5ms/step - loss: 0.3825 - main_output_loss: 0.3639 - aux_output_loss: 0.5501 - val_loss: 0.4042 - val_main_output_loss: 0.3860 - val_aux_output_loss: 0.5685\n",
      "Epoch 76/100\n",
      "363/363 [==============================] - 2s 4ms/step - loss: 0.3826 - main_output_loss: 0.3641 - aux_output_loss: 0.5494 - val_loss: 0.4029 - val_main_output_loss: 0.3846 - val_aux_output_loss: 0.5678\n"
     ]
    },
    {
     "name": "stdout",
     "output_type": "stream",
     "text": [
      "Epoch 77/100\n",
      "363/363 [==============================] - 2s 5ms/step - loss: 0.3817 - main_output_loss: 0.3632 - aux_output_loss: 0.5484 - val_loss: 0.3993 - val_main_output_loss: 0.3806 - val_aux_output_loss: 0.5669\n",
      "Epoch 78/100\n",
      "363/363 [==============================] - 2s 4ms/step - loss: 0.3811 - main_output_loss: 0.3626 - aux_output_loss: 0.5477 - val_loss: 0.4014 - val_main_output_loss: 0.3831 - val_aux_output_loss: 0.5662\n",
      "Epoch 79/100\n",
      "363/363 [==============================] - 1s 4ms/step - loss: 0.3807 - main_output_loss: 0.3622 - aux_output_loss: 0.5466 - val_loss: 0.3999 - val_main_output_loss: 0.3816 - val_aux_output_loss: 0.5653\n",
      "Epoch 80/100\n",
      "363/363 [==============================] - 2s 4ms/step - loss: 0.3804 - main_output_loss: 0.3621 - aux_output_loss: 0.5448 - val_loss: 0.3985 - val_main_output_loss: 0.3801 - val_aux_output_loss: 0.5634\n",
      "Epoch 81/100\n",
      "363/363 [==============================] - 2s 4ms/step - loss: 0.3797 - main_output_loss: 0.3614 - aux_output_loss: 0.5449 - val_loss: 0.3962 - val_main_output_loss: 0.3778 - val_aux_output_loss: 0.5616\n",
      "Epoch 82/100\n",
      "363/363 [==============================] - 2s 4ms/step - loss: 0.3792 - main_output_loss: 0.3610 - aux_output_loss: 0.5427 - val_loss: 0.3999 - val_main_output_loss: 0.3818 - val_aux_output_loss: 0.5629\n",
      "Epoch 83/100\n",
      "363/363 [==============================] - 2s 4ms/step - loss: 0.3789 - main_output_loss: 0.3607 - aux_output_loss: 0.5427 - val_loss: 0.3973 - val_main_output_loss: 0.3791 - val_aux_output_loss: 0.5610\n",
      "Epoch 84/100\n",
      "363/363 [==============================] - 2s 4ms/step - loss: 0.3782 - main_output_loss: 0.3601 - aux_output_loss: 0.5410 - val_loss: 0.4001 - val_main_output_loss: 0.3821 - val_aux_output_loss: 0.5615\n",
      "Epoch 85/100\n",
      "363/363 [==============================] - 2s 5ms/step - loss: 0.3778 - main_output_loss: 0.3597 - aux_output_loss: 0.5406 - val_loss: 0.3976 - val_main_output_loss: 0.3796 - val_aux_output_loss: 0.5597\n",
      "Epoch 86/100\n",
      "363/363 [==============================] - 2s 4ms/step - loss: 0.3774 - main_output_loss: 0.3593 - aux_output_loss: 0.5396 - val_loss: 0.3988 - val_main_output_loss: 0.3809 - val_aux_output_loss: 0.5596\n",
      "Epoch 87/100\n",
      "363/363 [==============================] - 2s 5ms/step - loss: 0.3769 - main_output_loss: 0.3589 - aux_output_loss: 0.5391 - val_loss: 0.3972 - val_main_output_loss: 0.3793 - val_aux_output_loss: 0.5589\n",
      "Epoch 88/100\n",
      "363/363 [==============================] - 2s 4ms/step - loss: 0.3763 - main_output_loss: 0.3584 - aux_output_loss: 0.5373 - val_loss: 0.3944 - val_main_output_loss: 0.3764 - val_aux_output_loss: 0.5562\n",
      "Epoch 89/100\n",
      "363/363 [==============================] - 1s 4ms/step - loss: 0.3756 - main_output_loss: 0.3577 - aux_output_loss: 0.5370 - val_loss: 0.3957 - val_main_output_loss: 0.3778 - val_aux_output_loss: 0.5563\n",
      "Epoch 90/100\n",
      "363/363 [==============================] - 2s 5ms/step - loss: 0.3750 - main_output_loss: 0.3572 - aux_output_loss: 0.5354 - val_loss: 0.3919 - val_main_output_loss: 0.3740 - val_aux_output_loss: 0.5530\n",
      "Epoch 91/100\n",
      "363/363 [==============================] - 2s 4ms/step - loss: 0.3748 - main_output_loss: 0.3570 - aux_output_loss: 0.5351 - val_loss: 0.3949 - val_main_output_loss: 0.3772 - val_aux_output_loss: 0.5543\n",
      "Epoch 92/100\n",
      "363/363 [==============================] - 2s 4ms/step - loss: 0.3742 - main_output_loss: 0.3565 - aux_output_loss: 0.5335 - val_loss: 0.3937 - val_main_output_loss: 0.3761 - val_aux_output_loss: 0.5524\n",
      "Epoch 93/100\n",
      "363/363 [==============================] - 2s 4ms/step - loss: 0.3739 - main_output_loss: 0.3563 - aux_output_loss: 0.5325 - val_loss: 0.3936 - val_main_output_loss: 0.3759 - val_aux_output_loss: 0.5527\n",
      "Epoch 94/100\n",
      "363/363 [==============================] - 2s 4ms/step - loss: 0.3735 - main_output_loss: 0.3560 - aux_output_loss: 0.5312 - val_loss: 0.3913 - val_main_output_loss: 0.3735 - val_aux_output_loss: 0.5516\n",
      "Epoch 95/100\n",
      "363/363 [==============================] - 2s 4ms/step - loss: 0.3729 - main_output_loss: 0.3554 - aux_output_loss: 0.5306 - val_loss: 0.3913 - val_main_output_loss: 0.3736 - val_aux_output_loss: 0.5504\n",
      "Epoch 96/100\n",
      "363/363 [==============================] - 2s 4ms/step - loss: 0.3726 - main_output_loss: 0.3551 - aux_output_loss: 0.5304 - val_loss: 0.3947 - val_main_output_loss: 0.3774 - val_aux_output_loss: 0.5500\n",
      "Epoch 97/100\n",
      "363/363 [==============================] - 2s 5ms/step - loss: 0.3721 - main_output_loss: 0.3547 - aux_output_loss: 0.5292 - val_loss: 0.3907 - val_main_output_loss: 0.3730 - val_aux_output_loss: 0.5495\n",
      "Epoch 98/100\n",
      "363/363 [==============================] - 2s 4ms/step - loss: 0.3714 - main_output_loss: 0.3540 - aux_output_loss: 0.5286 - val_loss: 0.3916 - val_main_output_loss: 0.3741 - val_aux_output_loss: 0.5491\n",
      "Epoch 99/100\n",
      "363/363 [==============================] - 2s 5ms/step - loss: 0.3714 - main_output_loss: 0.3540 - aux_output_loss: 0.5275 - val_loss: 0.3903 - val_main_output_loss: 0.3730 - val_aux_output_loss: 0.5464\n",
      "Epoch 100/100\n",
      "363/363 [==============================] - 2s 4ms/step - loss: 0.3705 - main_output_loss: 0.3532 - aux_output_loss: 0.5263 - val_loss: 0.3914 - val_main_output_loss: 0.3741 - val_aux_output_loss: 0.5472\n"
     ]
    }
   ],
   "source": [
    "hist = model.fit((X_train_A, X_train_B), [y_train,y_train], \n",
    "                     epochs=100, \n",
    "                     callbacks=[checkpoint_cb,early_stopping_cb],\n",
    "                     validation_data=((X_valid_A, X_valid_B), [y_valid,y_valid]))"
   ]
  },
  {
   "cell_type": "markdown",
   "id": "61d6cbfc",
   "metadata": {},
   "source": [
    "#### Salvando o modelo"
   ]
  },
  {
   "cell_type": "code",
   "execution_count": 103,
   "id": "651e26fd",
   "metadata": {
    "ExecuteTime": {
     "end_time": "2022-04-28T17:03:55.971195Z",
     "start_time": "2022-04-28T17:03:55.912996Z"
    }
   },
   "outputs": [],
   "source": [
    "model.save(\"modelo3.h5\")"
   ]
  },
  {
   "cell_type": "markdown",
   "id": "da5b6121",
   "metadata": {},
   "source": [
    "#### Carregando o melhor modelo "
   ]
  },
  {
   "cell_type": "code",
   "execution_count": 118,
   "id": "6cf6d09c",
   "metadata": {
    "ExecuteTime": {
     "end_time": "2022-04-28T17:21:41.024642Z",
     "start_time": "2022-04-28T17:21:40.912445Z"
    }
   },
   "outputs": [],
   "source": [
    "model_bes = keras.models.load_model(\"modelo1.h5\") "
   ]
  },
  {
   "cell_type": "markdown",
   "id": "9e10a7f2",
   "metadata": {},
   "source": [
    "##### Testando com o model "
   ]
  },
  {
   "cell_type": "code",
   "execution_count": 129,
   "id": "4545458d",
   "metadata": {
    "ExecuteTime": {
     "end_time": "2022-04-28T17:26:26.191206Z",
     "start_time": "2022-04-28T17:26:24.796618Z"
    }
   },
   "outputs": [
    {
     "name": "stdout",
     "output_type": "stream",
     "text": [
      "162/162 [==============================] - 1s 3ms/step - loss: 0.3946 - main_output_loss: 0.3768 - aux_output_loss: 0.5553\n"
     ]
    }
   ],
   "source": [
    "total_loss, main_loss, aux_loss = model.evaluate((X_test_A, X_test_B), [y_test,y_test])"
   ]
  },
  {
   "cell_type": "code",
   "execution_count": 130,
   "id": "20fdecd6",
   "metadata": {
    "ExecuteTime": {
     "end_time": "2022-04-28T17:26:27.300215Z",
     "start_time": "2022-04-28T17:26:27.181868Z"
    }
   },
   "outputs": [],
   "source": [
    "y_pred_main, y_pred_aux = model.predict([X_new_A, X_new_B])"
   ]
  },
  {
   "cell_type": "markdown",
   "id": "de6968ed",
   "metadata": {},
   "source": [
    "##### Testando com o melhor model "
   ]
  },
  {
   "cell_type": "code",
   "execution_count": 131,
   "id": "9f8788a5",
   "metadata": {
    "ExecuteTime": {
     "end_time": "2022-04-28T17:26:30.636338Z",
     "start_time": "2022-04-28T17:26:29.970791Z"
    }
   },
   "outputs": [
    {
     "name": "stdout",
     "output_type": "stream",
     "text": [
      "162/162 [==============================] - 1s 3ms/step - loss: 0.3933 - main_output_loss: 0.3753 - aux_output_loss: 0.5551\n"
     ]
    }
   ],
   "source": [
    "total_loss, main_loss, aux_loss = model_bes.evaluate((X_test_A, X_test_B), [y_test,y_test])"
   ]
  },
  {
   "cell_type": "code",
   "execution_count": 132,
   "id": "b5f97bb7",
   "metadata": {
    "ExecuteTime": {
     "end_time": "2022-04-28T17:26:32.106124Z",
     "start_time": "2022-04-28T17:26:31.986380Z"
    }
   },
   "outputs": [],
   "source": [
    "y_pred_main_bes, y_pred_aux_bes = model_bes.predict([X_new_A, X_new_B])"
   ]
  },
  {
   "cell_type": "code",
   "execution_count": 133,
   "id": "c037a550",
   "metadata": {
    "ExecuteTime": {
     "end_time": "2022-04-28T17:26:39.076610Z",
     "start_time": "2022-04-28T17:26:38.675862Z"
    }
   },
   "outputs": [
    {
     "data": {
      "image/png": "[encoded data removed]",
      "text/plain": [
       "<Figure size 864x360 with 1 Axes>"
      ]
     },
     "metadata": {
      "needs_background": "light"
     },
     "output_type": "display_data"
    }
   ],
   "source": [
    "pd.DataFrame(hist.history).plot(figsize=(12,5))\n",
    "plt.grid(True)\n",
    "plt.gca().set_ylim(0,5)\n",
    "plt.show()"
   ]
  },
  {
   "cell_type": "code",
   "execution_count": 134,
   "id": "0be3dd03",
   "metadata": {
    "ExecuteTime": {
     "end_time": "2022-04-28T19:49:51.592451Z",
     "start_time": "2022-04-28T19:49:51.535615Z"
    }
   },
   "outputs": [],
   "source": [
    "import os"
   ]
  },
  {
   "cell_type": "code",
   "execution_count": 135,
   "id": "77ba33ae",
   "metadata": {
    "ExecuteTime": {
     "end_time": "2022-04-28T19:50:23.967784Z",
     "start_time": "2022-04-28T19:50:23.931319Z"
    }
   },
   "outputs": [
    {
     "data": {
      "text/plain": [
       "'.\\\\my_logs'"
      ]
     },
     "execution_count": 135,
     "metadata": {},
     "output_type": "execute_result"
    }
   ],
   "source": [
    "root_logdir = os.path.join(os.curdir, \"my_logs\")\n",
    "root_logdir"
   ]
  },
  {
   "cell_type": "code",
   "execution_count": 136,
   "id": "c133a2a9",
   "metadata": {
    "ExecuteTime": {
     "end_time": "2022-04-28T19:52:47.667731Z",
     "start_time": "2022-04-28T19:52:47.645572Z"
    }
   },
   "outputs": [],
   "source": [
    "def get_run_logdir():\n",
    "    import time\n",
    "    run_id = time.strftime(\"run_%Y_%m_%d-%H_%M_%S\")\n",
    "    return os.path.join(root_logdir, run_id)"
   ]
  },
  {
   "cell_type": "code",
   "execution_count": 137,
   "id": "69c105dd",
   "metadata": {
    "ExecuteTime": {
     "end_time": "2022-04-28T19:53:03.973493Z",
     "start_time": "2022-04-28T19:53:03.968480Z"
    }
   },
   "outputs": [],
   "source": [
    "root_logdir = get_run_logdir()"
   ]
  },
  {
   "cell_type": "code",
   "execution_count": 139,
   "id": "904fb8fb",
   "metadata": {
    "ExecuteTime": {
     "end_time": "2022-04-28T19:58:51.957074Z",
     "start_time": "2022-04-28T19:56:05.168655Z"
    }
   },
   "outputs": [
    {
     "name": "stdout",
     "output_type": "stream",
     "text": [
      "Epoch 1/100\n",
      "363/363 [==============================] - 2s 5ms/step - loss: 0.3702 - main_output_loss: 0.3530 - aux_output_loss: 0.5255 - val_loss: 0.3906 - val_main_output_loss: 0.3733 - val_aux_output_loss: 0.5463\n",
      "Epoch 2/100\n",
      "363/363 [==============================] - 2s 4ms/step - loss: 0.3698 - main_output_loss: 0.3525 - aux_output_loss: 0.5251 - val_loss: 0.3890 - val_main_output_loss: 0.3717 - val_aux_output_loss: 0.5452\n",
      "Epoch 3/100\n",
      "363/363 [==============================] - 2s 4ms/step - loss: 0.3690 - main_output_loss: 0.3517 - aux_output_loss: 0.5238 - val_loss: 0.3907 - val_main_output_loss: 0.3737 - val_aux_output_loss: 0.5432\n",
      "Epoch 4/100\n",
      "363/363 [==============================] - 2s 4ms/step - loss: 0.3691 - main_output_loss: 0.3520 - aux_output_loss: 0.5231 - val_loss: 0.3871 - val_main_output_loss: 0.3698 - val_aux_output_loss: 0.5422\n",
      "Epoch 5/100\n",
      "363/363 [==============================] - 2s 5ms/step - loss: 0.3685 - main_output_loss: 0.3515 - aux_output_loss: 0.5221 - val_loss: 0.3878 - val_main_output_loss: 0.3706 - val_aux_output_loss: 0.5421\n",
      "Epoch 6/100\n",
      "363/363 [==============================] - 2s 5ms/step - loss: 0.3677 - main_output_loss: 0.3506 - aux_output_loss: 0.5217 - val_loss: 0.3886 - val_main_output_loss: 0.3717 - val_aux_output_loss: 0.5408\n",
      "Epoch 7/100\n",
      "363/363 [==============================] - 2s 4ms/step - loss: 0.3677 - main_output_loss: 0.3507 - aux_output_loss: 0.5209 - val_loss: 0.3887 - val_main_output_loss: 0.3719 - val_aux_output_loss: 0.5400\n",
      "Epoch 8/100\n",
      "363/363 [==============================] - 1s 4ms/step - loss: 0.3669 - main_output_loss: 0.3500 - aux_output_loss: 0.5194 - val_loss: 0.3868 - val_main_output_loss: 0.3698 - val_aux_output_loss: 0.5396\n",
      "Epoch 9/100\n",
      "363/363 [==============================] - 2s 5ms/step - loss: 0.3671 - main_output_loss: 0.3502 - aux_output_loss: 0.5189 - val_loss: 0.3863 - val_main_output_loss: 0.3694 - val_aux_output_loss: 0.5383\n",
      "Epoch 10/100\n",
      "363/363 [==============================] - 2s 5ms/step - loss: 0.3660 - main_output_loss: 0.3492 - aux_output_loss: 0.5174 - val_loss: 0.3828 - val_main_output_loss: 0.3656 - val_aux_output_loss: 0.5375\n",
      "Epoch 11/100\n",
      "363/363 [==============================] - 2s 4ms/step - loss: 0.3657 - main_output_loss: 0.3489 - aux_output_loss: 0.5170 - val_loss: 0.3850 - val_main_output_loss: 0.3680 - val_aux_output_loss: 0.5373\n",
      "Epoch 12/100\n",
      "363/363 [==============================] - 2s 4ms/step - loss: 0.3656 - main_output_loss: 0.3489 - aux_output_loss: 0.5163 - val_loss: 0.3814 - val_main_output_loss: 0.3645 - val_aux_output_loss: 0.5336\n",
      "Epoch 13/100\n",
      "363/363 [==============================] - 2s 4ms/step - loss: 0.3652 - main_output_loss: 0.3484 - aux_output_loss: 0.5160 - val_loss: 0.3823 - val_main_output_loss: 0.3653 - val_aux_output_loss: 0.5354\n",
      "Epoch 14/100\n",
      "363/363 [==============================] - 2s 4ms/step - loss: 0.3646 - main_output_loss: 0.3479 - aux_output_loss: 0.5147 - val_loss: 0.3821 - val_main_output_loss: 0.3652 - val_aux_output_loss: 0.5345\n",
      "Epoch 15/100\n",
      "363/363 [==============================] - 2s 5ms/step - loss: 0.3644 - main_output_loss: 0.3477 - aux_output_loss: 0.5147 - val_loss: 0.3802 - val_main_output_loss: 0.3633 - val_aux_output_loss: 0.5324\n",
      "Epoch 16/100\n",
      "363/363 [==============================] - 2s 4ms/step - loss: 0.3636 - main_output_loss: 0.3469 - aux_output_loss: 0.5139 - val_loss: 0.3835 - val_main_output_loss: 0.3667 - val_aux_output_loss: 0.5342\n",
      "Epoch 17/100\n",
      "363/363 [==============================] - 2s 5ms/step - loss: 0.3632 - main_output_loss: 0.3466 - aux_output_loss: 0.5130 - val_loss: 0.3806 - val_main_output_loss: 0.3640 - val_aux_output_loss: 0.5307\n",
      "Epoch 18/100\n",
      "363/363 [==============================] - 2s 5ms/step - loss: 0.3629 - main_output_loss: 0.3464 - aux_output_loss: 0.5114 - val_loss: 0.3814 - val_main_output_loss: 0.3647 - val_aux_output_loss: 0.5322\n",
      "Epoch 19/100\n",
      "363/363 [==============================] - 2s 5ms/step - loss: 0.3627 - main_output_loss: 0.3462 - aux_output_loss: 0.5113 - val_loss: 0.3794 - val_main_output_loss: 0.3629 - val_aux_output_loss: 0.5284\n",
      "Epoch 20/100\n",
      "363/363 [==============================] - 2s 5ms/step - loss: 0.3624 - main_output_loss: 0.3460 - aux_output_loss: 0.5105 - val_loss: 0.3851 - val_main_output_loss: 0.3691 - val_aux_output_loss: 0.5292\n",
      "Epoch 21/100\n",
      "363/363 [==============================] - 2s 5ms/step - loss: 0.3620 - main_output_loss: 0.3457 - aux_output_loss: 0.5092 - val_loss: 0.3804 - val_main_output_loss: 0.3638 - val_aux_output_loss: 0.5295\n",
      "Epoch 22/100\n",
      "363/363 [==============================] - 2s 5ms/step - loss: 0.3614 - main_output_loss: 0.3450 - aux_output_loss: 0.5092 - val_loss: 0.3781 - val_main_output_loss: 0.3617 - val_aux_output_loss: 0.5264\n",
      "Epoch 23/100\n",
      "363/363 [==============================] - 2s 5ms/step - loss: 0.3609 - main_output_loss: 0.3445 - aux_output_loss: 0.5084 - val_loss: 0.3795 - val_main_output_loss: 0.3632 - val_aux_output_loss: 0.5262\n",
      "Epoch 24/100\n",
      "363/363 [==============================] - 2s 5ms/step - loss: 0.3605 - main_output_loss: 0.3442 - aux_output_loss: 0.5074 - val_loss: 0.3792 - val_main_output_loss: 0.3629 - val_aux_output_loss: 0.5264\n",
      "Epoch 25/100\n",
      "363/363 [==============================] - 2s 4ms/step - loss: 0.3604 - main_output_loss: 0.3442 - aux_output_loss: 0.5066 - val_loss: 0.3785 - val_main_output_loss: 0.3622 - val_aux_output_loss: 0.5253\n",
      "Epoch 26/100\n",
      "363/363 [==============================] - 2s 5ms/step - loss: 0.3600 - main_output_loss: 0.3438 - aux_output_loss: 0.5058 - val_loss: 0.3753 - val_main_output_loss: 0.3588 - val_aux_output_loss: 0.5241\n",
      "Epoch 27/100\n",
      "363/363 [==============================] - 2s 4ms/step - loss: 0.3598 - main_output_loss: 0.3437 - aux_output_loss: 0.5046 - val_loss: 0.3747 - val_main_output_loss: 0.3582 - val_aux_output_loss: 0.5232\n",
      "Epoch 28/100\n",
      "363/363 [==============================] - 2s 5ms/step - loss: 0.3591 - main_output_loss: 0.3429 - aux_output_loss: 0.5047 - val_loss: 0.3780 - val_main_output_loss: 0.3619 - val_aux_output_loss: 0.5232\n",
      "Epoch 29/100\n",
      "363/363 [==============================] - 2s 5ms/step - loss: 0.3587 - main_output_loss: 0.3426 - aux_output_loss: 0.5036 - val_loss: 0.3805 - val_main_output_loss: 0.3645 - val_aux_output_loss: 0.5246\n",
      "Epoch 30/100\n",
      "363/363 [==============================] - 2s 5ms/step - loss: 0.3584 - main_output_loss: 0.3423 - aux_output_loss: 0.5035 - val_loss: 0.3732 - val_main_output_loss: 0.3569 - val_aux_output_loss: 0.5199\n",
      "Epoch 31/100\n",
      "363/363 [==============================] - 2s 5ms/step - loss: 0.3581 - main_output_loss: 0.3421 - aux_output_loss: 0.5021 - val_loss: 0.3751 - val_main_output_loss: 0.3590 - val_aux_output_loss: 0.5200\n",
      "Epoch 32/100\n",
      "363/363 [==============================] - 2s 5ms/step - loss: 0.3580 - main_output_loss: 0.3420 - aux_output_loss: 0.5018 - val_loss: 0.3765 - val_main_output_loss: 0.3604 - val_aux_output_loss: 0.5215\n",
      "Epoch 33/100\n",
      "363/363 [==============================] - 2s 5ms/step - loss: 0.3575 - main_output_loss: 0.3416 - aux_output_loss: 0.5010 - val_loss: 0.3744 - val_main_output_loss: 0.3582 - val_aux_output_loss: 0.5197\n",
      "Epoch 34/100\n",
      "363/363 [==============================] - 2s 5ms/step - loss: 0.3570 - main_output_loss: 0.3411 - aux_output_loss: 0.5005 - val_loss: 0.3719 - val_main_output_loss: 0.3558 - val_aux_output_loss: 0.5172\n",
      "Epoch 35/100\n",
      "363/363 [==============================] - 2s 5ms/step - loss: 0.3567 - main_output_loss: 0.3407 - aux_output_loss: 0.4998 - val_loss: 0.3709 - val_main_output_loss: 0.3547 - val_aux_output_loss: 0.5164\n",
      "Epoch 36/100\n",
      "363/363 [==============================] - 2s 4ms/step - loss: 0.3563 - main_output_loss: 0.3405 - aux_output_loss: 0.4991 - val_loss: 0.3724 - val_main_output_loss: 0.3562 - val_aux_output_loss: 0.5180\n",
      "Epoch 37/100\n",
      "363/363 [==============================] - 2s 5ms/step - loss: 0.3560 - main_output_loss: 0.3402 - aux_output_loss: 0.4982 - val_loss: 0.3726 - val_main_output_loss: 0.3566 - val_aux_output_loss: 0.5163\n",
      "Epoch 38/100\n",
      "363/363 [==============================] - 2s 5ms/step - loss: 0.3554 - main_output_loss: 0.3396 - aux_output_loss: 0.4975 - val_loss: 0.3738 - val_main_output_loss: 0.3579 - val_aux_output_loss: 0.5170\n"
     ]
    },
    {
     "name": "stdout",
     "output_type": "stream",
     "text": [
      "Epoch 39/100\n",
      "363/363 [==============================] - 2s 5ms/step - loss: 0.3553 - main_output_loss: 0.3395 - aux_output_loss: 0.4971 - val_loss: 0.3718 - val_main_output_loss: 0.3559 - val_aux_output_loss: 0.5152\n",
      "Epoch 40/100\n",
      "363/363 [==============================] - 1s 4ms/step - loss: 0.3548 - main_output_loss: 0.3391 - aux_output_loss: 0.4960 - val_loss: 0.3723 - val_main_output_loss: 0.3565 - val_aux_output_loss: 0.5147\n",
      "Epoch 41/100\n",
      "363/363 [==============================] - 2s 4ms/step - loss: 0.3550 - main_output_loss: 0.3394 - aux_output_loss: 0.4951 - val_loss: 0.3741 - val_main_output_loss: 0.3585 - val_aux_output_loss: 0.5146\n",
      "Epoch 42/100\n",
      "363/363 [==============================] - 2s 4ms/step - loss: 0.3544 - main_output_loss: 0.3387 - aux_output_loss: 0.4955 - val_loss: 0.3737 - val_main_output_loss: 0.3581 - val_aux_output_loss: 0.5140\n",
      "Epoch 43/100\n",
      "363/363 [==============================] - 2s 4ms/step - loss: 0.3540 - main_output_loss: 0.3384 - aux_output_loss: 0.4944 - val_loss: 0.3742 - val_main_output_loss: 0.3587 - val_aux_output_loss: 0.5137\n",
      "Epoch 44/100\n",
      "363/363 [==============================] - 2s 5ms/step - loss: 0.3536 - main_output_loss: 0.3380 - aux_output_loss: 0.4941 - val_loss: 0.3707 - val_main_output_loss: 0.3549 - val_aux_output_loss: 0.5125\n",
      "Epoch 45/100\n",
      "363/363 [==============================] - 2s 4ms/step - loss: 0.3538 - main_output_loss: 0.3382 - aux_output_loss: 0.4934 - val_loss: 0.3677 - val_main_output_loss: 0.3518 - val_aux_output_loss: 0.5106\n",
      "Epoch 46/100\n",
      "363/363 [==============================] - 2s 5ms/step - loss: 0.3529 - main_output_loss: 0.3373 - aux_output_loss: 0.4928 - val_loss: 0.3684 - val_main_output_loss: 0.3526 - val_aux_output_loss: 0.5114\n",
      "Epoch 47/100\n",
      "363/363 [==============================] - 2s 5ms/step - loss: 0.3527 - main_output_loss: 0.3372 - aux_output_loss: 0.4921 - val_loss: 0.3711 - val_main_output_loss: 0.3556 - val_aux_output_loss: 0.5109\n",
      "Epoch 48/100\n",
      "363/363 [==============================] - 2s 5ms/step - loss: 0.3522 - main_output_loss: 0.3367 - aux_output_loss: 0.4915 - val_loss: 0.3708 - val_main_output_loss: 0.3553 - val_aux_output_loss: 0.5108\n",
      "Epoch 49/100\n",
      "363/363 [==============================] - 2s 5ms/step - loss: 0.3517 - main_output_loss: 0.3363 - aux_output_loss: 0.4907 - val_loss: 0.3657 - val_main_output_loss: 0.3500 - val_aux_output_loss: 0.5076\n",
      "Epoch 50/100\n",
      "363/363 [==============================] - 2s 5ms/step - loss: 0.3522 - main_output_loss: 0.3368 - aux_output_loss: 0.4902 - val_loss: 0.3664 - val_main_output_loss: 0.3507 - val_aux_output_loss: 0.5079\n",
      "Epoch 51/100\n",
      "363/363 [==============================] - 2s 5ms/step - loss: 0.3512 - main_output_loss: 0.3358 - aux_output_loss: 0.4898 - val_loss: 0.3696 - val_main_output_loss: 0.3543 - val_aux_output_loss: 0.5067\n",
      "Epoch 52/100\n",
      "363/363 [==============================] - 2s 5ms/step - loss: 0.3511 - main_output_loss: 0.3358 - aux_output_loss: 0.4885 - val_loss: 0.3710 - val_main_output_loss: 0.3557 - val_aux_output_loss: 0.5089\n",
      "Epoch 53/100\n",
      "363/363 [==============================] - 2s 4ms/step - loss: 0.3504 - main_output_loss: 0.3351 - aux_output_loss: 0.4882 - val_loss: 0.3662 - val_main_output_loss: 0.3506 - val_aux_output_loss: 0.5065\n",
      "Epoch 54/100\n",
      "363/363 [==============================] - 2s 5ms/step - loss: 0.3506 - main_output_loss: 0.3354 - aux_output_loss: 0.4872 - val_loss: 0.3677 - val_main_output_loss: 0.3522 - val_aux_output_loss: 0.5071\n",
      "Epoch 55/100\n",
      "363/363 [==============================] - 2s 5ms/step - loss: 0.3502 - main_output_loss: 0.3350 - aux_output_loss: 0.4871 - val_loss: 0.3683 - val_main_output_loss: 0.3530 - val_aux_output_loss: 0.5062\n",
      "Epoch 56/100\n",
      "363/363 [==============================] - 2s 4ms/step - loss: 0.3498 - main_output_loss: 0.3346 - aux_output_loss: 0.4865 - val_loss: 0.3684 - val_main_output_loss: 0.3533 - val_aux_output_loss: 0.5040\n",
      "Epoch 57/100\n",
      "363/363 [==============================] - 2s 4ms/step - loss: 0.3497 - main_output_loss: 0.3346 - aux_output_loss: 0.4859 - val_loss: 0.3679 - val_main_output_loss: 0.3527 - val_aux_output_loss: 0.5048\n",
      "Epoch 58/100\n",
      "363/363 [==============================] - 2s 5ms/step - loss: 0.3493 - main_output_loss: 0.3342 - aux_output_loss: 0.4856 - val_loss: 0.3647 - val_main_output_loss: 0.3493 - val_aux_output_loss: 0.5042\n",
      "Epoch 59/100\n",
      "363/363 [==============================] - 2s 5ms/step - loss: 0.3489 - main_output_loss: 0.3339 - aux_output_loss: 0.4848 - val_loss: 0.3663 - val_main_output_loss: 0.3510 - val_aux_output_loss: 0.5041\n",
      "Epoch 60/100\n",
      "363/363 [==============================] - 2s 5ms/step - loss: 0.3488 - main_output_loss: 0.3337 - aux_output_loss: 0.4842 - val_loss: 0.3623 - val_main_output_loss: 0.3470 - val_aux_output_loss: 0.5001\n",
      "Epoch 61/100\n",
      "363/363 [==============================] - 2s 4ms/step - loss: 0.3485 - main_output_loss: 0.3336 - aux_output_loss: 0.4834 - val_loss: 0.3656 - val_main_output_loss: 0.3505 - val_aux_output_loss: 0.5016\n",
      "Epoch 62/100\n",
      "363/363 [==============================] - 2s 5ms/step - loss: 0.3483 - main_output_loss: 0.3333 - aux_output_loss: 0.4829 - val_loss: 0.3613 - val_main_output_loss: 0.3460 - val_aux_output_loss: 0.4986\n",
      "Epoch 63/100\n",
      "363/363 [==============================] - 2s 5ms/step - loss: 0.3479 - main_output_loss: 0.3330 - aux_output_loss: 0.4819 - val_loss: 0.3645 - val_main_output_loss: 0.3493 - val_aux_output_loss: 0.5012\n",
      "Epoch 64/100\n",
      "363/363 [==============================] - 2s 4ms/step - loss: 0.3474 - main_output_loss: 0.3325 - aux_output_loss: 0.4820 - val_loss: 0.3648 - val_main_output_loss: 0.3499 - val_aux_output_loss: 0.4992\n",
      "Epoch 65/100\n",
      "363/363 [==============================] - 2s 5ms/step - loss: 0.3468 - main_output_loss: 0.3318 - aux_output_loss: 0.4811 - val_loss: 0.3603 - val_main_output_loss: 0.3451 - val_aux_output_loss: 0.4975\n",
      "Epoch 66/100\n",
      "363/363 [==============================] - 2s 5ms/step - loss: 0.3466 - main_output_loss: 0.3318 - aux_output_loss: 0.4805 - val_loss: 0.3640 - val_main_output_loss: 0.3489 - val_aux_output_loss: 0.4999\n",
      "Epoch 67/100\n",
      "363/363 [==============================] - 2s 4ms/step - loss: 0.3466 - main_output_loss: 0.3318 - aux_output_loss: 0.4798 - val_loss: 0.3639 - val_main_output_loss: 0.3489 - val_aux_output_loss: 0.4989\n",
      "Epoch 68/100\n",
      "363/363 [==============================] - 2s 4ms/step - loss: 0.3465 - main_output_loss: 0.3317 - aux_output_loss: 0.4794 - val_loss: 0.3643 - val_main_output_loss: 0.3493 - val_aux_output_loss: 0.4987\n",
      "Epoch 69/100\n",
      "363/363 [==============================] - 2s 4ms/step - loss: 0.3462 - main_output_loss: 0.3315 - aux_output_loss: 0.4784 - val_loss: 0.3622 - val_main_output_loss: 0.3474 - val_aux_output_loss: 0.4954\n",
      "Epoch 70/100\n",
      "363/363 [==============================] - 2s 4ms/step - loss: 0.3461 - main_output_loss: 0.3314 - aux_output_loss: 0.4784 - val_loss: 0.3632 - val_main_output_loss: 0.3484 - val_aux_output_loss: 0.4961\n",
      "Epoch 71/100\n",
      "363/363 [==============================] - 2s 5ms/step - loss: 0.3458 - main_output_loss: 0.3312 - aux_output_loss: 0.4776 - val_loss: 0.3618 - val_main_output_loss: 0.3470 - val_aux_output_loss: 0.4946\n",
      "Epoch 72/100\n",
      "363/363 [==============================] - 2s 5ms/step - loss: 0.3457 - main_output_loss: 0.3311 - aux_output_loss: 0.4769 - val_loss: 0.3589 - val_main_output_loss: 0.3440 - val_aux_output_loss: 0.4934\n",
      "Epoch 73/100\n",
      "363/363 [==============================] - 2s 4ms/step - loss: 0.3451 - main_output_loss: 0.3305 - aux_output_loss: 0.4767 - val_loss: 0.3592 - val_main_output_loss: 0.3445 - val_aux_output_loss: 0.4923\n",
      "Epoch 74/100\n",
      "363/363 [==============================] - 2s 5ms/step - loss: 0.3448 - main_output_loss: 0.3303 - aux_output_loss: 0.4756 - val_loss: 0.3594 - val_main_output_loss: 0.3446 - val_aux_output_loss: 0.4926\n",
      "Epoch 75/100\n",
      "363/363 [==============================] - 2s 5ms/step - loss: 0.3448 - main_output_loss: 0.3303 - aux_output_loss: 0.4753 - val_loss: 0.3579 - val_main_output_loss: 0.3431 - val_aux_output_loss: 0.4911\n",
      "Epoch 76/100\n",
      "363/363 [==============================] - 1s 4ms/step - loss: 0.3445 - main_output_loss: 0.3301 - aux_output_loss: 0.4744 - val_loss: 0.3583 - val_main_output_loss: 0.3436 - val_aux_output_loss: 0.4904\n"
     ]
    },
    {
     "name": "stdout",
     "output_type": "stream",
     "text": [
      "Epoch 77/100\n",
      "363/363 [==============================] - 2s 4ms/step - loss: 0.3441 - main_output_loss: 0.3297 - aux_output_loss: 0.4736 - val_loss: 0.3596 - val_main_output_loss: 0.3449 - val_aux_output_loss: 0.4919\n",
      "Epoch 78/100\n",
      "363/363 [==============================] - 2s 5ms/step - loss: 0.3437 - main_output_loss: 0.3293 - aux_output_loss: 0.4734 - val_loss: 0.3615 - val_main_output_loss: 0.3471 - val_aux_output_loss: 0.4907\n",
      "Epoch 79/100\n",
      "363/363 [==============================] - 2s 4ms/step - loss: 0.3438 - main_output_loss: 0.3294 - aux_output_loss: 0.4729 - val_loss: 0.3618 - val_main_output_loss: 0.3474 - val_aux_output_loss: 0.4913\n",
      "Epoch 80/100\n",
      "363/363 [==============================] - 2s 4ms/step - loss: 0.3433 - main_output_loss: 0.3289 - aux_output_loss: 0.4722 - val_loss: 0.3621 - val_main_output_loss: 0.3477 - val_aux_output_loss: 0.4914\n",
      "Epoch 81/100\n",
      "363/363 [==============================] - 2s 5ms/step - loss: 0.3429 - main_output_loss: 0.3286 - aux_output_loss: 0.4719 - val_loss: 0.3563 - val_main_output_loss: 0.3418 - val_aux_output_loss: 0.4870\n",
      "Epoch 82/100\n",
      "363/363 [==============================] - 2s 4ms/step - loss: 0.3427 - main_output_loss: 0.3284 - aux_output_loss: 0.4706 - val_loss: 0.3564 - val_main_output_loss: 0.3418 - val_aux_output_loss: 0.4879\n",
      "Epoch 83/100\n",
      "363/363 [==============================] - 2s 4ms/step - loss: 0.3428 - main_output_loss: 0.3286 - aux_output_loss: 0.4707 - val_loss: 0.3564 - val_main_output_loss: 0.3418 - val_aux_output_loss: 0.4874\n",
      "Epoch 84/100\n",
      "363/363 [==============================] - 2s 5ms/step - loss: 0.3426 - main_output_loss: 0.3285 - aux_output_loss: 0.4698 - val_loss: 0.3548 - val_main_output_loss: 0.3404 - val_aux_output_loss: 0.4847\n",
      "Epoch 85/100\n",
      "363/363 [==============================] - 2s 5ms/step - loss: 0.3423 - main_output_loss: 0.3282 - aux_output_loss: 0.4693 - val_loss: 0.3550 - val_main_output_loss: 0.3406 - val_aux_output_loss: 0.4849\n",
      "Epoch 86/100\n",
      "363/363 [==============================] - 2s 5ms/step - loss: 0.3417 - main_output_loss: 0.3275 - aux_output_loss: 0.4689 - val_loss: 0.3551 - val_main_output_loss: 0.3407 - val_aux_output_loss: 0.4843\n",
      "Epoch 87/100\n",
      "363/363 [==============================] - 2s 4ms/step - loss: 0.3415 - main_output_loss: 0.3275 - aux_output_loss: 0.4678 - val_loss: 0.3562 - val_main_output_loss: 0.3418 - val_aux_output_loss: 0.4857\n",
      "Epoch 88/100\n",
      "363/363 [==============================] - 2s 5ms/step - loss: 0.3413 - main_output_loss: 0.3272 - aux_output_loss: 0.4676 - val_loss: 0.3581 - val_main_output_loss: 0.3441 - val_aux_output_loss: 0.4843\n",
      "Epoch 89/100\n",
      "363/363 [==============================] - 2s 4ms/step - loss: 0.3413 - main_output_loss: 0.3274 - aux_output_loss: 0.4666 - val_loss: 0.3592 - val_main_output_loss: 0.3453 - val_aux_output_loss: 0.4844\n",
      "Epoch 90/100\n",
      "363/363 [==============================] - 2s 4ms/step - loss: 0.3411 - main_output_loss: 0.3272 - aux_output_loss: 0.4666 - val_loss: 0.3541 - val_main_output_loss: 0.3398 - val_aux_output_loss: 0.4824\n",
      "Epoch 91/100\n",
      "363/363 [==============================] - 2s 4ms/step - loss: 0.3406 - main_output_loss: 0.3267 - aux_output_loss: 0.4656 - val_loss: 0.3586 - val_main_output_loss: 0.3446 - val_aux_output_loss: 0.4847\n",
      "Epoch 92/100\n",
      "363/363 [==============================] - 2s 4ms/step - loss: 0.3402 - main_output_loss: 0.3263 - aux_output_loss: 0.4654 - val_loss: 0.3579 - val_main_output_loss: 0.3439 - val_aux_output_loss: 0.4834\n",
      "Epoch 93/100\n",
      "363/363 [==============================] - 2s 4ms/step - loss: 0.3399 - main_output_loss: 0.3260 - aux_output_loss: 0.4648 - val_loss: 0.3533 - val_main_output_loss: 0.3394 - val_aux_output_loss: 0.4792\n",
      "Epoch 94/100\n",
      "363/363 [==============================] - 2s 5ms/step - loss: 0.3399 - main_output_loss: 0.3261 - aux_output_loss: 0.4642 - val_loss: 0.3525 - val_main_output_loss: 0.3385 - val_aux_output_loss: 0.4785\n",
      "Epoch 95/100\n",
      "363/363 [==============================] - 2s 5ms/step - loss: 0.3397 - main_output_loss: 0.3260 - aux_output_loss: 0.4632 - val_loss: 0.3559 - val_main_output_loss: 0.3420 - val_aux_output_loss: 0.4809\n",
      "Epoch 96/100\n",
      "363/363 [==============================] - 2s 5ms/step - loss: 0.3397 - main_output_loss: 0.3260 - aux_output_loss: 0.4632 - val_loss: 0.3576 - val_main_output_loss: 0.3439 - val_aux_output_loss: 0.4810\n",
      "Epoch 97/100\n",
      "363/363 [==============================] - 2s 5ms/step - loss: 0.3397 - main_output_loss: 0.3261 - aux_output_loss: 0.4627 - val_loss: 0.3522 - val_main_output_loss: 0.3383 - val_aux_output_loss: 0.4776\n",
      "Epoch 98/100\n",
      "363/363 [==============================] - 2s 4ms/step - loss: 0.3390 - main_output_loss: 0.3254 - aux_output_loss: 0.4614 - val_loss: 0.3544 - val_main_output_loss: 0.3405 - val_aux_output_loss: 0.4798\n",
      "Epoch 99/100\n",
      "363/363 [==============================] - 2s 5ms/step - loss: 0.3389 - main_output_loss: 0.3252 - aux_output_loss: 0.4617 - val_loss: 0.3510 - val_main_output_loss: 0.3371 - val_aux_output_loss: 0.4760\n",
      "Epoch 100/100\n",
      "363/363 [==============================] - 2s 4ms/step - loss: 0.3389 - main_output_loss: 0.3253 - aux_output_loss: 0.4607 - val_loss: 0.3535 - val_main_output_loss: 0.3397 - val_aux_output_loss: 0.4772\n"
     ]
    }
   ],
   "source": [
    "tensorboad_cb = keras.callbacks.TensorBoard(root_logdir)\n",
    "hist = model.fit((X_train_A, X_train_B), [y_train,y_train], \n",
    "                     epochs=100, \n",
    "                     callbacks=[checkpoint_cb,early_stopping_cb, tensorboad_cb],\n",
    "                     validation_data=((X_valid_A, X_valid_B), [y_valid,y_valid]))"
   ]
  },
  {
   "cell_type": "code",
   "execution_count": null,
   "id": "723c2579",
   "metadata": {},
   "outputs": [],
   "source": []
  },
  {
   "cell_type": "code",
   "execution_count": null,
   "id": "cb1df1ae",
   "metadata": {},
   "outputs": [],
   "source": []
  },
  {
   "cell_type": "code",
   "execution_count": null,
   "id": "6b9122a7",
   "metadata": {},
   "outputs": [],
   "source": []
  }
 ],
 "metadata": {
  "hide_input": false,
  "kernelspec": {
   "display_name": "Python 3 (ipykernel)",
   "language": "python",
   "name": "python3"
  },
  "language_info": {
   "codemirror_mode": {
    "name": "ipython",
    "version": 3
   },
   "file_extension": ".py",
   "mimetype": "text/x-python",
   "name": "python",
   "nbconvert_exporter": "python",
   "pygments_lexer": "ipython3",
   "version": "3.9.7"
  },
  "toc": {
   "base_numbering": 1,
   "nav_menu": {},
   "number_sections": true,
   "sideBar": true,
   "skip_h1_title": false,
   "title_cell": "Table of Contents",
   "title_sidebar": "Contents",
   "toc_cell": false,
   "toc_position": {},
   "toc_section_display": true,
   "toc_window_display": false
  },
  "varInspector": {
   "cols": {
    "lenName": 16,
    "lenType": 16,
    "lenVar": 40
   },
   "kernels_config": {
    "python": {
     "delete_cmd_postfix": "",
     "delete_cmd_prefix": "del ",
     "library": "var_list.py",
     "varRefreshCmd": "print(var_dic_list())"
    },
    "r": {
     "delete_cmd_postfix": ") ",
     "delete_cmd_prefix": "rm(",
     "library": "var_list.r",
     "varRefreshCmd": "cat(var_dic_list()) "
    }
   },
   "types_to_exclude": [
    "module",
    "function",
    "builtin_function_or_method",
    "instance",
    "_Feature"
   ],
   "window_display": false
  }
 },
 "nbformat": 4,
 "nbformat_minor": 5
}
